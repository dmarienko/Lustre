{
 "cells": [
  {
   "cell_type": "code",
   "execution_count": 283,
   "metadata": {},
   "outputs": [
    {
     "data": {
      "text/html": [
       "<pre style=\"white-space:pre;overflow-x:auto;line-height:normal;font-family:Menlo,'DejaVu Sans Mono',consolas,'Courier New',monospace\"><span style=\"font-weight: bold\">(</span>c<span style=\"font-weight: bold\">)</span> <span style=\"color: #008000; font-weight: bold\">2017</span>, AppliedAlpha Infrastructure for Quantitative Research and Analysis, ver. master: \n",
       "<span style=\"color: #008000; font-weight: bold\">0.1471</span>\n",
       "</pre>\n"
      ],
      "text/plain": [
       "<rich.jupyter.JupyterRenderable at 0x7efd035403c8>"
      ]
     },
     "metadata": {},
     "output_type": "display_data"
    }
   ],
   "source": [
    "import ira\n",
    "%alphalab dark\n",
    "\n",
    "%run initlibs.py Lustre dark\n",
    "from tools.loaders.data_loaders import load_data\n",
    "from tools.charting.signals_charts import plot_entries\n",
    "\n",
    "import qlearn as q\n",
    "\n",
    "%run trackers.py"
   ]
  },
  {
   "cell_type": "markdown",
   "metadata": {},
   "source": [
    "# Indicator and some charts"
   ]
  },
  {
   "cell_type": "code",
   "execution_count": 208,
   "metadata": {},
   "outputs": [],
   "source": [
    "d = load_data('amp:SPXM')"
   ]
  },
  {
   "cell_type": "markdown",
   "metadata": {},
   "source": [
    "For testing RAD tracker purposes we generate entry signals manually.\n",
    "Then we will run backtesting of these signals on historical data without and with RAD tracker.\n",
    "\n",
    "Actual code of RAD tracker can be found in **trackers.py**."
   ]
  },
  {
   "cell_type": "code",
   "execution_count": 355,
   "metadata": {},
   "outputs": [],
   "source": [
    "signals = pd.DataFrame.from_dict({\n",
    "    '2020-10-01 10:00':  0,   # start from positiom 0\n",
    "    '2020-10-05 10:00': +1,   # buy signal\n",
    "    '2020-10-08 10:00': +1,   # another buy signal\n",
    "    '2020-10-14 10:00': -1,   # sell (reverse) trade\n",
    "    '2020-10-20 10:00':  0    # close all positions\n",
    "}, orient='index', columns=[d.symbol])\n",
    "\n",
    "signals.index = pd.to_datetime(signals.index)"
   ]
  },
  {
   "cell_type": "code",
   "execution_count": 350,
   "metadata": {},
   "outputs": [
    {
     "data": {
      "application/vnd.jupyter.widget-view+json": {
       "model_id": "a3b883c43218488fbde88e6074569bbd",
       "version_major": 2,
       "version_minor": 0
      },
      "text/plain": [
       "HBox(children=(HTML(value='[Backtest]'), FloatProgress(value=0.0), HTML(value='')))"
      ]
     },
     "metadata": {},
     "output_type": "display_data"
    },
    {
     "data": {
      "application/vnd.jupyter.widget-view+json": {
       "model_id": "5e49c98d3cc0420c9e148ed468b4dfa7",
       "version_major": 2,
       "version_minor": 0
      },
      "text/plain": [
       "HBox(children=(HTML(value='[Backtest]'), FloatProgress(value=0.0), HTML(value='')))"
      ]
     },
     "metadata": {},
     "output_type": "display_data"
    },
    {
     "name": "stdout",
     "output_type": "stream",
     "text": [
      "[2020-10-05 09:59:00] SPXM entry long at $3370.55 stop to 3331.725\n",
      "[2020-10-05 10:00:00] SPXM pull up stop to 3332.075\n",
      "[2020-10-05 11:00:00] SPXM pull up stop to 3334.0875\n",
      "[2020-10-05 12:00:00] SPXM pull up stop to 3335.675\n",
      "[2020-10-05 13:00:00] SPXM pull up stop to 3336.8624999999997\n",
      "[2020-10-05 14:00:00] SPXM pull up stop to 3342.1125\n",
      "[2020-10-05 15:00:00] SPXM pull up stop to 3357.9625\n",
      "[2020-10-05 16:00:00] SPXM pull up stop to 3362.3625\n",
      "[2020-10-05 17:00:00] SPXM pull up stop to 3365.1\n",
      "[2020-10-05 18:00:00] SPXM pull up stop to 3368.8\n",
      "[2020-10-05 19:00:00] SPXM pull up stop to 3372.4875\n",
      "[2020-10-05 20:00:00] SPXM pull up stop to 3380.7625000000003\n",
      "[2020-10-05 22:00:00] SPXM pull up stop to 3382.425\n",
      "[2020-10-05 23:00:00] SPXM pull up stop to 3383.55\n",
      "[2020-10-06 00:00:00] SPXM pull up stop to 3384.1875\n",
      "[2020-10-06 03:00:00] SPXM pull up stop to 3384.7125\n",
      "[2020-10-06 05:00:00] SPXM pull up stop to 3385.2250000000004\n",
      "[2020-10-06 06:00:00] SPXM pull up stop to 3385.375\n",
      "[2020-10-06 09:00:00] SPXM pull up stop to 3385.8125\n",
      "[2020-10-06 10:00:00] SPXM pull up stop to 3386.2625000000003\n",
      "[2020-10-06 13:00:00] SPXM pull up stop to 3387.6124999999997\n",
      "[2020-10-06 15:00:00] SPXM pull up stop to 3389.625\n",
      "[2020-10-06 16:00:00] SPXM pull up stop to 3390.2625000000003\n",
      "[2020-10-06 18:00:00] SPXM pull up stop to 3393.325\n",
      " -> [2020-10-06 18:54:00] stop long [SPXM] at 3377.95000\n",
      "[2020-10-08 09:59:00] SPXM entry long at $3427.95 stop to 3415.2\n",
      "[2020-10-08 10:00:00] SPXM pull up stop to 3415.425\n",
      "[2020-10-08 15:00:00] SPXM pull up stop to 3418.5375\n",
      "[2020-10-08 18:00:00] SPXM pull up stop to 3418.55\n",
      "[2020-10-08 19:00:00] SPXM pull up stop to 3420.0750000000003\n",
      "[2020-10-08 20:00:00] SPXM pull up stop to 3422.3\n",
      "[2020-10-08 22:00:00] SPXM pull up stop to 3430.0375000000004\n",
      "[2020-10-08 23:00:00] SPXM pull up stop to 3438.7125\n",
      "[2020-10-09 00:00:00] SPXM pull up stop to 3439.1\n",
      "[2020-10-09 01:00:00] SPXM pull up stop to 3439.15\n",
      "[2020-10-09 02:00:00] SPXM pull up stop to 3439.45\n",
      "[2020-10-09 03:00:00] SPXM pull up stop to 3442.2000000000003\n",
      "[2020-10-09 04:00:00] SPXM pull up stop to 3444.9375\n",
      "[2020-10-09 05:00:00] SPXM pull up stop to 3445.0125\n",
      "[2020-10-09 08:00:00] SPXM pull up stop to 3445.4625\n",
      "[2020-10-09 09:00:00] SPXM pull up stop to 3445.9125\n",
      "[2020-10-09 10:00:00] SPXM pull up stop to 3447.0125\n",
      "[2020-10-09 12:00:00] SPXM pull up stop to 3447.0375\n",
      "[2020-10-09 14:00:00] SPXM pull up stop to 3448.175\n",
      "[2020-10-09 15:00:00] SPXM pull up stop to 3448.3\n",
      "[2020-10-09 16:00:00] SPXM pull up stop to 3458.8875000000003\n",
      "[2020-10-09 17:00:00] SPXM pull up stop to 3461.4\n",
      "[2020-10-09 18:00:00] SPXM pull up stop to 3462.0875\n",
      "[2020-10-11 22:00:00] SPXM pull up stop to 3467.15\n",
      "[2020-10-11 23:00:00] SPXM pull up stop to 3467.2250000000004\n",
      "[2020-10-12 00:00:00] SPXM pull up stop to 3467.525\n",
      "[2020-10-12 06:00:00] SPXM pull up stop to 3472.1000000000004\n",
      "[2020-10-12 07:00:00] SPXM pull up stop to 3472.475\n",
      "[2020-10-12 08:00:00] SPXM pull up stop to 3472.6125\n",
      "[2020-10-12 09:00:00] SPXM pull up stop to 3476.9625\n",
      "[2020-10-12 12:00:00] SPXM pull up stop to 3477.7\n",
      "[2020-10-12 13:00:00] SPXM pull up stop to 3484.525\n",
      "[2020-10-12 15:00:00] SPXM pull up stop to 3494.0625\n",
      "[2020-10-12 16:00:00] SPXM pull up stop to 3504.975\n",
      "[2020-10-12 17:00:00] SPXM pull up stop to 3517.1375000000003\n",
      "[2020-10-12 18:00:00] SPXM pull up stop to 3521.45\n",
      "[2020-10-12 19:00:00] SPXM pull up stop to 3523.375\n",
      "[2020-10-13 00:00:00] SPXM pull up stop to 3523.875\n",
      " -> [2020-10-13 07:19:00] stop long [SPXM] at 3520.25000\n",
      "[2020-10-14 09:59:00] SPXM entry short at $3521.05 stop to 3530.2000000000003\n",
      "[2020-10-14 10:00:00] SPXM pull down stop to 3529.9375\n",
      "[2020-10-14 16:00:00] SPXM pull down stop to 3524.0\n",
      "[2020-10-14 17:00:00] SPXM pull down stop to 3516.2875\n",
      "[2020-10-14 19:00:00] SPXM pull down stop to 3516.2749999999996\n",
      "[2020-10-14 22:00:00] SPXM pull down stop to 3514.9125\n",
      "[2020-10-15 02:00:00] SPXM pull down stop to 3512.9875\n",
      "[2020-10-15 03:00:00] SPXM pull down stop to 3509.8375\n",
      "[2020-10-15 04:00:00] SPXM pull down stop to 3508.4\n",
      "[2020-10-15 05:00:00] SPXM pull down stop to 3507.725\n",
      "[2020-10-15 06:00:00] SPXM pull down stop to 3507.4874999999997\n",
      "[2020-10-15 07:00:00] SPXM pull down stop to 3506.125\n",
      "[2020-10-15 08:00:00] SPXM pull down stop to 3502.9625\n",
      "[2020-10-15 09:00:00] SPXM pull down stop to 3487.6625\n",
      "[2020-10-15 10:00:00] SPXM pull down stop to 3480.3250000000003\n",
      "[2020-10-15 11:00:00] SPXM pull down stop to 3480.05\n",
      "[2020-10-15 12:00:00] SPXM pull down stop to 3478.5625\n",
      "[2020-10-15 14:00:00] SPXM pull down stop to 3478.325\n",
      "[2020-10-15 17:00:00] SPXM pull down stop to 3476.9249999999997\n",
      "[2020-10-15 18:00:00] SPXM pull down stop to 3475.8999999999996\n",
      " -> [2020-10-15 18:04:00] stop short [SPXM] at 3476.35000\n",
      "\n"
     ]
    }
   ],
   "source": [
    "r = q.simulation({\n",
    "    'Signals without RAD': [signals, q.FixedTrader(100, 0, 0)],\n",
    "    'Signals RAD stop':    [signals, RADChandelier(100, '1h', 24, 3, debug=True)]\n",
    "}, d.ohlcs('5Min'), 'stock', 'RADTests', spreads=0.5)"
   ]
  },
  {
   "cell_type": "markdown",
   "metadata": {},
   "source": [
    "As we can see tracker worked as expected and pulled up/down stop levels on new updates.\n",
    "\n",
    "We can visually compare cumulative PnLs for both backtests:"
   ]
  },
  {
   "cell_type": "code",
   "execution_count": 357,
   "metadata": {},
   "outputs": [
    {
     "name": "stdout",
     "output_type": "stream",
     "text": [
      "\u001b[33m 0\u001b[0m: \u001b[34mRADTests/Signals without RAD \u001b[0m : Sharpe: \u001b[32m5.78\u001b[0m | Sortino: \u001b[32m16.13\u001b[0m | CAGR: \u001b[32m223602954.99\u001b[0m | DD: $\u001b[32m8560.00\u001b[0m (\u001b[32m53.90\u001b[0m%) | Gain: $\u001b[32m21910.00\u001b[0m | Execs: 3\u001b[33m[OK]\u001b[0m\n",
      "\u001b[33m 1\u001b[0m: \u001b[34mRADTests/Signals RAD stop    \u001b[0m : Sharpe: \u001b[32m6.15\u001b[0m | Sortino: \u001b[32m19.66\u001b[0m | CAGR: \u001b[32m7184236.85\u001b[0m | DD: $\u001b[32m5290.00\u001b[0m (\u001b[32m33.31\u001b[0m%) | Gain: $\u001b[32m14290.00\u001b[0m | Execs: 6\u001b[33m[OK]\u001b[0m\n"
     ]
    },
    {
     "data": {
      "text/html": [
       "<div>\n",
       "<style scoped>\n",
       "    .dataframe tbody tr th:only-of-type {\n",
       "        vertical-align: middle;\n",
       "    }\n",
       "\n",
       "    .dataframe tbody tr th {\n",
       "        vertical-align: top;\n",
       "    }\n",
       "\n",
       "    .dataframe thead th {\n",
       "        text-align: right;\n",
       "    }\n",
       "</style>\n",
       "<table border=\"1\" class=\"dataframe\">\n",
       "  <thead>\n",
       "    <tr style=\"text-align: right;\">\n",
       "      <th></th>\n",
       "      <th>Name</th>\n",
       "      <th>sharpe</th>\n",
       "      <th>sortino</th>\n",
       "      <th>cagr</th>\n",
       "      <th>dd</th>\n",
       "      <th>dd_pct</th>\n",
       "      <th>gain</th>\n",
       "      <th>number_executions</th>\n",
       "    </tr>\n",
       "  </thead>\n",
       "  <tbody>\n",
       "    <tr>\n",
       "      <th>0</th>\n",
       "      <td>RADTests/Signals without RAD</td>\n",
       "      <td>5.779615</td>\n",
       "      <td>16.130637</td>\n",
       "      <td>2.236030e+08</td>\n",
       "      <td>8560.0</td>\n",
       "      <td>53.904282</td>\n",
       "      <td>21910.0</td>\n",
       "      <td>3</td>\n",
       "    </tr>\n",
       "    <tr>\n",
       "      <th>1</th>\n",
       "      <td>RADTests/Signals RAD stop</td>\n",
       "      <td>6.153806</td>\n",
       "      <td>19.661174</td>\n",
       "      <td>7.184237e+06</td>\n",
       "      <td>5290.0</td>\n",
       "      <td>33.312343</td>\n",
       "      <td>14290.0</td>\n",
       "      <td>6</td>\n",
       "    </tr>\n",
       "  </tbody>\n",
       "</table>\n",
       "</div>"
      ],
      "text/plain": [
       "                           Name    sharpe    sortino          cagr      dd  \\\n",
       "0  RADTests/Signals without RAD  5.779615  16.130637  2.236030e+08  8560.0   \n",
       "1     RADTests/Signals RAD stop  6.153806  19.661174  7.184237e+06  5290.0   \n",
       "\n",
       "      dd_pct     gain  number_executions  \n",
       "0  53.904282  21910.0                  3  \n",
       "1  33.312343  14290.0                  6  "
      ]
     },
     "execution_count": 357,
     "metadata": {},
     "output_type": "execute_result"
    },
    {
     "data": {
      "image/png": "[encoded data removed]",
      "text/plain": [
       "<Figure size 1728x576 with 1 Axes>"
      ]
     },
     "metadata": {},
     "output_type": "display_data"
    }
   ],
   "source": [
    "fig(18, 6)\n",
    "r.report(10000)"
   ]
  },
  {
   "cell_type": "markdown",
   "metadata": {},
   "source": [
    "Let's look at executions and try to plot them on ohlc chart"
   ]
  },
  {
   "cell_type": "code",
   "execution_count": 352,
   "metadata": {},
   "outputs": [
    {
     "data": {
      "text/html": [
       "<div>\n",
       "<style scoped>\n",
       "    .dataframe tbody tr th:only-of-type {\n",
       "        vertical-align: middle;\n",
       "    }\n",
       "\n",
       "    .dataframe tbody tr th {\n",
       "        vertical-align: top;\n",
       "    }\n",
       "\n",
       "    .dataframe thead th {\n",
       "        text-align: right;\n",
       "    }\n",
       "</style>\n",
       "<table border=\"1\" class=\"dataframe\">\n",
       "  <thead>\n",
       "    <tr style=\"text-align: right;\">\n",
       "      <th></th>\n",
       "      <th>instrument</th>\n",
       "      <th>quantity</th>\n",
       "      <th>exec_price</th>\n",
       "      <th>comment</th>\n",
       "    </tr>\n",
       "  </thead>\n",
       "  <tbody>\n",
       "    <tr>\n",
       "      <th>2020-10-05 10:00:00</th>\n",
       "      <td>SPXM</td>\n",
       "      <td>100</td>\n",
       "      <td>3370.55</td>\n",
       "      <td></td>\n",
       "    </tr>\n",
       "    <tr>\n",
       "      <th>2020-10-06 18:54:00</th>\n",
       "      <td>SPXM</td>\n",
       "      <td>-100</td>\n",
       "      <td>3377.45</td>\n",
       "      <td>stop long at 3377.95</td>\n",
       "    </tr>\n",
       "    <tr>\n",
       "      <th>2020-10-08 10:00:00</th>\n",
       "      <td>SPXM</td>\n",
       "      <td>100</td>\n",
       "      <td>3427.95</td>\n",
       "      <td></td>\n",
       "    </tr>\n",
       "    <tr>\n",
       "      <th>2020-10-13 07:19:00</th>\n",
       "      <td>SPXM</td>\n",
       "      <td>-100</td>\n",
       "      <td>3519.75</td>\n",
       "      <td>stop long at 3520.25</td>\n",
       "    </tr>\n",
       "    <tr>\n",
       "      <th>2020-10-14 10:00:00</th>\n",
       "      <td>SPXM</td>\n",
       "      <td>-100</td>\n",
       "      <td>3521.05</td>\n",
       "      <td></td>\n",
       "    </tr>\n",
       "    <tr>\n",
       "      <th>2020-10-15 18:04:00</th>\n",
       "      <td>SPXM</td>\n",
       "      <td>100</td>\n",
       "      <td>3476.85</td>\n",
       "      <td>stop short at 3476.35</td>\n",
       "    </tr>\n",
       "  </tbody>\n",
       "</table>\n",
       "</div>"
      ],
      "text/plain": [
       "                    instrument  quantity  exec_price                comment\n",
       "2020-10-05 10:00:00       SPXM       100     3370.55                       \n",
       "2020-10-06 18:54:00       SPXM      -100     3377.45   stop long at 3377.95\n",
       "2020-10-08 10:00:00       SPXM       100     3427.95                       \n",
       "2020-10-13 07:19:00       SPXM      -100     3519.75   stop long at 3520.25\n",
       "2020-10-14 10:00:00       SPXM      -100     3521.05                       \n",
       "2020-10-15 18:04:00       SPXM       100     3476.85  stop short at 3476.35"
      ]
     },
     "execution_count": 352,
     "metadata": {},
     "output_type": "execute_result"
    }
   ],
   "source": [
    "r.results[1].executions"
   ]
  },
  {
   "cell_type": "code",
   "execution_count": 353,
   "metadata": {},
   "outputs": [],
   "source": [
    "rc = rad_indicator(x, 24, 3)"
   ]
  },
  {
   "cell_type": "code",
   "execution_count": 358,
   "metadata": {},
   "outputs": [
    {
     "data": {
      "image/png": "[encoded data removed]",
      "text/plain": [
       "<Figure size 1728x768 with 1 Axes>"
      ]
     },
     "metadata": {},
     "output_type": "display_data"
    }
   ],
   "source": [
    "_z = slice('2020-10-03 10:00', '2020-10-20')\n",
    "fig(18, 8)\n",
    "ohlc_plot(x[_z])\n",
    "plt.plot(rc.rad[_z], ls='--', label='RAD stop'); plt.legend();\n",
    "plot_entries(r.results[1].executions, None)\n",
    "\n",
    "for t, s in signals[d.symbol].items():\n",
    "    if s != 0: plt.axvline(t, ls='--', c='r' if s < 0 else 'g')"
   ]
  },
  {
   "cell_type": "code",
   "execution_count": null,
   "metadata": {},
   "outputs": [],
   "source": []
  }
 ],
 "metadata": {
  "kernelspec": {
   "display_name": "Python 3",
   "language": "python",
   "name": "python3"
  },
  "language_info": {
   "codemirror_mode": {
    "name": "ipython",
    "version": 3
   },
   "file_extension": ".py",
   "mimetype": "text/x-python",
   "name": "python",
   "nbconvert_exporter": "python",
   "pygments_lexer": "ipython3",
   "version": "3.6.9"
  },
  "widgets": {
   "application/vnd.jupyter.widget-state+json": {
    "state": {
     "00587a78437a4b3b89bd8deaa8997196": {
      "model_module": "@jupyter-widgets/controls",
      "model_module_version": "1.5.0",
      "model_name": "HTMLModel",
      "state": {
       "layout": "IPY_MODEL_cac6c314e1df47a1b66f77b61bd75949",
       "style": "IPY_MODEL_bd271cf62a594c34ae73386b1849cd4a",
       "value": "[Backtest]:  67%"
      }
     },
     "007653cbf0b347e6a6f06ae3f55603dd": {
      "model_module": "@jupyter-widgets/base",
      "model_module_version": "1.2.0",
      "model_name": "LayoutModel",
      "state": {}
     },
     "007665611a4f4c1e888ee5c2fd37e036": {
      "model_module": "@jupyter-widgets/controls",
      "model_module_version": "1.5.0",
      "model_name": "HBoxModel",
      "state": {
       "children": [
        "IPY_MODEL_bcd2a087f74d4e7c8310591fc2b44ace",
        "IPY_MODEL_665fa50f47854e2b9097e12d6edebb83",
        "IPY_MODEL_69514eff22f04f20a0fc6c01b3eb7dc5"
       ],
       "layout": "IPY_MODEL_820b4ae482604d59b3a47eb9036e9e91"
      }
     },
     "00b1c34830594b9089f602b8f225be2c": {
      "model_module": "@jupyter-widgets/base",
      "model_module_version": "1.2.0",
      "model_name": "LayoutModel",
      "state": {}
     },
     "0132029f7f2344afa0bc1c80e3121c3f": {
      "model_module": "@jupyter-widgets/base",
      "model_module_version": "1.2.0",
      "model_name": "LayoutModel",
      "state": {}
     },
     "0140ac2f647e40b58b88b1c610b63cf1": {
      "model_module": "@jupyter-widgets/controls",
      "model_module_version": "1.5.0",
      "model_name": "FloatProgressModel",
      "state": {
       "bar_style": "success",
       "layout": "IPY_MODEL_475526982dcf4ae2bd0ff19709a152b7",
       "style": "IPY_MODEL_55e011ef71324987948337aa5ad4b2b3",
       "value": 100
      }
     },
     "015dd3d9629c4219a0db8f12e5ac40fe": {
      "model_module": "@jupyter-widgets/base",
      "model_module_version": "1.2.0",
      "model_name": "LayoutModel",
      "state": {}
     },
     "0181f51f923d46948926d31eed8c3838": {
      "model_module": "@jupyter-widgets/controls",
      "model_module_version": "1.5.0",
      "model_name": "ProgressStyleModel",
      "state": {
       "description_width": ""
      }
     },
     "020a8045ab8940408430d409dd563ca6": {
      "model_module": "@jupyter-widgets/controls",
      "model_module_version": "1.5.0",
      "model_name": "HTMLModel",
      "state": {
       "layout": "IPY_MODEL_a97e87aabcb94f8bbe3382fda20bb2bd",
       "style": "IPY_MODEL_1aa6e7a717ba44058315ab8704477052",
       "value": " 100/100 [00:01&lt;00:00, 70.6 quotes/s]"
      }
     },
     "03da72d8b6e14190a4ca8354e1dd87f3": {
      "model_module": "@jupyter-widgets/base",
      "model_module_version": "1.2.0",
      "model_name": "LayoutModel",
      "state": {}
     },
     "044c920d6bca4d20b49fa3de171a9d9f": {
      "model_module": "@jupyter-widgets/base",
      "model_module_version": "1.2.0",
      "model_name": "LayoutModel",
      "state": {}
     },
     "0480b86f3aa94cf798a9f6f47871f84e": {
      "model_module": "@jupyter-widgets/base",
      "model_module_version": "1.2.0",
      "model_name": "LayoutModel",
      "state": {}
     },
     "05671085fa2343c697f68d7c79ad4461": {
      "model_module": "@jupyter-widgets/controls",
      "model_module_version": "1.5.0",
      "model_name": "DescriptionStyleModel",
      "state": {
       "description_width": ""
      }
     },
     "056b24f7bf4248108d4a4d016542b223": {
      "model_module": "@jupyter-widgets/base",
      "model_module_version": "1.2.0",
      "model_name": "LayoutModel",
      "state": {}
     },
     "058353d11d3c4da1a04185e8737a51cf": {
      "model_module": "@jupyter-widgets/controls",
      "model_module_version": "1.5.0",
      "model_name": "HTMLModel",
      "state": {
       "layout": "IPY_MODEL_f9eb1edb0b3a40f986ceb71e44ca5229",
       "style": "IPY_MODEL_ceb9af1e054043bf85276608af6394ca",
       "value": "[Backtest]: 100%"
      }
     },
     "0605290678e64f328015b89affe53661": {
      "model_module": "@jupyter-widgets/controls",
      "model_module_version": "1.5.0",
      "model_name": "ProgressStyleModel",
      "state": {
       "description_width": ""
      }
     },
     "0680236af3d14d3ab9434e61d00f82a2": {
      "model_module": "@jupyter-widgets/base",
      "model_module_version": "1.2.0",
      "model_name": "LayoutModel",
      "state": {}
     },
     "06875fc7f47f4fafb024ea72e9a9316b": {
      "model_module": "@jupyter-widgets/base",
      "model_module_version": "1.2.0",
      "model_name": "LayoutModel",
      "state": {}
     },
     "06c5848ac5d046a185a1678bfbcd5468": {
      "model_module": "@jupyter-widgets/controls",
      "model_module_version": "1.5.0",
      "model_name": "FloatProgressModel",
      "state": {
       "bar_style": "success",
       "layout": "IPY_MODEL_fb4ee2dbb8dd4121b1822729f5383001",
       "style": "IPY_MODEL_2fd5dceb253142fd92e67c329be69068",
       "value": 100
      }
     },
     "06fa2d22128f45f49aaa60dd24ec2628": {
      "model_module": "@jupyter-widgets/controls",
      "model_module_version": "1.5.0",
      "model_name": "HTMLModel",
      "state": {
       "layout": "IPY_MODEL_15cfba69a58f45b4bd67b540e2f4b7a4",
       "style": "IPY_MODEL_78bf336de052446d97f9979c00262200",
       "value": "[Backtest]: 100%"
      }
     },
     "07967614aca84c569d0c1b5bdd080b32": {
      "model_module": "@jupyter-widgets/base",
      "model_module_version": "1.2.0",
      "model_name": "LayoutModel",
      "state": {}
     },
     "079ca2c2943e4ca58966f66ebdc7407e": {
      "model_module": "@jupyter-widgets/controls",
      "model_module_version": "1.5.0",
      "model_name": "ProgressStyleModel",
      "state": {
       "description_width": ""
      }
     },
     "07d81633735242fca4e44f7e0edfd370": {
      "model_module": "@jupyter-widgets/controls",
      "model_module_version": "1.5.0",
      "model_name": "HTMLModel",
      "state": {
       "layout": "IPY_MODEL_106c1a1884754085914cb05ee2c36a7c",
       "style": "IPY_MODEL_1068e4beff914546bcb89ee09aaacbb3",
       "value": " 100/100 [12:50&lt;00:00, 7.70s/ quotes]"
      }
     },
     "080ac703a28d45cc8bf64753df322ab4": {
      "model_module": "@jupyter-widgets/base",
      "model_module_version": "1.2.0",
      "model_name": "LayoutModel",
      "state": {}
     },
     "0823a8f6e3064cc8a1274795cc2d2f1b": {
      "model_module": "@jupyter-widgets/controls",
      "model_module_version": "1.5.0",
      "model_name": "HTMLModel",
      "state": {
       "layout": "IPY_MODEL_e80b7aa5e9f54dd5a76fdee6e7918668",
       "style": "IPY_MODEL_d0d93e8f8cb74ca989c19f54d40e8cc3",
       "value": "[Backtest]: 100%"
      }
     },
     "08540b00172344fe948859ae9f62a687": {
      "model_module": "@jupyter-widgets/controls",
      "model_module_version": "1.5.0",
      "model_name": "HTMLModel",
      "state": {
       "layout": "IPY_MODEL_a1ac35d5ede54a7fa4745df7672b9fe1",
       "style": "IPY_MODEL_0d0e38f1db2d4732925d1a89b3c69853",
       "value": " 0.00/100 [23:32&lt;?, ? quotes/s]"
      }
     },
     "08d5f175c5ba431c8c87b4f0490372b2": {
      "model_module": "@jupyter-widgets/controls",
      "model_module_version": "1.5.0",
      "model_name": "HBoxModel",
      "state": {
       "children": [
        "IPY_MODEL_11ec59b4d6f0440cba2f2efd83989d8a",
        "IPY_MODEL_d3e92850b25744f0ac3710e575ecf0b1",
        "IPY_MODEL_c8a86bba613a471cb3952bb00b82dcb7"
       ],
       "layout": "IPY_MODEL_4fd90b0c4b40435d840c1ae15b7b55ab"
      }
     },
     "094129a172c64796a4693bb19fa6922e": {
      "model_module": "@jupyter-widgets/base",
      "model_module_version": "1.2.0",
      "model_name": "LayoutModel",
      "state": {}
     },
     "09839439c5c2499f915152abfcdb40b9": {
      "model_module": "@jupyter-widgets/controls",
      "model_module_version": "1.5.0",
      "model_name": "HTMLModel",
      "state": {
       "layout": "IPY_MODEL_0b1f768dae1548be8b608fa61b012582",
       "style": "IPY_MODEL_972087253b2e4106a42c9bda12315c49",
       "value": " 100/100 [00:01&lt;00:00, 63.0 quotes/s]"
      }
     },
     "0993601bb16347f8ada9c708e785c100": {
      "model_module": "@jupyter-widgets/controls",
      "model_module_version": "1.5.0",
      "model_name": "HTMLModel",
      "state": {
       "layout": "IPY_MODEL_1e911b3cb096426e9bcce20500b492ea",
       "style": "IPY_MODEL_d930af106b28470d8b19946ca0c246b3",
       "value": " 100/100 [14:29&lt;00:00, 8.70s/ quotes]"
      }
     },
     "09cedf8026db44b696483dfb21e265f0": {
      "model_module": "@jupyter-widgets/base",
      "model_module_version": "1.2.0",
      "model_name": "LayoutModel",
      "state": {}
     },
     "09d8542c0f914b32ab7c6cc17902f58e": {
      "model_module": "@jupyter-widgets/controls",
      "model_module_version": "1.5.0",
      "model_name": "DescriptionStyleModel",
      "state": {
       "description_width": ""
      }
     },
     "0a12951cd2b6459fa87990a92df873bd": {
      "model_module": "@jupyter-widgets/controls",
      "model_module_version": "1.5.0",
      "model_name": "DescriptionStyleModel",
      "state": {
       "description_width": ""
      }
     },
     "0b1f768dae1548be8b608fa61b012582": {
      "model_module": "@jupyter-widgets/base",
      "model_module_version": "1.2.0",
      "model_name": "LayoutModel",
      "state": {}
     },
     "0b6a5f86c6e8400e93715a65ea30ac74": {
      "model_module": "@jupyter-widgets/controls",
      "model_module_version": "1.5.0",
      "model_name": "DescriptionStyleModel",
      "state": {
       "description_width": ""
      }
     },
     "0b9637c9b4a74ff09602c639d7bf05a9": {
      "model_module": "@jupyter-widgets/controls",
      "model_module_version": "1.5.0",
      "model_name": "FloatProgressModel",
      "state": {
       "bar_style": "success",
       "layout": "IPY_MODEL_3182d1eb6b2644eaa5980c02cb97af60",
       "style": "IPY_MODEL_7bd985635df24a16abaf1655f77c562b",
       "value": 100
      }
     },
     "0bac6735aea6456d9cc6aebf59dc4131": {
      "model_module": "@jupyter-widgets/controls",
      "model_module_version": "1.5.0",
      "model_name": "DescriptionStyleModel",
      "state": {
       "description_width": ""
      }
     },
     "0be45aa91e5a4ee38742a93d178a354d": {
      "model_module": "@jupyter-widgets/controls",
      "model_module_version": "1.5.0",
      "model_name": "ProgressStyleModel",
      "state": {
       "description_width": ""
      }
     },
     "0c75becc27824f3f8fd89211c327e314": {
      "model_module": "@jupyter-widgets/base",
      "model_module_version": "1.2.0",
      "model_name": "LayoutModel",
      "state": {}
     },
     "0d0e38f1db2d4732925d1a89b3c69853": {
      "model_module": "@jupyter-widgets/controls",
      "model_module_version": "1.5.0",
      "model_name": "DescriptionStyleModel",
      "state": {
       "description_width": ""
      }
     },
     "0d1e12baac9f42659d71982774f35910": {
      "model_module": "@jupyter-widgets/controls",
      "model_module_version": "1.5.0",
      "model_name": "HTMLModel",
      "state": {
       "layout": "IPY_MODEL_5f8dd11e8f574bc68c2d65eea7318b83",
       "style": "IPY_MODEL_633e74aac48548e1973e3d58eda1216d",
       "value": "[Backtest]: 100%"
      }
     },
     "0d99526b978d49039f8f952c231c49b4": {
      "model_module": "@jupyter-widgets/base",
      "model_module_version": "1.2.0",
      "model_name": "LayoutModel",
      "state": {}
     },
     "0de4cbee70574c56adc83b5a51b8310c": {
      "model_module": "@jupyter-widgets/base",
      "model_module_version": "1.2.0",
      "model_name": "LayoutModel",
      "state": {}
     },
     "0edddaae60c3457894f64bb86541de27": {
      "model_module": "@jupyter-widgets/controls",
      "model_module_version": "1.5.0",
      "model_name": "DescriptionStyleModel",
      "state": {
       "description_width": ""
      }
     },
     "0f3ac0e0882347349b3a18e5e6bc6a6d": {
      "model_module": "@jupyter-widgets/base",
      "model_module_version": "1.2.0",
      "model_name": "LayoutModel",
      "state": {}
     },
     "0fb495be973a469381dfa50b69f2ba86": {
      "model_module": "@jupyter-widgets/base",
      "model_module_version": "1.2.0",
      "model_name": "LayoutModel",
      "state": {}
     },
     "1068e4beff914546bcb89ee09aaacbb3": {
      "model_module": "@jupyter-widgets/controls",
      "model_module_version": "1.5.0",
      "model_name": "DescriptionStyleModel",
      "state": {
       "description_width": ""
      }
     },
     "106c1a1884754085914cb05ee2c36a7c": {
      "model_module": "@jupyter-widgets/base",
      "model_module_version": "1.2.0",
      "model_name": "LayoutModel",
      "state": {}
     },
     "107960ffc0804831b3eb6ba7e4b4011f": {
      "model_module": "@jupyter-widgets/base",
      "model_module_version": "1.2.0",
      "model_name": "LayoutModel",
      "state": {}
     },
     "10ddeea1bdf249eb89d5303e9c3e3029": {
      "model_module": "@jupyter-widgets/base",
      "model_module_version": "1.2.0",
      "model_name": "LayoutModel",
      "state": {}
     },
     "1190b0c0ff3b4edab8cb7127ee7878c4": {
      "model_module": "@jupyter-widgets/controls",
      "model_module_version": "1.5.0",
      "model_name": "FloatProgressModel",
      "state": {
       "bar_style": "success",
       "layout": "IPY_MODEL_6fcefc39ce254c6ba0ac9c33c87d48e4",
       "style": "IPY_MODEL_b91ce431c793461382c1e0a4b43e01e4",
       "value": 100
      }
     },
     "11ec59b4d6f0440cba2f2efd83989d8a": {
      "model_module": "@jupyter-widgets/controls",
      "model_module_version": "1.5.0",
      "model_name": "HTMLModel",
      "state": {
       "layout": "IPY_MODEL_766e38a3f96f4f11b7efd10ebda28723",
       "style": "IPY_MODEL_24223f87351d493f8637e9762f602036",
       "value": "[Backtest]: 100%"
      }
     },
     "11ec603368524828b793db07fe875884": {
      "model_module": "@jupyter-widgets/controls",
      "model_module_version": "1.5.0",
      "model_name": "HBoxModel",
      "state": {
       "children": [
        "IPY_MODEL_d8835db2007a49779d2fbb03f8ad2e33",
        "IPY_MODEL_fc2306953f754f97b9c3532eb0027978",
        "IPY_MODEL_07d81633735242fca4e44f7e0edfd370"
       ],
       "layout": "IPY_MODEL_f2a63fd1e7f1487d8b6fca7840391746"
      }
     },
     "12068dca40ac48cfad8789a3aadd73cf": {
      "model_module": "@jupyter-widgets/controls",
      "model_module_version": "1.5.0",
      "model_name": "HTMLModel",
      "state": {
       "layout": "IPY_MODEL_378eebf6d74148878cc2d03b1f6b2569",
       "style": "IPY_MODEL_18b8d25d4ebb49b89c2598414f14a4be",
       "value": "[Backtest]: 100%"
      }
     },
     "122624f82e1045ac9bdd209b25d7fc2b": {
      "model_module": "@jupyter-widgets/controls",
      "model_module_version": "1.5.0",
      "model_name": "DescriptionStyleModel",
      "state": {
       "description_width": ""
      }
     },
     "13b32a0273804e45aa7bef1cd45eee61": {
      "model_module": "@jupyter-widgets/controls",
      "model_module_version": "1.5.0",
      "model_name": "DescriptionStyleModel",
      "state": {
       "description_width": ""
      }
     },
     "13b42792e63d41669245901b3773f524": {
      "model_module": "@jupyter-widgets/base",
      "model_module_version": "1.2.0",
      "model_name": "LayoutModel",
      "state": {}
     },
     "147e5857fa7a4349aee1a74893f02f51": {
      "model_module": "@jupyter-widgets/controls",
      "model_module_version": "1.5.0",
      "model_name": "HBoxModel",
      "state": {
       "children": [
        "IPY_MODEL_a48b47aa58ad4b57ab99540542d46af5",
        "IPY_MODEL_55c4441fed114c308e58bff092632cda",
        "IPY_MODEL_7d5004b05c1d4fa189c615d410631cf7"
       ],
       "layout": "IPY_MODEL_e8288b479c5446e8866be7e7e6d924cc"
      }
     },
     "14b5b31280f14b23a5b70ff673c12231": {
      "model_module": "@jupyter-widgets/controls",
      "model_module_version": "1.5.0",
      "model_name": "HTMLModel",
      "state": {
       "layout": "IPY_MODEL_579d068b526b4504a8619aaab339ee88",
       "style": "IPY_MODEL_a8002a29210048a9bb3dfe74683dccdb",
       "value": "[Backtest]: 100%"
      }
     },
     "158a7c0513cc4a12a3c334da33d8b2ed": {
      "model_module": "@jupyter-widgets/controls",
      "model_module_version": "1.5.0",
      "model_name": "DescriptionStyleModel",
      "state": {
       "description_width": ""
      }
     },
     "15cfba69a58f45b4bd67b540e2f4b7a4": {
      "model_module": "@jupyter-widgets/base",
      "model_module_version": "1.2.0",
      "model_name": "LayoutModel",
      "state": {}
     },
     "15d491f068fc455eaab5e1d2188bf771": {
      "model_module": "@jupyter-widgets/base",
      "model_module_version": "1.2.0",
      "model_name": "LayoutModel",
      "state": {}
     },
     "1604d7d9432c4939911df06cbceaa2e3": {
      "model_module": "@jupyter-widgets/controls",
      "model_module_version": "1.5.0",
      "model_name": "ProgressStyleModel",
      "state": {
       "description_width": ""
      }
     },
     "169a6c26058643e28a5e4ae63aae560f": {
      "model_module": "@jupyter-widgets/controls",
      "model_module_version": "1.5.0",
      "model_name": "HTMLModel",
      "state": {
       "layout": "IPY_MODEL_9e8e918456384918872eb976a391d00b",
       "style": "IPY_MODEL_5731454bc49d4cb2aabb977a88c3f98c",
       "value": " 100/100 [00:29&lt;00:00, 3.37 quotes/s]"
      }
     },
     "16c6e5d1d144465d8c0f27421d752cb8": {
      "model_module": "@jupyter-widgets/base",
      "model_module_version": "1.2.0",
      "model_name": "LayoutModel",
      "state": {}
     },
     "170ce3d1fa7749a39b7e993be8e8c4aa": {
      "model_module": "@jupyter-widgets/controls",
      "model_module_version": "1.5.0",
      "model_name": "DescriptionStyleModel",
      "state": {
       "description_width": ""
      }
     },
     "17c2aa254ef74a49b32faf776dd03b34": {
      "model_module": "@jupyter-widgets/base",
      "model_module_version": "1.2.0",
      "model_name": "LayoutModel",
      "state": {}
     },
     "17fe0e98250d47db919a8c32326f72a1": {
      "model_module": "@jupyter-widgets/base",
      "model_module_version": "1.2.0",
      "model_name": "LayoutModel",
      "state": {}
     },
     "1823989930b3466e85627c8a67988265": {
      "model_module": "@jupyter-widgets/controls",
      "model_module_version": "1.5.0",
      "model_name": "ProgressStyleModel",
      "state": {
       "description_width": ""
      }
     },
     "18b8d25d4ebb49b89c2598414f14a4be": {
      "model_module": "@jupyter-widgets/controls",
      "model_module_version": "1.5.0",
      "model_name": "DescriptionStyleModel",
      "state": {
       "description_width": ""
      }
     },
     "18d9b19f60384049b64f3fa62022fa62": {
      "model_module": "@jupyter-widgets/controls",
      "model_module_version": "1.5.0",
      "model_name": "HTMLModel",
      "state": {
       "layout": "IPY_MODEL_a08c8bc863ac4d8d802b301d8d218d14",
       "style": "IPY_MODEL_b3e1bfebb1244a0a9b6f918117518402",
       "value": " 100/100 [00:02&lt;00:00, 49.0 quotes/s]"
      }
     },
     "18fc4c0c5dc6450299cd0ed75880eb35": {
      "model_module": "@jupyter-widgets/controls",
      "model_module_version": "1.5.0",
      "model_name": "HTMLModel",
      "state": {
       "layout": "IPY_MODEL_8886c3858e17458a97c538296e19c6c1",
       "style": "IPY_MODEL_6aa1cc45c9e6457ca1af6b942b5ce3dd",
       "value": "[Backtest]: 100%"
      }
     },
     "19288bad9af34916af289f194306123c": {
      "model_module": "@jupyter-widgets/controls",
      "model_module_version": "1.5.0",
      "model_name": "DescriptionStyleModel",
      "state": {
       "description_width": ""
      }
     },
     "1940bd1f9cc14fb9a61a9c644d21b307": {
      "model_module": "@jupyter-widgets/base",
      "model_module_version": "1.2.0",
      "model_name": "LayoutModel",
      "state": {}
     },
     "1a0c766cc3974356af005e696f894f37": {
      "model_module": "@jupyter-widgets/base",
      "model_module_version": "1.2.0",
      "model_name": "LayoutModel",
      "state": {}
     },
     "1a0eb7424bf843d2a713dad00280d4c7": {
      "model_module": "@jupyter-widgets/controls",
      "model_module_version": "1.5.0",
      "model_name": "DescriptionStyleModel",
      "state": {
       "description_width": ""
      }
     },
     "1aa6e7a717ba44058315ab8704477052": {
      "model_module": "@jupyter-widgets/controls",
      "model_module_version": "1.5.0",
      "model_name": "DescriptionStyleModel",
      "state": {
       "description_width": ""
      }
     },
     "1aae44e2a1bc43f981ec7192da5d65ad": {
      "model_module": "@jupyter-widgets/controls",
      "model_module_version": "1.5.0",
      "model_name": "DescriptionStyleModel",
      "state": {
       "description_width": ""
      }
     },
     "1b54ce976f1943bd805ca4ff127494ac": {
      "model_module": "@jupyter-widgets/controls",
      "model_module_version": "1.5.0",
      "model_name": "HTMLModel",
      "state": {
       "layout": "IPY_MODEL_de35c32fdaa2464ea0c35ec1c213aae6",
       "style": "IPY_MODEL_27f3d0dce67247f88ed94de9005689a2",
       "value": "[Backtest]:   0%"
      }
     },
     "1b65c02f841b4ff4908ba4eebd1d9e53": {
      "model_module": "@jupyter-widgets/base",
      "model_module_version": "1.2.0",
      "model_name": "LayoutModel",
      "state": {}
     },
     "1c9de2660f5a47d4871721fcad4569cb": {
      "model_module": "@jupyter-widgets/controls",
      "model_module_version": "1.5.0",
      "model_name": "HTMLModel",
      "state": {
       "layout": "IPY_MODEL_75417dbeb60d409cb1471048d81f212f",
       "style": "IPY_MODEL_6ebeeb103bc64c6885a6cdefccea88c1",
       "value": "[Backtest]: 100%"
      }
     },
     "1d284a038c17486d99860b61b9798df8": {
      "model_module": "@jupyter-widgets/controls",
      "model_module_version": "1.5.0",
      "model_name": "FloatProgressModel",
      "state": {
       "layout": "IPY_MODEL_10ddeea1bdf249eb89d5303e9c3e3029",
       "style": "IPY_MODEL_6b81da582c8a4b5193c4e151855dd197",
       "value": 100
      }
     },
     "1e1c20b229c04dd28e220074f71d18af": {
      "model_module": "@jupyter-widgets/controls",
      "model_module_version": "1.5.0",
      "model_name": "HTMLModel",
      "state": {
       "layout": "IPY_MODEL_d2c5cb833f584b6b857ea770d6d8e995",
       "style": "IPY_MODEL_bd6b61743eb14bb7b4ad863d76d56dce",
       "value": "[Backtest]: 100%"
      }
     },
     "1e5d73e1f1c347e08dcca4a81fc9905b": {
      "model_module": "@jupyter-widgets/base",
      "model_module_version": "1.2.0",
      "model_name": "LayoutModel",
      "state": {}
     },
     "1e911b3cb096426e9bcce20500b492ea": {
      "model_module": "@jupyter-widgets/base",
      "model_module_version": "1.2.0",
      "model_name": "LayoutModel",
      "state": {}
     },
     "1eb11e4b6395495b8816bc6131984477": {
      "model_module": "@jupyter-widgets/controls",
      "model_module_version": "1.5.0",
      "model_name": "HTMLModel",
      "state": {
       "layout": "IPY_MODEL_15d491f068fc455eaab5e1d2188bf771",
       "style": "IPY_MODEL_4a553e9c7c5e4ee28bfa62e4011caad4",
       "value": " 100/100 [00:02&lt;00:00, 36.2 quotes/s]"
      }
     },
     "1eb477ca22644772a6abafe1933844e7": {
      "model_module": "@jupyter-widgets/base",
      "model_module_version": "1.2.0",
      "model_name": "LayoutModel",
      "state": {}
     },
     "1ecbc8b73a2b4b58bed3c099ae9736af": {
      "model_module": "@jupyter-widgets/controls",
      "model_module_version": "1.5.0",
      "model_name": "HTMLModel",
      "state": {
       "layout": "IPY_MODEL_5798fa3417e54aca8132f76f3ad0874b",
       "style": "IPY_MODEL_2e7b34e9b13244f896edca9a3c24280d",
       "value": "[Backtest]: 100%"
      }
     },
     "20396abbb1c84e159a7bb2eefad6600c": {
      "model_module": "@jupyter-widgets/base",
      "model_module_version": "1.2.0",
      "model_name": "LayoutModel",
      "state": {}
     },
     "2125939f35b749758f848f8529d76900": {
      "model_module": "@jupyter-widgets/controls",
      "model_module_version": "1.5.0",
      "model_name": "FloatProgressModel",
      "state": {
       "bar_style": "success",
       "layout": "IPY_MODEL_d31b909aa63946dca0fd27e8f6fa1158",
       "style": "IPY_MODEL_ae61f7f040fa4e7b91c58c61bf795e40",
       "value": 100
      }
     },
     "212e7baa91b9400ea5c45f890a1ba128": {
      "model_module": "@jupyter-widgets/controls",
      "model_module_version": "1.5.0",
      "model_name": "HTMLModel",
      "state": {
       "layout": "IPY_MODEL_692fa96458c84f97a74a239de10c94cb",
       "style": "IPY_MODEL_a2971a88a2184e1d9ab963c5cf33d944",
       "value": " 100/100 [00:13&lt;00:00, 7.43 quotes/s]"
      }
     },
     "232f1aa32c1e45bc865db09ba1572af6": {
      "model_module": "@jupyter-widgets/controls",
      "model_module_version": "1.5.0",
      "model_name": "HTMLModel",
      "state": {
       "layout": "IPY_MODEL_88b9321aa80843e8b33e84845003b357",
       "style": "IPY_MODEL_375a0c61bc7d42d798255e0c6aed0da9",
       "value": "[Backtest]: 100%"
      }
     },
     "23d9024c31604933b3609f46c0b11233": {
      "model_module": "@jupyter-widgets/controls",
      "model_module_version": "1.5.0",
      "model_name": "DescriptionStyleModel",
      "state": {
       "description_width": ""
      }
     },
     "241520cbbb064a0d922ec72185854732": {
      "model_module": "@jupyter-widgets/controls",
      "model_module_version": "1.5.0",
      "model_name": "ProgressStyleModel",
      "state": {
       "description_width": ""
      }
     },
     "24223f87351d493f8637e9762f602036": {
      "model_module": "@jupyter-widgets/controls",
      "model_module_version": "1.5.0",
      "model_name": "DescriptionStyleModel",
      "state": {
       "description_width": ""
      }
     },
     "242a7c35a09e4f778eb9b1b49048515a": {
      "model_module": "@jupyter-widgets/base",
      "model_module_version": "1.2.0",
      "model_name": "LayoutModel",
      "state": {}
     },
     "2499e00a65724ab7ab11610cc7914011": {
      "model_module": "@jupyter-widgets/controls",
      "model_module_version": "1.5.0",
      "model_name": "HBoxModel",
      "state": {
       "children": [
        "IPY_MODEL_12068dca40ac48cfad8789a3aadd73cf",
        "IPY_MODEL_549a0d12fbd74c77a9704b2090c7f913",
        "IPY_MODEL_212e7baa91b9400ea5c45f890a1ba128"
       ],
       "layout": "IPY_MODEL_5144ee8e36df4217a89d5c78fa20dd80"
      }
     },
     "24bc8bc330854898a305c60f5036342e": {
      "model_module": "@jupyter-widgets/base",
      "model_module_version": "1.2.0",
      "model_name": "LayoutModel",
      "state": {}
     },
     "24cd45e997b64f9c85dc8aad9258afaf": {
      "model_module": "@jupyter-widgets/controls",
      "model_module_version": "1.5.0",
      "model_name": "ProgressStyleModel",
      "state": {
       "description_width": ""
      }
     },
     "251220cb2f95482bb4ea9f31e9760d57": {
      "model_module": "@jupyter-widgets/controls",
      "model_module_version": "1.5.0",
      "model_name": "HTMLModel",
      "state": {
       "layout": "IPY_MODEL_044c920d6bca4d20b49fa3de171a9d9f",
       "style": "IPY_MODEL_e0a4ac00add74e72a8f5a3795e6c85a3",
       "value": " 100/100 [00:09&lt;00:00, 10.8 quotes/s]"
      }
     },
     "2748d776574640dc9da24de3193ff361": {
      "model_module": "@jupyter-widgets/controls",
      "model_module_version": "1.5.0",
      "model_name": "HTMLModel",
      "state": {
       "layout": "IPY_MODEL_2cadf6856b564052889ba20875153044",
       "style": "IPY_MODEL_0a12951cd2b6459fa87990a92df873bd",
       "value": " 100/100 [00:03&lt;00:00, 29.9 quotes/s]"
      }
     },
     "275f74b8adeb4c4e9e77f0334b06a3ed": {
      "model_module": "@jupyter-widgets/controls",
      "model_module_version": "1.5.0",
      "model_name": "DescriptionStyleModel",
      "state": {
       "description_width": ""
      }
     },
     "2774e67e20dd49dfafa55f748f894164": {
      "model_module": "@jupyter-widgets/controls",
      "model_module_version": "1.5.0",
      "model_name": "FloatProgressModel",
      "state": {
       "bar_style": "success",
       "layout": "IPY_MODEL_aa7f6e77a6ff418aaa10fd3623886692",
       "style": "IPY_MODEL_8e82dce189604455972facb48c6b2416",
       "value": 100
      }
     },
     "27acc1303e6c44ad9a2cb3de18e32066": {
      "model_module": "@jupyter-widgets/controls",
      "model_module_version": "1.5.0",
      "model_name": "HTMLModel",
      "state": {
       "layout": "IPY_MODEL_6f4103f6efc0452ab20d1652469d9a8f",
       "style": "IPY_MODEL_e6427b689f674dd9812e530ca23d3ae4",
       "value": " 100/100 [00:01&lt;00:00, 67.4 quotes/s]"
      }
     },
     "27bfc4a964744a668e389e38eb431286": {
      "model_module": "@jupyter-widgets/base",
      "model_module_version": "1.2.0",
      "model_name": "LayoutModel",
      "state": {}
     },
     "27f3d0dce67247f88ed94de9005689a2": {
      "model_module": "@jupyter-widgets/controls",
      "model_module_version": "1.5.0",
      "model_name": "DescriptionStyleModel",
      "state": {
       "description_width": ""
      }
     },
     "28ffa5a6f26640d1b8d6065d2054925f": {
      "model_module": "@jupyter-widgets/controls",
      "model_module_version": "1.5.0",
      "model_name": "HTMLModel",
      "state": {
       "layout": "IPY_MODEL_bc620182803344838dbbfa9559fa6c72",
       "style": "IPY_MODEL_d709ead55aac46d58cedd32f82166268",
       "value": " 100/100 [00:16&lt;00:00, 5.91 quotes/s]"
      }
     },
     "290b20e3e20c4614850f45db381efd0e": {
      "model_module": "@jupyter-widgets/base",
      "model_module_version": "1.2.0",
      "model_name": "LayoutModel",
      "state": {}
     },
     "29911dd7cc9349eb920806c73ee212dc": {
      "model_module": "@jupyter-widgets/controls",
      "model_module_version": "1.5.0",
      "model_name": "HBoxModel",
      "state": {
       "children": [
        "IPY_MODEL_14b5b31280f14b23a5b70ff673c12231",
        "IPY_MODEL_372bc13d2cab4c90855150ab3ba990d5",
        "IPY_MODEL_c70a82fef6a341ccbec75310daa37228"
       ],
       "layout": "IPY_MODEL_78c0eb0c6d504e5091136c9e485883fb"
      }
     },
     "2a21edd966a14ab0bbe28dd1dfdfef91": {
      "model_module": "@jupyter-widgets/controls",
      "model_module_version": "1.5.0",
      "model_name": "DescriptionStyleModel",
      "state": {
       "description_width": ""
      }
     },
     "2a5f258db4c1485c93ea3f035661d852": {
      "model_module": "@jupyter-widgets/base",
      "model_module_version": "1.2.0",
      "model_name": "LayoutModel",
      "state": {}
     },
     "2a8fcb2088dd4093997d2e55705ad244": {
      "model_module": "@jupyter-widgets/base",
      "model_module_version": "1.2.0",
      "model_name": "LayoutModel",
      "state": {}
     },
     "2b2598032eeb41baabf098459bd50287": {
      "model_module": "@jupyter-widgets/base",
      "model_module_version": "1.2.0",
      "model_name": "LayoutModel",
      "state": {}
     },
     "2b8acc9d895a438ca4d81e549795a3ad": {
      "model_module": "@jupyter-widgets/base",
      "model_module_version": "1.2.0",
      "model_name": "LayoutModel",
      "state": {}
     },
     "2bb91fc647be473bbcc26f424c6fd527": {
      "model_module": "@jupyter-widgets/controls",
      "model_module_version": "1.5.0",
      "model_name": "DescriptionStyleModel",
      "state": {
       "description_width": ""
      }
     },
     "2c0c3fc96c804c408bcbb11c84e5dfc3": {
      "model_module": "@jupyter-widgets/base",
      "model_module_version": "1.2.0",
      "model_name": "LayoutModel",
      "state": {}
     },
     "2c9a03aff2f447098bc94bce0f7daaca": {
      "model_module": "@jupyter-widgets/controls",
      "model_module_version": "1.5.0",
      "model_name": "HBoxModel",
      "state": {
       "children": [
        "IPY_MODEL_838d099a9c924103a2379ad2f4da033a",
        "IPY_MODEL_5865349cf0d34dca953e5ef7a22eda53",
        "IPY_MODEL_61fc87d8b8bf4784b7c6f81aabf48426"
       ],
       "layout": "IPY_MODEL_368740170ff145779c30ce8a7a42b1c1"
      }
     },
     "2cadf6856b564052889ba20875153044": {
      "model_module": "@jupyter-widgets/base",
      "model_module_version": "1.2.0",
      "model_name": "LayoutModel",
      "state": {}
     },
     "2cbf0495a64945739cafa4f111a61f3d": {
      "model_module": "@jupyter-widgets/controls",
      "model_module_version": "1.5.0",
      "model_name": "HTMLModel",
      "state": {
       "layout": "IPY_MODEL_20396abbb1c84e159a7bb2eefad6600c",
       "style": "IPY_MODEL_d88b42c5f9734c88becee57af4ece8ba",
       "value": "[Backtest]: 100%"
      }
     },
     "2cf0bdd667194ded9a62cce9f79c8b91": {
      "model_module": "@jupyter-widgets/controls",
      "model_module_version": "1.5.0",
      "model_name": "ProgressStyleModel",
      "state": {
       "description_width": ""
      }
     },
     "2e3db979dc8f4b0cbce02479c92510c3": {
      "model_module": "@jupyter-widgets/base",
      "model_module_version": "1.2.0",
      "model_name": "LayoutModel",
      "state": {}
     },
     "2e7b34e9b13244f896edca9a3c24280d": {
      "model_module": "@jupyter-widgets/controls",
      "model_module_version": "1.5.0",
      "model_name": "DescriptionStyleModel",
      "state": {
       "description_width": ""
      }
     },
     "2ed7be11b6714f1b9c1a65a0e2906b3a": {
      "model_module": "@jupyter-widgets/controls",
      "model_module_version": "1.5.0",
      "model_name": "HTMLModel",
      "state": {
       "layout": "IPY_MODEL_3923f9037c9e41559bd86dc91259b0e9",
       "style": "IPY_MODEL_e56aae3131624e81997ea298ddd74bb4",
       "value": " 100/100 [11:52&lt;00:00, 7.13s/ quotes]"
      }
     },
     "2edf10a1f24a4469aee03056294d74b2": {
      "model_module": "@jupyter-widgets/base",
      "model_module_version": "1.2.0",
      "model_name": "LayoutModel",
      "state": {}
     },
     "2f1d62fea2674bf8bc4ce32d9e50fa30": {
      "model_module": "@jupyter-widgets/controls",
      "model_module_version": "1.5.0",
      "model_name": "DescriptionStyleModel",
      "state": {
       "description_width": ""
      }
     },
     "2f2d4e3b71c94a8988c18e539e7686dc": {
      "model_module": "@jupyter-widgets/controls",
      "model_module_version": "1.5.0",
      "model_name": "HTMLModel",
      "state": {
       "layout": "IPY_MODEL_700db62d69b34cc1a6fc2a99aa131989",
       "style": "IPY_MODEL_3a74953232d146c99d426aa8a213433c",
       "value": "[Backtest]: 100%"
      }
     },
     "2f4eea1017004ae38a0dae4761c90b7b": {
      "model_module": "@jupyter-widgets/controls",
      "model_module_version": "1.5.0",
      "model_name": "HTMLModel",
      "state": {
       "layout": "IPY_MODEL_0132029f7f2344afa0bc1c80e3121c3f",
       "style": "IPY_MODEL_13b32a0273804e45aa7bef1cd45eee61",
       "value": " 100/100 [05:18&lt;00:00, 3.19s/ quotes]"
      }
     },
     "2f6fbfa6b8b047a48c97ab3a888ce0a5": {
      "model_module": "@jupyter-widgets/controls",
      "model_module_version": "1.5.0",
      "model_name": "HBoxModel",
      "state": {
       "children": [
        "IPY_MODEL_ab557e16ae3f4b51b6f94c9e51cf5d75",
        "IPY_MODEL_6da1a1ae4c8e45e49610b97dbf055f56",
        "IPY_MODEL_c5bb05083c78409ca9f312c6a127af06"
       ],
       "layout": "IPY_MODEL_db719a344a5245d0872ef67aab84b459"
      }
     },
     "2fb985d12e6a41f8afdfeb664d0e3346": {
      "model_module": "@jupyter-widgets/controls",
      "model_module_version": "1.5.0",
      "model_name": "FloatProgressModel",
      "state": {
       "bar_style": "success",
       "layout": "IPY_MODEL_3b5c78fe64df4e109a78e8655e703bc0",
       "style": "IPY_MODEL_a8ba7f96d551448abbb433bc3114b6e4",
       "value": 100
      }
     },
     "2fd2f08ffc3a4bb9b42bedaceb379b8f": {
      "model_module": "@jupyter-widgets/controls",
      "model_module_version": "1.5.0",
      "model_name": "DescriptionStyleModel",
      "state": {
       "description_width": ""
      }
     },
     "2fd5dceb253142fd92e67c329be69068": {
      "model_module": "@jupyter-widgets/controls",
      "model_module_version": "1.5.0",
      "model_name": "ProgressStyleModel",
      "state": {
       "description_width": ""
      }
     },
     "3080c8f1ba284620a1d0812a947d33f4": {
      "model_module": "@jupyter-widgets/controls",
      "model_module_version": "1.5.0",
      "model_name": "FloatProgressModel",
      "state": {
       "bar_style": "success",
       "layout": "IPY_MODEL_e8d9b58faa57422dbb17cdab3893f8a4",
       "style": "IPY_MODEL_ef8a6006ca63435b9dedba46d6b6d75e",
       "value": 100
      }
     },
     "310076f9e24c4394b6e45fa46676b178": {
      "model_module": "@jupyter-widgets/controls",
      "model_module_version": "1.5.0",
      "model_name": "DescriptionStyleModel",
      "state": {
       "description_width": ""
      }
     },
     "3182d1eb6b2644eaa5980c02cb97af60": {
      "model_module": "@jupyter-widgets/base",
      "model_module_version": "1.2.0",
      "model_name": "LayoutModel",
      "state": {}
     },
     "318870d8fdb44500bf024696236e8c6e": {
      "model_module": "@jupyter-widgets/base",
      "model_module_version": "1.2.0",
      "model_name": "LayoutModel",
      "state": {}
     },
     "323d20577a614c1db3d1550875cf58c9": {
      "model_module": "@jupyter-widgets/controls",
      "model_module_version": "1.5.0",
      "model_name": "HTMLModel",
      "state": {
       "layout": "IPY_MODEL_a6fa3b8baa7b4790bf5663c757a13168",
       "style": "IPY_MODEL_42473d5024754c6ebaba61dc7b6d1706",
       "value": " 100/100 [00:06&lt;00:00, 14.5 quotes/s]"
      }
     },
     "336c035fbd644db797dfa33d240a4f6b": {
      "model_module": "@jupyter-widgets/controls",
      "model_module_version": "1.5.0",
      "model_name": "HTMLModel",
      "state": {
       "layout": "IPY_MODEL_1e5d73e1f1c347e08dcca4a81fc9905b",
       "style": "IPY_MODEL_d8e42e1eb9a942ed8166ebacd3c6b134",
       "value": "[Backtest]: 100%"
      }
     },
     "33d92524da514daebf83d4978785ab2c": {
      "model_module": "@jupyter-widgets/base",
      "model_module_version": "1.2.0",
      "model_name": "LayoutModel",
      "state": {}
     },
     "34053690acca4d009974ab06be26e8c3": {
      "model_module": "@jupyter-widgets/controls",
      "model_module_version": "1.5.0",
      "model_name": "HTMLModel",
      "state": {
       "layout": "IPY_MODEL_2b8acc9d895a438ca4d81e549795a3ad",
       "style": "IPY_MODEL_4354d5a95f074adca8529c97a319a18c",
       "value": " 100/100 [00:04&lt;00:00, 24.8 quotes/s]"
      }
     },
     "347fdff3cfa04174811acae1d2a1236f": {
      "model_module": "@jupyter-widgets/base",
      "model_module_version": "1.2.0",
      "model_name": "LayoutModel",
      "state": {}
     },
     "3590a8c070b44880b646c893d93c050e": {
      "model_module": "@jupyter-widgets/controls",
      "model_module_version": "1.5.0",
      "model_name": "HTMLModel",
      "state": {
       "layout": "IPY_MODEL_f209177c8fa54c1eb68cba56f670f2ab",
       "style": "IPY_MODEL_f79ccf5e0bd44028ae2851acd18dc735",
       "value": " 100/100 [00:08&lt;00:00, 12.2 quotes/s]"
      }
     },
     "362016e09953442dab77dfb410a5cd9e": {
      "model_module": "@jupyter-widgets/controls",
      "model_module_version": "1.5.0",
      "model_name": "FloatProgressModel",
      "state": {
       "bar_style": "success",
       "layout": "IPY_MODEL_4531949521084937b5af8d344106cd48",
       "style": "IPY_MODEL_079ca2c2943e4ca58966f66ebdc7407e",
       "value": 100
      }
     },
     "362cd2c67162448da343a75828d34e4e": {
      "model_module": "@jupyter-widgets/controls",
      "model_module_version": "1.5.0",
      "model_name": "FloatProgressModel",
      "state": {
       "bar_style": "danger",
       "layout": "IPY_MODEL_47d2f42a3e324b4ba002adc22f28d64e",
       "style": "IPY_MODEL_90cf11063a564fc4aa8445ecc2a27474",
       "value": 66.66666666666667
      }
     },
     "368740170ff145779c30ce8a7a42b1c1": {
      "model_module": "@jupyter-widgets/base",
      "model_module_version": "1.2.0",
      "model_name": "LayoutModel",
      "state": {}
     },
     "36e1cc461861428b8573d1040b731c88": {
      "model_module": "@jupyter-widgets/controls",
      "model_module_version": "1.5.0",
      "model_name": "HTMLModel",
      "state": {
       "layout": "IPY_MODEL_75b20fba0270436c89f73286e7d58650",
       "style": "IPY_MODEL_523eab5bc2c1408b98e9ff50450815e2",
       "value": "[Backtest]: 100%"
      }
     },
     "370e5d9f201040099291a2467e858403": {
      "model_module": "@jupyter-widgets/controls",
      "model_module_version": "1.5.0",
      "model_name": "HBoxModel",
      "state": {
       "children": [
        "IPY_MODEL_bdb048699de143188d4a457367860d45",
        "IPY_MODEL_de7857ed07d945658a51cf1b4539e71c",
        "IPY_MODEL_83db09637e83432da9409841b6dd5000"
       ],
       "layout": "IPY_MODEL_75fd0993007e464e82875eb6c1d80f36"
      }
     },
     "372bc13d2cab4c90855150ab3ba990d5": {
      "model_module": "@jupyter-widgets/controls",
      "model_module_version": "1.5.0",
      "model_name": "FloatProgressModel",
      "state": {
       "bar_style": "success",
       "layout": "IPY_MODEL_242a7c35a09e4f778eb9b1b49048515a",
       "style": "IPY_MODEL_241520cbbb064a0d922ec72185854732",
       "value": 100
      }
     },
     "375a0c61bc7d42d798255e0c6aed0da9": {
      "model_module": "@jupyter-widgets/controls",
      "model_module_version": "1.5.0",
      "model_name": "DescriptionStyleModel",
      "state": {
       "description_width": ""
      }
     },
     "378eebf6d74148878cc2d03b1f6b2569": {
      "model_module": "@jupyter-widgets/base",
      "model_module_version": "1.2.0",
      "model_name": "LayoutModel",
      "state": {}
     },
     "379288a910bd452aa80f502348b15399": {
      "model_module": "@jupyter-widgets/controls",
      "model_module_version": "1.5.0",
      "model_name": "HTMLModel",
      "state": {
       "layout": "IPY_MODEL_03da72d8b6e14190a4ca8354e1dd87f3",
       "style": "IPY_MODEL_67670215004b4c4d875948b94abc48d9",
       "value": " 100/100 [00:47&lt;00:00, 2.11 quotes/s]"
      }
     },
     "383af505658a4683aff9f67ca4aae7b5": {
      "model_module": "@jupyter-widgets/controls",
      "model_module_version": "1.5.0",
      "model_name": "HBoxModel",
      "state": {
       "children": [
        "IPY_MODEL_6c6fc7dda05441b4b374cd513ef66d40",
        "IPY_MODEL_86b397293c9543d0ab6d1fd12a5cc32f",
        "IPY_MODEL_1eb11e4b6395495b8816bc6131984477"
       ],
       "layout": "IPY_MODEL_3a3f87ec85a34a8a88738c41bbcda391"
      }
     },
     "3923f9037c9e41559bd86dc91259b0e9": {
      "model_module": "@jupyter-widgets/base",
      "model_module_version": "1.2.0",
      "model_name": "LayoutModel",
      "state": {}
     },
     "3926bcd6d4fc44c894a24e6e3261d320": {
      "model_module": "@jupyter-widgets/base",
      "model_module_version": "1.2.0",
      "model_name": "LayoutModel",
      "state": {}
     },
     "3940cfd3db8848ecaa671190ee3a8487": {
      "model_module": "@jupyter-widgets/base",
      "model_module_version": "1.2.0",
      "model_name": "LayoutModel",
      "state": {}
     },
     "39827dd57b8c4f1bb39296ca5739dc79": {
      "model_module": "@jupyter-widgets/controls",
      "model_module_version": "1.5.0",
      "model_name": "ProgressStyleModel",
      "state": {
       "description_width": ""
      }
     },
     "39e0161317fb400f8ffd43382776fc6e": {
      "model_module": "@jupyter-widgets/controls",
      "model_module_version": "1.5.0",
      "model_name": "HTMLModel",
      "state": {
       "layout": "IPY_MODEL_ffcde4d521b24dbd9d910777ae1866f1",
       "style": "IPY_MODEL_b412fb16206c42a1a81deb5d074ec06f",
       "value": "[Backtest]: 100%"
      }
     },
     "3a3f87ec85a34a8a88738c41bbcda391": {
      "model_module": "@jupyter-widgets/base",
      "model_module_version": "1.2.0",
      "model_name": "LayoutModel",
      "state": {}
     },
     "3a4c3e5e57c44b949c709f4395eb0456": {
      "model_module": "@jupyter-widgets/controls",
      "model_module_version": "1.5.0",
      "model_name": "DescriptionStyleModel",
      "state": {
       "description_width": ""
      }
     },
     "3a6ba90495084240899b43f716b590f4": {
      "model_module": "@jupyter-widgets/base",
      "model_module_version": "1.2.0",
      "model_name": "LayoutModel",
      "state": {}
     },
     "3a74953232d146c99d426aa8a213433c": {
      "model_module": "@jupyter-widgets/controls",
      "model_module_version": "1.5.0",
      "model_name": "DescriptionStyleModel",
      "state": {
       "description_width": ""
      }
     },
     "3a8dfc98f6db40b3a0186d4fa1ef040e": {
      "model_module": "@jupyter-widgets/controls",
      "model_module_version": "1.5.0",
      "model_name": "HTMLModel",
      "state": {
       "layout": "IPY_MODEL_b79f42b461904f03be75a3e1a4666447",
       "style": "IPY_MODEL_3ab243b728e640eda17f238b54dd7a14",
       "value": " 100/100 [00:18&lt;00:00, 16.4 quotes/s]"
      }
     },
     "3aa3e31f83cd4fa0be63d177df9787f2": {
      "model_module": "@jupyter-widgets/controls",
      "model_module_version": "1.5.0",
      "model_name": "DescriptionStyleModel",
      "state": {
       "description_width": ""
      }
     },
     "3ab243b728e640eda17f238b54dd7a14": {
      "model_module": "@jupyter-widgets/controls",
      "model_module_version": "1.5.0",
      "model_name": "DescriptionStyleModel",
      "state": {
       "description_width": ""
      }
     },
     "3b3a790886a146129cc73faa040b71ce": {
      "model_module": "@jupyter-widgets/controls",
      "model_module_version": "1.5.0",
      "model_name": "DescriptionStyleModel",
      "state": {
       "description_width": ""
      }
     },
     "3b5c78fe64df4e109a78e8655e703bc0": {
      "model_module": "@jupyter-widgets/base",
      "model_module_version": "1.2.0",
      "model_name": "LayoutModel",
      "state": {}
     },
     "3c183a795aec42d484a1222f4b07caed": {
      "model_module": "@jupyter-widgets/base",
      "model_module_version": "1.2.0",
      "model_name": "LayoutModel",
      "state": {}
     },
     "3c7f63eba79147a0ba71384066a71a72": {
      "model_module": "@jupyter-widgets/controls",
      "model_module_version": "1.5.0",
      "model_name": "DescriptionStyleModel",
      "state": {
       "description_width": ""
      }
     },
     "3d4afb97b64a4ea9bf701103d7e16fea": {
      "model_module": "@jupyter-widgets/base",
      "model_module_version": "1.2.0",
      "model_name": "LayoutModel",
      "state": {}
     },
     "3d4d394801bd464a8d366a03913694a2": {
      "model_module": "@jupyter-widgets/base",
      "model_module_version": "1.2.0",
      "model_name": "LayoutModel",
      "state": {}
     },
     "3d649a7091f44f32a980f114f5d3a5b8": {
      "model_module": "@jupyter-widgets/controls",
      "model_module_version": "1.5.0",
      "model_name": "HTMLModel",
      "state": {
       "layout": "IPY_MODEL_2edf10a1f24a4469aee03056294d74b2",
       "style": "IPY_MODEL_91b282d1a53c4e8ab5bfee17ea008911",
       "value": "[Backtest]: 100%"
      }
     },
     "3d958a947abe4b03ac6224b5d0620bf7": {
      "model_module": "@jupyter-widgets/controls",
      "model_module_version": "1.5.0",
      "model_name": "HTMLModel",
      "state": {
       "layout": "IPY_MODEL_007653cbf0b347e6a6f06ae3f55603dd",
       "style": "IPY_MODEL_b96c57688c6a4a888195b111515cf358",
       "value": " 100/100 [21:25&lt;00:00, 12.9s/ quotes]"
      }
     },
     "3dc9f2d5bea942fda5a73844dd6ee79e": {
      "model_module": "@jupyter-widgets/controls",
      "model_module_version": "1.5.0",
      "model_name": "ProgressStyleModel",
      "state": {
       "description_width": ""
      }
     },
     "3de91838f04d4ceaa2a78c3414716555": {
      "model_module": "@jupyter-widgets/base",
      "model_module_version": "1.2.0",
      "model_name": "LayoutModel",
      "state": {}
     },
     "3e3f7bd6813f4be8971318f5849ed407": {
      "model_module": "@jupyter-widgets/controls",
      "model_module_version": "1.5.0",
      "model_name": "DescriptionStyleModel",
      "state": {
       "description_width": ""
      }
     },
     "3e57e71607574faabbf1feb9578ce498": {
      "model_module": "@jupyter-widgets/base",
      "model_module_version": "1.2.0",
      "model_name": "LayoutModel",
      "state": {}
     },
     "3eb4c895f4614ee6bfaa66c32157f6ae": {
      "model_module": "@jupyter-widgets/controls",
      "model_module_version": "1.5.0",
      "model_name": "FloatProgressModel",
      "state": {
       "layout": "IPY_MODEL_664475c0442844419090cafdbb40c980",
       "style": "IPY_MODEL_f31f6b64fb464fbeb3fc809edd4f720c",
       "value": 100
      }
     },
     "3fa2205b868c422484126d1bbd3a1f92": {
      "model_module": "@jupyter-widgets/controls",
      "model_module_version": "1.5.0",
      "model_name": "DescriptionStyleModel",
      "state": {
       "description_width": ""
      }
     },
     "3fc2aa5cc26f4353bbb162fe7cdf6576": {
      "model_module": "@jupyter-widgets/controls",
      "model_module_version": "1.5.0",
      "model_name": "HBoxModel",
      "state": {
       "children": [
        "IPY_MODEL_66bb5a2373a64aaa9409836d64b082cb",
        "IPY_MODEL_362016e09953442dab77dfb410a5cd9e",
        "IPY_MODEL_169a6c26058643e28a5e4ae63aae560f"
       ],
       "layout": "IPY_MODEL_1b65c02f841b4ff4908ba4eebd1d9e53"
      }
     },
     "404195b30dd54302b2b9e84dbe6b0532": {
      "model_module": "@jupyter-widgets/controls",
      "model_module_version": "1.5.0",
      "model_name": "DescriptionStyleModel",
      "state": {
       "description_width": ""
      }
     },
     "4202864f92274888a90996121eb66338": {
      "model_module": "@jupyter-widgets/controls",
      "model_module_version": "1.5.0",
      "model_name": "DescriptionStyleModel",
      "state": {
       "description_width": ""
      }
     },
     "421d3c5e7301498980a2401d1bc3af4d": {
      "model_module": "@jupyter-widgets/controls",
      "model_module_version": "1.5.0",
      "model_name": "ProgressStyleModel",
      "state": {
       "description_width": ""
      }
     },
     "42473d5024754c6ebaba61dc7b6d1706": {
      "model_module": "@jupyter-widgets/controls",
      "model_module_version": "1.5.0",
      "model_name": "DescriptionStyleModel",
      "state": {
       "description_width": ""
      }
     },
     "4329038b25df491aa71fd807723dd971": {
      "model_module": "@jupyter-widgets/controls",
      "model_module_version": "1.5.0",
      "model_name": "HTMLModel",
      "state": {
       "layout": "IPY_MODEL_6d639c08292940048ef9f15a2f185a99",
       "style": "IPY_MODEL_dcb87e9b7ee647ea87968393986700a8",
       "value": " 100/100 [00:18&lt;00:00, 64.7 quotes/s]"
      }
     },
     "4354d5a95f074adca8529c97a319a18c": {
      "model_module": "@jupyter-widgets/controls",
      "model_module_version": "1.5.0",
      "model_name": "DescriptionStyleModel",
      "state": {
       "description_width": ""
      }
     },
     "44c173b0bd454f60b3db323a35fdb51a": {
      "model_module": "@jupyter-widgets/controls",
      "model_module_version": "1.5.0",
      "model_name": "FloatProgressModel",
      "state": {
       "layout": "IPY_MODEL_ce91c4f0b4e449c698528830ef9fd138",
       "style": "IPY_MODEL_39827dd57b8c4f1bb39296ca5739dc79",
       "value": 100
      }
     },
     "4531949521084937b5af8d344106cd48": {
      "model_module": "@jupyter-widgets/base",
      "model_module_version": "1.2.0",
      "model_name": "LayoutModel",
      "state": {}
     },
     "457d7f55a19f4a95be2162bca9da4109": {
      "model_module": "@jupyter-widgets/controls",
      "model_module_version": "1.5.0",
      "model_name": "FloatProgressModel",
      "state": {
       "bar_style": "success",
       "layout": "IPY_MODEL_673e32d78336468c9e3a6f28d93be361",
       "style": "IPY_MODEL_1823989930b3466e85627c8a67988265",
       "value": 100
      }
     },
     "45ac7abf840b4abdbf92d05a8b7ca950": {
      "model_module": "@jupyter-widgets/base",
      "model_module_version": "1.2.0",
      "model_name": "LayoutModel",
      "state": {}
     },
     "46949f67bd7e4befa4bd5f403bf89e62": {
      "model_module": "@jupyter-widgets/controls",
      "model_module_version": "1.5.0",
      "model_name": "DescriptionStyleModel",
      "state": {
       "description_width": ""
      }
     },
     "46e045a4c01042c48c6da1cc065658c2": {
      "model_module": "@jupyter-widgets/base",
      "model_module_version": "1.2.0",
      "model_name": "LayoutModel",
      "state": {}
     },
     "4747e6f87ae040858d04edad02e9470e": {
      "model_module": "@jupyter-widgets/controls",
      "model_module_version": "1.5.0",
      "model_name": "ProgressStyleModel",
      "state": {
       "description_width": ""
      }
     },
     "475526982dcf4ae2bd0ff19709a152b7": {
      "model_module": "@jupyter-widgets/base",
      "model_module_version": "1.2.0",
      "model_name": "LayoutModel",
      "state": {}
     },
     "4775ccc93e6f44ebaa4eab7605f2cf5b": {
      "model_module": "@jupyter-widgets/base",
      "model_module_version": "1.2.0",
      "model_name": "LayoutModel",
      "state": {}
     },
     "47789ea21b2f43e4b62d63feb98459cf": {
      "model_module": "@jupyter-widgets/base",
      "model_module_version": "1.2.0",
      "model_name": "LayoutModel",
      "state": {}
     },
     "47a791f85c954db2ba66e9af6cc93d7a": {
      "model_module": "@jupyter-widgets/controls",
      "model_module_version": "1.5.0",
      "model_name": "ProgressStyleModel",
      "state": {
       "description_width": ""
      }
     },
     "47d2f42a3e324b4ba002adc22f28d64e": {
      "model_module": "@jupyter-widgets/base",
      "model_module_version": "1.2.0",
      "model_name": "LayoutModel",
      "state": {}
     },
     "47fe5a13e1dc4eb3b6bd9fdb599b8135": {
      "model_module": "@jupyter-widgets/controls",
      "model_module_version": "1.5.0",
      "model_name": "HTMLModel",
      "state": {
       "layout": "IPY_MODEL_af17b64931804af391fd954cddd06153",
       "style": "IPY_MODEL_4eaf6c6ea68046869d98ba7dae301673",
       "value": "[Backtest]: 100%"
      }
     },
     "48201ab941c84dc69d43e01e56d3c249": {
      "model_module": "@jupyter-widgets/base",
      "model_module_version": "1.2.0",
      "model_name": "LayoutModel",
      "state": {}
     },
     "482346975b6f42af93c95eeb3dee066d": {
      "model_module": "@jupyter-widgets/base",
      "model_module_version": "1.2.0",
      "model_name": "LayoutModel",
      "state": {}
     },
     "482a6bcd58874f6188658d4ff00e22f0": {
      "model_module": "@jupyter-widgets/controls",
      "model_module_version": "1.5.0",
      "model_name": "HTMLModel",
      "state": {
       "layout": "IPY_MODEL_fd44a14f76934c76ae966e2978a8e065",
       "style": "IPY_MODEL_8f14ff780aba425588d3d6449963c014",
       "value": "[Backtest]: 100%"
      }
     },
     "49a21ae37e1e46d2bfa0dcdac8bc139b": {
      "model_module": "@jupyter-widgets/controls",
      "model_module_version": "1.5.0",
      "model_name": "DescriptionStyleModel",
      "state": {
       "description_width": ""
      }
     },
     "4a553e9c7c5e4ee28bfa62e4011caad4": {
      "model_module": "@jupyter-widgets/controls",
      "model_module_version": "1.5.0",
      "model_name": "DescriptionStyleModel",
      "state": {
       "description_width": ""
      }
     },
     "4b2c6f3d3307460b9563dbac54288b8a": {
      "model_module": "@jupyter-widgets/base",
      "model_module_version": "1.2.0",
      "model_name": "LayoutModel",
      "state": {}
     },
     "4c0a2a701c824c76853b4e5153cc5a85": {
      "model_module": "@jupyter-widgets/controls",
      "model_module_version": "1.5.0",
      "model_name": "FloatProgressModel",
      "state": {
       "bar_style": "success",
       "layout": "IPY_MODEL_1a0c766cc3974356af005e696f894f37",
       "style": "IPY_MODEL_47a791f85c954db2ba66e9af6cc93d7a",
       "value": 100
      }
     },
     "4c4bc6df40c049089a56e99f2f1b15d4": {
      "model_module": "@jupyter-widgets/controls",
      "model_module_version": "1.5.0",
      "model_name": "HTMLModel",
      "state": {
       "layout": "IPY_MODEL_ddd8706f6ac746c6900511bbb7c700f1",
       "style": "IPY_MODEL_aab3215e75194ae9a8b020eeac36f9ef",
       "value": "[Backtest]: 100%"
      }
     },
     "4c6493d6d6114af6953de363dd451475": {
      "model_module": "@jupyter-widgets/controls",
      "model_module_version": "1.5.0",
      "model_name": "DescriptionStyleModel",
      "state": {
       "description_width": ""
      }
     },
     "4d62c4e89a7a44049580a903e5e87cb8": {
      "model_module": "@jupyter-widgets/controls",
      "model_module_version": "1.5.0",
      "model_name": "ProgressStyleModel",
      "state": {
       "description_width": ""
      }
     },
     "4df28d62bbc14e1ca020ed86919b9a7c": {
      "model_module": "@jupyter-widgets/controls",
      "model_module_version": "1.5.0",
      "model_name": "HTMLModel",
      "state": {
       "layout": "IPY_MODEL_9e91452c11004a519644f23d5b4bdb5b",
       "style": "IPY_MODEL_404195b30dd54302b2b9e84dbe6b0532",
       "value": " 100/100 [00:02&lt;00:00, 36.8 quotes/s]"
      }
     },
     "4eaf6c6ea68046869d98ba7dae301673": {
      "model_module": "@jupyter-widgets/controls",
      "model_module_version": "1.5.0",
      "model_name": "DescriptionStyleModel",
      "state": {
       "description_width": ""
      }
     },
     "4f6d6b87699b441da2e72bab5ac2ecc4": {
      "model_module": "@jupyter-widgets/controls",
      "model_module_version": "1.5.0",
      "model_name": "HTMLModel",
      "state": {
       "layout": "IPY_MODEL_cf2ac20e28f2422e88160920444ca82a",
       "style": "IPY_MODEL_3e3f7bd6813f4be8971318f5849ed407",
       "value": "[Backtest]: 100%"
      }
     },
     "4fd90b0c4b40435d840c1ae15b7b55ab": {
      "model_module": "@jupyter-widgets/base",
      "model_module_version": "1.2.0",
      "model_name": "LayoutModel",
      "state": {}
     },
     "507ecc5221f94b2d8fb971abd6f90a6b": {
      "model_module": "@jupyter-widgets/base",
      "model_module_version": "1.2.0",
      "model_name": "LayoutModel",
      "state": {}
     },
     "5134d7130efb4ef3ae7205d44fd12fca": {
      "model_module": "@jupyter-widgets/controls",
      "model_module_version": "1.5.0",
      "model_name": "FloatProgressModel",
      "state": {
       "bar_style": "success",
       "layout": "IPY_MODEL_00b1c34830594b9089f602b8f225be2c",
       "style": "IPY_MODEL_0181f51f923d46948926d31eed8c3838",
       "value": 100
      }
     },
     "5144ee8e36df4217a89d5c78fa20dd80": {
      "model_module": "@jupyter-widgets/base",
      "model_module_version": "1.2.0",
      "model_name": "LayoutModel",
      "state": {}
     },
     "51a475cb8eca4c6a9fa7f425db5c9b11": {
      "model_module": "@jupyter-widgets/base",
      "model_module_version": "1.2.0",
      "model_name": "LayoutModel",
      "state": {}
     },
     "51b03125eee74f00afef3db0227cc324": {
      "model_module": "@jupyter-widgets/controls",
      "model_module_version": "1.5.0",
      "model_name": "DescriptionStyleModel",
      "state": {
       "description_width": ""
      }
     },
     "521f2f4220454dbbbdf06f50aeb75a5a": {
      "model_module": "@jupyter-widgets/base",
      "model_module_version": "1.2.0",
      "model_name": "LayoutModel",
      "state": {}
     },
     "522823c33f1146c7a9ae1d9aff3e80c9": {
      "model_module": "@jupyter-widgets/controls",
      "model_module_version": "1.5.0",
      "model_name": "ProgressStyleModel",
      "state": {
       "description_width": ""
      }
     },
     "523eab5bc2c1408b98e9ff50450815e2": {
      "model_module": "@jupyter-widgets/controls",
      "model_module_version": "1.5.0",
      "model_name": "DescriptionStyleModel",
      "state": {
       "description_width": ""
      }
     },
     "528759bf0b1144018afa8291f0dc039e": {
      "model_module": "@jupyter-widgets/controls",
      "model_module_version": "1.5.0",
      "model_name": "HBoxModel",
      "state": {
       "children": [
        "IPY_MODEL_8920afffde3043728c191a489ef28e8e",
        "IPY_MODEL_fca88f30dcf14c64a776ac02763e83d1",
        "IPY_MODEL_020a8045ab8940408430d409dd563ca6"
       ],
       "layout": "IPY_MODEL_3940cfd3db8848ecaa671190ee3a8487"
      }
     },
     "52c9d9c62bd54abb9a4289f4b1e7585c": {
      "model_module": "@jupyter-widgets/controls",
      "model_module_version": "1.5.0",
      "model_name": "FloatProgressModel",
      "state": {
       "bar_style": "success",
       "layout": "IPY_MODEL_06875fc7f47f4fafb024ea72e9a9316b",
       "style": "IPY_MODEL_ee0be695b1494efeaf2cd26ab09e3698",
       "value": 100
      }
     },
     "535b3560d4404b3b805bff8fd247b8f5": {
      "model_module": "@jupyter-widgets/base",
      "model_module_version": "1.2.0",
      "model_name": "LayoutModel",
      "state": {}
     },
     "53b249e8a89540e380428155ae6a2f75": {
      "model_module": "@jupyter-widgets/controls",
      "model_module_version": "1.5.0",
      "model_name": "FloatProgressModel",
      "state": {
       "bar_style": "success",
       "layout": "IPY_MODEL_47789ea21b2f43e4b62d63feb98459cf",
       "style": "IPY_MODEL_2cf0bdd667194ded9a62cce9f79c8b91",
       "value": 100
      }
     },
     "5437cd5712b94378bae73dce917d1908": {
      "model_module": "@jupyter-widgets/controls",
      "model_module_version": "1.5.0",
      "model_name": "HBoxModel",
      "state": {
       "children": [
        "IPY_MODEL_47fe5a13e1dc4eb3b6bd9fdb599b8135",
        "IPY_MODEL_f1d5e0a7d8f746faa3b6dcd1d795f172",
        "IPY_MODEL_f01d7ca5236f40f0a39a43a303260281"
       ],
       "layout": "IPY_MODEL_d6b9c64dd3b7482eadc09a74abc87668"
      }
     },
     "54413b16ca0a4e05b9b06b2a69704191": {
      "model_module": "@jupyter-widgets/base",
      "model_module_version": "1.2.0",
      "model_name": "LayoutModel",
      "state": {}
     },
     "549a0d12fbd74c77a9704b2090c7f913": {
      "model_module": "@jupyter-widgets/controls",
      "model_module_version": "1.5.0",
      "model_name": "FloatProgressModel",
      "state": {
       "bar_style": "success",
       "layout": "IPY_MODEL_3de91838f04d4ceaa2a78c3414716555",
       "style": "IPY_MODEL_0be45aa91e5a4ee38742a93d178a354d",
       "value": 100
      }
     },
     "551bc18d5d63472191b139bb99ef6598": {
      "model_module": "@jupyter-widgets/base",
      "model_module_version": "1.2.0",
      "model_name": "LayoutModel",
      "state": {}
     },
     "556713480f7f4386b5b7733afdb0bba4": {
      "model_module": "@jupyter-widgets/controls",
      "model_module_version": "1.5.0",
      "model_name": "HTMLModel",
      "state": {
       "layout": "IPY_MODEL_7c764e38c8094ce58f395399821d5a5d",
       "style": "IPY_MODEL_ebf24fd5e402416d80b801cf491caa58",
       "value": " 100/100 [13:27&lt;00:00, 8.07s/ quotes]"
      }
     },
     "55c0ca41b6194f979c9866e15e261299": {
      "model_module": "@jupyter-widgets/base",
      "model_module_version": "1.2.0",
      "model_name": "LayoutModel",
      "state": {}
     },
     "55c4441fed114c308e58bff092632cda": {
      "model_module": "@jupyter-widgets/controls",
      "model_module_version": "1.5.0",
      "model_name": "FloatProgressModel",
      "state": {
       "bar_style": "success",
       "layout": "IPY_MODEL_015dd3d9629c4219a0db8f12e5ac40fe",
       "style": "IPY_MODEL_aaae92cf874a427696bd98a9b2c09053",
       "value": 100
      }
     },
     "55e011ef71324987948337aa5ad4b2b3": {
      "model_module": "@jupyter-widgets/controls",
      "model_module_version": "1.5.0",
      "model_name": "ProgressStyleModel",
      "state": {
       "description_width": ""
      }
     },
     "560cd520bc62416db08b96f43dc97bb2": {
      "model_module": "@jupyter-widgets/base",
      "model_module_version": "1.2.0",
      "model_name": "LayoutModel",
      "state": {}
     },
     "56b804899fcd4bb9b77d43201c1840b1": {
      "model_module": "@jupyter-widgets/controls",
      "model_module_version": "1.5.0",
      "model_name": "DescriptionStyleModel",
      "state": {
       "description_width": ""
      }
     },
     "56bd14d288164993ab16ede20fae729e": {
      "model_module": "@jupyter-widgets/controls",
      "model_module_version": "1.5.0",
      "model_name": "FloatProgressModel",
      "state": {
       "bar_style": "success",
       "layout": "IPY_MODEL_0680236af3d14d3ab9434e61d00f82a2",
       "style": "IPY_MODEL_b91c13edf64c405ea6139ec5c5bead4c",
       "value": 100
      }
     },
     "5700eb5474fc40d1b441f89f5eeb8623": {
      "model_module": "@jupyter-widgets/controls",
      "model_module_version": "1.5.0",
      "model_name": "HTMLModel",
      "state": {
       "layout": "IPY_MODEL_8630bbd9576444f080a35541d1d46046",
       "style": "IPY_MODEL_2f1d62fea2674bf8bc4ce32d9e50fa30",
       "value": "[Backtest]: 100%"
      }
     },
     "5731454bc49d4cb2aabb977a88c3f98c": {
      "model_module": "@jupyter-widgets/controls",
      "model_module_version": "1.5.0",
      "model_name": "DescriptionStyleModel",
      "state": {
       "description_width": ""
      }
     },
     "5798fa3417e54aca8132f76f3ad0874b": {
      "model_module": "@jupyter-widgets/base",
      "model_module_version": "1.2.0",
      "model_name": "LayoutModel",
      "state": {}
     },
     "579d068b526b4504a8619aaab339ee88": {
      "model_module": "@jupyter-widgets/base",
      "model_module_version": "1.2.0",
      "model_name": "LayoutModel",
      "state": {}
     },
     "57b1de3527b74da19187382f189675c7": {
      "model_module": "@jupyter-widgets/controls",
      "model_module_version": "1.5.0",
      "model_name": "ProgressStyleModel",
      "state": {
       "description_width": ""
      }
     },
     "5803f2553e754dc48a89fd38dbdea95e": {
      "model_module": "@jupyter-widgets/base",
      "model_module_version": "1.2.0",
      "model_name": "LayoutModel",
      "state": {}
     },
     "5824f778fcaf43dcbcbce7b6b8502d2b": {
      "model_module": "@jupyter-widgets/base",
      "model_module_version": "1.2.0",
      "model_name": "LayoutModel",
      "state": {}
     },
     "5865349cf0d34dca953e5ef7a22eda53": {
      "model_module": "@jupyter-widgets/controls",
      "model_module_version": "1.5.0",
      "model_name": "FloatProgressModel",
      "state": {
       "layout": "IPY_MODEL_f6c9c7c5de3141dba1c46665652d4b62",
       "style": "IPY_MODEL_c9df602162414fd5bd3a70946e398c5d",
       "value": 100
      }
     },
     "5a31ddcdc4e54bb79367fd07495b7089": {
      "model_module": "@jupyter-widgets/base",
      "model_module_version": "1.2.0",
      "model_name": "LayoutModel",
      "state": {}
     },
     "5a40eabc0e9b420891e035b1a59b580a": {
      "model_module": "@jupyter-widgets/base",
      "model_module_version": "1.2.0",
      "model_name": "LayoutModel",
      "state": {}
     },
     "5b65db9aa4b243a487379a5fe563fcc1": {
      "model_module": "@jupyter-widgets/controls",
      "model_module_version": "1.5.0",
      "model_name": "FloatProgressModel",
      "state": {
       "bar_style": "success",
       "layout": "IPY_MODEL_24bc8bc330854898a305c60f5036342e",
       "style": "IPY_MODEL_fa0e326e22c4487d89563b45e646bdf1",
       "value": 100
      }
     },
     "5b7bcba1fe3248868737917fd6cfd510": {
      "model_module": "@jupyter-widgets/base",
      "model_module_version": "1.2.0",
      "model_name": "LayoutModel",
      "state": {}
     },
     "5bdc2067baeb4dd3b18ac297a998ab16": {
      "model_module": "@jupyter-widgets/controls",
      "model_module_version": "1.5.0",
      "model_name": "DescriptionStyleModel",
      "state": {
       "description_width": ""
      }
     },
     "5be67683613342e8932578ea2f4ed92a": {
      "model_module": "@jupyter-widgets/base",
      "model_module_version": "1.2.0",
      "model_name": "LayoutModel",
      "state": {}
     },
     "5c636123cae9450895d4ff83bbd5c4d9": {
      "model_module": "@jupyter-widgets/base",
      "model_module_version": "1.2.0",
      "model_name": "LayoutModel",
      "state": {}
     },
     "5de682e363f0449db53725ecd77c1fde": {
      "model_module": "@jupyter-widgets/controls",
      "model_module_version": "1.5.0",
      "model_name": "DescriptionStyleModel",
      "state": {
       "description_width": ""
      }
     },
     "5e49c98d3cc0420c9e148ed468b4dfa7": {
      "model_module": "@jupyter-widgets/controls",
      "model_module_version": "1.5.0",
      "model_name": "HBoxModel",
      "state": {
       "children": [
        "IPY_MODEL_3d649a7091f44f32a980f114f5d3a5b8",
        "IPY_MODEL_b376139ecf944965ae95b6eddeecb619",
        "IPY_MODEL_8329d749a0ef4b3c91ff755639daeadb"
       ],
       "layout": "IPY_MODEL_1eb477ca22644772a6abafe1933844e7"
      }
     },
     "5f8dd11e8f574bc68c2d65eea7318b83": {
      "model_module": "@jupyter-widgets/base",
      "model_module_version": "1.2.0",
      "model_name": "LayoutModel",
      "state": {}
     },
     "5fc95ef6ae4f4d4db4b422aa9b1ff80d": {
      "model_module": "@jupyter-widgets/controls",
      "model_module_version": "1.5.0",
      "model_name": "DescriptionStyleModel",
      "state": {
       "description_width": ""
      }
     },
     "601a640c19604717935ecebd8d5e4936": {
      "model_module": "@jupyter-widgets/base",
      "model_module_version": "1.2.0",
      "model_name": "LayoutModel",
      "state": {}
     },
     "60e0eef6c5b7406ca23fd84ae58e79cb": {
      "model_module": "@jupyter-widgets/controls",
      "model_module_version": "1.5.0",
      "model_name": "FloatProgressModel",
      "state": {
       "bar_style": "success",
       "layout": "IPY_MODEL_ee15c98ce8fa4d3c83657bc87d9022aa",
       "style": "IPY_MODEL_9e67ee986946496db03c64b3aa0aa612",
       "value": 100
      }
     },
     "61fc87d8b8bf4784b7c6f81aabf48426": {
      "model_module": "@jupyter-widgets/controls",
      "model_module_version": "1.5.0",
      "model_name": "HTMLModel",
      "state": {
       "layout": "IPY_MODEL_d9c33fa7f1454f66b223946eaab7e1f4",
       "style": "IPY_MODEL_cfce1fe6f43b4401844220092cda83c3",
       "value": " 100/100 [00:17&lt;00:00, 65.2 quotes/s]"
      }
     },
     "62ea5584830c4e638aef892b0a49f7bb": {
      "model_module": "@jupyter-widgets/controls",
      "model_module_version": "1.5.0",
      "model_name": "HBoxModel",
      "state": {
       "children": [
        "IPY_MODEL_36e1cc461861428b8573d1040b731c88",
        "IPY_MODEL_0b9637c9b4a74ff09602c639d7bf05a9",
        "IPY_MODEL_e8f092cc03a0432aa048fb985f51891e"
       ],
       "layout": "IPY_MODEL_2a5f258db4c1485c93ea3f035661d852"
      }
     },
     "633e74aac48548e1973e3d58eda1216d": {
      "model_module": "@jupyter-widgets/controls",
      "model_module_version": "1.5.0",
      "model_name": "DescriptionStyleModel",
      "state": {
       "description_width": ""
      }
     },
     "6365b10453324fb9b521d1b4daee8a9c": {
      "model_module": "@jupyter-widgets/base",
      "model_module_version": "1.2.0",
      "model_name": "LayoutModel",
      "state": {}
     },
     "642fd4d515e4406cbe4bf878531e21c9": {
      "model_module": "@jupyter-widgets/controls",
      "model_module_version": "1.5.0",
      "model_name": "DescriptionStyleModel",
      "state": {
       "description_width": ""
      }
     },
     "64b405556b1c48469ab875300978c9c9": {
      "model_module": "@jupyter-widgets/controls",
      "model_module_version": "1.5.0",
      "model_name": "FloatProgressModel",
      "state": {
       "layout": "IPY_MODEL_09cedf8026db44b696483dfb21e265f0",
       "style": "IPY_MODEL_421d3c5e7301498980a2401d1bc3af4d",
       "value": 100
      }
     },
     "650629bd8aa84768bbc026d63b5aa73d": {
      "model_module": "@jupyter-widgets/controls",
      "model_module_version": "1.5.0",
      "model_name": "ProgressStyleModel",
      "state": {
       "description_width": ""
      }
     },
     "664475c0442844419090cafdbb40c980": {
      "model_module": "@jupyter-widgets/base",
      "model_module_version": "1.2.0",
      "model_name": "LayoutModel",
      "state": {}
     },
     "665fa50f47854e2b9097e12d6edebb83": {
      "model_module": "@jupyter-widgets/controls",
      "model_module_version": "1.5.0",
      "model_name": "FloatProgressModel",
      "state": {
       "bar_style": "success",
       "layout": "IPY_MODEL_92360a0a056c499a98817f6e4825fbac",
       "style": "IPY_MODEL_24cd45e997b64f9c85dc8aad9258afaf",
       "value": 100
      }
     },
     "6681c31f51234021a5a559c21cdfa3ee": {
      "model_module": "@jupyter-widgets/base",
      "model_module_version": "1.2.0",
      "model_name": "LayoutModel",
      "state": {}
     },
     "66bb5a2373a64aaa9409836d64b082cb": {
      "model_module": "@jupyter-widgets/controls",
      "model_module_version": "1.5.0",
      "model_name": "HTMLModel",
      "state": {
       "layout": "IPY_MODEL_27bfc4a964744a668e389e38eb431286",
       "style": "IPY_MODEL_51b03125eee74f00afef3db0227cc324",
       "value": "[Backtest]: 100%"
      }
     },
     "673e32d78336468c9e3a6f28d93be361": {
      "model_module": "@jupyter-widgets/base",
      "model_module_version": "1.2.0",
      "model_name": "LayoutModel",
      "state": {}
     },
     "6746d731f51944998e4e51157ac157c5": {
      "model_module": "@jupyter-widgets/controls",
      "model_module_version": "1.5.0",
      "model_name": "DescriptionStyleModel",
      "state": {
       "description_width": ""
      }
     },
     "67670215004b4c4d875948b94abc48d9": {
      "model_module": "@jupyter-widgets/controls",
      "model_module_version": "1.5.0",
      "model_name": "DescriptionStyleModel",
      "state": {
       "description_width": ""
      }
     },
     "67b468211809401e8660b68c4a262c6f": {
      "model_module": "@jupyter-widgets/controls",
      "model_module_version": "1.5.0",
      "model_name": "ProgressStyleModel",
      "state": {
       "description_width": ""
      }
     },
     "689b7b2e29a74273bd5bbf2e09c8fa6a": {
      "model_module": "@jupyter-widgets/controls",
      "model_module_version": "1.5.0",
      "model_name": "DescriptionStyleModel",
      "state": {
       "description_width": ""
      }
     },
     "68aac03dffc04e4da3ce44898a656b72": {
      "model_module": "@jupyter-widgets/controls",
      "model_module_version": "1.5.0",
      "model_name": "HBoxModel",
      "state": {
       "children": [
        "IPY_MODEL_1c9de2660f5a47d4871721fcad4569cb",
        "IPY_MODEL_3eb4c895f4614ee6bfaa66c32157f6ae",
        "IPY_MODEL_d1257256c340491cb8e4a2bf6f1ac18d"
       ],
       "layout": "IPY_MODEL_0f3ac0e0882347349b3a18e5e6bc6a6d"
      }
     },
     "692fa96458c84f97a74a239de10c94cb": {
      "model_module": "@jupyter-widgets/base",
      "model_module_version": "1.2.0",
      "model_name": "LayoutModel",
      "state": {}
     },
     "69514eff22f04f20a0fc6c01b3eb7dc5": {
      "model_module": "@jupyter-widgets/controls",
      "model_module_version": "1.5.0",
      "model_name": "HTMLModel",
      "state": {
       "layout": "IPY_MODEL_9a7b5d840b814a8fa10814f8e6d1ee65",
       "style": "IPY_MODEL_46949f67bd7e4befa4bd5f403bf89e62",
       "value": " 100/100 [05:13&lt;00:00, 3.13s/ quotes]"
      }
     },
     "698245c54f2149a28ac0119a37561b1a": {
      "model_module": "@jupyter-widgets/controls",
      "model_module_version": "1.5.0",
      "model_name": "HTMLModel",
      "state": {
       "layout": "IPY_MODEL_8031759adc154c36959eb9d967f5da82",
       "style": "IPY_MODEL_2bb91fc647be473bbcc26f424c6fd527",
       "value": " 100/100 [00:01&lt;00:00, 58.3 quotes/s]"
      }
     },
     "6aa1cc45c9e6457ca1af6b942b5ce3dd": {
      "model_module": "@jupyter-widgets/controls",
      "model_module_version": "1.5.0",
      "model_name": "DescriptionStyleModel",
      "state": {
       "description_width": ""
      }
     },
     "6ade9de83c8f455c899f4901f60760c1": {
      "model_module": "@jupyter-widgets/base",
      "model_module_version": "1.2.0",
      "model_name": "LayoutModel",
      "state": {}
     },
     "6b04b44065ab4de5b9c6de95183ced99": {
      "model_module": "@jupyter-widgets/controls",
      "model_module_version": "1.5.0",
      "model_name": "HTMLModel",
      "state": {
       "layout": "IPY_MODEL_d594ae2b35c544338c3fb807297fedcc",
       "style": "IPY_MODEL_122624f82e1045ac9bdd209b25d7fc2b",
       "value": " 100/100 [00:05&lt;00:00, 17.3 quotes/s]"
      }
     },
     "6b164265acd140ecbdf3a4ec083d5d7b": {
      "model_module": "@jupyter-widgets/controls",
      "model_module_version": "1.5.0",
      "model_name": "ProgressStyleModel",
      "state": {
       "description_width": ""
      }
     },
     "6b81da582c8a4b5193c4e151855dd197": {
      "model_module": "@jupyter-widgets/controls",
      "model_module_version": "1.5.0",
      "model_name": "ProgressStyleModel",
      "state": {
       "description_width": ""
      }
     },
     "6c6fc7dda05441b4b374cd513ef66d40": {
      "model_module": "@jupyter-widgets/controls",
      "model_module_version": "1.5.0",
      "model_name": "HTMLModel",
      "state": {
       "layout": "IPY_MODEL_17c2aa254ef74a49b32faf776dd03b34",
       "style": "IPY_MODEL_fcc125975a2b449596f8d836c5d86889",
       "value": "[Backtest]: 100%"
      }
     },
     "6c7ee9edf40f4d358159f25812f861b4": {
      "model_module": "@jupyter-widgets/controls",
      "model_module_version": "1.5.0",
      "model_name": "ProgressStyleModel",
      "state": {
       "description_width": ""
      }
     },
     "6c9fd3ab76224c18a04a6d7006b98c0f": {
      "model_module": "@jupyter-widgets/base",
      "model_module_version": "1.2.0",
      "model_name": "LayoutModel",
      "state": {}
     },
     "6d223f1518e24bd1958b7d62fdd47cd1": {
      "model_module": "@jupyter-widgets/controls",
      "model_module_version": "1.5.0",
      "model_name": "DescriptionStyleModel",
      "state": {
       "description_width": ""
      }
     },
     "6d639c08292940048ef9f15a2f185a99": {
      "model_module": "@jupyter-widgets/base",
      "model_module_version": "1.2.0",
      "model_name": "LayoutModel",
      "state": {}
     },
     "6da1a1ae4c8e45e49610b97dbf055f56": {
      "model_module": "@jupyter-widgets/controls",
      "model_module_version": "1.5.0",
      "model_name": "FloatProgressModel",
      "state": {
       "bar_style": "success",
       "layout": "IPY_MODEL_8be5682eed134f8a8a51e41f60091dda",
       "style": "IPY_MODEL_cc419e9a2fd04d3ebb47c130a0d5837d",
       "value": 100
      }
     },
     "6ebeeb103bc64c6885a6cdefccea88c1": {
      "model_module": "@jupyter-widgets/controls",
      "model_module_version": "1.5.0",
      "model_name": "DescriptionStyleModel",
      "state": {
       "description_width": ""
      }
     },
     "6f4103f6efc0452ab20d1652469d9a8f": {
      "model_module": "@jupyter-widgets/base",
      "model_module_version": "1.2.0",
      "model_name": "LayoutModel",
      "state": {}
     },
     "6fc33c778a9a42d8af3d107d7de93a64": {
      "model_module": "@jupyter-widgets/controls",
      "model_module_version": "1.5.0",
      "model_name": "HTMLModel",
      "state": {
       "layout": "IPY_MODEL_d9a31421767a464282ef646efe76d79d",
       "style": "IPY_MODEL_becec4db8b0a4f0da40fadb6e19238bc",
       "value": "[Backtest]: 100%"
      }
     },
     "6fcefc39ce254c6ba0ac9c33c87d48e4": {
      "model_module": "@jupyter-widgets/base",
      "model_module_version": "1.2.0",
      "model_name": "LayoutModel",
      "state": {}
     },
     "6ff3938cf69741e29b79e4d6944c4d2b": {
      "model_module": "@jupyter-widgets/controls",
      "model_module_version": "1.5.0",
      "model_name": "DescriptionStyleModel",
      "state": {
       "description_width": ""
      }
     },
     "700db62d69b34cc1a6fc2a99aa131989": {
      "model_module": "@jupyter-widgets/base",
      "model_module_version": "1.2.0",
      "model_name": "LayoutModel",
      "state": {}
     },
     "70bc9b32abfa474a983262eb3956e14d": {
      "model_module": "@jupyter-widgets/controls",
      "model_module_version": "1.5.0",
      "model_name": "HBoxModel",
      "state": {
       "children": [
        "IPY_MODEL_d277a9d0b5c94db79da8747620b3f5b6",
        "IPY_MODEL_1190b0c0ff3b4edab8cb7127ee7878c4",
        "IPY_MODEL_ad64a4c948e54dc5a8ebef90d23637ab"
       ],
       "layout": "IPY_MODEL_0480b86f3aa94cf798a9f6f47871f84e"
      }
     },
     "710d418873c243edabd8f73d20a718c1": {
      "model_module": "@jupyter-widgets/controls",
      "model_module_version": "1.5.0",
      "model_name": "HTMLModel",
      "state": {
       "layout": "IPY_MODEL_13b42792e63d41669245901b3773f524",
       "style": "IPY_MODEL_23d9024c31604933b3609f46c0b11233",
       "value": " 100/100 [00:05&lt;00:00, 17.6 quotes/s]"
      }
     },
     "72e7dad8352b408c90141c62eb13d7c9": {
      "model_module": "@jupyter-widgets/controls",
      "model_module_version": "1.5.0",
      "model_name": "HTMLModel",
      "state": {
       "layout": "IPY_MODEL_4b2c6f3d3307460b9563dbac54288b8a",
       "style": "IPY_MODEL_eeaaba4c44cc46298b3b48d08570fb05",
       "value": " 100/100 [00:01&lt;00:00, 81.6 quotes/s]"
      }
     },
     "730bb46e4a784034b4dbefee882ad9c5": {
      "model_module": "@jupyter-widgets/base",
      "model_module_version": "1.2.0",
      "model_name": "LayoutModel",
      "state": {}
     },
     "7336e80a03a3474dbc500fe3ffe6b1f9": {
      "model_module": "@jupyter-widgets/controls",
      "model_module_version": "1.5.0",
      "model_name": "HTMLModel",
      "state": {
       "layout": "IPY_MODEL_5a31ddcdc4e54bb79367fd07495b7089",
       "style": "IPY_MODEL_ad0c3655cb4244c4821605826590a29c",
       "value": "[Backtest]: 100%"
      }
     },
     "73c0a44c8e21489fb78504ac69ea8d6f": {
      "model_module": "@jupyter-widgets/base",
      "model_module_version": "1.2.0",
      "model_name": "LayoutModel",
      "state": {}
     },
     "7401ea1336694e70809c9a1e0efb73fc": {
      "model_module": "@jupyter-widgets/base",
      "model_module_version": "1.2.0",
      "model_name": "LayoutModel",
      "state": {}
     },
     "74679e255fc846dd983de58dab765ce3": {
      "model_module": "@jupyter-widgets/controls",
      "model_module_version": "1.5.0",
      "model_name": "HBoxModel",
      "state": {
       "children": [
        "IPY_MODEL_a9a1b3c482e148dabc57df82643e80b3",
        "IPY_MODEL_53b249e8a89540e380428155ae6a2f75",
        "IPY_MODEL_ba8ae990097c411985d6e5baf675d365"
       ],
       "layout": "IPY_MODEL_46e045a4c01042c48c6da1cc065658c2"
      }
     },
     "74aa1f021d4c47a2bdcfde274cd44d8b": {
      "model_module": "@jupyter-widgets/controls",
      "model_module_version": "1.5.0",
      "model_name": "ProgressStyleModel",
      "state": {
       "description_width": ""
      }
     },
     "74f79bb737e24fdeab775848665157a0": {
      "model_module": "@jupyter-widgets/controls",
      "model_module_version": "1.5.0",
      "model_name": "DescriptionStyleModel",
      "state": {
       "description_width": ""
      }
     },
     "75417dbeb60d409cb1471048d81f212f": {
      "model_module": "@jupyter-widgets/base",
      "model_module_version": "1.2.0",
      "model_name": "LayoutModel",
      "state": {}
     },
     "75b20fba0270436c89f73286e7d58650": {
      "model_module": "@jupyter-widgets/base",
      "model_module_version": "1.2.0",
      "model_name": "LayoutModel",
      "state": {}
     },
     "75f8721b627e471dbf485c01cf8e01f6": {
      "model_module": "@jupyter-widgets/controls",
      "model_module_version": "1.5.0",
      "model_name": "HBoxModel",
      "state": {
       "children": [
        "IPY_MODEL_0823a8f6e3064cc8a1274795cc2d2f1b",
        "IPY_MODEL_8c2e2e81875646b89b93b6a2a1ada0da",
        "IPY_MODEL_a8f30b0d18ff410fa84a0e63248787cb"
       ],
       "layout": "IPY_MODEL_17fe0e98250d47db919a8c32326f72a1"
      }
     },
     "75fd0993007e464e82875eb6c1d80f36": {
      "model_module": "@jupyter-widgets/base",
      "model_module_version": "1.2.0",
      "model_name": "LayoutModel",
      "state": {}
     },
     "766e38a3f96f4f11b7efd10ebda28723": {
      "model_module": "@jupyter-widgets/base",
      "model_module_version": "1.2.0",
      "model_name": "LayoutModel",
      "state": {}
     },
     "76af8fd231d44f8cb19c9b698511349c": {
      "model_module": "@jupyter-widgets/base",
      "model_module_version": "1.2.0",
      "model_name": "LayoutModel",
      "state": {}
     },
     "773d527a93b24042898deb135957e057": {
      "model_module": "@jupyter-widgets/controls",
      "model_module_version": "1.5.0",
      "model_name": "HTMLModel",
      "state": {
       "layout": "IPY_MODEL_094129a172c64796a4693bb19fa6922e",
       "style": "IPY_MODEL_310076f9e24c4394b6e45fa46676b178",
       "value": " 100/100 [24:54&lt;00:00, 14.9s/ quotes]"
      }
     },
     "77a446edb29b4cccbc3a92d772ab2a08": {
      "model_module": "@jupyter-widgets/base",
      "model_module_version": "1.2.0",
      "model_name": "LayoutModel",
      "state": {}
     },
     "77fce9bbe8d248a0a44ad31f2ab8ef66": {
      "model_module": "@jupyter-widgets/base",
      "model_module_version": "1.2.0",
      "model_name": "LayoutModel",
      "state": {}
     },
     "7838114f6a7a4950a2f8eb8d588a1057": {
      "model_module": "@jupyter-widgets/base",
      "model_module_version": "1.2.0",
      "model_name": "LayoutModel",
      "state": {}
     },
     "78bf336de052446d97f9979c00262200": {
      "model_module": "@jupyter-widgets/controls",
      "model_module_version": "1.5.0",
      "model_name": "DescriptionStyleModel",
      "state": {
       "description_width": ""
      }
     },
     "78c0eb0c6d504e5091136c9e485883fb": {
      "model_module": "@jupyter-widgets/base",
      "model_module_version": "1.2.0",
      "model_name": "LayoutModel",
      "state": {}
     },
     "79a00510065d4046ba3b6ebab22f2a9f": {
      "model_module": "@jupyter-widgets/controls",
      "model_module_version": "1.5.0",
      "model_name": "HTMLModel",
      "state": {
       "layout": "IPY_MODEL_7401ea1336694e70809c9a1e0efb73fc",
       "style": "IPY_MODEL_85e6ed03f6964825a31338de86a0a48f",
       "value": "[Backtest]: 100%"
      }
     },
     "79a5ae610e6141fd82f8238a2518b42e": {
      "model_module": "@jupyter-widgets/controls",
      "model_module_version": "1.5.0",
      "model_name": "FloatProgressModel",
      "state": {
       "bar_style": "success",
       "layout": "IPY_MODEL_82a7d030b9894058b70ca261153c0571",
       "style": "IPY_MODEL_74aa1f021d4c47a2bdcfde274cd44d8b",
       "value": 100
      }
     },
     "7bd985635df24a16abaf1655f77c562b": {
      "model_module": "@jupyter-widgets/controls",
      "model_module_version": "1.5.0",
      "model_name": "ProgressStyleModel",
      "state": {
       "description_width": ""
      }
     },
     "7c764e38c8094ce58f395399821d5a5d": {
      "model_module": "@jupyter-widgets/base",
      "model_module_version": "1.2.0",
      "model_name": "LayoutModel",
      "state": {}
     },
     "7ceade4910fc443abd4d92e39eea6619": {
      "model_module": "@jupyter-widgets/base",
      "model_module_version": "1.2.0",
      "model_name": "LayoutModel",
      "state": {}
     },
     "7d3af75b371246079fe95c29d89f22b5": {
      "model_module": "@jupyter-widgets/base",
      "model_module_version": "1.2.0",
      "model_name": "LayoutModel",
      "state": {}
     },
     "7d5004b05c1d4fa189c615d410631cf7": {
      "model_module": "@jupyter-widgets/controls",
      "model_module_version": "1.5.0",
      "model_name": "HTMLModel",
      "state": {
       "layout": "IPY_MODEL_8637e008fe9c4b70b5bf52d9df8214b0",
       "style": "IPY_MODEL_7eb901bbbb3c46178762bddf5623d5cc",
       "value": " 100/100 [00:07&lt;00:00, 13.9 quotes/s]"
      }
     },
     "7d726e108b464a12892759866c0c750e": {
      "model_module": "@jupyter-widgets/base",
      "model_module_version": "1.2.0",
      "model_name": "LayoutModel",
      "state": {}
     },
     "7dd045630a124e6497aed56d02371c02": {
      "model_module": "@jupyter-widgets/controls",
      "model_module_version": "1.5.0",
      "model_name": "HTMLModel",
      "state": {
       "layout": "IPY_MODEL_48201ab941c84dc69d43e01e56d3c249",
       "style": "IPY_MODEL_a1f04780a8d145f180abf60c15f6a1e4",
       "value": " 100/100 [00:14&lt;00:00, 246 quotes/s]"
      }
     },
     "7e7087960d7d494e917db3498a9c3012": {
      "model_module": "@jupyter-widgets/controls",
      "model_module_version": "1.5.0",
      "model_name": "ProgressStyleModel",
      "state": {
       "description_width": ""
      }
     },
     "7eb901bbbb3c46178762bddf5623d5cc": {
      "model_module": "@jupyter-widgets/controls",
      "model_module_version": "1.5.0",
      "model_name": "DescriptionStyleModel",
      "state": {
       "description_width": ""
      }
     },
     "7f1bf108c17e43319d720c7bd046be03": {
      "model_module": "@jupyter-widgets/controls",
      "model_module_version": "1.5.0",
      "model_name": "DescriptionStyleModel",
      "state": {
       "description_width": ""
      }
     },
     "7f6fe0ac0d5045ba9d456299d88720f7": {
      "model_module": "@jupyter-widgets/controls",
      "model_module_version": "1.5.0",
      "model_name": "DescriptionStyleModel",
      "state": {
       "description_width": ""
      }
     },
     "800b0ef2226f4759b195450e4e8fdd9c": {
      "model_module": "@jupyter-widgets/base",
      "model_module_version": "1.2.0",
      "model_name": "LayoutModel",
      "state": {}
     },
     "8031759adc154c36959eb9d967f5da82": {
      "model_module": "@jupyter-widgets/base",
      "model_module_version": "1.2.0",
      "model_name": "LayoutModel",
      "state": {}
     },
     "8032798d146a425b95ac3b55d3609791": {
      "model_module": "@jupyter-widgets/base",
      "model_module_version": "1.2.0",
      "model_name": "LayoutModel",
      "state": {}
     },
     "809fd1e05ac14061bcaae39191992c33": {
      "model_module": "@jupyter-widgets/controls",
      "model_module_version": "1.5.0",
      "model_name": "HTMLModel",
      "state": {
       "layout": "IPY_MODEL_be8ef05815764df3b90fab1a51afcd26",
       "style": "IPY_MODEL_74f79bb737e24fdeab775848665157a0",
       "value": " 100/100 [00:08&lt;00:00, 11.2 quotes/s]"
      }
     },
     "80a4b99b59354c439fbc5fa8b97f3ad6": {
      "model_module": "@jupyter-widgets/base",
      "model_module_version": "1.2.0",
      "model_name": "LayoutModel",
      "state": {}
     },
     "819c3e47dea04a19bbc16db086cebd39": {
      "model_module": "@jupyter-widgets/controls",
      "model_module_version": "1.5.0",
      "model_name": "HBoxModel",
      "state": {
       "children": [
        "IPY_MODEL_6fc33c778a9a42d8af3d107d7de93a64",
        "IPY_MODEL_5b65db9aa4b243a487379a5fe563fcc1",
        "IPY_MODEL_3590a8c070b44880b646c893d93c050e"
       ],
       "layout": "IPY_MODEL_9aef18bbf02c402eb35c71ebf57bc2fa"
      }
     },
     "820b4ae482604d59b3a47eb9036e9e91": {
      "model_module": "@jupyter-widgets/base",
      "model_module_version": "1.2.0",
      "model_name": "LayoutModel",
      "state": {}
     },
     "82a7d030b9894058b70ca261153c0571": {
      "model_module": "@jupyter-widgets/base",
      "model_module_version": "1.2.0",
      "model_name": "LayoutModel",
      "state": {}
     },
     "82c8499cf09c496e94f51b60dff300ee": {
      "model_module": "@jupyter-widgets/base",
      "model_module_version": "1.2.0",
      "model_name": "LayoutModel",
      "state": {}
     },
     "82cc329c88c040b49c68a8c24d1c38af": {
      "model_module": "@jupyter-widgets/controls",
      "model_module_version": "1.5.0",
      "model_name": "FloatProgressModel",
      "state": {
       "bar_style": "success",
       "layout": "IPY_MODEL_b94ef868a55d48a1a7efa514317b7b79",
       "style": "IPY_MODEL_6b164265acd140ecbdf3a4ec083d5d7b",
       "value": 100
      }
     },
     "8329d749a0ef4b3c91ff755639daeadb": {
      "model_module": "@jupyter-widgets/controls",
      "model_module_version": "1.5.0",
      "model_name": "HTMLModel",
      "state": {
       "layout": "IPY_MODEL_b8f79295f8234e119f47a17cc6ede469",
       "style": "IPY_MODEL_4c6493d6d6114af6953de363dd451475",
       "value": " 100/100 [00:11&lt;00:00, 74.6 quotes/s]"
      }
     },
     "834eb07d366c4f5d952c71e9e306c477": {
      "model_module": "@jupyter-widgets/controls",
      "model_module_version": "1.5.0",
      "model_name": "HBoxModel",
      "state": {
       "children": [
        "IPY_MODEL_94a3d633a79c4c9ea1c60349724023bc",
        "IPY_MODEL_fef2db139b7d4d669556e05006c07428",
        "IPY_MODEL_f8fec60eca404ba1830a37d2a92ae5d8"
       ],
       "layout": "IPY_MODEL_a2390dc852d149cb8cee95eaaf540dab"
      }
     },
     "838d099a9c924103a2379ad2f4da033a": {
      "model_module": "@jupyter-widgets/controls",
      "model_module_version": "1.5.0",
      "model_name": "HTMLModel",
      "state": {
       "layout": "IPY_MODEL_51a475cb8eca4c6a9fa7f425db5c9b11",
       "style": "IPY_MODEL_b4d7df5b35cf4e48b35c43d24050d815",
       "value": "[Backtest]: 100%"
      }
     },
     "83d99fbb1cf84c12880bbc6da8bcef61": {
      "model_module": "@jupyter-widgets/controls",
      "model_module_version": "1.5.0",
      "model_name": "HTMLModel",
      "state": {
       "layout": "IPY_MODEL_3e57e71607574faabbf1feb9578ce498",
       "style": "IPY_MODEL_6746d731f51944998e4e51157ac157c5",
       "value": " 66.7/100 [10:13:01&lt;5:06:30, 552s/ quotes]"
      }
     },
     "83db09637e83432da9409841b6dd5000": {
      "model_module": "@jupyter-widgets/controls",
      "model_module_version": "1.5.0",
      "model_name": "HTMLModel",
      "state": {
       "layout": "IPY_MODEL_76af8fd231d44f8cb19c9b698511349c",
       "style": "IPY_MODEL_8d2296f3809347a79ccba3806abc62be",
       "value": " 100/100 [02:21&lt;00:00, 1.42s/ quotes]"
      }
     },
     "8563468bc8b44b2faf95f21ad6b8ac2c": {
      "model_module": "@jupyter-widgets/controls",
      "model_module_version": "1.5.0",
      "model_name": "ProgressStyleModel",
      "state": {
       "description_width": ""
      }
     },
     "85e6ed03f6964825a31338de86a0a48f": {
      "model_module": "@jupyter-widgets/controls",
      "model_module_version": "1.5.0",
      "model_name": "DescriptionStyleModel",
      "state": {
       "description_width": ""
      }
     },
     "8630bbd9576444f080a35541d1d46046": {
      "model_module": "@jupyter-widgets/base",
      "model_module_version": "1.2.0",
      "model_name": "LayoutModel",
      "state": {}
     },
     "8637e008fe9c4b70b5bf52d9df8214b0": {
      "model_module": "@jupyter-widgets/base",
      "model_module_version": "1.2.0",
      "model_name": "LayoutModel",
      "state": {}
     },
     "86b397293c9543d0ab6d1fd12a5cc32f": {
      "model_module": "@jupyter-widgets/controls",
      "model_module_version": "1.5.0",
      "model_name": "FloatProgressModel",
      "state": {
       "bar_style": "success",
       "layout": "IPY_MODEL_290b20e3e20c4614850f45db381efd0e",
       "style": "IPY_MODEL_bef8e2469f1f4406a52226627602b98a",
       "value": 100
      }
     },
     "8886c3858e17458a97c538296e19c6c1": {
      "model_module": "@jupyter-widgets/base",
      "model_module_version": "1.2.0",
      "model_name": "LayoutModel",
      "state": {}
     },
     "88b9321aa80843e8b33e84845003b357": {
      "model_module": "@jupyter-widgets/base",
      "model_module_version": "1.2.0",
      "model_name": "LayoutModel",
      "state": {}
     },
     "8920afffde3043728c191a489ef28e8e": {
      "model_module": "@jupyter-widgets/controls",
      "model_module_version": "1.5.0",
      "model_name": "HTMLModel",
      "state": {
       "layout": "IPY_MODEL_b8aa89e3794d462d800b686d2e1aa8f0",
       "style": "IPY_MODEL_5fc95ef6ae4f4d4db4b422aa9b1ff80d",
       "value": "[Backtest]: 100%"
      }
     },
     "89358eeb7c624ee789dd83f42c40805b": {
      "model_module": "@jupyter-widgets/controls",
      "model_module_version": "1.5.0",
      "model_name": "HTMLModel",
      "state": {
       "layout": "IPY_MODEL_d11cd100bcda4ccfb55417d1d6db38f0",
       "style": "IPY_MODEL_dc90add152f14d8e941dc265e8181cef",
       "value": "[Backtest]: 100%"
      }
     },
     "899aa06fd66f4abe8676f51795a43348": {
      "model_module": "@jupyter-widgets/base",
      "model_module_version": "1.2.0",
      "model_name": "LayoutModel",
      "state": {}
     },
     "8a836053170643aab4cef9f20e92d0a9": {
      "model_module": "@jupyter-widgets/controls",
      "model_module_version": "1.5.0",
      "model_name": "ProgressStyleModel",
      "state": {
       "description_width": ""
      }
     },
     "8b957f13567b4ff48b7ac5b6125d245f": {
      "model_module": "@jupyter-widgets/controls",
      "model_module_version": "1.5.0",
      "model_name": "HBoxModel",
      "state": {
       "children": [
        "IPY_MODEL_00587a78437a4b3b89bd8deaa8997196",
        "IPY_MODEL_362cd2c67162448da343a75828d34e4e",
        "IPY_MODEL_83d99fbb1cf84c12880bbc6da8bcef61"
       ],
       "layout": "IPY_MODEL_5824f778fcaf43dcbcbce7b6b8502d2b"
      }
     },
     "8be5682eed134f8a8a51e41f60091dda": {
      "model_module": "@jupyter-widgets/base",
      "model_module_version": "1.2.0",
      "model_name": "LayoutModel",
      "state": {}
     },
     "8c0b9579190043dc81ed2e3693ec1563": {
      "model_module": "@jupyter-widgets/controls",
      "model_module_version": "1.5.0",
      "model_name": "ProgressStyleModel",
      "state": {
       "description_width": ""
      }
     },
     "8c2e2e81875646b89b93b6a2a1ada0da": {
      "model_module": "@jupyter-widgets/controls",
      "model_module_version": "1.5.0",
      "model_name": "FloatProgressModel",
      "state": {
       "bar_style": "success",
       "layout": "IPY_MODEL_fa3bc0b837bd4a41b550b6e10514c899",
       "style": "IPY_MODEL_d50445dd72294354b452753fcc4f7082",
       "value": 100
      }
     },
     "8d0ee02bacc84390802948f05f20f41a": {
      "model_module": "@jupyter-widgets/controls",
      "model_module_version": "1.5.0",
      "model_name": "HBoxModel",
      "state": {
       "children": [
        "IPY_MODEL_9f85c9a155f743aea5dc5117399a766c",
        "IPY_MODEL_52c9d9c62bd54abb9a4289f4b1e7585c",
        "IPY_MODEL_556713480f7f4386b5b7733afdb0bba4"
       ],
       "layout": "IPY_MODEL_55c0ca41b6194f979c9866e15e261299"
      }
     },
     "8d2296f3809347a79ccba3806abc62be": {
      "model_module": "@jupyter-widgets/controls",
      "model_module_version": "1.5.0",
      "model_name": "DescriptionStyleModel",
      "state": {
       "description_width": ""
      }
     },
     "8d6f415eddec42919c57f0849055af1d": {
      "model_module": "@jupyter-widgets/controls",
      "model_module_version": "1.5.0",
      "model_name": "FloatProgressModel",
      "state": {
       "bar_style": "success",
       "layout": "IPY_MODEL_5803f2553e754dc48a89fd38dbdea95e",
       "style": "IPY_MODEL_4d62c4e89a7a44049580a903e5e87cb8",
       "value": 100
      }
     },
     "8e82dce189604455972facb48c6b2416": {
      "model_module": "@jupyter-widgets/controls",
      "model_module_version": "1.5.0",
      "model_name": "ProgressStyleModel",
      "state": {
       "description_width": ""
      }
     },
     "8f14ff780aba425588d3d6449963c014": {
      "model_module": "@jupyter-widgets/controls",
      "model_module_version": "1.5.0",
      "model_name": "DescriptionStyleModel",
      "state": {
       "description_width": ""
      }
     },
     "8f225aef4fd841f3a5965301d17fee2b": {
      "model_module": "@jupyter-widgets/controls",
      "model_module_version": "1.5.0",
      "model_name": "FloatProgressModel",
      "state": {
       "bar_style": "success",
       "layout": "IPY_MODEL_7d3af75b371246079fe95c29d89f22b5",
       "style": "IPY_MODEL_d77cb00d276a4bc4a2e27b2922ccd482",
       "value": 100
      }
     },
     "8fc400f89d3449ed8ae5f57b012a7f3b": {
      "model_module": "@jupyter-widgets/controls",
      "model_module_version": "1.5.0",
      "model_name": "ProgressStyleModel",
      "state": {
       "description_width": ""
      }
     },
     "9023d2863fa0495780b461fa6622ba61": {
      "model_module": "@jupyter-widgets/controls",
      "model_module_version": "1.5.0",
      "model_name": "ProgressStyleModel",
      "state": {
       "description_width": ""
      }
     },
     "902eedeb61404e8380b1a42f9058e530": {
      "model_module": "@jupyter-widgets/controls",
      "model_module_version": "1.5.0",
      "model_name": "HTMLModel",
      "state": {
       "layout": "IPY_MODEL_73c0a44c8e21489fb78504ac69ea8d6f",
       "style": "IPY_MODEL_09d8542c0f914b32ab7c6cc17902f58e",
       "value": " 100/100 [00:05&lt;00:00, 16.9 quotes/s]"
      }
     },
     "9042fda9d4954172a2e0298a6b12e5c0": {
      "model_module": "@jupyter-widgets/controls",
      "model_module_version": "1.5.0",
      "model_name": "HTMLModel",
      "state": {
       "layout": "IPY_MODEL_80a4b99b59354c439fbc5fa8b97f3ad6",
       "style": "IPY_MODEL_3fa2205b868c422484126d1bbd3a1f92",
       "value": "[Backtest]: 100%"
      }
     },
     "90cf11063a564fc4aa8445ecc2a27474": {
      "model_module": "@jupyter-widgets/controls",
      "model_module_version": "1.5.0",
      "model_name": "ProgressStyleModel",
      "state": {
       "description_width": ""
      }
     },
     "9107eaecab0f43ffaa0c964d26ddcab0": {
      "model_module": "@jupyter-widgets/base",
      "model_module_version": "1.2.0",
      "model_name": "LayoutModel",
      "state": {}
     },
     "914064f5f0924d319f0223918753558a": {
      "model_module": "@jupyter-widgets/controls",
      "model_module_version": "1.5.0",
      "model_name": "DescriptionStyleModel",
      "state": {
       "description_width": ""
      }
     },
     "91b282d1a53c4e8ab5bfee17ea008911": {
      "model_module": "@jupyter-widgets/controls",
      "model_module_version": "1.5.0",
      "model_name": "DescriptionStyleModel",
      "state": {
       "description_width": ""
      }
     },
     "92360a0a056c499a98817f6e4825fbac": {
      "model_module": "@jupyter-widgets/base",
      "model_module_version": "1.2.0",
      "model_name": "LayoutModel",
      "state": {}
     },
     "9249940a825f44f8965c40bb2ffdb5ac": {
      "model_module": "@jupyter-widgets/controls",
      "model_module_version": "1.5.0",
      "model_name": "FloatProgressModel",
      "state": {
       "bar_style": "success",
       "layout": "IPY_MODEL_551bc18d5d63472191b139bb99ef6598",
       "style": "IPY_MODEL_8a836053170643aab4cef9f20e92d0a9",
       "value": 100
      }
     },
     "927e13a683f84cc39ae210c47badd62c": {
      "model_module": "@jupyter-widgets/controls",
      "model_module_version": "1.5.0",
      "model_name": "HBoxModel",
      "state": {
       "children": [
        "IPY_MODEL_ed56a35588894fc3892a67abf4485338",
        "IPY_MODEL_8d6f415eddec42919c57f0849055af1d",
        "IPY_MODEL_2f4eea1017004ae38a0dae4761c90b7b"
       ],
       "layout": "IPY_MODEL_d66e8de789ac42af951567ca71c1ce4c"
      }
     },
     "9342f6344d494d0eb87d9486e0327f8c": {
      "model_module": "@jupyter-widgets/controls",
      "model_module_version": "1.5.0",
      "model_name": "HBoxModel",
      "state": {
       "children": [
        "IPY_MODEL_b712bee18f3943bfa27a45730e6317d6",
        "IPY_MODEL_457d7f55a19f4a95be2162bca9da4109",
        "IPY_MODEL_2748d776574640dc9da24de3193ff361"
       ],
       "layout": "IPY_MODEL_6681c31f51234021a5a559c21cdfa3ee"
      }
     },
     "945f1a10ff90445995bf36018a6e6bab": {
      "model_module": "@jupyter-widgets/controls",
      "model_module_version": "1.5.0",
      "model_name": "HBoxModel",
      "state": {
       "children": [
        "IPY_MODEL_89358eeb7c624ee789dd83f42c40805b",
        "IPY_MODEL_a98bfe7fa03b4f1286b6dec5f1882528",
        "IPY_MODEL_d3f365b339f3453ca76bf3dc1efd9df6"
       ],
       "layout": "IPY_MODEL_507ecc5221f94b2d8fb971abd6f90a6b"
      }
     },
     "94a3d633a79c4c9ea1c60349724023bc": {
      "model_module": "@jupyter-widgets/controls",
      "model_module_version": "1.5.0",
      "model_name": "HTMLModel",
      "state": {
       "layout": "IPY_MODEL_bb71b476bb6a41e18fcafd6935453913",
       "style": "IPY_MODEL_49a21ae37e1e46d2bfa0dcdac8bc139b",
       "value": "[Backtest]: 100%"
      }
     },
     "94e8869610404495a5c1f67e4898c1e7": {
      "model_module": "@jupyter-widgets/controls",
      "model_module_version": "1.5.0",
      "model_name": "ProgressStyleModel",
      "state": {
       "description_width": ""
      }
     },
     "958d6d7185bc4437b7b9477e21272ffe": {
      "model_module": "@jupyter-widgets/controls",
      "model_module_version": "1.5.0",
      "model_name": "FloatProgressModel",
      "state": {
       "bar_style": "success",
       "layout": "IPY_MODEL_f78cbe31f9f04bb39eebe54ee907ec49",
       "style": "IPY_MODEL_c4ad379dacf54e3192965eb4d6f890da",
       "value": 100
      }
     },
     "9641ff7e50c44afc815c0628c5c17aa0": {
      "model_module": "@jupyter-widgets/controls",
      "model_module_version": "1.5.0",
      "model_name": "DescriptionStyleModel",
      "state": {
       "description_width": ""
      }
     },
     "9688eda7afc2476a96b4c418a70f8c25": {
      "model_module": "@jupyter-widgets/controls",
      "model_module_version": "1.5.0",
      "model_name": "HTMLModel",
      "state": {
       "layout": "IPY_MODEL_318870d8fdb44500bf024696236e8c6e",
       "style": "IPY_MODEL_642fd4d515e4406cbe4bf878531e21c9",
       "value": "[Backtest]: 100%"
      }
     },
     "96e98fb0bc77449fb5755b2adcfd5c4a": {
      "model_module": "@jupyter-widgets/controls",
      "model_module_version": "1.5.0",
      "model_name": "HTMLModel",
      "state": {
       "layout": "IPY_MODEL_0c75becc27824f3f8fd89211c327e314",
       "style": "IPY_MODEL_0edddaae60c3457894f64bb86541de27",
       "value": "[Backtest]: 100%"
      }
     },
     "972087253b2e4106a42c9bda12315c49": {
      "model_module": "@jupyter-widgets/controls",
      "model_module_version": "1.5.0",
      "model_name": "DescriptionStyleModel",
      "state": {
       "description_width": ""
      }
     },
     "97a70110098e44ad9b639de2321fe25a": {
      "model_module": "@jupyter-widgets/controls",
      "model_module_version": "1.5.0",
      "model_name": "HBoxModel",
      "state": {
       "children": [
        "IPY_MODEL_99753aa234a04766b088926d73c1b571",
        "IPY_MODEL_44c173b0bd454f60b3db323a35fdb51a",
        "IPY_MODEL_4329038b25df491aa71fd807723dd971"
       ],
       "layout": "IPY_MODEL_df02181593884a7497da76fcb8d07a61"
      }
     },
     "98ed021b2d4c4e2b82fa7b5a629b0f5f": {
      "model_module": "@jupyter-widgets/controls",
      "model_module_version": "1.5.0",
      "model_name": "HBoxModel",
      "state": {
       "children": [
        "IPY_MODEL_2cbf0495a64945739cafa4f111a61f3d",
        "IPY_MODEL_2fb985d12e6a41f8afdfeb664d0e3346",
        "IPY_MODEL_2ed7be11b6714f1b9c1a65a0e2906b3a"
       ],
       "layout": "IPY_MODEL_2a8fcb2088dd4093997d2e55705ad244"
      }
     },
     "99753aa234a04766b088926d73c1b571": {
      "model_module": "@jupyter-widgets/controls",
      "model_module_version": "1.5.0",
      "model_name": "HTMLModel",
      "state": {
       "layout": "IPY_MODEL_e87f44626e4c412dbf5e038136ac6dd2",
       "style": "IPY_MODEL_2fd2f08ffc3a4bb9b42bedaceb379b8f",
       "value": "[Backtest]: 100%"
      }
     },
     "99b3f1bd52704755a7b82bcb6d618cb6": {
      "model_module": "@jupyter-widgets/base",
      "model_module_version": "1.2.0",
      "model_name": "LayoutModel",
      "state": {}
     },
     "9a7b5d840b814a8fa10814f8e6d1ee65": {
      "model_module": "@jupyter-widgets/base",
      "model_module_version": "1.2.0",
      "model_name": "LayoutModel",
      "state": {}
     },
     "9aef18bbf02c402eb35c71ebf57bc2fa": {
      "model_module": "@jupyter-widgets/base",
      "model_module_version": "1.2.0",
      "model_name": "LayoutModel",
      "state": {}
     },
     "9b5f3bf88b204821aecd6fc338e2162d": {
      "model_module": "@jupyter-widgets/base",
      "model_module_version": "1.2.0",
      "model_name": "LayoutModel",
      "state": {}
     },
     "9cf06120bf90481ca03ff725d5cb78a7": {
      "model_module": "@jupyter-widgets/controls",
      "model_module_version": "1.5.0",
      "model_name": "FloatProgressModel",
      "state": {
       "bar_style": "success",
       "layout": "IPY_MODEL_c42bbfd5c182465183c78e2ca829e928",
       "style": "IPY_MODEL_e2fa120e34e44d20803ebcc087c6d243",
       "value": 100
      }
     },
     "9dbaae401b474a5797680aeb4500326a": {
      "model_module": "@jupyter-widgets/controls",
      "model_module_version": "1.5.0",
      "model_name": "HBoxModel",
      "state": {
       "children": [
        "IPY_MODEL_058353d11d3c4da1a04185e8737a51cf",
        "IPY_MODEL_79a5ae610e6141fd82f8238a2518b42e",
        "IPY_MODEL_3d958a947abe4b03ac6224b5d0620bf7"
       ],
       "layout": "IPY_MODEL_a6548fea43454d27be5c158053aca95b"
      }
     },
     "9e67ee986946496db03c64b3aa0aa612": {
      "model_module": "@jupyter-widgets/controls",
      "model_module_version": "1.5.0",
      "model_name": "ProgressStyleModel",
      "state": {
       "description_width": ""
      }
     },
     "9e8e918456384918872eb976a391d00b": {
      "model_module": "@jupyter-widgets/base",
      "model_module_version": "1.2.0",
      "model_name": "LayoutModel",
      "state": {}
     },
     "9e91452c11004a519644f23d5b4bdb5b": {
      "model_module": "@jupyter-widgets/base",
      "model_module_version": "1.2.0",
      "model_name": "LayoutModel",
      "state": {}
     },
     "9ed38a5ee5c84080ab14ac05dccf3f79": {
      "model_module": "@jupyter-widgets/controls",
      "model_module_version": "1.5.0",
      "model_name": "FloatProgressModel",
      "state": {
       "bar_style": "success",
       "layout": "IPY_MODEL_07967614aca84c569d0c1b5bdd080b32",
       "style": "IPY_MODEL_650629bd8aa84768bbc026d63b5aa73d",
       "value": 100
      }
     },
     "9ede51a02a264963a41b875edd419c85": {
      "model_module": "@jupyter-widgets/base",
      "model_module_version": "1.2.0",
      "model_name": "LayoutModel",
      "state": {}
     },
     "9ee614e146c04cfb83dbea17a7c4fdb4": {
      "model_module": "@jupyter-widgets/base",
      "model_module_version": "1.2.0",
      "model_name": "LayoutModel",
      "state": {}
     },
     "9efbaeb18e35449a9e4b04f68450fd24": {
      "model_module": "@jupyter-widgets/controls",
      "model_module_version": "1.5.0",
      "model_name": "DescriptionStyleModel",
      "state": {
       "description_width": ""
      }
     },
     "9f0a49215d8d459ba61b27fba33ffae9": {
      "model_module": "@jupyter-widgets/base",
      "model_module_version": "1.2.0",
      "model_name": "LayoutModel",
      "state": {}
     },
     "9f85c9a155f743aea5dc5117399a766c": {
      "model_module": "@jupyter-widgets/controls",
      "model_module_version": "1.5.0",
      "model_name": "HTMLModel",
      "state": {
       "layout": "IPY_MODEL_482346975b6f42af93c95eeb3dee066d",
       "style": "IPY_MODEL_9f8a15bd64924a2a8c9902fe960053b8",
       "value": "[Backtest]: 100%"
      }
     },
     "9f8a15bd64924a2a8c9902fe960053b8": {
      "model_module": "@jupyter-widgets/controls",
      "model_module_version": "1.5.0",
      "model_name": "DescriptionStyleModel",
      "state": {
       "description_width": ""
      }
     },
     "9f940f91484e4decaac6944c28f94261": {
      "model_module": "@jupyter-widgets/controls",
      "model_module_version": "1.5.0",
      "model_name": "HTMLModel",
      "state": {
       "layout": "IPY_MODEL_abcb6107478f4fbdb9e782eeeb313162",
       "style": "IPY_MODEL_d1f0433e939540e88acb8d1c962498ff",
       "value": " 100/100 [19:41&lt;00:00, 11.8s/ quotes]"
      }
     },
     "a08c8bc863ac4d8d802b301d8d218d14": {
      "model_module": "@jupyter-widgets/base",
      "model_module_version": "1.2.0",
      "model_name": "LayoutModel",
      "state": {}
     },
     "a0f8e63dcead4fc5ba563ad1d1d8e19a": {
      "model_module": "@jupyter-widgets/controls",
      "model_module_version": "1.5.0",
      "model_name": "FloatProgressModel",
      "state": {
       "bar_style": "success",
       "layout": "IPY_MODEL_b99d877e8a8c46a09ffd97fed442ebfb",
       "style": "IPY_MODEL_9023d2863fa0495780b461fa6622ba61",
       "value": 100
      }
     },
     "a1ac35d5ede54a7fa4745df7672b9fe1": {
      "model_module": "@jupyter-widgets/base",
      "model_module_version": "1.2.0",
      "model_name": "LayoutModel",
      "state": {}
     },
     "a1f04780a8d145f180abf60c15f6a1e4": {
      "model_module": "@jupyter-widgets/controls",
      "model_module_version": "1.5.0",
      "model_name": "DescriptionStyleModel",
      "state": {
       "description_width": ""
      }
     },
     "a2390dc852d149cb8cee95eaaf540dab": {
      "model_module": "@jupyter-widgets/base",
      "model_module_version": "1.2.0",
      "model_name": "LayoutModel",
      "state": {}
     },
     "a2971a88a2184e1d9ab963c5cf33d944": {
      "model_module": "@jupyter-widgets/controls",
      "model_module_version": "1.5.0",
      "model_name": "DescriptionStyleModel",
      "state": {
       "description_width": ""
      }
     },
     "a2f788c8c753435c9bc97650e2a5c2c6": {
      "model_module": "@jupyter-widgets/base",
      "model_module_version": "1.2.0",
      "model_name": "LayoutModel",
      "state": {}
     },
     "a367b320c53743158d84714990ce3d95": {
      "model_module": "@jupyter-widgets/controls",
      "model_module_version": "1.5.0",
      "model_name": "HBoxModel",
      "state": {
       "children": [
        "IPY_MODEL_39e0161317fb400f8ffd43382776fc6e",
        "IPY_MODEL_f297bcd485ba44d7897eeb721ea165ef",
        "IPY_MODEL_fe16c4b1b2ec49ae8a8245ca0f58731d"
       ],
       "layout": "IPY_MODEL_7ceade4910fc443abd4d92e39eea6619"
      }
     },
     "a3b883c43218488fbde88e6074569bbd": {
      "model_module": "@jupyter-widgets/controls",
      "model_module_version": "1.5.0",
      "model_name": "HBoxModel",
      "state": {
       "children": [
        "IPY_MODEL_9688eda7afc2476a96b4c418a70f8c25",
        "IPY_MODEL_60e0eef6c5b7406ca23fd84ae58e79cb",
        "IPY_MODEL_a4e9033fc2d94507b54666943cd79012"
       ],
       "layout": "IPY_MODEL_3d4afb97b64a4ea9bf701103d7e16fea"
      }
     },
     "a462b67e6bb2442aa118cc81cca43001": {
      "model_module": "@jupyter-widgets/base",
      "model_module_version": "1.2.0",
      "model_name": "LayoutModel",
      "state": {}
     },
     "a48b47aa58ad4b57ab99540542d46af5": {
      "model_module": "@jupyter-widgets/controls",
      "model_module_version": "1.5.0",
      "model_name": "HTMLModel",
      "state": {
       "layout": "IPY_MODEL_080ac703a28d45cc8bf64753df322ab4",
       "style": "IPY_MODEL_6ff3938cf69741e29b79e4d6944c4d2b",
       "value": "[Backtest]: 100%"
      }
     },
     "a4c09a18a7834711900dd8a85289c5d5": {
      "model_module": "@jupyter-widgets/base",
      "model_module_version": "1.2.0",
      "model_name": "LayoutModel",
      "state": {}
     },
     "a4e9033fc2d94507b54666943cd79012": {
      "model_module": "@jupyter-widgets/controls",
      "model_module_version": "1.5.0",
      "model_name": "HTMLModel",
      "state": {
       "layout": "IPY_MODEL_535b3560d4404b3b805bff8fd247b8f5",
       "style": "IPY_MODEL_3aa3e31f83cd4fa0be63d177df9787f2",
       "value": " 100/100 [00:01&lt;00:00, 61.9 quotes/s]"
      }
     },
     "a6548fea43454d27be5c158053aca95b": {
      "model_module": "@jupyter-widgets/base",
      "model_module_version": "1.2.0",
      "model_name": "LayoutModel",
      "state": {}
     },
     "a6a5069bae844846b6d73b0222cd33b6": {
      "model_module": "@jupyter-widgets/controls",
      "model_module_version": "1.5.0",
      "model_name": "ProgressStyleModel",
      "state": {
       "description_width": ""
      }
     },
     "a6efff7157714b929e330fd9ed1aba6f": {
      "model_module": "@jupyter-widgets/controls",
      "model_module_version": "1.5.0",
      "model_name": "DescriptionStyleModel",
      "state": {
       "description_width": ""
      }
     },
     "a6fa3b8baa7b4790bf5663c757a13168": {
      "model_module": "@jupyter-widgets/base",
      "model_module_version": "1.2.0",
      "model_name": "LayoutModel",
      "state": {}
     },
     "a7f1bb04581d4910875ae49735103887": {
      "model_module": "@jupyter-widgets/controls",
      "model_module_version": "1.5.0",
      "model_name": "HBoxModel",
      "state": {
       "children": [
        "IPY_MODEL_232f1aa32c1e45bc865db09ba1572af6",
        "IPY_MODEL_1d284a038c17486d99860b61b9798df8",
        "IPY_MODEL_e9b561948f4d4f3ea1d62fd12548c676"
       ],
       "layout": "IPY_MODEL_0de4cbee70574c56adc83b5a51b8310c"
      }
     },
     "a8002a29210048a9bb3dfe74683dccdb": {
      "model_module": "@jupyter-widgets/controls",
      "model_module_version": "1.5.0",
      "model_name": "DescriptionStyleModel",
      "state": {
       "description_width": ""
      }
     },
     "a8ba7f96d551448abbb433bc3114b6e4": {
      "model_module": "@jupyter-widgets/controls",
      "model_module_version": "1.5.0",
      "model_name": "ProgressStyleModel",
      "state": {
       "description_width": ""
      }
     },
     "a8f30b0d18ff410fa84a0e63248787cb": {
      "model_module": "@jupyter-widgets/controls",
      "model_module_version": "1.5.0",
      "model_name": "HTMLModel",
      "state": {
       "layout": "IPY_MODEL_ed3f44abf18b447dbb8c29f8a62c7004",
       "style": "IPY_MODEL_6d223f1518e24bd1958b7d62fdd47cd1",
       "value": " 100/100 [00:07&lt;00:00, 14.2 quotes/s]"
      }
     },
     "a9261d4863bd42edb29298d9b5bf4142": {
      "model_module": "@jupyter-widgets/controls",
      "model_module_version": "1.5.0",
      "model_name": "DescriptionStyleModel",
      "state": {
       "description_width": ""
      }
     },
     "a97e87aabcb94f8bbe3382fda20bb2bd": {
      "model_module": "@jupyter-widgets/base",
      "model_module_version": "1.2.0",
      "model_name": "LayoutModel",
      "state": {}
     },
     "a98bfe7fa03b4f1286b6dec5f1882528": {
      "model_module": "@jupyter-widgets/controls",
      "model_module_version": "1.5.0",
      "model_name": "FloatProgressModel",
      "state": {
       "bar_style": "success",
       "layout": "IPY_MODEL_a2f788c8c753435c9bc97650e2a5c2c6",
       "style": "IPY_MODEL_57b1de3527b74da19187382f189675c7",
       "value": 100
      }
     },
     "a9a1b3c482e148dabc57df82643e80b3": {
      "model_module": "@jupyter-widgets/controls",
      "model_module_version": "1.5.0",
      "model_name": "HTMLModel",
      "state": {
       "layout": "IPY_MODEL_fc47feb190a5421981b1c02f478d92d3",
       "style": "IPY_MODEL_3a4c3e5e57c44b949c709f4395eb0456",
       "value": "[Backtest]: 100%"
      }
     },
     "aa7f6e77a6ff418aaa10fd3623886692": {
      "model_module": "@jupyter-widgets/base",
      "model_module_version": "1.2.0",
      "model_name": "LayoutModel",
      "state": {}
     },
     "aaae92cf874a427696bd98a9b2c09053": {
      "model_module": "@jupyter-widgets/controls",
      "model_module_version": "1.5.0",
      "model_name": "ProgressStyleModel",
      "state": {
       "description_width": ""
      }
     },
     "aab3215e75194ae9a8b020eeac36f9ef": {
      "model_module": "@jupyter-widgets/controls",
      "model_module_version": "1.5.0",
      "model_name": "DescriptionStyleModel",
      "state": {
       "description_width": ""
      }
     },
     "ab557e16ae3f4b51b6f94c9e51cf5d75": {
      "model_module": "@jupyter-widgets/controls",
      "model_module_version": "1.5.0",
      "model_name": "HTMLModel",
      "state": {
       "layout": "IPY_MODEL_0d99526b978d49039f8f952c231c49b4",
       "style": "IPY_MODEL_addc8d72b6f74a0faf6603a3a0d1c420",
       "value": "[Backtest]: 100%"
      }
     },
     "abcb6107478f4fbdb9e782eeeb313162": {
      "model_module": "@jupyter-widgets/base",
      "model_module_version": "1.2.0",
      "model_name": "LayoutModel",
      "state": {}
     },
     "ac97a0eb40ca4c21aaa79e57c7a9e765": {
      "model_module": "@jupyter-widgets/controls",
      "model_module_version": "1.5.0",
      "model_name": "ProgressStyleModel",
      "state": {
       "description_width": ""
      }
     },
     "ad0c3655cb4244c4821605826590a29c": {
      "model_module": "@jupyter-widgets/controls",
      "model_module_version": "1.5.0",
      "model_name": "DescriptionStyleModel",
      "state": {
       "description_width": ""
      }
     },
     "ad64a4c948e54dc5a8ebef90d23637ab": {
      "model_module": "@jupyter-widgets/controls",
      "model_module_version": "1.5.0",
      "model_name": "HTMLModel",
      "state": {
       "layout": "IPY_MODEL_347fdff3cfa04174811acae1d2a1236f",
       "style": "IPY_MODEL_d0e94a02e51443b4bba5945ad2facb83",
       "value": " 100/100 [25:00&lt;00:00, 15.0s/ quotes]"
      }
     },
     "addc8d72b6f74a0faf6603a3a0d1c420": {
      "model_module": "@jupyter-widgets/controls",
      "model_module_version": "1.5.0",
      "model_name": "DescriptionStyleModel",
      "state": {
       "description_width": ""
      }
     },
     "ae27bd6de8cd4f81893a6c067e641e61": {
      "model_module": "@jupyter-widgets/base",
      "model_module_version": "1.2.0",
      "model_name": "LayoutModel",
      "state": {}
     },
     "ae61f7f040fa4e7b91c58c61bf795e40": {
      "model_module": "@jupyter-widgets/controls",
      "model_module_version": "1.5.0",
      "model_name": "ProgressStyleModel",
      "state": {
       "description_width": ""
      }
     },
     "af17b64931804af391fd954cddd06153": {
      "model_module": "@jupyter-widgets/base",
      "model_module_version": "1.2.0",
      "model_name": "LayoutModel",
      "state": {}
     },
     "b05e83f106734fd49fe983766107bbb8": {
      "model_module": "@jupyter-widgets/base",
      "model_module_version": "1.2.0",
      "model_name": "LayoutModel",
      "state": {}
     },
     "b35b0893e8bc4bf3860a8bd3d110a603": {
      "model_module": "@jupyter-widgets/controls",
      "model_module_version": "1.5.0",
      "model_name": "FloatProgressModel",
      "state": {
       "layout": "IPY_MODEL_2c0c3fc96c804c408bcbb11c84e5dfc3",
       "style": "IPY_MODEL_8563468bc8b44b2faf95f21ad6b8ac2c",
       "value": 100
      }
     },
     "b376139ecf944965ae95b6eddeecb619": {
      "model_module": "@jupyter-widgets/controls",
      "model_module_version": "1.5.0",
      "model_name": "FloatProgressModel",
      "state": {
       "layout": "IPY_MODEL_5a40eabc0e9b420891e035b1a59b580a",
       "style": "IPY_MODEL_3dc9f2d5bea942fda5a73844dd6ee79e",
       "value": 100
      }
     },
     "b3e1bfebb1244a0a9b6f918117518402": {
      "model_module": "@jupyter-widgets/controls",
      "model_module_version": "1.5.0",
      "model_name": "DescriptionStyleModel",
      "state": {
       "description_width": ""
      }
     },
     "b412fb16206c42a1a81deb5d074ec06f": {
      "model_module": "@jupyter-widgets/controls",
      "model_module_version": "1.5.0",
      "model_name": "DescriptionStyleModel",
      "state": {
       "description_width": ""
      }
     },
     "b44bd998c6464cd0a81cf0ecb0adb3ea": {
      "model_module": "@jupyter-widgets/controls",
      "model_module_version": "1.5.0",
      "model_name": "HTMLModel",
      "state": {
       "layout": "IPY_MODEL_d32485a9c51f4ca99279276927b392c8",
       "style": "IPY_MODEL_9efbaeb18e35449a9e4b04f68450fd24",
       "value": "[Backtest]: 100%"
      }
     },
     "b4d7df5b35cf4e48b35c43d24050d815": {
      "model_module": "@jupyter-widgets/controls",
      "model_module_version": "1.5.0",
      "model_name": "DescriptionStyleModel",
      "state": {
       "description_width": ""
      }
     },
     "b6445d3359ca4c55a97b5bb56baa9a71": {
      "model_module": "@jupyter-widgets/controls",
      "model_module_version": "1.5.0",
      "model_name": "HBoxModel",
      "state": {
       "children": [
        "IPY_MODEL_eae4c07fe5bc4f6890dc99256dd96574",
        "IPY_MODEL_06c5848ac5d046a185a1678bfbcd5468",
        "IPY_MODEL_379288a910bd452aa80f502348b15399"
       ],
       "layout": "IPY_MODEL_a4c09a18a7834711900dd8a85289c5d5"
      }
     },
     "b68748be96a74ffa8b86cf807b4a2e7a": {
      "model_module": "@jupyter-widgets/controls",
      "model_module_version": "1.5.0",
      "model_name": "DescriptionStyleModel",
      "state": {
       "description_width": ""
      }
     },
     "b712bee18f3943bfa27a45730e6317d6": {
      "model_module": "@jupyter-widgets/controls",
      "model_module_version": "1.5.0",
      "model_name": "HTMLModel",
      "state": {
       "layout": "IPY_MODEL_fe8bfb2c0aad455a961c445b2d93adee",
       "style": "IPY_MODEL_275f74b8adeb4c4e9e77f0334b06a3ed",
       "value": "[Backtest]: 100%"
      }
     },
     "b781b691cb324310a461db90b7555781": {
      "model_module": "@jupyter-widgets/controls",
      "model_module_version": "1.5.0",
      "model_name": "FloatProgressModel",
      "state": {
       "bar_style": "success",
       "layout": "IPY_MODEL_e7315412cc684444ba4138d8adfb9cce",
       "style": "IPY_MODEL_522823c33f1146c7a9ae1d9aff3e80c9",
       "value": 100
      }
     },
     "b79f42b461904f03be75a3e1a4666447": {
      "model_module": "@jupyter-widgets/base",
      "model_module_version": "1.2.0",
      "model_name": "LayoutModel",
      "state": {}
     },
     "b89167bf586b4a08b5d3bb723863165d": {
      "model_module": "@jupyter-widgets/controls",
      "model_module_version": "1.5.0",
      "model_name": "HTMLModel",
      "state": {
       "layout": "IPY_MODEL_c423920755f3474fa49abeb74ba6b14d",
       "style": "IPY_MODEL_914064f5f0924d319f0223918753558a",
       "value": "[Backtest]: 100%"
      }
     },
     "b8aa89e3794d462d800b686d2e1aa8f0": {
      "model_module": "@jupyter-widgets/base",
      "model_module_version": "1.2.0",
      "model_name": "LayoutModel",
      "state": {}
     },
     "b8f79295f8234e119f47a17cc6ede469": {
      "model_module": "@jupyter-widgets/base",
      "model_module_version": "1.2.0",
      "model_name": "LayoutModel",
      "state": {}
     },
     "b91c13edf64c405ea6139ec5c5bead4c": {
      "model_module": "@jupyter-widgets/controls",
      "model_module_version": "1.5.0",
      "model_name": "ProgressStyleModel",
      "state": {
       "description_width": ""
      }
     },
     "b91ce431c793461382c1e0a4b43e01e4": {
      "model_module": "@jupyter-widgets/controls",
      "model_module_version": "1.5.0",
      "model_name": "ProgressStyleModel",
      "state": {
       "description_width": ""
      }
     },
     "b94ef868a55d48a1a7efa514317b7b79": {
      "model_module": "@jupyter-widgets/base",
      "model_module_version": "1.2.0",
      "model_name": "LayoutModel",
      "state": {}
     },
     "b96c57688c6a4a888195b111515cf358": {
      "model_module": "@jupyter-widgets/controls",
      "model_module_version": "1.5.0",
      "model_name": "DescriptionStyleModel",
      "state": {
       "description_width": ""
      }
     },
     "b99d877e8a8c46a09ffd97fed442ebfb": {
      "model_module": "@jupyter-widgets/base",
      "model_module_version": "1.2.0",
      "model_name": "LayoutModel",
      "state": {}
     },
     "ba28c7ab447341d6af0bbb28d823d631": {
      "model_module": "@jupyter-widgets/base",
      "model_module_version": "1.2.0",
      "model_name": "LayoutModel",
      "state": {}
     },
     "ba8ae990097c411985d6e5baf675d365": {
      "model_module": "@jupyter-widgets/controls",
      "model_module_version": "1.5.0",
      "model_name": "HTMLModel",
      "state": {
       "layout": "IPY_MODEL_1940bd1f9cc14fb9a61a9c644d21b307",
       "style": "IPY_MODEL_689b7b2e29a74273bd5bbf2e09c8fa6a",
       "value": " 100/100 [00:05&lt;00:00, 17.3 quotes/s]"
      }
     },
     "bb71b476bb6a41e18fcafd6935453913": {
      "model_module": "@jupyter-widgets/base",
      "model_module_version": "1.2.0",
      "model_name": "LayoutModel",
      "state": {}
     },
     "bb94d3679e0a4b2eab78e4cbc5a2965f": {
      "model_module": "@jupyter-widgets/controls",
      "model_module_version": "1.5.0",
      "model_name": "HTMLModel",
      "state": {
       "layout": "IPY_MODEL_e779dcf996d642a1a335c1991e2a0a55",
       "style": "IPY_MODEL_7f6fe0ac0d5045ba9d456299d88720f7",
       "value": " 100/100 [00:02&lt;00:00, 49.3 quotes/s]"
      }
     },
     "bc620182803344838dbbfa9559fa6c72": {
      "model_module": "@jupyter-widgets/base",
      "model_module_version": "1.2.0",
      "model_name": "LayoutModel",
      "state": {}
     },
     "bcd2a087f74d4e7c8310591fc2b44ace": {
      "model_module": "@jupyter-widgets/controls",
      "model_module_version": "1.5.0",
      "model_name": "HTMLModel",
      "state": {
       "layout": "IPY_MODEL_f6ddf3ac65314bc4a2458f5cb51b4848",
       "style": "IPY_MODEL_a9261d4863bd42edb29298d9b5bf4142",
       "value": "[Backtest]: 100%"
      }
     },
     "bd04a81d6ab94261b2cab3b62c4cad2d": {
      "model_module": "@jupyter-widgets/base",
      "model_module_version": "1.2.0",
      "model_name": "LayoutModel",
      "state": {}
     },
     "bd271cf62a594c34ae73386b1849cd4a": {
      "model_module": "@jupyter-widgets/controls",
      "model_module_version": "1.5.0",
      "model_name": "DescriptionStyleModel",
      "state": {
       "description_width": ""
      }
     },
     "bd6b61743eb14bb7b4ad863d76d56dce": {
      "model_module": "@jupyter-widgets/controls",
      "model_module_version": "1.5.0",
      "model_name": "DescriptionStyleModel",
      "state": {
       "description_width": ""
      }
     },
     "bdb048699de143188d4a457367860d45": {
      "model_module": "@jupyter-widgets/controls",
      "model_module_version": "1.5.0",
      "model_name": "HTMLModel",
      "state": {
       "layout": "IPY_MODEL_8032798d146a425b95ac3b55d3609791",
       "style": "IPY_MODEL_7f1bf108c17e43319d720c7bd046be03",
       "value": "[Backtest]: 100%"
      }
     },
     "be8ef05815764df3b90fab1a51afcd26": {
      "model_module": "@jupyter-widgets/base",
      "model_module_version": "1.2.0",
      "model_name": "LayoutModel",
      "state": {}
     },
     "becec4db8b0a4f0da40fadb6e19238bc": {
      "model_module": "@jupyter-widgets/controls",
      "model_module_version": "1.5.0",
      "model_name": "DescriptionStyleModel",
      "state": {
       "description_width": ""
      }
     },
     "bef8e2469f1f4406a52226627602b98a": {
      "model_module": "@jupyter-widgets/controls",
      "model_module_version": "1.5.0",
      "model_name": "ProgressStyleModel",
      "state": {
       "description_width": ""
      }
     },
     "c3d11e4a60cf43eda81c863f1ee07fd0": {
      "model_module": "@jupyter-widgets/base",
      "model_module_version": "1.2.0",
      "model_name": "LayoutModel",
      "state": {}
     },
     "c423920755f3474fa49abeb74ba6b14d": {
      "model_module": "@jupyter-widgets/base",
      "model_module_version": "1.2.0",
      "model_name": "LayoutModel",
      "state": {}
     },
     "c42bbfd5c182465183c78e2ca829e928": {
      "model_module": "@jupyter-widgets/base",
      "model_module_version": "1.2.0",
      "model_name": "LayoutModel",
      "state": {}
     },
     "c4ad379dacf54e3192965eb4d6f890da": {
      "model_module": "@jupyter-widgets/controls",
      "model_module_version": "1.5.0",
      "model_name": "ProgressStyleModel",
      "state": {
       "description_width": ""
      }
     },
     "c5bb05083c78409ca9f312c6a127af06": {
      "model_module": "@jupyter-widgets/controls",
      "model_module_version": "1.5.0",
      "model_name": "HTMLModel",
      "state": {
       "layout": "IPY_MODEL_9107eaecab0f43ffaa0c964d26ddcab0",
       "style": "IPY_MODEL_158a7c0513cc4a12a3c334da33d8b2ed",
       "value": " 100/100 [00:28&lt;00:00, 3.53 quotes/s]"
      }
     },
     "c5f5953bd5cb4fd9aafddc03fa952223": {
      "model_module": "@jupyter-widgets/base",
      "model_module_version": "1.2.0",
      "model_name": "LayoutModel",
      "state": {}
     },
     "c6b4098006094a7d96a7d3c81fd88c59": {
      "model_module": "@jupyter-widgets/controls",
      "model_module_version": "1.5.0",
      "model_name": "HBoxModel",
      "state": {
       "children": [
        "IPY_MODEL_18fc4c0c5dc6450299cd0ed75880eb35",
        "IPY_MODEL_9249940a825f44f8965c40bb2ffdb5ac",
        "IPY_MODEL_18d9b19f60384049b64f3fa62022fa62"
       ],
       "layout": "IPY_MODEL_6365b10453324fb9b521d1b4daee8a9c"
      }
     },
     "c70a82fef6a341ccbec75310daa37228": {
      "model_module": "@jupyter-widgets/controls",
      "model_module_version": "1.5.0",
      "model_name": "HTMLModel",
      "state": {
       "layout": "IPY_MODEL_9ede51a02a264963a41b875edd419c85",
       "style": "IPY_MODEL_170ce3d1fa7749a39b7e993be8e8c4aa",
       "value": " 100/100 [15:04&lt;00:00, 9.05s/ quotes]"
      }
     },
     "c8319dd486a048deabbcd0878d99349e": {
      "model_module": "@jupyter-widgets/controls",
      "model_module_version": "1.5.0",
      "model_name": "HBoxModel",
      "state": {
       "children": [
        "IPY_MODEL_06fa2d22128f45f49aaa60dd24ec2628",
        "IPY_MODEL_9cf06120bf90481ca03ff725d5cb78a7",
        "IPY_MODEL_72e7dad8352b408c90141c62eb13d7c9"
       ],
       "layout": "IPY_MODEL_b05e83f106734fd49fe983766107bbb8"
      }
     },
     "c8a86bba613a471cb3952bb00b82dcb7": {
      "model_module": "@jupyter-widgets/controls",
      "model_module_version": "1.5.0",
      "model_name": "HTMLModel",
      "state": {
       "layout": "IPY_MODEL_107960ffc0804831b3eb6ba7e4b4011f",
       "style": "IPY_MODEL_f76d2d88203d42da8973670038feb7c4",
       "value": " 100/100 [00:20&lt;00:00, 4.89 quotes/s]"
      }
     },
     "c8eeba875a37433bbab21cf6bbbdcb86": {
      "model_module": "@jupyter-widgets/controls",
      "model_module_version": "1.5.0",
      "model_name": "HBoxModel",
      "state": {
       "children": [
        "IPY_MODEL_fe4e87dcaaba481fb99e606e0e62a1b3",
        "IPY_MODEL_2125939f35b749758f848f8529d76900",
        "IPY_MODEL_34053690acca4d009974ab06be26e8c3"
       ],
       "layout": "IPY_MODEL_5b7bcba1fe3248868737917fd6cfd510"
      }
     },
     "c922df364cbc4710b5f58493c89f6bed": {
      "model_module": "@jupyter-widgets/controls",
      "model_module_version": "1.5.0",
      "model_name": "HBoxModel",
      "state": {
       "children": [
        "IPY_MODEL_f316fc12a3db4eafb24127389329f758",
        "IPY_MODEL_56bd14d288164993ab16ede20fae729e",
        "IPY_MODEL_09839439c5c2499f915152abfcdb40b9"
       ],
       "layout": "IPY_MODEL_ba28c7ab447341d6af0bbb28d823d631"
      }
     },
     "c97ff50e14004e87b4214c9daca6e5bb": {
      "model_module": "@jupyter-widgets/base",
      "model_module_version": "1.2.0",
      "model_name": "LayoutModel",
      "state": {}
     },
     "c9df602162414fd5bd3a70946e398c5d": {
      "model_module": "@jupyter-widgets/controls",
      "model_module_version": "1.5.0",
      "model_name": "ProgressStyleModel",
      "state": {
       "description_width": ""
      }
     },
     "ca08e6e181ea4ac18bcbd76a70d6dc10": {
      "model_module": "@jupyter-widgets/controls",
      "model_module_version": "1.5.0",
      "model_name": "HBoxModel",
      "state": {
       "children": [
        "IPY_MODEL_5700eb5474fc40d1b441f89f5eeb8623",
        "IPY_MODEL_eac87363352e4e729dcfd974dc1aa4f1",
        "IPY_MODEL_bb94d3679e0a4b2eab78e4cbc5a2965f"
       ],
       "layout": "IPY_MODEL_3a6ba90495084240899b43f716b590f4"
      }
     },
     "cac6c314e1df47a1b66f77b61bd75949": {
      "model_module": "@jupyter-widgets/base",
      "model_module_version": "1.2.0",
      "model_name": "LayoutModel",
      "state": {}
     },
     "cb70cf68165749848d158986658af81c": {
      "model_module": "@jupyter-widgets/controls",
      "model_module_version": "1.5.0",
      "model_name": "HBoxModel",
      "state": {
       "children": [
        "IPY_MODEL_336c035fbd644db797dfa33d240a4f6b",
        "IPY_MODEL_b781b691cb324310a461db90b7555781",
        "IPY_MODEL_323d20577a614c1db3d1550875cf58c9"
       ],
       "layout": "IPY_MODEL_2b2598032eeb41baabf098459bd50287"
      }
     },
     "cc419e9a2fd04d3ebb47c130a0d5837d": {
      "model_module": "@jupyter-widgets/controls",
      "model_module_version": "1.5.0",
      "model_name": "ProgressStyleModel",
      "state": {
       "description_width": ""
      }
     },
     "ccde80f891464e4c95589d08733e84c5": {
      "model_module": "@jupyter-widgets/controls",
      "model_module_version": "1.5.0",
      "model_name": "FloatProgressModel",
      "state": {
       "bar_style": "danger",
       "layout": "IPY_MODEL_056b24f7bf4248108d4a4d016542b223",
       "style": "IPY_MODEL_6c7ee9edf40f4d358159f25812f861b4",
       "value": 50
      }
     },
     "cd0b4b7091f04c32b7f464ebc3ed5f6a": {
      "model_module": "@jupyter-widgets/controls",
      "model_module_version": "1.5.0",
      "model_name": "FloatProgressModel",
      "state": {
       "bar_style": "success",
       "layout": "IPY_MODEL_c5f5953bd5cb4fd9aafddc03fa952223",
       "style": "IPY_MODEL_7e7087960d7d494e917db3498a9c3012",
       "value": 100
      }
     },
     "ce91c4f0b4e449c698528830ef9fd138": {
      "model_module": "@jupyter-widgets/base",
      "model_module_version": "1.2.0",
      "model_name": "LayoutModel",
      "state": {}
     },
     "ceb9af1e054043bf85276608af6394ca": {
      "model_module": "@jupyter-widgets/controls",
      "model_module_version": "1.5.0",
      "model_name": "DescriptionStyleModel",
      "state": {
       "description_width": ""
      }
     },
     "cf2ac20e28f2422e88160920444ca82a": {
      "model_module": "@jupyter-widgets/base",
      "model_module_version": "1.2.0",
      "model_name": "LayoutModel",
      "state": {}
     },
     "cf4f51c53cac462dabf26d0292ae4ae2": {
      "model_module": "@jupyter-widgets/base",
      "model_module_version": "1.2.0",
      "model_name": "LayoutModel",
      "state": {}
     },
     "cf513807dbd2412db0972d57daaa1b13": {
      "model_module": "@jupyter-widgets/controls",
      "model_module_version": "1.5.0",
      "model_name": "HBoxModel",
      "state": {
       "children": [
        "IPY_MODEL_1ecbc8b73a2b4b58bed3c099ae9736af",
        "IPY_MODEL_f4a91fe8d885464184f953169f9ca6b1",
        "IPY_MODEL_27acc1303e6c44ad9a2cb3de18e32066"
       ],
       "layout": "IPY_MODEL_5c636123cae9450895d4ff83bbd5c4d9"
      }
     },
     "cfa1737d1d094a459309868cf60fbde9": {
      "model_module": "@jupyter-widgets/controls",
      "model_module_version": "1.5.0",
      "model_name": "HBoxModel",
      "state": {
       "children": [
        "IPY_MODEL_2f2d4e3b71c94a8988c18e539e7686dc",
        "IPY_MODEL_8f225aef4fd841f3a5965301d17fee2b",
        "IPY_MODEL_809fd1e05ac14061bcaae39191992c33"
       ],
       "layout": "IPY_MODEL_ae27bd6de8cd4f81893a6c067e641e61"
      }
     },
     "cfb51ac26e5d41e0866aa545fc4018cf": {
      "model_module": "@jupyter-widgets/controls",
      "model_module_version": "1.5.0",
      "model_name": "FloatProgressModel",
      "state": {
       "bar_style": "danger",
       "layout": "IPY_MODEL_f6abebcec4234723b2d4838b1ad420ec",
       "style": "IPY_MODEL_1604d7d9432c4939911df06cbceaa2e3"
      }
     },
     "cfce1fe6f43b4401844220092cda83c3": {
      "model_module": "@jupyter-widgets/controls",
      "model_module_version": "1.5.0",
      "model_name": "DescriptionStyleModel",
      "state": {
       "description_width": ""
      }
     },
     "d060f73a11d642288854869a55f64628": {
      "model_module": "@jupyter-widgets/controls",
      "model_module_version": "1.5.0",
      "model_name": "HBoxModel",
      "state": {
       "children": [
        "IPY_MODEL_fdd3d7231b7f4bf79251640528dbd99d",
        "IPY_MODEL_9ed38a5ee5c84080ab14ac05dccf3f79",
        "IPY_MODEL_28ffa5a6f26640d1b8d6065d2054925f"
       ],
       "layout": "IPY_MODEL_dff70de4ff544420bd9c3b39a1d3fe8d"
      }
     },
     "d0d93e8f8cb74ca989c19f54d40e8cc3": {
      "model_module": "@jupyter-widgets/controls",
      "model_module_version": "1.5.0",
      "model_name": "DescriptionStyleModel",
      "state": {
       "description_width": ""
      }
     },
     "d0e94a02e51443b4bba5945ad2facb83": {
      "model_module": "@jupyter-widgets/controls",
      "model_module_version": "1.5.0",
      "model_name": "DescriptionStyleModel",
      "state": {
       "description_width": ""
      }
     },
     "d11cd100bcda4ccfb55417d1d6db38f0": {
      "model_module": "@jupyter-widgets/base",
      "model_module_version": "1.2.0",
      "model_name": "LayoutModel",
      "state": {}
     },
     "d1257256c340491cb8e4a2bf6f1ac18d": {
      "model_module": "@jupyter-widgets/controls",
      "model_module_version": "1.5.0",
      "model_name": "HTMLModel",
      "state": {
       "layout": "IPY_MODEL_fbb96344205d42d4a8dd5e8677f93228",
       "style": "IPY_MODEL_e21066c509ef45a693415a8d2e467bb2",
       "value": " 100/100 [00:20&lt;00:00, 242 quotes/s]"
      }
     },
     "d1ec09815a9742c4853cb564fef6e35b": {
      "model_module": "@jupyter-widgets/base",
      "model_module_version": "1.2.0",
      "model_name": "LayoutModel",
      "state": {}
     },
     "d1f0433e939540e88acb8d1c962498ff": {
      "model_module": "@jupyter-widgets/controls",
      "model_module_version": "1.5.0",
      "model_name": "DescriptionStyleModel",
      "state": {
       "description_width": ""
      }
     },
     "d277a9d0b5c94db79da8747620b3f5b6": {
      "model_module": "@jupyter-widgets/controls",
      "model_module_version": "1.5.0",
      "model_name": "HTMLModel",
      "state": {
       "layout": "IPY_MODEL_cf4f51c53cac462dabf26d0292ae4ae2",
       "style": "IPY_MODEL_5bdc2067baeb4dd3b18ac297a998ab16",
       "value": "[Backtest]: 100%"
      }
     },
     "d2c5cb833f584b6b857ea770d6d8e995": {
      "model_module": "@jupyter-widgets/base",
      "model_module_version": "1.2.0",
      "model_name": "LayoutModel",
      "state": {}
     },
     "d3037e829a3f4492a3dfd301b1438e81": {
      "model_module": "@jupyter-widgets/base",
      "model_module_version": "1.2.0",
      "model_name": "LayoutModel",
      "state": {}
     },
     "d31b909aa63946dca0fd27e8f6fa1158": {
      "model_module": "@jupyter-widgets/base",
      "model_module_version": "1.2.0",
      "model_name": "LayoutModel",
      "state": {}
     },
     "d32485a9c51f4ca99279276927b392c8": {
      "model_module": "@jupyter-widgets/base",
      "model_module_version": "1.2.0",
      "model_name": "LayoutModel",
      "state": {}
     },
     "d32d6277285549b5ad8b61416ae818f2": {
      "model_module": "@jupyter-widgets/controls",
      "model_module_version": "1.5.0",
      "model_name": "HBoxModel",
      "state": {
       "children": [
        "IPY_MODEL_96e98fb0bc77449fb5755b2adcfd5c4a",
        "IPY_MODEL_a0f8e63dcead4fc5ba563ad1d1d8e19a",
        "IPY_MODEL_6b04b44065ab4de5b9c6de95183ced99"
       ],
       "layout": "IPY_MODEL_560cd520bc62416db08b96f43dc97bb2"
      }
     },
     "d3e92850b25744f0ac3710e575ecf0b1": {
      "model_module": "@jupyter-widgets/controls",
      "model_module_version": "1.5.0",
      "model_name": "FloatProgressModel",
      "state": {
       "bar_style": "success",
       "layout": "IPY_MODEL_bd04a81d6ab94261b2cab3b62c4cad2d",
       "style": "IPY_MODEL_4747e6f87ae040858d04edad02e9470e",
       "value": 100
      }
     },
     "d3f365b339f3453ca76bf3dc1efd9df6": {
      "model_module": "@jupyter-widgets/controls",
      "model_module_version": "1.5.0",
      "model_name": "HTMLModel",
      "state": {
       "layout": "IPY_MODEL_99b3f1bd52704755a7b82bcb6d618cb6",
       "style": "IPY_MODEL_a6efff7157714b929e330fd9ed1aba6f",
       "value": " 100/100 [00:19&lt;00:00, 5.22 quotes/s]"
      }
     },
     "d4cd0a5046774ee4a6aa77bd467c12f8": {
      "model_module": "@jupyter-widgets/controls",
      "model_module_version": "1.5.0",
      "model_name": "HBoxModel",
      "state": {
       "children": [
        "IPY_MODEL_9042fda9d4954172a2e0298a6b12e5c0",
        "IPY_MODEL_b35b0893e8bc4bf3860a8bd3d110a603",
        "IPY_MODEL_7dd045630a124e6497aed56d02371c02"
       ],
       "layout": "IPY_MODEL_ea7cbc7e8ab54dc9a6fe0efde85d6355"
      }
     },
     "d50445dd72294354b452753fcc4f7082": {
      "model_module": "@jupyter-widgets/controls",
      "model_module_version": "1.5.0",
      "model_name": "ProgressStyleModel",
      "state": {
       "description_width": ""
      }
     },
     "d594ae2b35c544338c3fb807297fedcc": {
      "model_module": "@jupyter-widgets/base",
      "model_module_version": "1.2.0",
      "model_name": "LayoutModel",
      "state": {}
     },
     "d6685c3ca44e434a9602f433778d1d17": {
      "model_module": "@jupyter-widgets/controls",
      "model_module_version": "1.5.0",
      "model_name": "HBoxModel",
      "state": {
       "children": [
        "IPY_MODEL_0d1e12baac9f42659d71982774f35910",
        "IPY_MODEL_5134d7130efb4ef3ae7205d44fd12fca",
        "IPY_MODEL_698245c54f2149a28ac0119a37561b1a"
       ],
       "layout": "IPY_MODEL_2e3db979dc8f4b0cbce02479c92510c3"
      }
     },
     "d66e8de789ac42af951567ca71c1ce4c": {
      "model_module": "@jupyter-widgets/base",
      "model_module_version": "1.2.0",
      "model_name": "LayoutModel",
      "state": {}
     },
     "d6b9c64dd3b7482eadc09a74abc87668": {
      "model_module": "@jupyter-widgets/base",
      "model_module_version": "1.2.0",
      "model_name": "LayoutModel",
      "state": {}
     },
     "d709ead55aac46d58cedd32f82166268": {
      "model_module": "@jupyter-widgets/controls",
      "model_module_version": "1.5.0",
      "model_name": "DescriptionStyleModel",
      "state": {
       "description_width": ""
      }
     },
     "d77cb00d276a4bc4a2e27b2922ccd482": {
      "model_module": "@jupyter-widgets/controls",
      "model_module_version": "1.5.0",
      "model_name": "ProgressStyleModel",
      "state": {
       "description_width": ""
      }
     },
     "d8835db2007a49779d2fbb03f8ad2e33": {
      "model_module": "@jupyter-widgets/controls",
      "model_module_version": "1.5.0",
      "model_name": "HTMLModel",
      "state": {
       "layout": "IPY_MODEL_6ade9de83c8f455c899f4901f60760c1",
       "style": "IPY_MODEL_1aae44e2a1bc43f981ec7192da5d65ad",
       "value": "[Backtest]: 100%"
      }
     },
     "d88b42c5f9734c88becee57af4ece8ba": {
      "model_module": "@jupyter-widgets/controls",
      "model_module_version": "1.5.0",
      "model_name": "DescriptionStyleModel",
      "state": {
       "description_width": ""
      }
     },
     "d8e42e1eb9a942ed8166ebacd3c6b134": {
      "model_module": "@jupyter-widgets/controls",
      "model_module_version": "1.5.0",
      "model_name": "DescriptionStyleModel",
      "state": {
       "description_width": ""
      }
     },
     "d930af106b28470d8b19946ca0c246b3": {
      "model_module": "@jupyter-widgets/controls",
      "model_module_version": "1.5.0",
      "model_name": "DescriptionStyleModel",
      "state": {
       "description_width": ""
      }
     },
     "d9a31421767a464282ef646efe76d79d": {
      "model_module": "@jupyter-widgets/base",
      "model_module_version": "1.2.0",
      "model_name": "LayoutModel",
      "state": {}
     },
     "d9c33fa7f1454f66b223946eaab7e1f4": {
      "model_module": "@jupyter-widgets/base",
      "model_module_version": "1.2.0",
      "model_name": "LayoutModel",
      "state": {}
     },
     "da18645874554a89803210fce984f290": {
      "model_module": "@jupyter-widgets/controls",
      "model_module_version": "1.5.0",
      "model_name": "ProgressStyleModel",
      "state": {
       "description_width": ""
      }
     },
     "dac2dfa108ce482fa19d02c90c65c490": {
      "model_module": "@jupyter-widgets/controls",
      "model_module_version": "1.5.0",
      "model_name": "DescriptionStyleModel",
      "state": {
       "description_width": ""
      }
     },
     "dafc284764644735af13c7b77dbc2ff7": {
      "model_module": "@jupyter-widgets/base",
      "model_module_version": "1.2.0",
      "model_name": "LayoutModel",
      "state": {}
     },
     "db719a344a5245d0872ef67aab84b459": {
      "model_module": "@jupyter-widgets/base",
      "model_module_version": "1.2.0",
      "model_name": "LayoutModel",
      "state": {}
     },
     "dbf468aef14348e68cbec3f687490da8": {
      "model_module": "@jupyter-widgets/controls",
      "model_module_version": "1.5.0",
      "model_name": "HBoxModel",
      "state": {
       "children": [
        "IPY_MODEL_482a6bcd58874f6188658d4ff00e22f0",
        "IPY_MODEL_cd0b4b7091f04c32b7f464ebc3ed5f6a",
        "IPY_MODEL_0993601bb16347f8ada9c708e785c100"
       ],
       "layout": "IPY_MODEL_521f2f4220454dbbbdf06f50aeb75a5a"
      }
     },
     "dc90add152f14d8e941dc265e8181cef": {
      "model_module": "@jupyter-widgets/controls",
      "model_module_version": "1.5.0",
      "model_name": "DescriptionStyleModel",
      "state": {
       "description_width": ""
      }
     },
     "dcb87e9b7ee647ea87968393986700a8": {
      "model_module": "@jupyter-widgets/controls",
      "model_module_version": "1.5.0",
      "model_name": "DescriptionStyleModel",
      "state": {
       "description_width": ""
      }
     },
     "ddd8706f6ac746c6900511bbb7c700f1": {
      "model_module": "@jupyter-widgets/base",
      "model_module_version": "1.2.0",
      "model_name": "LayoutModel",
      "state": {}
     },
     "dde92287ad0d4b2e8f188e85f395ea75": {
      "model_module": "@jupyter-widgets/controls",
      "model_module_version": "1.5.0",
      "model_name": "HBoxModel",
      "state": {
       "children": [
        "IPY_MODEL_e6476429ce1d45408d6038aa1f92b1b8",
        "IPY_MODEL_3080c8f1ba284620a1d0812a947d33f4",
        "IPY_MODEL_4df28d62bbc14e1ca020ed86919b9a7c"
       ],
       "layout": "IPY_MODEL_dafc284764644735af13c7b77dbc2ff7"
      }
     },
     "de0fa85048fd461eac003e06f24495b3": {
      "model_module": "@jupyter-widgets/controls",
      "model_module_version": "1.5.0",
      "model_name": "ProgressStyleModel",
      "state": {
       "description_width": ""
      }
     },
     "de35c32fdaa2464ea0c35ec1c213aae6": {
      "model_module": "@jupyter-widgets/base",
      "model_module_version": "1.2.0",
      "model_name": "LayoutModel",
      "state": {}
     },
     "de7857ed07d945658a51cf1b4539e71c": {
      "model_module": "@jupyter-widgets/controls",
      "model_module_version": "1.5.0",
      "model_name": "FloatProgressModel",
      "state": {
       "bar_style": "success",
       "layout": "IPY_MODEL_d1ec09815a9742c4853cb564fef6e35b",
       "style": "IPY_MODEL_8c0b9579190043dc81ed2e3693ec1563",
       "value": 100
      }
     },
     "df02181593884a7497da76fcb8d07a61": {
      "model_module": "@jupyter-widgets/base",
      "model_module_version": "1.2.0",
      "model_name": "LayoutModel",
      "state": {}
     },
     "df734ab8402540dcbc81b38fd7bd99f2": {
      "model_module": "@jupyter-widgets/controls",
      "model_module_version": "1.5.0",
      "model_name": "HBoxModel",
      "state": {
       "children": [
        "IPY_MODEL_4f6d6b87699b441da2e72bab5ac2ecc4",
        "IPY_MODEL_82cc329c88c040b49c68a8c24d1c38af",
        "IPY_MODEL_ecd1e5fe35854c1ba284cad3b2a3a6b0"
       ],
       "layout": "IPY_MODEL_82c8499cf09c496e94f51b60dff300ee"
      }
     },
     "dff70de4ff544420bd9c3b39a1d3fe8d": {
      "model_module": "@jupyter-widgets/base",
      "model_module_version": "1.2.0",
      "model_name": "LayoutModel",
      "state": {}
     },
     "e0a4ac00add74e72a8f5a3795e6c85a3": {
      "model_module": "@jupyter-widgets/controls",
      "model_module_version": "1.5.0",
      "model_name": "DescriptionStyleModel",
      "state": {
       "description_width": ""
      }
     },
     "e21066c509ef45a693415a8d2e467bb2": {
      "model_module": "@jupyter-widgets/controls",
      "model_module_version": "1.5.0",
      "model_name": "DescriptionStyleModel",
      "state": {
       "description_width": ""
      }
     },
     "e2fa120e34e44d20803ebcc087c6d243": {
      "model_module": "@jupyter-widgets/controls",
      "model_module_version": "1.5.0",
      "model_name": "ProgressStyleModel",
      "state": {
       "description_width": ""
      }
     },
     "e4edfad47a15422883460a5c5e516bcf": {
      "model_module": "@jupyter-widgets/base",
      "model_module_version": "1.2.0",
      "model_name": "LayoutModel",
      "state": {}
     },
     "e55fb578b1d64bb5b0eda10861de4708": {
      "model_module": "@jupyter-widgets/base",
      "model_module_version": "1.2.0",
      "model_name": "LayoutModel",
      "state": {}
     },
     "e56aae3131624e81997ea298ddd74bb4": {
      "model_module": "@jupyter-widgets/controls",
      "model_module_version": "1.5.0",
      "model_name": "DescriptionStyleModel",
      "state": {
       "description_width": ""
      }
     },
     "e6427b689f674dd9812e530ca23d3ae4": {
      "model_module": "@jupyter-widgets/controls",
      "model_module_version": "1.5.0",
      "model_name": "DescriptionStyleModel",
      "state": {
       "description_width": ""
      }
     },
     "e6476429ce1d45408d6038aa1f92b1b8": {
      "model_module": "@jupyter-widgets/controls",
      "model_module_version": "1.5.0",
      "model_name": "HTMLModel",
      "state": {
       "layout": "IPY_MODEL_3c183a795aec42d484a1222f4b07caed",
       "style": "IPY_MODEL_b68748be96a74ffa8b86cf807b4a2e7a",
       "value": "[Backtest]: 100%"
      }
     },
     "e7315412cc684444ba4138d8adfb9cce": {
      "model_module": "@jupyter-widgets/base",
      "model_module_version": "1.2.0",
      "model_name": "LayoutModel",
      "state": {}
     },
     "e779dcf996d642a1a335c1991e2a0a55": {
      "model_module": "@jupyter-widgets/base",
      "model_module_version": "1.2.0",
      "model_name": "LayoutModel",
      "state": {}
     },
     "e80b7aa5e9f54dd5a76fdee6e7918668": {
      "model_module": "@jupyter-widgets/base",
      "model_module_version": "1.2.0",
      "model_name": "LayoutModel",
      "state": {}
     },
     "e8288b479c5446e8866be7e7e6d924cc": {
      "model_module": "@jupyter-widgets/base",
      "model_module_version": "1.2.0",
      "model_name": "LayoutModel",
      "state": {}
     },
     "e87f44626e4c412dbf5e038136ac6dd2": {
      "model_module": "@jupyter-widgets/base",
      "model_module_version": "1.2.0",
      "model_name": "LayoutModel",
      "state": {}
     },
     "e8a0219bbc8d4a06ab4b3a9d0a846e92": {
      "model_module": "@jupyter-widgets/base",
      "model_module_version": "1.2.0",
      "model_name": "LayoutModel",
      "state": {}
     },
     "e8d9b58faa57422dbb17cdab3893f8a4": {
      "model_module": "@jupyter-widgets/base",
      "model_module_version": "1.2.0",
      "model_name": "LayoutModel",
      "state": {}
     },
     "e8f092cc03a0432aa048fb985f51891e": {
      "model_module": "@jupyter-widgets/controls",
      "model_module_version": "1.5.0",
      "model_name": "HTMLModel",
      "state": {
       "layout": "IPY_MODEL_800b0ef2226f4759b195450e4e8fdd9c",
       "style": "IPY_MODEL_3c7f63eba79147a0ba71384066a71a72",
       "value": " 100/100 [12:30&lt;00:00, 7.50s/ quotes]"
      }
     },
     "e90bff393959412ea8e99bff877ed433": {
      "model_module": "@jupyter-widgets/controls",
      "model_module_version": "1.5.0",
      "model_name": "HBoxModel",
      "state": {
       "children": [
        "IPY_MODEL_79a00510065d4046ba3b6ebab22f2a9f",
        "IPY_MODEL_2774e67e20dd49dfafa55f748f894164",
        "IPY_MODEL_251220cb2f95482bb4ea9f31e9760d57"
       ],
       "layout": "IPY_MODEL_7838114f6a7a4950a2f8eb8d588a1057"
      }
     },
     "e9b561948f4d4f3ea1d62fd12548c676": {
      "model_module": "@jupyter-widgets/controls",
      "model_module_version": "1.5.0",
      "model_name": "HTMLModel",
      "state": {
       "layout": "IPY_MODEL_45ac7abf840b4abdbf92d05a8b7ca950",
       "style": "IPY_MODEL_3b3a790886a146129cc73faa040b71ce",
       "value": " 100/100 [00:16&lt;00:00, 16.2 quotes/s]"
      }
     },
     "ea6686929bde472c9572203f4e3e9b14": {
      "model_module": "@jupyter-widgets/controls",
      "model_module_version": "1.5.0",
      "model_name": "HBoxModel",
      "state": {
       "children": [
        "IPY_MODEL_b89167bf586b4a08b5d3bb723863165d",
        "IPY_MODEL_4c0a2a701c824c76853b4e5153cc5a85",
        "IPY_MODEL_710d418873c243edabd8f73d20a718c1"
       ],
       "layout": "IPY_MODEL_9f0a49215d8d459ba61b27fba33ffae9"
      }
     },
     "ea7cbc7e8ab54dc9a6fe0efde85d6355": {
      "model_module": "@jupyter-widgets/base",
      "model_module_version": "1.2.0",
      "model_name": "LayoutModel",
      "state": {}
     },
     "eac87363352e4e729dcfd974dc1aa4f1": {
      "model_module": "@jupyter-widgets/controls",
      "model_module_version": "1.5.0",
      "model_name": "FloatProgressModel",
      "state": {
       "bar_style": "success",
       "layout": "IPY_MODEL_77fce9bbe8d248a0a44ad31f2ab8ef66",
       "style": "IPY_MODEL_67b468211809401e8660b68c4a262c6f",
       "value": 100
      }
     },
     "eae4c07fe5bc4f6890dc99256dd96574": {
      "model_module": "@jupyter-widgets/controls",
      "model_module_version": "1.5.0",
      "model_name": "HTMLModel",
      "state": {
       "layout": "IPY_MODEL_3d4d394801bd464a8d366a03913694a2",
       "style": "IPY_MODEL_0b6a5f86c6e8400e93715a65ea30ac74",
       "value": "[Backtest]: 100%"
      }
     },
     "ebf24fd5e402416d80b801cf491caa58": {
      "model_module": "@jupyter-widgets/controls",
      "model_module_version": "1.5.0",
      "model_name": "DescriptionStyleModel",
      "state": {
       "description_width": ""
      }
     },
     "ecd1e5fe35854c1ba284cad3b2a3a6b0": {
      "model_module": "@jupyter-widgets/controls",
      "model_module_version": "1.5.0",
      "model_name": "HTMLModel",
      "state": {
       "layout": "IPY_MODEL_16c6e5d1d144465d8c0f27421d752cb8",
       "style": "IPY_MODEL_9641ff7e50c44afc815c0628c5c17aa0",
       "value": " 100/100 [01:17&lt;00:00, 1.30 quotes/s]"
      }
     },
     "ed3f44abf18b447dbb8c29f8a62c7004": {
      "model_module": "@jupyter-widgets/base",
      "model_module_version": "1.2.0",
      "model_name": "LayoutModel",
      "state": {}
     },
     "ed56a35588894fc3892a67abf4485338": {
      "model_module": "@jupyter-widgets/controls",
      "model_module_version": "1.5.0",
      "model_name": "HTMLModel",
      "state": {
       "layout": "IPY_MODEL_54413b16ca0a4e05b9b06b2a69704191",
       "style": "IPY_MODEL_5de682e363f0449db53725ecd77c1fde",
       "value": "[Backtest]: 100%"
      }
     },
     "ee0be695b1494efeaf2cd26ab09e3698": {
      "model_module": "@jupyter-widgets/controls",
      "model_module_version": "1.5.0",
      "model_name": "ProgressStyleModel",
      "state": {
       "description_width": ""
      }
     },
     "ee15c98ce8fa4d3c83657bc87d9022aa": {
      "model_module": "@jupyter-widgets/base",
      "model_module_version": "1.2.0",
      "model_name": "LayoutModel",
      "state": {}
     },
     "ee7118745f304e4299595f7039f7d989": {
      "model_module": "@jupyter-widgets/controls",
      "model_module_version": "1.5.0",
      "model_name": "HBoxModel",
      "state": {
       "children": [
        "IPY_MODEL_fbf5a55c6746422bbf0f41a8cc816b28",
        "IPY_MODEL_ccde80f891464e4c95589d08733e84c5",
        "IPY_MODEL_f6f0fc9c352545e9a0f8fbc43c078548"
       ],
       "layout": "IPY_MODEL_899aa06fd66f4abe8676f51795a43348"
      }
     },
     "eeaaba4c44cc46298b3b48d08570fb05": {
      "model_module": "@jupyter-widgets/controls",
      "model_module_version": "1.5.0",
      "model_name": "DescriptionStyleModel",
      "state": {
       "description_width": ""
      }
     },
     "ef8a6006ca63435b9dedba46d6b6d75e": {
      "model_module": "@jupyter-widgets/controls",
      "model_module_version": "1.5.0",
      "model_name": "ProgressStyleModel",
      "state": {
       "description_width": ""
      }
     },
     "f01d7ca5236f40f0a39a43a303260281": {
      "model_module": "@jupyter-widgets/controls",
      "model_module_version": "1.5.0",
      "model_name": "HTMLModel",
      "state": {
       "layout": "IPY_MODEL_a462b67e6bb2442aa118cc81cca43001",
       "style": "IPY_MODEL_2a21edd966a14ab0bbe28dd1dfdfef91",
       "value": " 100/100 [00:01&lt;00:00, 71.1 quotes/s]"
      }
     },
     "f1bd4292496a4cafb73250e12d248622": {
      "model_module": "@jupyter-widgets/controls",
      "model_module_version": "1.5.0",
      "model_name": "HBoxModel",
      "state": {
       "children": [
        "IPY_MODEL_1b54ce976f1943bd805ca4ff127494ac",
        "IPY_MODEL_cfb51ac26e5d41e0866aa545fc4018cf",
        "IPY_MODEL_08540b00172344fe948859ae9f62a687"
       ],
       "layout": "IPY_MODEL_e8a0219bbc8d4a06ab4b3a9d0a846e92"
      }
     },
     "f1d5e0a7d8f746faa3b6dcd1d795f172": {
      "model_module": "@jupyter-widgets/controls",
      "model_module_version": "1.5.0",
      "model_name": "FloatProgressModel",
      "state": {
       "bar_style": "success",
       "layout": "IPY_MODEL_0fb495be973a469381dfa50b69f2ba86",
       "style": "IPY_MODEL_8fc400f89d3449ed8ae5f57b012a7f3b",
       "value": 100
      }
     },
     "f209177c8fa54c1eb68cba56f670f2ab": {
      "model_module": "@jupyter-widgets/base",
      "model_module_version": "1.2.0",
      "model_name": "LayoutModel",
      "state": {}
     },
     "f297bcd485ba44d7897eeb721ea165ef": {
      "model_module": "@jupyter-widgets/controls",
      "model_module_version": "1.5.0",
      "model_name": "FloatProgressModel",
      "state": {
       "bar_style": "success",
       "layout": "IPY_MODEL_33d92524da514daebf83d4978785ab2c",
       "style": "IPY_MODEL_94e8869610404495a5c1f67e4898c1e7",
       "value": 100
      }
     },
     "f2a63fd1e7f1487d8b6fca7840391746": {
      "model_module": "@jupyter-widgets/base",
      "model_module_version": "1.2.0",
      "model_name": "LayoutModel",
      "state": {}
     },
     "f316fc12a3db4eafb24127389329f758": {
      "model_module": "@jupyter-widgets/controls",
      "model_module_version": "1.5.0",
      "model_name": "HTMLModel",
      "state": {
       "layout": "IPY_MODEL_e4edfad47a15422883460a5c5e516bcf",
       "style": "IPY_MODEL_1a0eb7424bf843d2a713dad00280d4c7",
       "value": "[Backtest]: 100%"
      }
     },
     "f31f6b64fb464fbeb3fc809edd4f720c": {
      "model_module": "@jupyter-widgets/controls",
      "model_module_version": "1.5.0",
      "model_name": "ProgressStyleModel",
      "state": {
       "description_width": ""
      }
     },
     "f4a91fe8d885464184f953169f9ca6b1": {
      "model_module": "@jupyter-widgets/controls",
      "model_module_version": "1.5.0",
      "model_name": "FloatProgressModel",
      "state": {
       "bar_style": "success",
       "layout": "IPY_MODEL_3926bcd6d4fc44c894a24e6e3261d320",
       "style": "IPY_MODEL_da18645874554a89803210fce984f290",
       "value": 100
      }
     },
     "f6abebcec4234723b2d4838b1ad420ec": {
      "model_module": "@jupyter-widgets/base",
      "model_module_version": "1.2.0",
      "model_name": "LayoutModel",
      "state": {}
     },
     "f6c9c7c5de3141dba1c46665652d4b62": {
      "model_module": "@jupyter-widgets/base",
      "model_module_version": "1.2.0",
      "model_name": "LayoutModel",
      "state": {}
     },
     "f6ddf3ac65314bc4a2458f5cb51b4848": {
      "model_module": "@jupyter-widgets/base",
      "model_module_version": "1.2.0",
      "model_name": "LayoutModel",
      "state": {}
     },
     "f6f0fc9c352545e9a0f8fbc43c078548": {
      "model_module": "@jupyter-widgets/controls",
      "model_module_version": "1.5.0",
      "model_name": "HTMLModel",
      "state": {
       "layout": "IPY_MODEL_e55fb578b1d64bb5b0eda10861de4708",
       "style": "IPY_MODEL_19288bad9af34916af289f194306123c",
       "value": " 50.0/100 [17:29&lt;17:29, 21.0s/ quotes]"
      }
     },
     "f76d2d88203d42da8973670038feb7c4": {
      "model_module": "@jupyter-widgets/controls",
      "model_module_version": "1.5.0",
      "model_name": "DescriptionStyleModel",
      "state": {
       "description_width": ""
      }
     },
     "f78cbe31f9f04bb39eebe54ee907ec49": {
      "model_module": "@jupyter-widgets/base",
      "model_module_version": "1.2.0",
      "model_name": "LayoutModel",
      "state": {}
     },
     "f79ccf5e0bd44028ae2851acd18dc735": {
      "model_module": "@jupyter-widgets/controls",
      "model_module_version": "1.5.0",
      "model_name": "DescriptionStyleModel",
      "state": {
       "description_width": ""
      }
     },
     "f7e5709824574ca08c082c9be64adc33": {
      "model_module": "@jupyter-widgets/controls",
      "model_module_version": "1.5.0",
      "model_name": "HBoxModel",
      "state": {
       "children": [
        "IPY_MODEL_4c4bc6df40c049089a56e99f2f1b15d4",
        "IPY_MODEL_958d6d7185bc4437b7b9477e21272ffe",
        "IPY_MODEL_9f940f91484e4decaac6944c28f94261"
       ],
       "layout": "IPY_MODEL_5be67683613342e8932578ea2f4ed92a"
      }
     },
     "f8fec60eca404ba1830a37d2a92ae5d8": {
      "model_module": "@jupyter-widgets/controls",
      "model_module_version": "1.5.0",
      "model_name": "HTMLModel",
      "state": {
       "layout": "IPY_MODEL_d3037e829a3f4492a3dfd301b1438e81",
       "style": "IPY_MODEL_0bac6735aea6456d9cc6aebf59dc4131",
       "value": " 100/100 [00:11&lt;00:00, 240 quotes/s]"
      }
     },
     "f9eb1edb0b3a40f986ceb71e44ca5229": {
      "model_module": "@jupyter-widgets/base",
      "model_module_version": "1.2.0",
      "model_name": "LayoutModel",
      "state": {}
     },
     "f9f2043411a84c71b3cd205b09026912": {
      "model_module": "@jupyter-widgets/controls",
      "model_module_version": "1.5.0",
      "model_name": "FloatProgressModel",
      "state": {
       "bar_style": "success",
       "layout": "IPY_MODEL_9b5f3bf88b204821aecd6fc338e2162d",
       "style": "IPY_MODEL_de0fa85048fd461eac003e06f24495b3",
       "value": 100
      }
     },
     "fa0e326e22c4487d89563b45e646bdf1": {
      "model_module": "@jupyter-widgets/controls",
      "model_module_version": "1.5.0",
      "model_name": "ProgressStyleModel",
      "state": {
       "description_width": ""
      }
     },
     "fa3bc0b837bd4a41b550b6e10514c899": {
      "model_module": "@jupyter-widgets/base",
      "model_module_version": "1.2.0",
      "model_name": "LayoutModel",
      "state": {}
     },
     "fb0a71322eca48f48012480e72162f2f": {
      "model_module": "@jupyter-widgets/controls",
      "model_module_version": "1.5.0",
      "model_name": "HBoxModel",
      "state": {
       "children": [
        "IPY_MODEL_7336e80a03a3474dbc500fe3ffe6b1f9",
        "IPY_MODEL_f9f2043411a84c71b3cd205b09026912",
        "IPY_MODEL_902eedeb61404e8380b1a42f9058e530"
       ],
       "layout": "IPY_MODEL_77a446edb29b4cccbc3a92d772ab2a08"
      }
     },
     "fb4ee2dbb8dd4121b1822729f5383001": {
      "model_module": "@jupyter-widgets/base",
      "model_module_version": "1.2.0",
      "model_name": "LayoutModel",
      "state": {}
     },
     "fb5833cf0d10434f822334a5248a8eee": {
      "model_module": "@jupyter-widgets/controls",
      "model_module_version": "1.5.0",
      "model_name": "HBoxModel",
      "state": {
       "children": [
        "IPY_MODEL_1e1c20b229c04dd28e220074f71d18af",
        "IPY_MODEL_64b405556b1c48469ab875300978c9c9",
        "IPY_MODEL_3a8dfc98f6db40b3a0186d4fa1ef040e"
       ],
       "layout": "IPY_MODEL_4775ccc93e6f44ebaa4eab7605f2cf5b"
      }
     },
     "fbb96344205d42d4a8dd5e8677f93228": {
      "model_module": "@jupyter-widgets/base",
      "model_module_version": "1.2.0",
      "model_name": "LayoutModel",
      "state": {}
     },
     "fbe252f8cb2f4915a458bca4f42bebcf": {
      "model_module": "@jupyter-widgets/controls",
      "model_module_version": "1.5.0",
      "model_name": "HBoxModel",
      "state": {
       "children": [
        "IPY_MODEL_b44bd998c6464cd0a81cf0ecb0adb3ea",
        "IPY_MODEL_0140ac2f647e40b58b88b1c610b63cf1",
        "IPY_MODEL_773d527a93b24042898deb135957e057"
       ],
       "layout": "IPY_MODEL_7d726e108b464a12892759866c0c750e"
      }
     },
     "fbf5a55c6746422bbf0f41a8cc816b28": {
      "model_module": "@jupyter-widgets/controls",
      "model_module_version": "1.5.0",
      "model_name": "HTMLModel",
      "state": {
       "layout": "IPY_MODEL_ff1f7a61af0e4f6d9f73cb11514ea10a",
       "style": "IPY_MODEL_56b804899fcd4bb9b77d43201c1840b1",
       "value": "[Backtest]:  50%"
      }
     },
     "fc2306953f754f97b9c3532eb0027978": {
      "model_module": "@jupyter-widgets/controls",
      "model_module_version": "1.5.0",
      "model_name": "FloatProgressModel",
      "state": {
       "bar_style": "success",
       "layout": "IPY_MODEL_6c9fd3ab76224c18a04a6d7006b98c0f",
       "style": "IPY_MODEL_ac97a0eb40ca4c21aaa79e57c7a9e765",
       "value": 100
      }
     },
     "fc47feb190a5421981b1c02f478d92d3": {
      "model_module": "@jupyter-widgets/base",
      "model_module_version": "1.2.0",
      "model_name": "LayoutModel",
      "state": {}
     },
     "fca88f30dcf14c64a776ac02763e83d1": {
      "model_module": "@jupyter-widgets/controls",
      "model_module_version": "1.5.0",
      "model_name": "FloatProgressModel",
      "state": {
       "bar_style": "success",
       "layout": "IPY_MODEL_c3d11e4a60cf43eda81c863f1ee07fd0",
       "style": "IPY_MODEL_a6a5069bae844846b6d73b0222cd33b6",
       "value": 100
      }
     },
     "fcc125975a2b449596f8d836c5d86889": {
      "model_module": "@jupyter-widgets/controls",
      "model_module_version": "1.5.0",
      "model_name": "DescriptionStyleModel",
      "state": {
       "description_width": ""
      }
     },
     "fd44a14f76934c76ae966e2978a8e065": {
      "model_module": "@jupyter-widgets/base",
      "model_module_version": "1.2.0",
      "model_name": "LayoutModel",
      "state": {}
     },
     "fdd3d7231b7f4bf79251640528dbd99d": {
      "model_module": "@jupyter-widgets/controls",
      "model_module_version": "1.5.0",
      "model_name": "HTMLModel",
      "state": {
       "layout": "IPY_MODEL_601a640c19604717935ecebd8d5e4936",
       "style": "IPY_MODEL_05671085fa2343c697f68d7c79ad4461",
       "value": "[Backtest]: 100%"
      }
     },
     "fe16c4b1b2ec49ae8a8245ca0f58731d": {
      "model_module": "@jupyter-widgets/controls",
      "model_module_version": "1.5.0",
      "model_name": "HTMLModel",
      "state": {
       "layout": "IPY_MODEL_9ee614e146c04cfb83dbea17a7c4fdb4",
       "style": "IPY_MODEL_dac2dfa108ce482fa19d02c90c65c490",
       "value": " 100/100 [01:08&lt;00:00, 1.45 quotes/s]"
      }
     },
     "fe4e87dcaaba481fb99e606e0e62a1b3": {
      "model_module": "@jupyter-widgets/controls",
      "model_module_version": "1.5.0",
      "model_name": "HTMLModel",
      "state": {
       "layout": "IPY_MODEL_c97ff50e14004e87b4214c9daca6e5bb",
       "style": "IPY_MODEL_4202864f92274888a90996121eb66338",
       "value": "[Backtest]: 100%"
      }
     },
     "fe8bfb2c0aad455a961c445b2d93adee": {
      "model_module": "@jupyter-widgets/base",
      "model_module_version": "1.2.0",
      "model_name": "LayoutModel",
      "state": {}
     },
     "fef2db139b7d4d669556e05006c07428": {
      "model_module": "@jupyter-widgets/controls",
      "model_module_version": "1.5.0",
      "model_name": "FloatProgressModel",
      "state": {
       "layout": "IPY_MODEL_730bb46e4a784034b4dbefee882ad9c5",
       "style": "IPY_MODEL_0605290678e64f328015b89affe53661",
       "value": 100
      }
     },
     "ff1f7a61af0e4f6d9f73cb11514ea10a": {
      "model_module": "@jupyter-widgets/base",
      "model_module_version": "1.2.0",
      "model_name": "LayoutModel",
      "state": {}
     },
     "ffcde4d521b24dbd9d910777ae1866f1": {
      "model_module": "@jupyter-widgets/base",
      "model_module_version": "1.2.0",
      "model_name": "LayoutModel",
      "state": {}
     }
    },
    "version_major": 2,
    "version_minor": 0
   }
  }
 },
 "nbformat": 4,
 "nbformat_minor": 4
}
