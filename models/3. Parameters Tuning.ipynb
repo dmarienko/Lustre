{
 "cells": [
  {
   "cell_type": "code",
   "execution_count": 2,
   "metadata": {},
   "outputs": [
    {
     "name": "stdout",
     "output_type": "stream",
     "text": [
      "Reloaded /usr/local/envs/ira_p36/lib/python3.6/site-packages/ira/experimental/c_simulator_core.pyx\n"
     ]
    },
    {
     "data": {
      "text/html": [
       "<pre style=\"white-space:pre;overflow-x:auto;line-height:normal;font-family:Menlo,'DejaVu Sans Mono',consolas,'Courier New',monospace\"><span style=\"font-weight: bold\">(</span>c<span style=\"font-weight: bold\">)</span> <span style=\"color: #008000; font-weight: bold\">2017</span>, AppliedAlpha Infrastructure for Quantitative Research and Analysis, ver. master: \n",
       "<span style=\"color: #008000; font-weight: bold\">0.1476</span>\n",
       "</pre>\n"
      ],
      "text/plain": [
       "<rich.jupyter.JupyterRenderable at 0x7f27078dd390>"
      ]
     },
     "metadata": {},
     "output_type": "display_data"
    }
   ],
   "source": [
    "import ira\n",
    "%alphalab dark\n",
    "\n",
    "%run initlibs.py Lustre dark\n",
    "from tools.loaders.data_loaders import load_data\n",
    "from tools.charting.signals_charts import plot_entries\n",
    "\n",
    "import qlearn as q\n",
    "%run trackers.py\n",
    "%run generators.py\n",
    "%run indicators.py"
   ]
  },
  {
   "cell_type": "code",
   "execution_count": 23,
   "metadata": {},
   "outputs": [],
   "source": [
    "spreads = {\n",
    "   'AUS200': 15*0.1,\n",
    "   'SPXM': 5*0.1,\n",
    "   'XTIUSD': 5*0.01,\n",
    "}"
   ]
  },
  {
   "cell_type": "code",
   "execution_count": 5,
   "metadata": {},
   "outputs": [],
   "source": [
    "md = load_data('amp:SPXM', 'amp:AUS200', 'amp:XTIUSD', 'dukas:SPYUSD', 'dukas:BRENTUSD')"
   ]
  },
  {
   "cell_type": "code",
   "execution_count": 21,
   "metadata": {},
   "outputs": [],
   "source": [
    "l0_spxm = q.gridsearch('Opt model', \n",
    "                       Lustre('1d', 12, 0.15, 50, 10), \n",
    "                       q.ReverseSignalsSharpeScoring(), \n",
    "                       md['SPXM'].ticks(),\n",
    "                       {\n",
    "                           'atr_period': [9, 12, 14, 24],\n",
    "                           'mx': [0.5, 0.75, 1, 1.25],\n",
    "                           'price_moving_period': [20, 50, 150],\n",
    "                           'timeframe': ['1h', '1d', '1w'],\n",
    "                           'vol_moving_period': [5,10,20] \n",
    "                        }, return_train_score=False, verbose=False);"
   ]
  },
  {
   "cell_type": "code",
   "execution_count": 34,
   "metadata": {},
   "outputs": [
    {
     "data": {
      "text/plain": [
       "{'SPXM': {'atr_period': 9,\n",
       "  'mx': 1.25,\n",
       "  'price_moving_period': 150,\n",
       "  'timeframe': '1h',\n",
       "  'vol_moving_period': 10}}"
      ]
     },
     "execution_count": 34,
     "metadata": {},
     "output_type": "execute_result"
    }
   ],
   "source": [
    "l0_spxm.best_params_"
   ]
  },
  {
   "cell_type": "code",
   "execution_count": 31,
   "metadata": {},
   "outputs": [
    {
     "data": {
      "application/vnd.jupyter.widget-view+json": {
       "model_id": "fe468f52a4734d6b83d7225539157697",
       "version_major": 2,
       "version_minor": 0
      },
      "text/plain": [
       "HBox(children=(HTML(value='[Backtest]'), FloatProgress(value=0.0), HTML(value='')))"
      ]
     },
     "metadata": {},
     "output_type": "display_data"
    },
    {
     "data": {
      "application/vnd.jupyter.widget-view+json": {
       "model_id": "fe969f2694de4db6beedf28a3af0bf52",
       "version_major": 2,
       "version_minor": 0
      },
      "text/plain": [
       "HBox(children=(HTML(value='[Backtest]'), FloatProgress(value=0.0), HTML(value='')))"
      ]
     },
     "metadata": {},
     "output_type": "display_data"
    },
    {
     "name": "stdout",
     "output_type": "stream",
     "text": [
      "\n",
      "\n",
      "\n",
      "\n"
     ]
    },
    {
     "data": {
      "application/vnd.jupyter.widget-view+json": {
       "model_id": "6552d24079604c228388d8ab340039e3",
       "version_major": 2,
       "version_minor": 0
      },
      "text/plain": [
       "HBox(children=(HTML(value='[Backtest]'), FloatProgress(value=0.0), HTML(value='')))"
      ]
     },
     "metadata": {},
     "output_type": "display_data"
    },
    {
     "data": {
      "application/vnd.jupyter.widget-view+json": {
       "model_id": "6e65222ed8ac46b090cd59f16b76b12d",
       "version_major": 2,
       "version_minor": 0
      },
      "text/plain": [
       "HBox(children=(HTML(value='[Backtest]'), FloatProgress(value=0.0), HTML(value='')))"
      ]
     },
     "metadata": {},
     "output_type": "display_data"
    },
    {
     "data": {
      "application/vnd.jupyter.widget-view+json": {
       "model_id": "2f010ae2ad854870bcbe22a9adf37330",
       "version_major": 2,
       "version_minor": 0
      },
      "text/plain": [
       "HBox(children=(HTML(value='[Backtest]'), FloatProgress(value=0.0), HTML(value='')))"
      ]
     },
     "metadata": {},
     "output_type": "display_data"
    },
    {
     "data": {
      "application/vnd.jupyter.widget-view+json": {
       "model_id": "cbf49805eed64bfb8c5f3a5f4778c5ea",
       "version_major": 2,
       "version_minor": 0
      },
      "text/plain": [
       "HBox(children=(HTML(value='[Backtest]'), FloatProgress(value=0.0), HTML(value='')))"
      ]
     },
     "metadata": {},
     "output_type": "display_data"
    },
    {
     "name": "stdout",
     "output_type": "stream",
     "text": [
      "\n",
      "\n",
      "\n",
      "\n"
     ]
    }
   ],
   "source": [
    "r_spxm = q.simulation({\n",
    "    'T (SPY) / raw': [l0_spxm, q.FixedTrader(1, 0, 0)], \n",
    "    'T (SPY) / RAD 1': [l0_spxm, RADChandelier(1, '1h', 24, 2)], \n",
    "    'T (SPY) / RAD 2': [l0_spxm, RADChandelier(1, '1h', 24, 3)], \n",
    "    'T (SPY) / RAD 3': [l0_spxm, RADChandelier(1, '1h', 12, 2)], \n",
    "    'T (SPY) / RAD 4': [l0_spxm, RADChandelier(1, '1h', 12, 3)], \n",
    "    'T (SPY) / RAD 5': [l0_spxm, RADChandelier(1, '1h', 24, 1)], \n",
    "}, md['SPXM'].ohlcs('1h'), 'stock', 'Lustre SPXM', spreads=spreads)"
   ]
  },
  {
   "cell_type": "code",
   "execution_count": 33,
   "metadata": {},
   "outputs": [
    {
     "name": "stdout",
     "output_type": "stream",
     "text": [
      "\u001b[33m 0\u001b[0m: \u001b[34mLustre SPXM/T (SPY) / raw   \u001b[0m : Sharpe: \u001b[32m0.87\u001b[0m | Sortino: \u001b[32m1.35\u001b[0m | CAGR: \u001b[32m29.10\u001b[0m | DD: $\u001b[32m689.20\u001b[0m (\u001b[32m31.47\u001b[0m%) | Gain: $\u001b[32m1125.80\u001b[0m | Execs: 129\u001b[33m[OK]\u001b[0m\n",
      "\u001b[33m 1\u001b[0m: \u001b[34mLustre SPXM/T (SPY) / RAD 1 \u001b[0m : Sharpe: \u001b[32m0.75\u001b[0m | Sortino: \u001b[32m1.32\u001b[0m | CAGR: \u001b[32m13.43\u001b[0m | DD: $\u001b[32m344.30\u001b[0m (\u001b[32m22.48\u001b[0m%) | Gain: $\u001b[32m450.70\u001b[0m | Execs: 369\u001b[33m[OK]\u001b[0m\n",
      "\u001b[33m 2\u001b[0m: \u001b[34mLustre SPXM/T (SPY) / RAD 2 \u001b[0m : Sharpe: \u001b[31m-0.04\u001b[0m | Sortino: \u001b[31m-0.07\u001b[0m | CAGR: \u001b[31m-6.00\u001b[0m | DD: $\u001b[32m685.90\u001b[0m (\u001b[32m48.71\u001b[0m%) | Gain: $\u001b[31m-167.00\u001b[0m | Execs: 393\u001b[33m[OK]\u001b[0m\n",
      "\u001b[33m 3\u001b[0m: \u001b[34mLustre SPXM/T (SPY) / RAD 3 \u001b[0m : Sharpe: \u001b[32m0.25\u001b[0m | Sortino: \u001b[32m0.40\u001b[0m | CAGR: \u001b[32m3.14\u001b[0m | DD: $\u001b[32m322.80\u001b[0m (\u001b[32m23.85\u001b[0m%) | Gain: $\u001b[32m95.50\u001b[0m | Execs: 487\u001b[33m[OK]\u001b[0m\n",
      "\u001b[33m 4\u001b[0m: \u001b[34mLustre SPXM/T (SPY) / RAD 4 \u001b[0m : Sharpe: \u001b[31m-0.10\u001b[0m | Sortino: \u001b[31m-0.15\u001b[0m | CAGR: \u001b[31m-9.18\u001b[0m | DD: $\u001b[32m869.50\u001b[0m (\u001b[32m61.45\u001b[0m%) | Gain: $\u001b[31m-247.40\u001b[0m | Execs: 423\u001b[33m[OK]\u001b[0m\n",
      "\u001b[33m 5\u001b[0m: \u001b[34mLustre SPXM/T (SPY) / RAD 5 \u001b[0m : Sharpe: \u001b[32m0.83\u001b[0m | Sortino: \u001b[32m1.54\u001b[0m | CAGR: \u001b[32m9.35\u001b[0m | DD: $\u001b[32m128.20\u001b[0m (\u001b[32m8.98\u001b[0m%) | Gain: $\u001b[32m301.90\u001b[0m | Execs: 190\u001b[33m[OK]\u001b[0m\n"
     ]
    },
    {
     "data": {
      "text/html": [
       "<div>\n",
       "<style scoped>\n",
       "    .dataframe tbody tr th:only-of-type {\n",
       "        vertical-align: middle;\n",
       "    }\n",
       "\n",
       "    .dataframe tbody tr th {\n",
       "        vertical-align: top;\n",
       "    }\n",
       "\n",
       "    .dataframe thead th {\n",
       "        text-align: right;\n",
       "    }\n",
       "</style>\n",
       "<table border=\"1\" class=\"dataframe\">\n",
       "  <thead>\n",
       "    <tr style=\"text-align: right;\">\n",
       "      <th></th>\n",
       "      <th>Name</th>\n",
       "      <th>sharpe</th>\n",
       "      <th>sortino</th>\n",
       "      <th>cagr</th>\n",
       "      <th>dd</th>\n",
       "      <th>dd_pct</th>\n",
       "      <th>gain</th>\n",
       "      <th>number_executions</th>\n",
       "    </tr>\n",
       "  </thead>\n",
       "  <tbody>\n",
       "    <tr>\n",
       "      <th>0</th>\n",
       "      <td>Lustre SPXM/T (SPY) / raw</td>\n",
       "      <td>0.866367</td>\n",
       "      <td>1.345528</td>\n",
       "      <td>29.102606</td>\n",
       "      <td>689.2</td>\n",
       "      <td>31.470320</td>\n",
       "      <td>1125.8</td>\n",
       "      <td>129</td>\n",
       "    </tr>\n",
       "    <tr>\n",
       "      <th>1</th>\n",
       "      <td>Lustre SPXM/T (SPY) / RAD 1</td>\n",
       "      <td>0.745355</td>\n",
       "      <td>1.315383</td>\n",
       "      <td>13.429992</td>\n",
       "      <td>344.3</td>\n",
       "      <td>22.475357</td>\n",
       "      <td>450.7</td>\n",
       "      <td>369</td>\n",
       "    </tr>\n",
       "    <tr>\n",
       "      <th>2</th>\n",
       "      <td>Lustre SPXM/T (SPY) / RAD 2</td>\n",
       "      <td>-0.044745</td>\n",
       "      <td>-0.066946</td>\n",
       "      <td>-6.001333</td>\n",
       "      <td>685.9</td>\n",
       "      <td>48.707570</td>\n",
       "      <td>-167.0</td>\n",
       "      <td>393</td>\n",
       "    </tr>\n",
       "    <tr>\n",
       "      <th>3</th>\n",
       "      <td>Lustre SPXM/T (SPY) / RAD 3</td>\n",
       "      <td>0.246890</td>\n",
       "      <td>0.396221</td>\n",
       "      <td>3.137618</td>\n",
       "      <td>322.8</td>\n",
       "      <td>23.852804</td>\n",
       "      <td>95.5</td>\n",
       "      <td>487</td>\n",
       "    </tr>\n",
       "    <tr>\n",
       "      <th>4</th>\n",
       "      <td>Lustre SPXM/T (SPY) / RAD 4</td>\n",
       "      <td>-0.099618</td>\n",
       "      <td>-0.150547</td>\n",
       "      <td>-9.177991</td>\n",
       "      <td>869.5</td>\n",
       "      <td>61.453106</td>\n",
       "      <td>-247.4</td>\n",
       "      <td>423</td>\n",
       "    </tr>\n",
       "    <tr>\n",
       "      <th>5</th>\n",
       "      <td>Lustre SPXM/T (SPY) / RAD 5</td>\n",
       "      <td>0.828271</td>\n",
       "      <td>1.536631</td>\n",
       "      <td>9.347423</td>\n",
       "      <td>128.2</td>\n",
       "      <td>8.975705</td>\n",
       "      <td>301.9</td>\n",
       "      <td>190</td>\n",
       "    </tr>\n",
       "  </tbody>\n",
       "</table>\n",
       "</div>"
      ],
      "text/plain": [
       "                          Name    sharpe   sortino       cagr     dd  \\\n",
       "0    Lustre SPXM/T (SPY) / raw  0.866367  1.345528  29.102606  689.2   \n",
       "1  Lustre SPXM/T (SPY) / RAD 1  0.745355  1.315383  13.429992  344.3   \n",
       "2  Lustre SPXM/T (SPY) / RAD 2 -0.044745 -0.066946  -6.001333  685.9   \n",
       "3  Lustre SPXM/T (SPY) / RAD 3  0.246890  0.396221   3.137618  322.8   \n",
       "4  Lustre SPXM/T (SPY) / RAD 4 -0.099618 -0.150547  -9.177991  869.5   \n",
       "5  Lustre SPXM/T (SPY) / RAD 5  0.828271  1.536631   9.347423  128.2   \n",
       "\n",
       "      dd_pct    gain  number_executions  \n",
       "0  31.470320  1125.8                129  \n",
       "1  22.475357   450.7                369  \n",
       "2  48.707570  -167.0                393  \n",
       "3  23.852804    95.5                487  \n",
       "4  61.453106  -247.4                423  \n",
       "5   8.975705   301.9                190  "
      ]
     },
     "execution_count": 33,
     "metadata": {},
     "output_type": "execute_result"
    },
    {
     "data": {
      "image/png": "[encoded data removed]",
      "text/plain": [
       "<Figure size 640x400 with 1 Axes>"
      ]
     },
     "metadata": {},
     "output_type": "display_data"
    }
   ],
   "source": [
    "r_spxm.report(1000, commissions=0)"
   ]
  },
  {
   "cell_type": "code",
   "execution_count": null,
   "metadata": {},
   "outputs": [],
   "source": []
  }
 ],
 "metadata": {
  "kernelspec": {
   "display_name": "Python 3",
   "language": "python",
   "name": "python3"
  },
  "language_info": {
   "codemirror_mode": {
    "name": "ipython",
    "version": 3
   },
   "file_extension": ".py",
   "mimetype": "text/x-python",
   "name": "python",
   "nbconvert_exporter": "python",
   "pygments_lexer": "ipython3",
   "version": "3.6.9"
  },
  "widgets": {
   "application/vnd.jupyter.widget-state+json": {
    "state": {
     "006308753d834beab275f8e7a7fda96c": {
      "model_module": "@jupyter-widgets/controls",
      "model_module_version": "1.5.0",
      "model_name": "FloatProgressModel",
      "state": {
       "bar_style": "success",
       "layout": "IPY_MODEL_5fe8f85cd38049baa504777d591a095e",
       "style": "IPY_MODEL_bd16120253b0414eb6aba10a4853f28b",
       "value": 100
      }
     },
     "0083158e03a4472ab3e1eb30a10eba98": {
      "model_module": "@jupyter-widgets/controls",
      "model_module_version": "1.5.0",
      "model_name": "HTMLModel",
      "state": {
       "layout": "IPY_MODEL_f5b59abdfda24ce090a4dfcb53da646c",
       "style": "IPY_MODEL_bcc6950bd2864bc885402b80dcc17524",
       "value": "[Backtest]: 100%"
      }
     },
     "02ea2ce804f5412eb7770cfa9ccde8f1": {
      "model_module": "@jupyter-widgets/controls",
      "model_module_version": "1.5.0",
      "model_name": "DescriptionStyleModel",
      "state": {
       "description_width": ""
      }
     },
     "0334c302b0754c369729126ec508af65": {
      "model_module": "@jupyter-widgets/controls",
      "model_module_version": "1.5.0",
      "model_name": "HTMLModel",
      "state": {
       "layout": "IPY_MODEL_0d181bf2d313467f889a11ffa645e226",
       "style": "IPY_MODEL_8e8865946f464203ae6761fc7bb41f22",
       "value": "[Backtest]: 100%"
      }
     },
     "03b17460c7744b899a174af69914158e": {
      "model_module": "@jupyter-widgets/controls",
      "model_module_version": "1.5.0",
      "model_name": "ProgressStyleModel",
      "state": {
       "description_width": ""
      }
     },
     "03d9432751ad4c458a043a517cc8c0da": {
      "model_module": "@jupyter-widgets/controls",
      "model_module_version": "1.5.0",
      "model_name": "FloatProgressModel",
      "state": {
       "bar_style": "success",
       "layout": "IPY_MODEL_cd37f19568464d8383b3d22adad09d2d",
       "style": "IPY_MODEL_1faa720328594c8aaf9576c3f43579b6",
       "value": 100
      }
     },
     "03e65b2868b046aa908aaf0960a59814": {
      "model_module": "@jupyter-widgets/controls",
      "model_module_version": "1.5.0",
      "model_name": "HBoxModel",
      "state": {
       "children": [
        "IPY_MODEL_fcac26779dcd4f3ab9b58d8c5068051f",
        "IPY_MODEL_df27537126884353b6b4ecd7ef2875e8",
        "IPY_MODEL_74706dd92e7d4479a3c2aabe33bd126c"
       ],
       "layout": "IPY_MODEL_d6dfc4d69b074190a154be8a1529d6f0"
      }
     },
     "04b61229f1ee4712a0b7f43327f1bcc3": {
      "model_module": "@jupyter-widgets/controls",
      "model_module_version": "1.5.0",
      "model_name": "HTMLModel",
      "state": {
       "layout": "IPY_MODEL_2ac0e74687354b9aa241453d85682304",
       "style": "IPY_MODEL_e9b56116d74c4b81ae901e33b8582ac7",
       "value": "[Backtest]: 100%"
      }
     },
     "04fbc9a549a3496a989dc75f4c9ba8a3": {
      "model_module": "@jupyter-widgets/controls",
      "model_module_version": "1.5.0",
      "model_name": "DescriptionStyleModel",
      "state": {
       "description_width": ""
      }
     },
     "059ec7f91c9441b8819a51acbd1b1a3a": {
      "model_module": "@jupyter-widgets/base",
      "model_module_version": "1.2.0",
      "model_name": "LayoutModel",
      "state": {}
     },
     "06c5e14a243a4431bfb7f1e48b831b32": {
      "model_module": "@jupyter-widgets/base",
      "model_module_version": "1.2.0",
      "model_name": "LayoutModel",
      "state": {}
     },
     "073bcc78a7e14bb7985e8a33753a555f": {
      "model_module": "@jupyter-widgets/base",
      "model_module_version": "1.2.0",
      "model_name": "LayoutModel",
      "state": {}
     },
     "077492283c5c4e58a5463e106f5f3931": {
      "model_module": "@jupyter-widgets/controls",
      "model_module_version": "1.5.0",
      "model_name": "DescriptionStyleModel",
      "state": {
       "description_width": ""
      }
     },
     "0a66a1eabd494236833689f0cec353a5": {
      "model_module": "@jupyter-widgets/controls",
      "model_module_version": "1.5.0",
      "model_name": "FloatProgressModel",
      "state": {
       "bar_style": "success",
       "layout": "IPY_MODEL_e5a28ca003ce4254a8322161a163fcc8",
       "style": "IPY_MODEL_03b17460c7744b899a174af69914158e",
       "value": 100
      }
     },
     "0b9e2ad9aab948b197eb08bc3418dfee": {
      "model_module": "@jupyter-widgets/base",
      "model_module_version": "1.2.0",
      "model_name": "LayoutModel",
      "state": {}
     },
     "0d181bf2d313467f889a11ffa645e226": {
      "model_module": "@jupyter-widgets/base",
      "model_module_version": "1.2.0",
      "model_name": "LayoutModel",
      "state": {}
     },
     "0e9cd6bdf5fa4b71adca3c6f2e797e46": {
      "model_module": "@jupyter-widgets/controls",
      "model_module_version": "1.5.0",
      "model_name": "DescriptionStyleModel",
      "state": {
       "description_width": ""
      }
     },
     "0ec56db689cd4727afe1c486346f4546": {
      "model_module": "@jupyter-widgets/controls",
      "model_module_version": "1.5.0",
      "model_name": "HBoxModel",
      "state": {
       "children": [
        "IPY_MODEL_948632c860e545d89b6b6039b04c57ba",
        "IPY_MODEL_03d9432751ad4c458a043a517cc8c0da",
        "IPY_MODEL_76ed42f085c04397aee82c79cbe90a7b"
       ],
       "layout": "IPY_MODEL_94530a1608cc47eb964ae4f54b4ad491"
      }
     },
     "103364e87ba643e9b5ef0421ec35104c": {
      "model_module": "@jupyter-widgets/base",
      "model_module_version": "1.2.0",
      "model_name": "LayoutModel",
      "state": {}
     },
     "1599a96620df4be391648e1612445280": {
      "model_module": "@jupyter-widgets/controls",
      "model_module_version": "1.5.0",
      "model_name": "ProgressStyleModel",
      "state": {
       "description_width": ""
      }
     },
     "15e42a45d61b492f94997ce1e459e099": {
      "model_module": "@jupyter-widgets/controls",
      "model_module_version": "1.5.0",
      "model_name": "DescriptionStyleModel",
      "state": {
       "description_width": ""
      }
     },
     "1618b159181e435a8cbe9fed390730af": {
      "model_module": "@jupyter-widgets/controls",
      "model_module_version": "1.5.0",
      "model_name": "DescriptionStyleModel",
      "state": {
       "description_width": ""
      }
     },
     "165bc93154bb412faba4db5ed9cd1c3a": {
      "model_module": "@jupyter-widgets/base",
      "model_module_version": "1.2.0",
      "model_name": "LayoutModel",
      "state": {}
     },
     "1683322e8b8a433f913fe8921518c07e": {
      "model_module": "@jupyter-widgets/controls",
      "model_module_version": "1.5.0",
      "model_name": "ProgressStyleModel",
      "state": {
       "description_width": ""
      }
     },
     "17e7bbbfffb54df68aab3c6a113445cb": {
      "model_module": "@jupyter-widgets/controls",
      "model_module_version": "1.5.0",
      "model_name": "HBoxModel",
      "state": {
       "children": [
        "IPY_MODEL_0083158e03a4472ab3e1eb30a10eba98",
        "IPY_MODEL_8efcfbd07a49422883c6daa4da1d2050",
        "IPY_MODEL_4bb109d82a4040368e12508f3ca37e41"
       ],
       "layout": "IPY_MODEL_7b183b73eba74cc889619f3e900294b4"
      }
     },
     "19a65da5d7b3435581744551647a7966": {
      "model_module": "@jupyter-widgets/controls",
      "model_module_version": "1.5.0",
      "model_name": "HTMLModel",
      "state": {
       "layout": "IPY_MODEL_a521e39c064847a0ace1028cd8338697",
       "style": "IPY_MODEL_2f1c93fde27c4256b33d8d39abc03c27",
       "value": "[Backtest]: 100%"
      }
     },
     "1b909ee6839a4426ba3bf9194066c3ec": {
      "model_module": "@jupyter-widgets/controls",
      "model_module_version": "1.5.0",
      "model_name": "FloatProgressModel",
      "state": {
       "bar_style": "success",
       "layout": "IPY_MODEL_86b1c909fd694330aff13bbcb222f3dd",
       "style": "IPY_MODEL_9f04b06885064e9ab172898ef18005db",
       "value": 100
      }
     },
     "1b963698517e4e0db9bf5d19542fe7de": {
      "model_module": "@jupyter-widgets/base",
      "model_module_version": "1.2.0",
      "model_name": "LayoutModel",
      "state": {}
     },
     "1b99458ab86e4d448a40f985d7b0c5a0": {
      "model_module": "@jupyter-widgets/controls",
      "model_module_version": "1.5.0",
      "model_name": "HTMLModel",
      "state": {
       "layout": "IPY_MODEL_059ec7f91c9441b8819a51acbd1b1a3a",
       "style": "IPY_MODEL_5cc2936290cc4e3490a56c954cc6ea7d",
       "value": "[Backtest]: 100%"
      }
     },
     "1cfb9faad26143b2b4a7bb410c228bd8": {
      "model_module": "@jupyter-widgets/controls",
      "model_module_version": "1.5.0",
      "model_name": "DescriptionStyleModel",
      "state": {
       "description_width": ""
      }
     },
     "1d0a934d113f4422ba064a8d502df868": {
      "model_module": "@jupyter-widgets/controls",
      "model_module_version": "1.5.0",
      "model_name": "HTMLModel",
      "state": {
       "layout": "IPY_MODEL_bcad8f84c75447eebaa3856f2541e4c0",
       "style": "IPY_MODEL_68ee59427a424df29b1a94f5919304da",
       "value": "[Backtest]: 100%"
      }
     },
     "1dd51dffa38648c8ba37e55868e11a47": {
      "model_module": "@jupyter-widgets/controls",
      "model_module_version": "1.5.0",
      "model_name": "ProgressStyleModel",
      "state": {
       "description_width": ""
      }
     },
     "1ecd25e4408c4396968ba3fab90953a5": {
      "model_module": "@jupyter-widgets/controls",
      "model_module_version": "1.5.0",
      "model_name": "DescriptionStyleModel",
      "state": {
       "description_width": ""
      }
     },
     "1f0cf859bb9a42819064e9a1153df1fb": {
      "model_module": "@jupyter-widgets/controls",
      "model_module_version": "1.5.0",
      "model_name": "FloatProgressModel",
      "state": {
       "bar_style": "success",
       "layout": "IPY_MODEL_9e223af0be7c42cd97ba0133989ea130",
       "style": "IPY_MODEL_bcb8166c7d4c43caa2b224ddff1b42e4",
       "value": 100
      }
     },
     "1faa720328594c8aaf9576c3f43579b6": {
      "model_module": "@jupyter-widgets/controls",
      "model_module_version": "1.5.0",
      "model_name": "ProgressStyleModel",
      "state": {
       "description_width": ""
      }
     },
     "21bc7c4356624496b2cab04eb45da1dc": {
      "model_module": "@jupyter-widgets/controls",
      "model_module_version": "1.5.0",
      "model_name": "DescriptionStyleModel",
      "state": {
       "description_width": ""
      }
     },
     "21df5d55ecf44dd2b85d5cb9e929bb51": {
      "model_module": "@jupyter-widgets/base",
      "model_module_version": "1.2.0",
      "model_name": "LayoutModel",
      "state": {}
     },
     "23737f4d8d7b4b248cf9a88ac94eb3db": {
      "model_module": "@jupyter-widgets/controls",
      "model_module_version": "1.5.0",
      "model_name": "HBoxModel",
      "state": {
       "children": [
        "IPY_MODEL_670524954f134465acd329ab9fba467f",
        "IPY_MODEL_0a66a1eabd494236833689f0cec353a5",
        "IPY_MODEL_434d079cdea74b8684b3725790780295"
       ],
       "layout": "IPY_MODEL_2dd3474febb14f4cbce0986aa213d488"
      }
     },
     "258848a4779a44ec9f5a7b7c74e3302c": {
      "model_module": "@jupyter-widgets/controls",
      "model_module_version": "1.5.0",
      "model_name": "HBoxModel",
      "state": {
       "children": [
        "IPY_MODEL_d8cce1b587b54823ada7cd79d7ce31bb",
        "IPY_MODEL_1b909ee6839a4426ba3bf9194066c3ec",
        "IPY_MODEL_b19bf0b386f045fa8a8115fbdf087248"
       ],
       "layout": "IPY_MODEL_a571fcfef20d4de1917fd49e4fa9481d"
      }
     },
     "265a5e90c8d54f5b98bbf91bab32135c": {
      "model_module": "@jupyter-widgets/controls",
      "model_module_version": "1.5.0",
      "model_name": "HTMLModel",
      "state": {
       "layout": "IPY_MODEL_47fe7bced1f4494db0e4b79b2631789d",
       "style": "IPY_MODEL_f9e9fc13d585451185c877ce2e2311d8",
       "value": " 100/100 [00:10&lt;00:00, 9.17 quotes/s]"
      }
     },
     "27b30989291740c2be16fabc41a10dec": {
      "model_module": "@jupyter-widgets/base",
      "model_module_version": "1.2.0",
      "model_name": "LayoutModel",
      "state": {}
     },
     "2a38bc2755e04caf9d33668e8cc64cda": {
      "model_module": "@jupyter-widgets/base",
      "model_module_version": "1.2.0",
      "model_name": "LayoutModel",
      "state": {}
     },
     "2ac0e74687354b9aa241453d85682304": {
      "model_module": "@jupyter-widgets/base",
      "model_module_version": "1.2.0",
      "model_name": "LayoutModel",
      "state": {}
     },
     "2b9b73fe0b53469faf473a857f78f2c6": {
      "model_module": "@jupyter-widgets/base",
      "model_module_version": "1.2.0",
      "model_name": "LayoutModel",
      "state": {}
     },
     "2c42373ff7c54bdaa5208832343251ab": {
      "model_module": "@jupyter-widgets/controls",
      "model_module_version": "1.5.0",
      "model_name": "HBoxModel",
      "state": {
       "children": [
        "IPY_MODEL_2dd0431d317749a3a1bd9933bb2239fd",
        "IPY_MODEL_fd5a9d0f029c407f8c093f54ca7f8041",
        "IPY_MODEL_5348d726bf7d44d39b360b6b317678da"
       ],
       "layout": "IPY_MODEL_4c523701613d44a78fa472984bca93df"
      }
     },
     "2dd0431d317749a3a1bd9933bb2239fd": {
      "model_module": "@jupyter-widgets/controls",
      "model_module_version": "1.5.0",
      "model_name": "HTMLModel",
      "state": {
       "layout": "IPY_MODEL_2b9b73fe0b53469faf473a857f78f2c6",
       "style": "IPY_MODEL_5d9e860115114dc2b1276976978eba88",
       "value": "[Backtest]: 100%"
      }
     },
     "2dd3474febb14f4cbce0986aa213d488": {
      "model_module": "@jupyter-widgets/base",
      "model_module_version": "1.2.0",
      "model_name": "LayoutModel",
      "state": {}
     },
     "2e3c8c6f07d2439e9291d21a8aeeed2b": {
      "model_module": "@jupyter-widgets/controls",
      "model_module_version": "1.5.0",
      "model_name": "DescriptionStyleModel",
      "state": {
       "description_width": ""
      }
     },
     "2f010ae2ad854870bcbe22a9adf37330": {
      "model_module": "@jupyter-widgets/controls",
      "model_module_version": "1.5.0",
      "model_name": "HBoxModel",
      "state": {
       "children": [
        "IPY_MODEL_fdf06037654242afbe298575fa00196a",
        "IPY_MODEL_4339ef4d5c564f208139dc4a84155fdb",
        "IPY_MODEL_265a5e90c8d54f5b98bbf91bab32135c"
       ],
       "layout": "IPY_MODEL_3d19de570f8f4ef8bf3e835fec7ddbbd"
      }
     },
     "2f1c93fde27c4256b33d8d39abc03c27": {
      "model_module": "@jupyter-widgets/controls",
      "model_module_version": "1.5.0",
      "model_name": "DescriptionStyleModel",
      "state": {
       "description_width": ""
      }
     },
     "2f43ae60d25c4ac2ac6936d05b9db376": {
      "model_module": "@jupyter-widgets/controls",
      "model_module_version": "1.5.0",
      "model_name": "DescriptionStyleModel",
      "state": {
       "description_width": ""
      }
     },
     "2f5c9dd608e54dd0b244b18e9b37bf4f": {
      "model_module": "@jupyter-widgets/controls",
      "model_module_version": "1.5.0",
      "model_name": "DescriptionStyleModel",
      "state": {
       "description_width": ""
      }
     },
     "309638c4e87345a99c8be4771bdbc40e": {
      "model_module": "@jupyter-widgets/controls",
      "model_module_version": "1.5.0",
      "model_name": "HBoxModel",
      "state": {
       "children": [
        "IPY_MODEL_89148e19350345df81f27a9456aab3f1",
        "IPY_MODEL_3dc0619d7aa849ffa328210b1522de9b",
        "IPY_MODEL_784245f23fb5473e9ad1f53f2c75287f"
       ],
       "layout": "IPY_MODEL_87a80b5e809a46e9b1a45d0c42be4858"
      }
     },
     "31732d4118094672a88f326486244565": {
      "model_module": "@jupyter-widgets/controls",
      "model_module_version": "1.5.0",
      "model_name": "FloatProgressModel",
      "state": {
       "layout": "IPY_MODEL_33737bc539af4d008dd2470e3af6e4ee",
       "style": "IPY_MODEL_64ca8030cf2a4de186944432df307e55",
       "value": 100
      }
     },
     "32aa4ee13f3044adb4223d7a85eaec98": {
      "model_module": "@jupyter-widgets/controls",
      "model_module_version": "1.5.0",
      "model_name": "DescriptionStyleModel",
      "state": {
       "description_width": ""
      }
     },
     "33737bc539af4d008dd2470e3af6e4ee": {
      "model_module": "@jupyter-widgets/base",
      "model_module_version": "1.2.0",
      "model_name": "LayoutModel",
      "state": {}
     },
     "34ae72b33c004bf78e60802e0c645f98": {
      "model_module": "@jupyter-widgets/base",
      "model_module_version": "1.2.0",
      "model_name": "LayoutModel",
      "state": {}
     },
     "36815c4617ea42ef9483ac6ec24cd2a6": {
      "model_module": "@jupyter-widgets/base",
      "model_module_version": "1.2.0",
      "model_name": "LayoutModel",
      "state": {}
     },
     "372bb6798e7444d69b8b9c3b1bafbd6d": {
      "model_module": "@jupyter-widgets/base",
      "model_module_version": "1.2.0",
      "model_name": "LayoutModel",
      "state": {}
     },
     "3752ded3fca74e6e900d3efdaefa7ce1": {
      "model_module": "@jupyter-widgets/base",
      "model_module_version": "1.2.0",
      "model_name": "LayoutModel",
      "state": {}
     },
     "39525ea8e3444a798b4a03ed5e864c62": {
      "model_module": "@jupyter-widgets/controls",
      "model_module_version": "1.5.0",
      "model_name": "HTMLModel",
      "state": {
       "layout": "IPY_MODEL_9adee1b0f05f4338ab27c92683f2ace2",
       "style": "IPY_MODEL_d5248a36bc8e411d9c712a36d5e544b8",
       "value": " 100/100 [08:58&lt;00:00, 5.39s/ quotes]"
      }
     },
     "396b94985c6645bcb25d6780f5b3cffd": {
      "model_module": "@jupyter-widgets/controls",
      "model_module_version": "1.5.0",
      "model_name": "DescriptionStyleModel",
      "state": {
       "description_width": ""
      }
     },
     "3970b3305cc64083b7c2e57f76af9c0e": {
      "model_module": "@jupyter-widgets/controls",
      "model_module_version": "1.5.0",
      "model_name": "FloatProgressModel",
      "state": {
       "bar_style": "success",
       "layout": "IPY_MODEL_ef4898db37604575abf6ec2bdf9a6444",
       "style": "IPY_MODEL_3cd9986f2fef4667ae4c3fadccde5cbb",
       "value": 100
      }
     },
     "3a5e7b884fc74479968ccd47dfeb93df": {
      "model_module": "@jupyter-widgets/base",
      "model_module_version": "1.2.0",
      "model_name": "LayoutModel",
      "state": {}
     },
     "3bb4307df3d84ca189a1f6a267895965": {
      "model_module": "@jupyter-widgets/controls",
      "model_module_version": "1.5.0",
      "model_name": "HBoxModel",
      "state": {
       "children": [
        "IPY_MODEL_7195b274dbf748719bb4da280a14ee5b",
        "IPY_MODEL_1f0cf859bb9a42819064e9a1153df1fb",
        "IPY_MODEL_fadf2e52a5644af7af64b316ad3442f5"
       ],
       "layout": "IPY_MODEL_817daba965944d72bf02657b986615c6"
      }
     },
     "3cd9986f2fef4667ae4c3fadccde5cbb": {
      "model_module": "@jupyter-widgets/controls",
      "model_module_version": "1.5.0",
      "model_name": "ProgressStyleModel",
      "state": {
       "description_width": ""
      }
     },
     "3d19de570f8f4ef8bf3e835fec7ddbbd": {
      "model_module": "@jupyter-widgets/base",
      "model_module_version": "1.2.0",
      "model_name": "LayoutModel",
      "state": {}
     },
     "3dc0619d7aa849ffa328210b1522de9b": {
      "model_module": "@jupyter-widgets/controls",
      "model_module_version": "1.5.0",
      "model_name": "FloatProgressModel",
      "state": {
       "bar_style": "success",
       "layout": "IPY_MODEL_983be427c57746878175dab314586528",
       "style": "IPY_MODEL_61dfeb93b71441c4af23f3420e750219",
       "value": 100
      }
     },
     "3de20eb25a7c406fa8759ddf7a63d0b3": {
      "model_module": "@jupyter-widgets/controls",
      "model_module_version": "1.5.0",
      "model_name": "ProgressStyleModel",
      "state": {
       "description_width": ""
      }
     },
     "3e84927972e943418ca6562659a4bdd2": {
      "model_module": "@jupyter-widgets/controls",
      "model_module_version": "1.5.0",
      "model_name": "DescriptionStyleModel",
      "state": {
       "description_width": ""
      }
     },
     "3fb923193c6a4c4689887fc328239629": {
      "model_module": "@jupyter-widgets/controls",
      "model_module_version": "1.5.0",
      "model_name": "DescriptionStyleModel",
      "state": {
       "description_width": ""
      }
     },
     "40390d2d3fee4ea4bcbfc96bd20f792e": {
      "model_module": "@jupyter-widgets/controls",
      "model_module_version": "1.5.0",
      "model_name": "DescriptionStyleModel",
      "state": {
       "description_width": ""
      }
     },
     "40ffddfac5d64dc6bee73dcbbc7c3aa6": {
      "model_module": "@jupyter-widgets/controls",
      "model_module_version": "1.5.0",
      "model_name": "DescriptionStyleModel",
      "state": {
       "description_width": ""
      }
     },
     "4320cd6a2c8e4c67a7b259ffbe7a4d88": {
      "model_module": "@jupyter-widgets/base",
      "model_module_version": "1.2.0",
      "model_name": "LayoutModel",
      "state": {}
     },
     "4339ef4d5c564f208139dc4a84155fdb": {
      "model_module": "@jupyter-widgets/controls",
      "model_module_version": "1.5.0",
      "model_name": "FloatProgressModel",
      "state": {
       "bar_style": "success",
       "layout": "IPY_MODEL_a15187719813490cbb695240920ca8db",
       "style": "IPY_MODEL_464e2f15883a4ff8acf6b09d82c728d1",
       "value": 100
      }
     },
     "434d079cdea74b8684b3725790780295": {
      "model_module": "@jupyter-widgets/controls",
      "model_module_version": "1.5.0",
      "model_name": "HTMLModel",
      "state": {
       "layout": "IPY_MODEL_8def49ac53b34557b40227581fc7f4fc",
       "style": "IPY_MODEL_771d9848b3b441ca89ca8d3d55805a18",
       "value": " 100/100 [04:14&lt;00:00, 2.55s/ quotes]"
      }
     },
     "447c6f821b53436792c7cbdefa61b664": {
      "model_module": "@jupyter-widgets/base",
      "model_module_version": "1.2.0",
      "model_name": "LayoutModel",
      "state": {}
     },
     "464e2f15883a4ff8acf6b09d82c728d1": {
      "model_module": "@jupyter-widgets/controls",
      "model_module_version": "1.5.0",
      "model_name": "ProgressStyleModel",
      "state": {
       "description_width": ""
      }
     },
     "47fe7bced1f4494db0e4b79b2631789d": {
      "model_module": "@jupyter-widgets/base",
      "model_module_version": "1.2.0",
      "model_name": "LayoutModel",
      "state": {}
     },
     "4a28b9df92e24367b48db1bf4977109a": {
      "model_module": "@jupyter-widgets/controls",
      "model_module_version": "1.5.0",
      "model_name": "HTMLModel",
      "state": {
       "layout": "IPY_MODEL_bab7539c880843b9b6ff13fd8ae8d1a9",
       "style": "IPY_MODEL_e1c9931953bd4a77874bc0e20c0835d1",
       "value": " 100/100 [08:52&lt;00:00, 5.33s/ quotes]"
      }
     },
     "4bb109d82a4040368e12508f3ca37e41": {
      "model_module": "@jupyter-widgets/controls",
      "model_module_version": "1.5.0",
      "model_name": "HTMLModel",
      "state": {
       "layout": "IPY_MODEL_e6399ba286db403097766b249a2ee3b7",
       "style": "IPY_MODEL_8b81659f916d4c56afebff0144d71633",
       "value": " 100/100 [00:31&lt;00:00, 3.17 quotes/s]"
      }
     },
     "4c3cdc998c9a44ce8d39a822f29e3360": {
      "model_module": "@jupyter-widgets/base",
      "model_module_version": "1.2.0",
      "model_name": "LayoutModel",
      "state": {}
     },
     "4c523701613d44a78fa472984bca93df": {
      "model_module": "@jupyter-widgets/base",
      "model_module_version": "1.2.0",
      "model_name": "LayoutModel",
      "state": {}
     },
     "505c07b6a85445dfb600fb639b0823f4": {
      "model_module": "@jupyter-widgets/controls",
      "model_module_version": "1.5.0",
      "model_name": "HTMLModel",
      "state": {
       "layout": "IPY_MODEL_f7b71f6d52e440cca8ca21d440eaa583",
       "style": "IPY_MODEL_077492283c5c4e58a5463e106f5f3931",
       "value": "[Backtest]: 100%"
      }
     },
     "51b84f1fa15d406aab9019abedfe6ab3": {
      "model_module": "@jupyter-widgets/controls",
      "model_module_version": "1.5.0",
      "model_name": "DescriptionStyleModel",
      "state": {
       "description_width": ""
      }
     },
     "5348d726bf7d44d39b360b6b317678da": {
      "model_module": "@jupyter-widgets/controls",
      "model_module_version": "1.5.0",
      "model_name": "HTMLModel",
      "state": {
       "layout": "IPY_MODEL_843e7e796cbb4335b3ebc263f9cadb08",
       "style": "IPY_MODEL_2f43ae60d25c4ac2ac6936d05b9db376",
       "value": " 100/100 [00:51&lt;00:00, 1.93 quotes/s]"
      }
     },
     "535fe96213854b8aaaf9a8238c69a9e5": {
      "model_module": "@jupyter-widgets/controls",
      "model_module_version": "1.5.0",
      "model_name": "HTMLModel",
      "state": {
       "layout": "IPY_MODEL_76755431ec634b16a745046aa3fae94c",
       "style": "IPY_MODEL_40390d2d3fee4ea4bcbfc96bd20f792e",
       "value": " 100/100 [00:46&lt;00:00, 2.17 quotes/s]"
      }
     },
     "57a0f865d2b64df0ba3f756be9b5bb9e": {
      "model_module": "@jupyter-widgets/controls",
      "model_module_version": "1.5.0",
      "model_name": "FloatProgressModel",
      "state": {
       "bar_style": "success",
       "layout": "IPY_MODEL_6ae1e6b5dd754801804c10021bbce665",
       "style": "IPY_MODEL_ff395d71035b484b96b8b42190fb834b",
       "value": 100
      }
     },
     "5917acff83b7444283bc3ddc9ddb08e8": {
      "model_module": "@jupyter-widgets/controls",
      "model_module_version": "1.5.0",
      "model_name": "ProgressStyleModel",
      "state": {
       "description_width": ""
      }
     },
     "594130fc9af74533b61dd77f0436828b": {
      "model_module": "@jupyter-widgets/controls",
      "model_module_version": "1.5.0",
      "model_name": "DescriptionStyleModel",
      "state": {
       "description_width": ""
      }
     },
     "5a2ce1a886a64170a74ffdef297ae9fc": {
      "model_module": "@jupyter-widgets/controls",
      "model_module_version": "1.5.0",
      "model_name": "FloatProgressModel",
      "state": {
       "bar_style": "success",
       "layout": "IPY_MODEL_5a31ea478fa24e3498353ffa25806950",
       "style": "IPY_MODEL_ba3c6295010840d1ad44124543a1856f",
       "value": 100
      }
     },
     "5a31ea478fa24e3498353ffa25806950": {
      "model_module": "@jupyter-widgets/base",
      "model_module_version": "1.2.0",
      "model_name": "LayoutModel",
      "state": {}
     },
     "5cc2936290cc4e3490a56c954cc6ea7d": {
      "model_module": "@jupyter-widgets/controls",
      "model_module_version": "1.5.0",
      "model_name": "DescriptionStyleModel",
      "state": {
       "description_width": ""
      }
     },
     "5cc35a954bb24421a3d700e254337703": {
      "model_module": "@jupyter-widgets/base",
      "model_module_version": "1.2.0",
      "model_name": "LayoutModel",
      "state": {}
     },
     "5d0df5faf32c4d8d84b77a8ce35e6dd6": {
      "model_module": "@jupyter-widgets/controls",
      "model_module_version": "1.5.0",
      "model_name": "HBoxModel",
      "state": {
       "children": [
        "IPY_MODEL_b07cb2670fd746e898d9b78a6dd83db4",
        "IPY_MODEL_3970b3305cc64083b7c2e57f76af9c0e",
        "IPY_MODEL_85e9a32ff8eb4b86bb909074396744ae"
       ],
       "layout": "IPY_MODEL_ad26d4bfc0ee4800ab0793792141ec0b"
      }
     },
     "5d124be5acbd4817b3e7d48d4c7a1f9d": {
      "model_module": "@jupyter-widgets/base",
      "model_module_version": "1.2.0",
      "model_name": "LayoutModel",
      "state": {}
     },
     "5d1e0061484c43e6bc57594cc0c09005": {
      "model_module": "@jupyter-widgets/base",
      "model_module_version": "1.2.0",
      "model_name": "LayoutModel",
      "state": {}
     },
     "5d9e860115114dc2b1276976978eba88": {
      "model_module": "@jupyter-widgets/controls",
      "model_module_version": "1.5.0",
      "model_name": "DescriptionStyleModel",
      "state": {
       "description_width": ""
      }
     },
     "5f6a2f2710cb4ef8b5624ffa46ed6fff": {
      "model_module": "@jupyter-widgets/base",
      "model_module_version": "1.2.0",
      "model_name": "LayoutModel",
      "state": {}
     },
     "5fe8f85cd38049baa504777d591a095e": {
      "model_module": "@jupyter-widgets/base",
      "model_module_version": "1.2.0",
      "model_name": "LayoutModel",
      "state": {}
     },
     "61dfeb93b71441c4af23f3420e750219": {
      "model_module": "@jupyter-widgets/controls",
      "model_module_version": "1.5.0",
      "model_name": "ProgressStyleModel",
      "state": {
       "description_width": ""
      }
     },
     "630871d3a4e14406ace97a9e18d9dce4": {
      "model_module": "@jupyter-widgets/base",
      "model_module_version": "1.2.0",
      "model_name": "LayoutModel",
      "state": {}
     },
     "63b8ef7d4fbc4b11a53c3cc77a73e068": {
      "model_module": "@jupyter-widgets/controls",
      "model_module_version": "1.5.0",
      "model_name": "HBoxModel",
      "state": {
       "children": [
        "IPY_MODEL_a12c15f08ea44098b7ab9ac1da193ed3",
        "IPY_MODEL_57a0f865d2b64df0ba3f756be9b5bb9e",
        "IPY_MODEL_d2cf2c5a94804256b7b1bb31edb40084"
       ],
       "layout": "IPY_MODEL_2a38bc2755e04caf9d33668e8cc64cda"
      }
     },
     "64ca8030cf2a4de186944432df307e55": {
      "model_module": "@jupyter-widgets/controls",
      "model_module_version": "1.5.0",
      "model_name": "ProgressStyleModel",
      "state": {
       "description_width": ""
      }
     },
     "6508b9195b3b414196fa54b1c6528012": {
      "model_module": "@jupyter-widgets/base",
      "model_module_version": "1.2.0",
      "model_name": "LayoutModel",
      "state": {}
     },
     "6552d24079604c228388d8ab340039e3": {
      "model_module": "@jupyter-widgets/controls",
      "model_module_version": "1.5.0",
      "model_name": "HBoxModel",
      "state": {
       "children": [
        "IPY_MODEL_de0a9bf942914a9fa1c3f1e4e5df8d72",
        "IPY_MODEL_d9da1cf7d1dc4720ac7489abd4ec19b3",
        "IPY_MODEL_f055122800fa4721b6add8314cffc63a"
       ],
       "layout": "IPY_MODEL_a322b53033bc48398ac69988725067ef"
      }
     },
     "6666bb8f5e6145b7ad9a8832e18186b6": {
      "model_module": "@jupyter-widgets/base",
      "model_module_version": "1.2.0",
      "model_name": "LayoutModel",
      "state": {}
     },
     "670524954f134465acd329ab9fba467f": {
      "model_module": "@jupyter-widgets/controls",
      "model_module_version": "1.5.0",
      "model_name": "HTMLModel",
      "state": {
       "layout": "IPY_MODEL_ba48014f5b5b440faeaf9952d62e97a3",
       "style": "IPY_MODEL_79eb3f7ad814464395d24bc2909655f9",
       "value": "[Backtest]: 100%"
      }
     },
     "6777519c68e04b77bcedcca49e44f70c": {
      "model_module": "@jupyter-widgets/base",
      "model_module_version": "1.2.0",
      "model_name": "LayoutModel",
      "state": {}
     },
     "68ee59427a424df29b1a94f5919304da": {
      "model_module": "@jupyter-widgets/controls",
      "model_module_version": "1.5.0",
      "model_name": "DescriptionStyleModel",
      "state": {
       "description_width": ""
      }
     },
     "69467d12bc5d494a8bda10b146c01dd1": {
      "model_module": "@jupyter-widgets/controls",
      "model_module_version": "1.5.0",
      "model_name": "HBoxModel",
      "state": {
       "children": [
        "IPY_MODEL_7d4b4fc13eef4053a33171957666b3ac",
        "IPY_MODEL_ec0884d59bc245058af7c4ba9555a3ba",
        "IPY_MODEL_a39a116729e94ff7adb4dab195765b19"
       ],
       "layout": "IPY_MODEL_27b30989291740c2be16fabc41a10dec"
      }
     },
     "69835cc5a2b54b7388da63468c6b9e41": {
      "model_module": "@jupyter-widgets/controls",
      "model_module_version": "1.5.0",
      "model_name": "DescriptionStyleModel",
      "state": {
       "description_width": ""
      }
     },
     "6ae1e6b5dd754801804c10021bbce665": {
      "model_module": "@jupyter-widgets/base",
      "model_module_version": "1.2.0",
      "model_name": "LayoutModel",
      "state": {}
     },
     "6cbb754bfcab41d3af8bbc6fa1e1436b": {
      "model_module": "@jupyter-widgets/controls",
      "model_module_version": "1.5.0",
      "model_name": "HTMLModel",
      "state": {
       "layout": "IPY_MODEL_d4a48790a39343dbbb08d8c97499e046",
       "style": "IPY_MODEL_dd0e706ea0304a8293f130673feeb0c2",
       "value": " 100/100 [09:04&lt;00:00, 5.45s/ quotes]"
      }
     },
     "6e599ca3fecf49488957a77abf33982b": {
      "model_module": "@jupyter-widgets/base",
      "model_module_version": "1.2.0",
      "model_name": "LayoutModel",
      "state": {}
     },
     "6e65222ed8ac46b090cd59f16b76b12d": {
      "model_module": "@jupyter-widgets/controls",
      "model_module_version": "1.5.0",
      "model_name": "HBoxModel",
      "state": {
       "children": [
        "IPY_MODEL_0334c302b0754c369729126ec508af65",
        "IPY_MODEL_006308753d834beab275f8e7a7fda96c",
        "IPY_MODEL_bf8f36e0ad28442b9bee48fd193913f4"
       ],
       "layout": "IPY_MODEL_447c6f821b53436792c7cbdefa61b664"
      }
     },
     "6fcd1f955e9448fba0af857d06727dfd": {
      "model_module": "@jupyter-widgets/base",
      "model_module_version": "1.2.0",
      "model_name": "LayoutModel",
      "state": {}
     },
     "702900560a8b4520a61fbb0c88612fbd": {
      "model_module": "@jupyter-widgets/base",
      "model_module_version": "1.2.0",
      "model_name": "LayoutModel",
      "state": {}
     },
     "70856bc58d5e4beeba64679443dfd702": {
      "model_module": "@jupyter-widgets/controls",
      "model_module_version": "1.5.0",
      "model_name": "DescriptionStyleModel",
      "state": {
       "description_width": ""
      }
     },
     "7195b274dbf748719bb4da280a14ee5b": {
      "model_module": "@jupyter-widgets/controls",
      "model_module_version": "1.5.0",
      "model_name": "HTMLModel",
      "state": {
       "layout": "IPY_MODEL_c845abd67d9d4d8da6a7cade2dabbb95",
       "style": "IPY_MODEL_3e84927972e943418ca6562659a4bdd2",
       "value": "[Backtest]: 100%"
      }
     },
     "74706dd92e7d4479a3c2aabe33bd126c": {
      "model_module": "@jupyter-widgets/controls",
      "model_module_version": "1.5.0",
      "model_name": "HTMLModel",
      "state": {
       "layout": "IPY_MODEL_de4be6cc71164e0ab366257c01f5f115",
       "style": "IPY_MODEL_c1f50dbab835486e8ab84c9e8533e9bf",
       "value": " 100/100 [03:50&lt;00:00, 2.31s/ quotes]"
      }
     },
     "765815b505b4401d92e42e3c13a4c891": {
      "model_module": "@jupyter-widgets/controls",
      "model_module_version": "1.5.0",
      "model_name": "FloatProgressModel",
      "state": {
       "bar_style": "success",
       "layout": "IPY_MODEL_8d9c0fdae08549c89d871c59627c0d9a",
       "style": "IPY_MODEL_9ed2c7a4b4c140d19177538d5ca19f67",
       "value": 100
      }
     },
     "76755431ec634b16a745046aa3fae94c": {
      "model_module": "@jupyter-widgets/base",
      "model_module_version": "1.2.0",
      "model_name": "LayoutModel",
      "state": {}
     },
     "76ed42f085c04397aee82c79cbe90a7b": {
      "model_module": "@jupyter-widgets/controls",
      "model_module_version": "1.5.0",
      "model_name": "HTMLModel",
      "state": {
       "layout": "IPY_MODEL_34ae72b33c004bf78e60802e0c645f98",
       "style": "IPY_MODEL_b58d871520d549f8b0f156188d19f3e9",
       "value": " 100/100 [00:40&lt;00:00, 2.49 quotes/s]"
      }
     },
     "771d9848b3b441ca89ca8d3d55805a18": {
      "model_module": "@jupyter-widgets/controls",
      "model_module_version": "1.5.0",
      "model_name": "DescriptionStyleModel",
      "state": {
       "description_width": ""
      }
     },
     "784245f23fb5473e9ad1f53f2c75287f": {
      "model_module": "@jupyter-widgets/controls",
      "model_module_version": "1.5.0",
      "model_name": "HTMLModel",
      "state": {
       "layout": "IPY_MODEL_36815c4617ea42ef9483ac6ec24cd2a6",
       "style": "IPY_MODEL_396b94985c6645bcb25d6780f5b3cffd",
       "value": " 100/100 [00:06&lt;00:00, 16.4 quotes/s]"
      }
     },
     "78844326d92c4ee891d1115aaeb31726": {
      "model_module": "@jupyter-widgets/controls",
      "model_module_version": "1.5.0",
      "model_name": "ProgressStyleModel",
      "state": {
       "description_width": ""
      }
     },
     "79eb3f7ad814464395d24bc2909655f9": {
      "model_module": "@jupyter-widgets/controls",
      "model_module_version": "1.5.0",
      "model_name": "DescriptionStyleModel",
      "state": {
       "description_width": ""
      }
     },
     "7b183b73eba74cc889619f3e900294b4": {
      "model_module": "@jupyter-widgets/base",
      "model_module_version": "1.2.0",
      "model_name": "LayoutModel",
      "state": {}
     },
     "7b4febd810314e53b99e165e8fa6550e": {
      "model_module": "@jupyter-widgets/base",
      "model_module_version": "1.2.0",
      "model_name": "LayoutModel",
      "state": {}
     },
     "7d4b4fc13eef4053a33171957666b3ac": {
      "model_module": "@jupyter-widgets/controls",
      "model_module_version": "1.5.0",
      "model_name": "HTMLModel",
      "state": {
       "layout": "IPY_MODEL_ff22fdc1b24a485e9861fb8a675bff1b",
       "style": "IPY_MODEL_a87f072ef04043ab945818d01a9954b9",
       "value": "[Backtest]: 100%"
      }
     },
     "7f3ff7d03c7a494fbb62285e472632b0": {
      "model_module": "@jupyter-widgets/base",
      "model_module_version": "1.2.0",
      "model_name": "LayoutModel",
      "state": {}
     },
     "7fdd4e2e475e46d99c807bab25f9b59f": {
      "model_module": "@jupyter-widgets/base",
      "model_module_version": "1.2.0",
      "model_name": "LayoutModel",
      "state": {}
     },
     "817daba965944d72bf02657b986615c6": {
      "model_module": "@jupyter-widgets/base",
      "model_module_version": "1.2.0",
      "model_name": "LayoutModel",
      "state": {}
     },
     "81a94574899f4e6da13dd5792cd254e2": {
      "model_module": "@jupyter-widgets/controls",
      "model_module_version": "1.5.0",
      "model_name": "ProgressStyleModel",
      "state": {
       "description_width": ""
      }
     },
     "81d9ea5bcb184f60b73c130932262319": {
      "model_module": "@jupyter-widgets/base",
      "model_module_version": "1.2.0",
      "model_name": "LayoutModel",
      "state": {}
     },
     "8200d39f37544459b4cb3fad2497228f": {
      "model_module": "@jupyter-widgets/base",
      "model_module_version": "1.2.0",
      "model_name": "LayoutModel",
      "state": {}
     },
     "843e7e796cbb4335b3ebc263f9cadb08": {
      "model_module": "@jupyter-widgets/base",
      "model_module_version": "1.2.0",
      "model_name": "LayoutModel",
      "state": {}
     },
     "84af818b633b4996a699e15d8aed99df": {
      "model_module": "@jupyter-widgets/controls",
      "model_module_version": "1.5.0",
      "model_name": "HBoxModel",
      "state": {
       "children": [
        "IPY_MODEL_fcb863fdc8eb4f89aaded0a53728f94f",
        "IPY_MODEL_cdb6eb6545b54f5bb794c7ebc73e0398",
        "IPY_MODEL_6cbb754bfcab41d3af8bbc6fa1e1436b"
       ],
       "layout": "IPY_MODEL_630871d3a4e14406ace97a9e18d9dce4"
      }
     },
     "84f7bd53e3b1440295a41be5e424031f": {
      "model_module": "@jupyter-widgets/controls",
      "model_module_version": "1.5.0",
      "model_name": "ProgressStyleModel",
      "state": {
       "description_width": ""
      }
     },
     "85e9a32ff8eb4b86bb909074396744ae": {
      "model_module": "@jupyter-widgets/controls",
      "model_module_version": "1.5.0",
      "model_name": "HTMLModel",
      "state": {
       "layout": "IPY_MODEL_a705a5bcbffc483887348e9c46bc1e89",
       "style": "IPY_MODEL_b8523d8bd8a440f8ba1ac501c26f3bbb",
       "value": " 100/100 [00:29&lt;00:00, 3.40 quotes/s]"
      }
     },
     "86b1c909fd694330aff13bbcb222f3dd": {
      "model_module": "@jupyter-widgets/base",
      "model_module_version": "1.2.0",
      "model_name": "LayoutModel",
      "state": {}
     },
     "8763f0c4827d422cb6f6a76c98c368bd": {
      "model_module": "@jupyter-widgets/controls",
      "model_module_version": "1.5.0",
      "model_name": "FloatProgressModel",
      "state": {
       "bar_style": "success",
       "layout": "IPY_MODEL_6666bb8f5e6145b7ad9a8832e18186b6",
       "style": "IPY_MODEL_cb7523a1fce84b15adb2f61672110295",
       "value": 100
      }
     },
     "87a80b5e809a46e9b1a45d0c42be4858": {
      "model_module": "@jupyter-widgets/base",
      "model_module_version": "1.2.0",
      "model_name": "LayoutModel",
      "state": {}
     },
     "89148e19350345df81f27a9456aab3f1": {
      "model_module": "@jupyter-widgets/controls",
      "model_module_version": "1.5.0",
      "model_name": "HTMLModel",
      "state": {
       "layout": "IPY_MODEL_6508b9195b3b414196fa54b1c6528012",
       "style": "IPY_MODEL_1ecd25e4408c4396968ba3fab90953a5",
       "value": "[Backtest]: 100%"
      }
     },
     "895666d16eb7461b8738252d13529c4c": {
      "model_module": "@jupyter-widgets/controls",
      "model_module_version": "1.5.0",
      "model_name": "HBoxModel",
      "state": {
       "children": [
        "IPY_MODEL_505c07b6a85445dfb600fb639b0823f4",
        "IPY_MODEL_bb9c670f51a146efa60f4c61cf925d37",
        "IPY_MODEL_ffda7675dfb749d99a46f8c7880eaa42"
       ],
       "layout": "IPY_MODEL_5f6a2f2710cb4ef8b5624ffa46ed6fff"
      }
     },
     "8a42942e9837402989af7db67c073901": {
      "model_module": "@jupyter-widgets/controls",
      "model_module_version": "1.5.0",
      "model_name": "HTMLModel",
      "state": {
       "layout": "IPY_MODEL_9a417d8a5c874d8e9468bc3db66d0dde",
       "style": "IPY_MODEL_b9620018c94042ee99ec9be0deb5609d",
       "value": "[Backtest]: 100%"
      }
     },
     "8b81659f916d4c56afebff0144d71633": {
      "model_module": "@jupyter-widgets/controls",
      "model_module_version": "1.5.0",
      "model_name": "DescriptionStyleModel",
      "state": {
       "description_width": ""
      }
     },
     "8ca4851e18bb48e7a15c34a39324fcc5": {
      "model_module": "@jupyter-widgets/controls",
      "model_module_version": "1.5.0",
      "model_name": "HTMLModel",
      "state": {
       "layout": "IPY_MODEL_702900560a8b4520a61fbb0c88612fbd",
       "style": "IPY_MODEL_32aa4ee13f3044adb4223d7a85eaec98",
       "value": " 100/100 [00:42&lt;00:00, 2.36 quotes/s]"
      }
     },
     "8d9c0fdae08549c89d871c59627c0d9a": {
      "model_module": "@jupyter-widgets/base",
      "model_module_version": "1.2.0",
      "model_name": "LayoutModel",
      "state": {}
     },
     "8def49ac53b34557b40227581fc7f4fc": {
      "model_module": "@jupyter-widgets/base",
      "model_module_version": "1.2.0",
      "model_name": "LayoutModel",
      "state": {}
     },
     "8e09bede49084ec2b6159ff05367a37e": {
      "model_module": "@jupyter-widgets/controls",
      "model_module_version": "1.5.0",
      "model_name": "DescriptionStyleModel",
      "state": {
       "description_width": ""
      }
     },
     "8e8865946f464203ae6761fc7bb41f22": {
      "model_module": "@jupyter-widgets/controls",
      "model_module_version": "1.5.0",
      "model_name": "DescriptionStyleModel",
      "state": {
       "description_width": ""
      }
     },
     "8efcfbd07a49422883c6daa4da1d2050": {
      "model_module": "@jupyter-widgets/controls",
      "model_module_version": "1.5.0",
      "model_name": "FloatProgressModel",
      "state": {
       "bar_style": "success",
       "layout": "IPY_MODEL_7b4febd810314e53b99e165e8fa6550e",
       "style": "IPY_MODEL_1599a96620df4be391648e1612445280",
       "value": 100
      }
     },
     "8f1bf5f74ae842bd8c03aaf46576a2f7": {
      "model_module": "@jupyter-widgets/controls",
      "model_module_version": "1.5.0",
      "model_name": "FloatProgressModel",
      "state": {
       "bar_style": "success",
       "layout": "IPY_MODEL_a23c027c1a7a40efb2d1cff5e1bb2667",
       "style": "IPY_MODEL_5917acff83b7444283bc3ddc9ddb08e8",
       "value": 100
      }
     },
     "90ab1765047a4a0a881b1474d48030f8": {
      "model_module": "@jupyter-widgets/base",
      "model_module_version": "1.2.0",
      "model_name": "LayoutModel",
      "state": {}
     },
     "92577a46c5f14c0db7786ae93b5fb8e3": {
      "model_module": "@jupyter-widgets/controls",
      "model_module_version": "1.5.0",
      "model_name": "FloatProgressModel",
      "state": {
       "bar_style": "success",
       "layout": "IPY_MODEL_5d1e0061484c43e6bc57594cc0c09005",
       "style": "IPY_MODEL_81a94574899f4e6da13dd5792cd254e2",
       "value": 100
      }
     },
     "942f829d04cb47078625e9338f2de13f": {
      "model_module": "@jupyter-widgets/base",
      "model_module_version": "1.2.0",
      "model_name": "LayoutModel",
      "state": {}
     },
     "94530a1608cc47eb964ae4f54b4ad491": {
      "model_module": "@jupyter-widgets/base",
      "model_module_version": "1.2.0",
      "model_name": "LayoutModel",
      "state": {}
     },
     "948632c860e545d89b6b6039b04c57ba": {
      "model_module": "@jupyter-widgets/controls",
      "model_module_version": "1.5.0",
      "model_name": "HTMLModel",
      "state": {
       "layout": "IPY_MODEL_5cc35a954bb24421a3d700e254337703",
       "style": "IPY_MODEL_594130fc9af74533b61dd77f0436828b",
       "value": "[Backtest]: 100%"
      }
     },
     "979c494c0b9b411781ff9e21649b1d88": {
      "model_module": "@jupyter-widgets/controls",
      "model_module_version": "1.5.0",
      "model_name": "HBoxModel",
      "state": {
       "children": [
        "IPY_MODEL_19a65da5d7b3435581744551647a7966",
        "IPY_MODEL_b933846eb5c24fc8adc689e2849d0657",
        "IPY_MODEL_9ecd97ece2e94dfabf8bdc01631784cd"
       ],
       "layout": "IPY_MODEL_df408d3e09624b90b793779d189218b3"
      }
     },
     "983be427c57746878175dab314586528": {
      "model_module": "@jupyter-widgets/base",
      "model_module_version": "1.2.0",
      "model_name": "LayoutModel",
      "state": {}
     },
     "9a417d8a5c874d8e9468bc3db66d0dde": {
      "model_module": "@jupyter-widgets/base",
      "model_module_version": "1.2.0",
      "model_name": "LayoutModel",
      "state": {}
     },
     "9adee1b0f05f4338ab27c92683f2ace2": {
      "model_module": "@jupyter-widgets/base",
      "model_module_version": "1.2.0",
      "model_name": "LayoutModel",
      "state": {}
     },
     "9c46f6ca586d46ca80e25077c04d552e": {
      "model_module": "@jupyter-widgets/controls",
      "model_module_version": "1.5.0",
      "model_name": "HTMLModel",
      "state": {
       "layout": "IPY_MODEL_6fcd1f955e9448fba0af857d06727dfd",
       "style": "IPY_MODEL_70856bc58d5e4beeba64679443dfd702",
       "value": " 100/100 [00:40&lt;00:00, 2.47 quotes/s]"
      }
     },
     "9e223af0be7c42cd97ba0133989ea130": {
      "model_module": "@jupyter-widgets/base",
      "model_module_version": "1.2.0",
      "model_name": "LayoutModel",
      "state": {}
     },
     "9ecd97ece2e94dfabf8bdc01631784cd": {
      "model_module": "@jupyter-widgets/controls",
      "model_module_version": "1.5.0",
      "model_name": "HTMLModel",
      "state": {
       "layout": "IPY_MODEL_bed31aa0baab49f5b7d13089baa18b42",
       "style": "IPY_MODEL_2f5c9dd608e54dd0b244b18e9b37bf4f",
       "value": " 100/100 [01:05&lt;00:00, 1.53 quotes/s]"
      }
     },
     "9ed2c7a4b4c140d19177538d5ca19f67": {
      "model_module": "@jupyter-widgets/controls",
      "model_module_version": "1.5.0",
      "model_name": "ProgressStyleModel",
      "state": {
       "description_width": ""
      }
     },
     "9f04b06885064e9ab172898ef18005db": {
      "model_module": "@jupyter-widgets/controls",
      "model_module_version": "1.5.0",
      "model_name": "ProgressStyleModel",
      "state": {
       "description_width": ""
      }
     },
     "a12c15f08ea44098b7ab9ac1da193ed3": {
      "model_module": "@jupyter-widgets/controls",
      "model_module_version": "1.5.0",
      "model_name": "HTMLModel",
      "state": {
       "layout": "IPY_MODEL_5d124be5acbd4817b3e7d48d4c7a1f9d",
       "style": "IPY_MODEL_bf4863e971014002b05535438249ee29",
       "value": "[Backtest]: 100%"
      }
     },
     "a15187719813490cbb695240920ca8db": {
      "model_module": "@jupyter-widgets/base",
      "model_module_version": "1.2.0",
      "model_name": "LayoutModel",
      "state": {}
     },
     "a1cbf1504a5046dabe8adddfa53f10d1": {
      "model_module": "@jupyter-widgets/base",
      "model_module_version": "1.2.0",
      "model_name": "LayoutModel",
      "state": {}
     },
     "a23c027c1a7a40efb2d1cff5e1bb2667": {
      "model_module": "@jupyter-widgets/base",
      "model_module_version": "1.2.0",
      "model_name": "LayoutModel",
      "state": {}
     },
     "a322b53033bc48398ac69988725067ef": {
      "model_module": "@jupyter-widgets/base",
      "model_module_version": "1.2.0",
      "model_name": "LayoutModel",
      "state": {}
     },
     "a338d8e5265a4cf182eb08763211fc26": {
      "model_module": "@jupyter-widgets/controls",
      "model_module_version": "1.5.0",
      "model_name": "HBoxModel",
      "state": {
       "children": [
        "IPY_MODEL_1d0a934d113f4422ba064a8d502df868",
        "IPY_MODEL_765815b505b4401d92e42e3c13a4c891",
        "IPY_MODEL_39525ea8e3444a798b4a03ed5e864c62"
       ],
       "layout": "IPY_MODEL_103364e87ba643e9b5ef0421ec35104c"
      }
     },
     "a39a116729e94ff7adb4dab195765b19": {
      "model_module": "@jupyter-widgets/controls",
      "model_module_version": "1.5.0",
      "model_name": "HTMLModel",
      "state": {
       "layout": "IPY_MODEL_d31e8b4e2e7d43d69db8d801ac1a3b82",
       "style": "IPY_MODEL_04fbc9a549a3496a989dc75f4c9ba8a3",
       "value": " 100/100 [01:07&lt;00:00, 1.48 quotes/s]"
      }
     },
     "a3e34589b92e403e92e733a2385a9e72": {
      "model_module": "@jupyter-widgets/base",
      "model_module_version": "1.2.0",
      "model_name": "LayoutModel",
      "state": {}
     },
     "a401abdad3534cec989019582cf04664": {
      "model_module": "@jupyter-widgets/controls",
      "model_module_version": "1.5.0",
      "model_name": "HTMLModel",
      "state": {
       "layout": "IPY_MODEL_7f3ff7d03c7a494fbb62285e472632b0",
       "style": "IPY_MODEL_1618b159181e435a8cbe9fed390730af",
       "value": " 100/100 [00:20&lt;00:00, 17.5 quotes/s]"
      }
     },
     "a521e39c064847a0ace1028cd8338697": {
      "model_module": "@jupyter-widgets/base",
      "model_module_version": "1.2.0",
      "model_name": "LayoutModel",
      "state": {}
     },
     "a571fcfef20d4de1917fd49e4fa9481d": {
      "model_module": "@jupyter-widgets/base",
      "model_module_version": "1.2.0",
      "model_name": "LayoutModel",
      "state": {}
     },
     "a705a5bcbffc483887348e9c46bc1e89": {
      "model_module": "@jupyter-widgets/base",
      "model_module_version": "1.2.0",
      "model_name": "LayoutModel",
      "state": {}
     },
     "a750a99360c44f80bea6eef694051442": {
      "model_module": "@jupyter-widgets/controls",
      "model_module_version": "1.5.0",
      "model_name": "ProgressStyleModel",
      "state": {
       "description_width": ""
      }
     },
     "a836bd5c61bb444f839c8c82d8e892c2": {
      "model_module": "@jupyter-widgets/controls",
      "model_module_version": "1.5.0",
      "model_name": "DescriptionStyleModel",
      "state": {
       "description_width": ""
      }
     },
     "a867375a2c1149e480db5d808182a779": {
      "model_module": "@jupyter-widgets/controls",
      "model_module_version": "1.5.0",
      "model_name": "HTMLModel",
      "state": {
       "layout": "IPY_MODEL_8200d39f37544459b4cb3fad2497228f",
       "style": "IPY_MODEL_d785e26befed47d493f1cf0285f9a7ef",
       "value": " 100/100 [00:04&lt;00:00, 21.6 quotes/s]"
      }
     },
     "a87f072ef04043ab945818d01a9954b9": {
      "model_module": "@jupyter-widgets/controls",
      "model_module_version": "1.5.0",
      "model_name": "DescriptionStyleModel",
      "state": {
       "description_width": ""
      }
     },
     "aae858c6b0a745c49121486d2d58de7e": {
      "model_module": "@jupyter-widgets/controls",
      "model_module_version": "1.5.0",
      "model_name": "HTMLModel",
      "state": {
       "layout": "IPY_MODEL_4320cd6a2c8e4c67a7b259ffbe7a4d88",
       "style": "IPY_MODEL_02ea2ce804f5412eb7770cfa9ccde8f1",
       "value": " 100/100 [00:28&lt;00:00, 3.55 quotes/s]"
      }
     },
     "ab32f4765b7641e7bcdc9d45d30376f0": {
      "model_module": "@jupyter-widgets/base",
      "model_module_version": "1.2.0",
      "model_name": "LayoutModel",
      "state": {}
     },
     "ac0f5afaef464d37ae07a517301e2968": {
      "model_module": "@jupyter-widgets/controls",
      "model_module_version": "1.5.0",
      "model_name": "HTMLModel",
      "state": {
       "layout": "IPY_MODEL_de2b1b9853f94c7cbcaea92e690dd3e5",
       "style": "IPY_MODEL_fda03247a87a4509bed3a3dfd72e03fd",
       "value": " 100/100 [03:48&lt;00:00, 2.28s/ quotes]"
      }
     },
     "aca494af7c804f6eae04de2f74a94e55": {
      "model_module": "@jupyter-widgets/controls",
      "model_module_version": "1.5.0",
      "model_name": "FloatProgressModel",
      "state": {
       "bar_style": "success",
       "layout": "IPY_MODEL_3752ded3fca74e6e900d3efdaefa7ce1",
       "style": "IPY_MODEL_c0954ff359c545b3920bc6bd1af74f5d",
       "value": 100
      }
     },
     "acb65d7cecd0402e9a2bddb1cbafd1e6": {
      "model_module": "@jupyter-widgets/base",
      "model_module_version": "1.2.0",
      "model_name": "LayoutModel",
      "state": {}
     },
     "ad26d4bfc0ee4800ab0793792141ec0b": {
      "model_module": "@jupyter-widgets/base",
      "model_module_version": "1.2.0",
      "model_name": "LayoutModel",
      "state": {}
     },
     "ae1ff795317f42f887a418dbb968debb": {
      "model_module": "@jupyter-widgets/base",
      "model_module_version": "1.2.0",
      "model_name": "LayoutModel",
      "state": {}
     },
     "af22618e4a7a4217a34f3d6ebe88e1e1": {
      "model_module": "@jupyter-widgets/controls",
      "model_module_version": "1.5.0",
      "model_name": "HTMLModel",
      "state": {
       "layout": "IPY_MODEL_f65aea6c34044ccc99f5cd50614b40b7",
       "style": "IPY_MODEL_2e3c8c6f07d2439e9291d21a8aeeed2b",
       "value": "[Backtest]: 100%"
      }
     },
     "af791ce5168b4cac9ee8dc7a88866601": {
      "model_module": "@jupyter-widgets/controls",
      "model_module_version": "1.5.0",
      "model_name": "HTMLModel",
      "state": {
       "layout": "IPY_MODEL_c088c147767b47ccabb22e2d69479080",
       "style": "IPY_MODEL_f3914fca85a5496bb53b7aa8b48e3ca8",
       "value": " 100/100 [00:05&lt;00:00, 16.7 quotes/s]"
      }
     },
     "b07cb2670fd746e898d9b78a6dd83db4": {
      "model_module": "@jupyter-widgets/controls",
      "model_module_version": "1.5.0",
      "model_name": "HTMLModel",
      "state": {
       "layout": "IPY_MODEL_073bcc78a7e14bb7985e8a33753a555f",
       "style": "IPY_MODEL_e6eda278192c4cd1a37be7633d5593a4",
       "value": "[Backtest]: 100%"
      }
     },
     "b19bf0b386f045fa8a8115fbdf087248": {
      "model_module": "@jupyter-widgets/controls",
      "model_module_version": "1.5.0",
      "model_name": "HTMLModel",
      "state": {
       "layout": "IPY_MODEL_e1b4c308b9164f72a7f25f3da64c7a26",
       "style": "IPY_MODEL_bdf86d1f9e84447991539eba6bb361fa",
       "value": " 100/100 [00:04&lt;00:00, 23.1 quotes/s]"
      }
     },
     "b1aea598b0224f30b968de54ec4e6266": {
      "model_module": "@jupyter-widgets/base",
      "model_module_version": "1.2.0",
      "model_name": "LayoutModel",
      "state": {}
     },
     "b315fea1208b42378923d480bc77a2ac": {
      "model_module": "@jupyter-widgets/controls",
      "model_module_version": "1.5.0",
      "model_name": "FloatProgressModel",
      "state": {
       "bar_style": "success",
       "layout": "IPY_MODEL_acb65d7cecd0402e9a2bddb1cbafd1e6",
       "style": "IPY_MODEL_f321314061f94501874ab5ee03f81643",
       "value": 100
      }
     },
     "b58d871520d549f8b0f156188d19f3e9": {
      "model_module": "@jupyter-widgets/controls",
      "model_module_version": "1.5.0",
      "model_name": "DescriptionStyleModel",
      "state": {
       "description_width": ""
      }
     },
     "b653259530ee4ce59f8b4793bee70e65": {
      "model_module": "@jupyter-widgets/base",
      "model_module_version": "1.2.0",
      "model_name": "LayoutModel",
      "state": {}
     },
     "b8523d8bd8a440f8ba1ac501c26f3bbb": {
      "model_module": "@jupyter-widgets/controls",
      "model_module_version": "1.5.0",
      "model_name": "DescriptionStyleModel",
      "state": {
       "description_width": ""
      }
     },
     "b933846eb5c24fc8adc689e2849d0657": {
      "model_module": "@jupyter-widgets/controls",
      "model_module_version": "1.5.0",
      "model_name": "FloatProgressModel",
      "state": {
       "bar_style": "success",
       "layout": "IPY_MODEL_d7b6c59200834ae894ad0fb84749010b",
       "style": "IPY_MODEL_d2d6d4c99055450d8e09c13c5c8876ce",
       "value": 100
      }
     },
     "b9620018c94042ee99ec9be0deb5609d": {
      "model_module": "@jupyter-widgets/controls",
      "model_module_version": "1.5.0",
      "model_name": "DescriptionStyleModel",
      "state": {
       "description_width": ""
      }
     },
     "b9dcb6ca3e7b4d85a0f6fcef836a460a": {
      "model_module": "@jupyter-widgets/controls",
      "model_module_version": "1.5.0",
      "model_name": "HBoxModel",
      "state": {
       "children": [
        "IPY_MODEL_ce4f45a227774751b9e4312235328f77",
        "IPY_MODEL_c2b5b75b80cf42b99c30ac81c7a0e6d3",
        "IPY_MODEL_af791ce5168b4cac9ee8dc7a88866601"
       ],
       "layout": "IPY_MODEL_942f829d04cb47078625e9338f2de13f"
      }
     },
     "ba1d35599b7341d794be0f9127ed0fbe": {
      "model_module": "@jupyter-widgets/base",
      "model_module_version": "1.2.0",
      "model_name": "LayoutModel",
      "state": {}
     },
     "ba3c6295010840d1ad44124543a1856f": {
      "model_module": "@jupyter-widgets/controls",
      "model_module_version": "1.5.0",
      "model_name": "ProgressStyleModel",
      "state": {
       "description_width": ""
      }
     },
     "ba48014f5b5b440faeaf9952d62e97a3": {
      "model_module": "@jupyter-widgets/base",
      "model_module_version": "1.2.0",
      "model_name": "LayoutModel",
      "state": {}
     },
     "bab7539c880843b9b6ff13fd8ae8d1a9": {
      "model_module": "@jupyter-widgets/base",
      "model_module_version": "1.2.0",
      "model_name": "LayoutModel",
      "state": {}
     },
     "bb9c670f51a146efa60f4c61cf925d37": {
      "model_module": "@jupyter-widgets/controls",
      "model_module_version": "1.5.0",
      "model_name": "FloatProgressModel",
      "state": {
       "bar_style": "success",
       "layout": "IPY_MODEL_faf82008f1de4781a295b6bb94812db2",
       "style": "IPY_MODEL_3de20eb25a7c406fa8759ddf7a63d0b3",
       "value": 100
      }
     },
     "bbf4950c3455404f9b8ae268b6a9116f": {
      "model_module": "@jupyter-widgets/base",
      "model_module_version": "1.2.0",
      "model_name": "LayoutModel",
      "state": {}
     },
     "bc5d0f4d744844cdb90086248df314e1": {
      "model_module": "@jupyter-widgets/base",
      "model_module_version": "1.2.0",
      "model_name": "LayoutModel",
      "state": {}
     },
     "bcad8f84c75447eebaa3856f2541e4c0": {
      "model_module": "@jupyter-widgets/base",
      "model_module_version": "1.2.0",
      "model_name": "LayoutModel",
      "state": {}
     },
     "bcb8166c7d4c43caa2b224ddff1b42e4": {
      "model_module": "@jupyter-widgets/controls",
      "model_module_version": "1.5.0",
      "model_name": "ProgressStyleModel",
      "state": {
       "description_width": ""
      }
     },
     "bcc6950bd2864bc885402b80dcc17524": {
      "model_module": "@jupyter-widgets/controls",
      "model_module_version": "1.5.0",
      "model_name": "DescriptionStyleModel",
      "state": {
       "description_width": ""
      }
     },
     "bd16120253b0414eb6aba10a4853f28b": {
      "model_module": "@jupyter-widgets/controls",
      "model_module_version": "1.5.0",
      "model_name": "ProgressStyleModel",
      "state": {
       "description_width": ""
      }
     },
     "bdf86d1f9e84447991539eba6bb361fa": {
      "model_module": "@jupyter-widgets/controls",
      "model_module_version": "1.5.0",
      "model_name": "DescriptionStyleModel",
      "state": {
       "description_width": ""
      }
     },
     "bec440ee49aa4a068f4e6dcec9d5a70b": {
      "model_module": "@jupyter-widgets/controls",
      "model_module_version": "1.5.0",
      "model_name": "HBoxModel",
      "state": {
       "children": [
        "IPY_MODEL_d4002c5f73e94e95a32410a1b9badb61",
        "IPY_MODEL_c66f1e1f294f49e2acb4c2aa8552d876",
        "IPY_MODEL_9c46f6ca586d46ca80e25077c04d552e"
       ],
       "layout": "IPY_MODEL_bbf4950c3455404f9b8ae268b6a9116f"
      }
     },
     "bed31aa0baab49f5b7d13089baa18b42": {
      "model_module": "@jupyter-widgets/base",
      "model_module_version": "1.2.0",
      "model_name": "LayoutModel",
      "state": {}
     },
     "bf4863e971014002b05535438249ee29": {
      "model_module": "@jupyter-widgets/controls",
      "model_module_version": "1.5.0",
      "model_name": "DescriptionStyleModel",
      "state": {
       "description_width": ""
      }
     },
     "bf8f36e0ad28442b9bee48fd193913f4": {
      "model_module": "@jupyter-widgets/controls",
      "model_module_version": "1.5.0",
      "model_name": "HTMLModel",
      "state": {
       "layout": "IPY_MODEL_ba1d35599b7341d794be0f9127ed0fbe",
       "style": "IPY_MODEL_1cfb9faad26143b2b4a7bb410c228bd8",
       "value": " 100/100 [00:16&lt;00:00, 6.03 quotes/s]"
      }
     },
     "c088c147767b47ccabb22e2d69479080": {
      "model_module": "@jupyter-widgets/base",
      "model_module_version": "1.2.0",
      "model_name": "LayoutModel",
      "state": {}
     },
     "c0954ff359c545b3920bc6bd1af74f5d": {
      "model_module": "@jupyter-widgets/controls",
      "model_module_version": "1.5.0",
      "model_name": "ProgressStyleModel",
      "state": {
       "description_width": ""
      }
     },
     "c0d41e54f95643e2bf4f033a234a1caa": {
      "model_module": "@jupyter-widgets/controls",
      "model_module_version": "1.5.0",
      "model_name": "HBoxModel",
      "state": {
       "children": [
        "IPY_MODEL_8a42942e9837402989af7db67c073901",
        "IPY_MODEL_aca494af7c804f6eae04de2f74a94e55",
        "IPY_MODEL_8ca4851e18bb48e7a15c34a39324fcc5"
       ],
       "layout": "IPY_MODEL_a1cbf1504a5046dabe8adddfa53f10d1"
      }
     },
     "c1f50dbab835486e8ab84c9e8533e9bf": {
      "model_module": "@jupyter-widgets/controls",
      "model_module_version": "1.5.0",
      "model_name": "DescriptionStyleModel",
      "state": {
       "description_width": ""
      }
     },
     "c2b5b75b80cf42b99c30ac81c7a0e6d3": {
      "model_module": "@jupyter-widgets/controls",
      "model_module_version": "1.5.0",
      "model_name": "FloatProgressModel",
      "state": {
       "bar_style": "success",
       "layout": "IPY_MODEL_f60b051c75a8431fa3b356d1bafbc2e3",
       "style": "IPY_MODEL_a750a99360c44f80bea6eef694051442",
       "value": 100
      }
     },
     "c33c3932488e4445a330230d055d9316": {
      "model_module": "@jupyter-widgets/controls",
      "model_module_version": "1.5.0",
      "model_name": "HBoxModel",
      "state": {
       "children": [
        "IPY_MODEL_af22618e4a7a4217a34f3d6ebe88e1e1",
        "IPY_MODEL_5a2ce1a886a64170a74ffdef297ae9fc",
        "IPY_MODEL_ac0f5afaef464d37ae07a517301e2968"
       ],
       "layout": "IPY_MODEL_4c3cdc998c9a44ce8d39a822f29e3360"
      }
     },
     "c37b3eee3e1e4d9a9f7a9a7b58acac1a": {
      "model_module": "@jupyter-widgets/base",
      "model_module_version": "1.2.0",
      "model_name": "LayoutModel",
      "state": {}
     },
     "c530dc3ca02547fd81cf3ad484fcf128": {
      "model_module": "@jupyter-widgets/controls",
      "model_module_version": "1.5.0",
      "model_name": "HTMLModel",
      "state": {
       "layout": "IPY_MODEL_b653259530ee4ce59f8b4793bee70e65",
       "style": "IPY_MODEL_f97e4c13784946adb6489fb9032851d2",
       "value": "[Backtest]: 100%"
      }
     },
     "c66f1e1f294f49e2acb4c2aa8552d876": {
      "model_module": "@jupyter-widgets/controls",
      "model_module_version": "1.5.0",
      "model_name": "FloatProgressModel",
      "state": {
       "bar_style": "success",
       "layout": "IPY_MODEL_7fdd4e2e475e46d99c807bab25f9b59f",
       "style": "IPY_MODEL_cfd4dc62e2b8412ca26a63227deb7b7d",
       "value": 100
      }
     },
     "c845abd67d9d4d8da6a7cade2dabbb95": {
      "model_module": "@jupyter-widgets/base",
      "model_module_version": "1.2.0",
      "model_name": "LayoutModel",
      "state": {}
     },
     "cb7523a1fce84b15adb2f61672110295": {
      "model_module": "@jupyter-widgets/controls",
      "model_module_version": "1.5.0",
      "model_name": "ProgressStyleModel",
      "state": {
       "description_width": ""
      }
     },
     "cbf49805eed64bfb8c5f3a5f4778c5ea": {
      "model_module": "@jupyter-widgets/controls",
      "model_module_version": "1.5.0",
      "model_name": "HBoxModel",
      "state": {
       "children": [
        "IPY_MODEL_f1546b2aad764b8d8c6619f27f558e91",
        "IPY_MODEL_31732d4118094672a88f326486244565",
        "IPY_MODEL_a401abdad3534cec989019582cf04664"
       ],
       "layout": "IPY_MODEL_b1aea598b0224f30b968de54ec4e6266"
      }
     },
     "cd37f19568464d8383b3d22adad09d2d": {
      "model_module": "@jupyter-widgets/base",
      "model_module_version": "1.2.0",
      "model_name": "LayoutModel",
      "state": {}
     },
     "cdb6eb6545b54f5bb794c7ebc73e0398": {
      "model_module": "@jupyter-widgets/controls",
      "model_module_version": "1.5.0",
      "model_name": "FloatProgressModel",
      "state": {
       "bar_style": "success",
       "layout": "IPY_MODEL_165bc93154bb412faba4db5ed9cd1c3a",
       "style": "IPY_MODEL_78844326d92c4ee891d1115aaeb31726",
       "value": 100
      }
     },
     "ce0e299a9e92476286e27848bfe40334": {
      "model_module": "@jupyter-widgets/controls",
      "model_module_version": "1.5.0",
      "model_name": "HBoxModel",
      "state": {
       "children": [
        "IPY_MODEL_04b61229f1ee4712a0b7f43327f1bcc3",
        "IPY_MODEL_8f1bf5f74ae842bd8c03aaf46576a2f7",
        "IPY_MODEL_4a28b9df92e24367b48db1bf4977109a"
       ],
       "layout": "IPY_MODEL_372bb6798e7444d69b8b9c3b1bafbd6d"
      }
     },
     "ce4f45a227774751b9e4312235328f77": {
      "model_module": "@jupyter-widgets/controls",
      "model_module_version": "1.5.0",
      "model_name": "HTMLModel",
      "state": {
       "layout": "IPY_MODEL_0b9e2ad9aab948b197eb08bc3418dfee",
       "style": "IPY_MODEL_e785f4fa935046f79e52a40ce08fde60",
       "value": "[Backtest]: 100%"
      }
     },
     "cf22dffbe45a45419dde10f993837cd2": {
      "model_module": "@jupyter-widgets/controls",
      "model_module_version": "1.5.0",
      "model_name": "DescriptionStyleModel",
      "state": {
       "description_width": ""
      }
     },
     "cfd4dc62e2b8412ca26a63227deb7b7d": {
      "model_module": "@jupyter-widgets/controls",
      "model_module_version": "1.5.0",
      "model_name": "ProgressStyleModel",
      "state": {
       "description_width": ""
      }
     },
     "d028d83c2f03409eba8e339b9ba3e8c7": {
      "model_module": "@jupyter-widgets/controls",
      "model_module_version": "1.5.0",
      "model_name": "HTMLModel",
      "state": {
       "layout": "IPY_MODEL_d1e2090ce2564225842fe4d7c0af5e71",
       "style": "IPY_MODEL_3fb923193c6a4c4689887fc328239629",
       "value": "[Backtest]: 100%"
      }
     },
     "d1e2090ce2564225842fe4d7c0af5e71": {
      "model_module": "@jupyter-widgets/base",
      "model_module_version": "1.2.0",
      "model_name": "LayoutModel",
      "state": {}
     },
     "d29cfb44bfc244f3a42b2c6d7b690580": {
      "model_module": "@jupyter-widgets/controls",
      "model_module_version": "1.5.0",
      "model_name": "DescriptionStyleModel",
      "state": {
       "description_width": ""
      }
     },
     "d2cf2c5a94804256b7b1bb31edb40084": {
      "model_module": "@jupyter-widgets/controls",
      "model_module_version": "1.5.0",
      "model_name": "HTMLModel",
      "state": {
       "layout": "IPY_MODEL_fdfa97f7402b45fc878eeec878d7672d",
       "style": "IPY_MODEL_d29cfb44bfc244f3a42b2c6d7b690580",
       "value": " 100/100 [00:06&lt;00:00, 16.1 quotes/s]"
      }
     },
     "d2d6d4c99055450d8e09c13c5c8876ce": {
      "model_module": "@jupyter-widgets/controls",
      "model_module_version": "1.5.0",
      "model_name": "ProgressStyleModel",
      "state": {
       "description_width": ""
      }
     },
     "d31e8b4e2e7d43d69db8d801ac1a3b82": {
      "model_module": "@jupyter-widgets/base",
      "model_module_version": "1.2.0",
      "model_name": "LayoutModel",
      "state": {}
     },
     "d4002c5f73e94e95a32410a1b9badb61": {
      "model_module": "@jupyter-widgets/controls",
      "model_module_version": "1.5.0",
      "model_name": "HTMLModel",
      "state": {
       "layout": "IPY_MODEL_e80d461be2a341768bdb779678435d98",
       "style": "IPY_MODEL_fe80d379207242619d4eb72ecb7f1ec6",
       "value": "[Backtest]: 100%"
      }
     },
     "d493720aeb984c07a063fd4cc649e507": {
      "model_module": "@jupyter-widgets/base",
      "model_module_version": "1.2.0",
      "model_name": "LayoutModel",
      "state": {}
     },
     "d4a48790a39343dbbb08d8c97499e046": {
      "model_module": "@jupyter-widgets/base",
      "model_module_version": "1.2.0",
      "model_name": "LayoutModel",
      "state": {}
     },
     "d4c22e571d434009aa66e3323ceddddd": {
      "model_module": "@jupyter-widgets/base",
      "model_module_version": "1.2.0",
      "model_name": "LayoutModel",
      "state": {}
     },
     "d5248a36bc8e411d9c712a36d5e544b8": {
      "model_module": "@jupyter-widgets/controls",
      "model_module_version": "1.5.0",
      "model_name": "DescriptionStyleModel",
      "state": {
       "description_width": ""
      }
     },
     "d6dfc4d69b074190a154be8a1529d6f0": {
      "model_module": "@jupyter-widgets/base",
      "model_module_version": "1.2.0",
      "model_name": "LayoutModel",
      "state": {}
     },
     "d785e26befed47d493f1cf0285f9a7ef": {
      "model_module": "@jupyter-widgets/controls",
      "model_module_version": "1.5.0",
      "model_name": "DescriptionStyleModel",
      "state": {
       "description_width": ""
      }
     },
     "d7b6c59200834ae894ad0fb84749010b": {
      "model_module": "@jupyter-widgets/base",
      "model_module_version": "1.2.0",
      "model_name": "LayoutModel",
      "state": {}
     },
     "d8cce1b587b54823ada7cd79d7ce31bb": {
      "model_module": "@jupyter-widgets/controls",
      "model_module_version": "1.5.0",
      "model_name": "HTMLModel",
      "state": {
       "layout": "IPY_MODEL_21df5d55ecf44dd2b85d5cb9e929bb51",
       "style": "IPY_MODEL_21bc7c4356624496b2cab04eb45da1dc",
       "value": "[Backtest]: 100%"
      }
     },
     "d9da1cf7d1dc4720ac7489abd4ec19b3": {
      "model_module": "@jupyter-widgets/controls",
      "model_module_version": "1.5.0",
      "model_name": "FloatProgressModel",
      "state": {
       "bar_style": "success",
       "layout": "IPY_MODEL_bc5d0f4d744844cdb90086248df314e1",
       "style": "IPY_MODEL_84f7bd53e3b1440295a41be5e424031f",
       "value": 100
      }
     },
     "dd0e706ea0304a8293f130673feeb0c2": {
      "model_module": "@jupyter-widgets/controls",
      "model_module_version": "1.5.0",
      "model_name": "DescriptionStyleModel",
      "state": {
       "description_width": ""
      }
     },
     "de0a9bf942914a9fa1c3f1e4e5df8d72": {
      "model_module": "@jupyter-widgets/controls",
      "model_module_version": "1.5.0",
      "model_name": "HTMLModel",
      "state": {
       "layout": "IPY_MODEL_6777519c68e04b77bcedcca49e44f70c",
       "style": "IPY_MODEL_40ffddfac5d64dc6bee73dcbbc7c3aa6",
       "value": "[Backtest]: 100%"
      }
     },
     "de2b1b9853f94c7cbcaea92e690dd3e5": {
      "model_module": "@jupyter-widgets/base",
      "model_module_version": "1.2.0",
      "model_name": "LayoutModel",
      "state": {}
     },
     "de4be6cc71164e0ab366257c01f5f115": {
      "model_module": "@jupyter-widgets/base",
      "model_module_version": "1.2.0",
      "model_name": "LayoutModel",
      "state": {}
     },
     "df27537126884353b6b4ecd7ef2875e8": {
      "model_module": "@jupyter-widgets/controls",
      "model_module_version": "1.5.0",
      "model_name": "FloatProgressModel",
      "state": {
       "bar_style": "success",
       "layout": "IPY_MODEL_90ab1765047a4a0a881b1474d48030f8",
       "style": "IPY_MODEL_1683322e8b8a433f913fe8921518c07e",
       "value": 100
      }
     },
     "df408d3e09624b90b793779d189218b3": {
      "model_module": "@jupyter-widgets/base",
      "model_module_version": "1.2.0",
      "model_name": "LayoutModel",
      "state": {}
     },
     "e1b4c308b9164f72a7f25f3da64c7a26": {
      "model_module": "@jupyter-widgets/base",
      "model_module_version": "1.2.0",
      "model_name": "LayoutModel",
      "state": {}
     },
     "e1c9931953bd4a77874bc0e20c0835d1": {
      "model_module": "@jupyter-widgets/controls",
      "model_module_version": "1.5.0",
      "model_name": "DescriptionStyleModel",
      "state": {
       "description_width": ""
      }
     },
     "e5a28ca003ce4254a8322161a163fcc8": {
      "model_module": "@jupyter-widgets/base",
      "model_module_version": "1.2.0",
      "model_name": "LayoutModel",
      "state": {}
     },
     "e6399ba286db403097766b249a2ee3b7": {
      "model_module": "@jupyter-widgets/base",
      "model_module_version": "1.2.0",
      "model_name": "LayoutModel",
      "state": {}
     },
     "e6eda278192c4cd1a37be7633d5593a4": {
      "model_module": "@jupyter-widgets/controls",
      "model_module_version": "1.5.0",
      "model_name": "DescriptionStyleModel",
      "state": {
       "description_width": ""
      }
     },
     "e785f4fa935046f79e52a40ce08fde60": {
      "model_module": "@jupyter-widgets/controls",
      "model_module_version": "1.5.0",
      "model_name": "DescriptionStyleModel",
      "state": {
       "description_width": ""
      }
     },
     "e80d461be2a341768bdb779678435d98": {
      "model_module": "@jupyter-widgets/base",
      "model_module_version": "1.2.0",
      "model_name": "LayoutModel",
      "state": {}
     },
     "e9b56116d74c4b81ae901e33b8582ac7": {
      "model_module": "@jupyter-widgets/controls",
      "model_module_version": "1.5.0",
      "model_name": "DescriptionStyleModel",
      "state": {
       "description_width": ""
      }
     },
     "e9d6ee13b9e242f1bad64e4ab38e0535": {
      "model_module": "@jupyter-widgets/base",
      "model_module_version": "1.2.0",
      "model_name": "LayoutModel",
      "state": {}
     },
     "ec0884d59bc245058af7c4ba9555a3ba": {
      "model_module": "@jupyter-widgets/controls",
      "model_module_version": "1.5.0",
      "model_name": "FloatProgressModel",
      "state": {
       "bar_style": "success",
       "layout": "IPY_MODEL_06c5e14a243a4431bfb7f1e48b831b32",
       "style": "IPY_MODEL_edc0964d34ab43d2962f9c13c3d7e132",
       "value": 100
      }
     },
     "edc0964d34ab43d2962f9c13c3d7e132": {
      "model_module": "@jupyter-widgets/controls",
      "model_module_version": "1.5.0",
      "model_name": "ProgressStyleModel",
      "state": {
       "description_width": ""
      }
     },
     "ef4898db37604575abf6ec2bdf9a6444": {
      "model_module": "@jupyter-widgets/base",
      "model_module_version": "1.2.0",
      "model_name": "LayoutModel",
      "state": {}
     },
     "f055122800fa4721b6add8314cffc63a": {
      "model_module": "@jupyter-widgets/controls",
      "model_module_version": "1.5.0",
      "model_name": "HTMLModel",
      "state": {
       "layout": "IPY_MODEL_e9d6ee13b9e242f1bad64e4ab38e0535",
       "style": "IPY_MODEL_0e9cd6bdf5fa4b71adca3c6f2e797e46",
       "value": " 100/100 [00:22&lt;00:00, 4.48 quotes/s]"
      }
     },
     "f1546b2aad764b8d8c6619f27f558e91": {
      "model_module": "@jupyter-widgets/controls",
      "model_module_version": "1.5.0",
      "model_name": "HTMLModel",
      "state": {
       "layout": "IPY_MODEL_1b963698517e4e0db9bf5d19542fe7de",
       "style": "IPY_MODEL_51b84f1fa15d406aab9019abedfe6ab3",
       "value": "[Backtest]: 100%"
      }
     },
     "f321314061f94501874ab5ee03f81643": {
      "model_module": "@jupyter-widgets/controls",
      "model_module_version": "1.5.0",
      "model_name": "ProgressStyleModel",
      "state": {
       "description_width": ""
      }
     },
     "f3914fca85a5496bb53b7aa8b48e3ca8": {
      "model_module": "@jupyter-widgets/controls",
      "model_module_version": "1.5.0",
      "model_name": "DescriptionStyleModel",
      "state": {
       "description_width": ""
      }
     },
     "f5222130b3f84e9eb502e1b6eb081f63": {
      "model_module": "@jupyter-widgets/controls",
      "model_module_version": "1.5.0",
      "model_name": "HBoxModel",
      "state": {
       "children": [
        "IPY_MODEL_d028d83c2f03409eba8e339b9ba3e8c7",
        "IPY_MODEL_92577a46c5f14c0db7786ae93b5fb8e3",
        "IPY_MODEL_535fe96213854b8aaaf9a8238c69a9e5"
       ],
       "layout": "IPY_MODEL_81d9ea5bcb184f60b73c130932262319"
      }
     },
     "f5b59abdfda24ce090a4dfcb53da646c": {
      "model_module": "@jupyter-widgets/base",
      "model_module_version": "1.2.0",
      "model_name": "LayoutModel",
      "state": {}
     },
     "f60b051c75a8431fa3b356d1bafbc2e3": {
      "model_module": "@jupyter-widgets/base",
      "model_module_version": "1.2.0",
      "model_name": "LayoutModel",
      "state": {}
     },
     "f65aea6c34044ccc99f5cd50614b40b7": {
      "model_module": "@jupyter-widgets/base",
      "model_module_version": "1.2.0",
      "model_name": "LayoutModel",
      "state": {}
     },
     "f7b71f6d52e440cca8ca21d440eaa583": {
      "model_module": "@jupyter-widgets/base",
      "model_module_version": "1.2.0",
      "model_name": "LayoutModel",
      "state": {}
     },
     "f97e4c13784946adb6489fb9032851d2": {
      "model_module": "@jupyter-widgets/controls",
      "model_module_version": "1.5.0",
      "model_name": "DescriptionStyleModel",
      "state": {
       "description_width": ""
      }
     },
     "f9e9fc13d585451185c877ce2e2311d8": {
      "model_module": "@jupyter-widgets/controls",
      "model_module_version": "1.5.0",
      "model_name": "DescriptionStyleModel",
      "state": {
       "description_width": ""
      }
     },
     "fadf2e52a5644af7af64b316ad3442f5": {
      "model_module": "@jupyter-widgets/controls",
      "model_module_version": "1.5.0",
      "model_name": "HTMLModel",
      "state": {
       "layout": "IPY_MODEL_c37b3eee3e1e4d9a9f7a9a7b58acac1a",
       "style": "IPY_MODEL_cf22dffbe45a45419dde10f993837cd2",
       "value": " 100/100 [01:03&lt;00:00, 1.56 quotes/s]"
      }
     },
     "faf82008f1de4781a295b6bb94812db2": {
      "model_module": "@jupyter-widgets/base",
      "model_module_version": "1.2.0",
      "model_name": "LayoutModel",
      "state": {}
     },
     "fcac26779dcd4f3ab9b58d8c5068051f": {
      "model_module": "@jupyter-widgets/controls",
      "model_module_version": "1.5.0",
      "model_name": "HTMLModel",
      "state": {
       "layout": "IPY_MODEL_ae1ff795317f42f887a418dbb968debb",
       "style": "IPY_MODEL_8e09bede49084ec2b6159ff05367a37e",
       "value": "[Backtest]: 100%"
      }
     },
     "fcb863fdc8eb4f89aaded0a53728f94f": {
      "model_module": "@jupyter-widgets/controls",
      "model_module_version": "1.5.0",
      "model_name": "HTMLModel",
      "state": {
       "layout": "IPY_MODEL_ab32f4765b7641e7bcdc9d45d30376f0",
       "style": "IPY_MODEL_15e42a45d61b492f94997ce1e459e099",
       "value": "[Backtest]: 100%"
      }
     },
     "fd5a9d0f029c407f8c093f54ca7f8041": {
      "model_module": "@jupyter-widgets/controls",
      "model_module_version": "1.5.0",
      "model_name": "FloatProgressModel",
      "state": {
       "bar_style": "success",
       "layout": "IPY_MODEL_d493720aeb984c07a063fd4cc649e507",
       "style": "IPY_MODEL_1dd51dffa38648c8ba37e55868e11a47",
       "value": 100
      }
     },
     "fda03247a87a4509bed3a3dfd72e03fd": {
      "model_module": "@jupyter-widgets/controls",
      "model_module_version": "1.5.0",
      "model_name": "DescriptionStyleModel",
      "state": {
       "description_width": ""
      }
     },
     "fdf06037654242afbe298575fa00196a": {
      "model_module": "@jupyter-widgets/controls",
      "model_module_version": "1.5.0",
      "model_name": "HTMLModel",
      "state": {
       "layout": "IPY_MODEL_a3e34589b92e403e92e733a2385a9e72",
       "style": "IPY_MODEL_69835cc5a2b54b7388da63468c6b9e41",
       "value": "[Backtest]: 100%"
      }
     },
     "fdfa97f7402b45fc878eeec878d7672d": {
      "model_module": "@jupyter-widgets/base",
      "model_module_version": "1.2.0",
      "model_name": "LayoutModel",
      "state": {}
     },
     "fe468f52a4734d6b83d7225539157697": {
      "model_module": "@jupyter-widgets/controls",
      "model_module_version": "1.5.0",
      "model_name": "HBoxModel",
      "state": {
       "children": [
        "IPY_MODEL_1b99458ab86e4d448a40f985d7b0c5a0",
        "IPY_MODEL_b315fea1208b42378923d480bc77a2ac",
        "IPY_MODEL_a867375a2c1149e480db5d808182a779"
       ],
       "layout": "IPY_MODEL_d4c22e571d434009aa66e3323ceddddd"
      }
     },
     "fe80d379207242619d4eb72ecb7f1ec6": {
      "model_module": "@jupyter-widgets/controls",
      "model_module_version": "1.5.0",
      "model_name": "DescriptionStyleModel",
      "state": {
       "description_width": ""
      }
     },
     "fe969f2694de4db6beedf28a3af0bf52": {
      "model_module": "@jupyter-widgets/controls",
      "model_module_version": "1.5.0",
      "model_name": "HBoxModel",
      "state": {
       "children": [
        "IPY_MODEL_c530dc3ca02547fd81cf3ad484fcf128",
        "IPY_MODEL_8763f0c4827d422cb6f6a76c98c368bd",
        "IPY_MODEL_aae858c6b0a745c49121486d2d58de7e"
       ],
       "layout": "IPY_MODEL_3a5e7b884fc74479968ccd47dfeb93df"
      }
     },
     "ff22fdc1b24a485e9861fb8a675bff1b": {
      "model_module": "@jupyter-widgets/base",
      "model_module_version": "1.2.0",
      "model_name": "LayoutModel",
      "state": {}
     },
     "ff395d71035b484b96b8b42190fb834b": {
      "model_module": "@jupyter-widgets/controls",
      "model_module_version": "1.5.0",
      "model_name": "ProgressStyleModel",
      "state": {
       "description_width": ""
      }
     },
     "ffda7675dfb749d99a46f8c7880eaa42": {
      "model_module": "@jupyter-widgets/controls",
      "model_module_version": "1.5.0",
      "model_name": "HTMLModel",
      "state": {
       "layout": "IPY_MODEL_6e599ca3fecf49488957a77abf33982b",
       "style": "IPY_MODEL_a836bd5c61bb444f839c8c82d8e892c2",
       "value": " 100/100 [00:08&lt;00:00, 12.2 quotes/s]"
      }
     }
    },
    "version_major": 2,
    "version_minor": 0
   }
  }
 },
 "nbformat": 4,
 "nbformat_minor": 4
}
