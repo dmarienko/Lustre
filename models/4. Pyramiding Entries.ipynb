{
 "cells": [
  {
   "cell_type": "code",
   "execution_count": 234,
   "metadata": {},
   "outputs": [
    {
     "data": {
      "text/html": [
       "<pre style=\"white-space:pre;overflow-x:auto;line-height:normal;font-family:Menlo,'DejaVu Sans Mono',consolas,'Courier New',monospace\"><span style=\"font-weight: bold\">(</span>c<span style=\"font-weight: bold\">)</span> <span style=\"color: #008000; font-weight: bold\">2017</span>, AppliedAlpha Infrastructure for Quantitative Research and Analysis, ver. master: \n",
       "<span style=\"color: #008000; font-weight: bold\">0.1476</span>\n",
       "</pre>\n"
      ],
      "text/plain": [
       "<rich.jupyter.JupyterRenderable at 0x7f0dce568630>"
      ]
     },
     "metadata": {},
     "output_type": "display_data"
    }
   ],
   "source": [
    "import ira\n",
    "%alphalab dark\n",
    "\n",
    "%run initlibs.py Lustre dark\n",
    "from tools.loaders.data_loaders import load_data, ls_symbols_hdf\n",
    "\n",
    "import qlearn as q\n",
    "from qlearn.core.generators import CrossingMovings\n",
    "%run trackers.py \n",
    "%run generators.py"
   ]
  },
  {
   "cell_type": "markdown",
   "metadata": {},
   "source": [
    "# Tracking rules (Pyramiding)"
   ]
  },
  {
   "cell_type": "markdown",
   "metadata": {},
   "source": [
    "Here we will test position size pyramiding technic. \n",
    "\n",
    "This is implemented as separate position tracker module (see class Pyramiding at **tracker.py**) and can be combined with any entry signals generator. \n",
    "\n",
    "At first step we will apply it to our basic breakout model.\n",
    "\n",
    "When our model generates signal (long or short) it triggers tracker. Tracker in it's turn processes this signal by opening actual position (or skipping signal if it's not allowed at the moment). Also it takes care about control actual postions (moving trailing stops, increasing position size, close by stops etc).\n",
    "\n",
    "<b>Pyramiding tracker has following parameters</b>\n",
    "<hr/>\n",
    "\n",
    "   - <font color='orange'>size</font>: basic position size (in contracts). On first entry tracker will buy or sell this amount of contracts.\n",
    "   - <font color='orange'>stop_mx</font>: how many ATRs we set stop at (<font color='green'>stop = entry_price -/+ stop_mx * ATR</font>)  [default 3]\n",
    "   - <font color='orange'>next_mx</font>: how many ATRs next level is (<font color='green'>next = entry_price +/- next_mx * ATR</font>) [default 3]\n",
    "                  At next level tracker may performs following actions:\n",
    "                      - increase position if level's number >= pyramiding_start_step and it doesn't exceed maximal number of pyramiding positions (see max_position)\n",
    "                      - pull up/down stop level to breakeven\n",
    "                      - close position in profit if \n",
    "   - <font color='orange'>pyramiding_factor</font>: position decaying factor. On every next step we will add to position: prev_size * pyramiding_factor.\n",
    "                           For example if pyramiding_factor = 0.5 and size = 10 \n",
    "                           - at first initial step tracker open 10 contracts\n",
    "                           - at next step it add 10 * 0.5 = 5 contracts\n",
    "                           - at third step it adds 5 * 0.5 = 2 contracts\n",
    "                           - at 4'th step: 2 * 0.5 = 1 contract\n",
    "                           - at 5'th step 1 * 0.5 = 0 - so it final step and it will close position in profit if flat_on_max_step is set \n",
    "                           so 0.5 reproduces classical approach: first 100%, 50%, 25%, 12% ...\n",
    "                           If pyramiding_factor=1 tracker adds same fixed amount (==size) at every step.\n",
    "   - <font color='orange'>pyramiding_start_step</font>: level number when it is allowed to increase position.\n",
    "                          Classical way is to just move stop to breakeven at step 2 (no position increasing) and start pyramiding at step 3 \n",
    "                          (so pyramiding_start_step = 3 for this case)\n",
    "   - <font color='orange'>max_positions</font>: maximal allowed number of pyramiding steps\n",
    "   - <font color='orange'>flat_on_max_step</font>: if this flag is set tracker will close position when max number of position increasig steps reached\n",
    "   - <font color='orange'>atr_period</font>: period of ATR indicator [default 22]\n",
    "   - <font color='orange'>atr_timeframe</font>: timeframe for ATR indicator [default daily bars]\n",
    "   - <font color='orange'>round_size</font>: minimal  [default 1]\n",
    "\n",
    "\n",
    "<font color='red' size=2><u>Additional rules</u></font>\n",
    "   1. If tracker receives another signal from signals generator but position is already open (being tracked) this signal will be ignored.\n",
    "  \n",
    "<hr/>\n"
   ]
  },
  {
   "cell_type": "markdown",
   "metadata": {},
   "source": [
    "Example for <font color='#10ff00'>Pyramiding(size=10, stop_mx=3, next_mx=3, pyramiding_factor=0.5, max_positions=5, flat_on_max_step=True, pyramiding_start_step=3, round_size=1)</font>\n",
    "\n",
    "- Signal generator produces signal to oen long position, current price is \\\\$100.00, ATR=5.00\n",
    "\n",
    "- Tracker will open 10 contracts long at \\\\$100.00 and set up stop at 100 - 3 * 5 = \\\\$85, next level (#2) is 100 + 3 * 5 = \\\\$115\n",
    "\n",
    "- If price drops below \\\\$85 tracker will close position\n",
    "\n",
    "- If price goes above \\\\$115 tracker will do following actions:\n",
    "   - just pull up stop at breakeven level at entry price = \\\\$100.00 because pyramiding should start from level N 3 but it's N 2\n",
    "   - calculate ATR at this moment, let's say it's 7\n",
    "   - starts waiting for next level (N3) == 115 + 3 * 7 = \\\\$136.00\n",
    "   \n",
    "   \n",
    "- When (if) price touches level N3 (\\\\$136) tracker will:\n",
    "  - add to first 10 contracts another 10 * 0.5 = 5 contracts and position now is 15\n",
    "  - calculate position price, it will be (10 * 100 + 5 * 136)/15 = \\\\$112\n",
    "  - calculate ATR, let's say it's 3\n",
    "  - set stop level at 112 - 3 * 3 = \\\\$103\n",
    "  - calculate next level N4 == 136 + 3 * 3 = \\\\$145 (here it uses entry price 136 not average position price !!!)\n",
    "   \n",
    "\n",
    "- When price reaches level N4 at let's (price is 145.00):\n",
    "  - add to existing 15 contracts another 5 * 0.5 = 2.5 -> 2 contracts (we round it on round_size=1) and position now is 17\n",
    "  - position size is (10 * 100 + 5 * 136 + 2 * 145)/17 = 115.88\n",
    "  - calculate ATR, let's say it's 4\n",
    "  - move stop to 115.88 - 3 * 4 = 103.88\n",
    "  - next level (#5) is 145 + 3*4 = \\\\$157\n",
    "  \n",
    "  \n",
    "- When price touches level #5 at \\\\$157 tracker will close position at take because max_positions is set to 5 and flat_on_max_step=True\n",
    "\n",
    "<hr/>\n"
   ]
  },
  {
   "cell_type": "markdown",
   "metadata": {},
   "source": [
    "# Test basic parameters"
   ]
  },
  {
   "cell_type": "code",
   "execution_count": 67,
   "metadata": {},
   "outputs": [],
   "source": [
    "spreads = { 'AUS200': 15*0.1, 'SPXM': 5*0.1, 'XTIUSD': 5*0.01, }\n",
    "md = load_data('amp:SPXM', 'amp:AUS200', 'amp:XTIUSD')"
   ]
  },
  {
   "cell_type": "markdown",
   "metadata": {},
   "source": [
    "We will use optimal parameters for signals generator on daily timeframe found on previous research."
   ]
  },
  {
   "cell_type": "code",
   "execution_count": 69,
   "metadata": {},
   "outputs": [],
   "source": [
    "G = q.SingleInstrumentComposer(Lustre('1d', 14, 0.75, 25, 10)).fit(md.ticks())"
   ]
  },
  {
   "cell_type": "markdown",
   "metadata": {},
   "source": [
    "As trackers parametrs we will use classical setup: \n",
    "   - 3 atr stop, 3 atr next level, ]\n",
    "   - no take profit - position may be closed only by trailing stop\n",
    "   - pyramiding starts from level 3 (so from 6 atr from initial entry)\n",
    "   - no any restrictions on number of pyramiding entries,\n",
    "   - position sizes = N * (1, 0.5, 0.25, 0.12, 0.06, ...) - so it's limited only when this progression reaches size < 1 contract !"
   ]
  },
  {
   "cell_type": "markdown",
   "metadata": {},
   "source": [
    "We will run simulation on 3 CFDs daily prices we used before (AUS200, XTIUSD, SPXM)."
   ]
  },
  {
   "cell_type": "code",
   "execution_count": 73,
   "metadata": {},
   "outputs": [
    {
     "data": {
      "application/vnd.jupyter.widget-view+json": {
       "model_id": "a92948accb544363bbab54a067a9460e",
       "version_major": 2,
       "version_minor": 0
      },
      "text/plain": [
       "HBox(children=(HTML(value='backtest'), FloatProgress(value=0.0), HTML(value='')))"
      ]
     },
     "metadata": {},
     "output_type": "display_data"
    },
    {
     "name": "stdout",
     "output_type": "stream",
     "text": [
      "\n"
     ]
    }
   ],
   "source": [
    "Z0 = q.simulation([\n",
    "        [G, {\n",
    "            'SPXM':   Pyramiding(10,  3, 3, 0.5, max_positions=1e8, flat_on_max_step=False),\n",
    "            'AUS200': Pyramiding(10,  3, 3, 0.5, max_positions=1e8, flat_on_max_step=False),\n",
    "            'XTIUSD': Pyramiding(100, 3, 3, 0.5, max_positions=1e8, flat_on_max_step=False)\n",
    "        }],\n",
    "    ], md.ohlc('1h'), 'stock', 'Lustre Pyramiding', spreads=spreads)"
   ]
  },
  {
   "cell_type": "code",
   "execution_count": 72,
   "metadata": {},
   "outputs": [
    {
     "name": "stdout",
     "output_type": "stream",
     "text": [
      "\u001b[33m 0\u001b[0m: \u001b[34mLustre Pyramiding/0 \u001b[0m : Sharpe: \u001b[31m-0.23\u001b[0m | Sortino: \u001b[31m-0.33\u001b[0m | CAGR: \u001b[31m-18.16\u001b[0m | DD: $\u001b[32m53348.00\u001b[0m (\u001b[32m73.52\u001b[0m%) | Gain: $\u001b[31m-22377.88\u001b[0m | Execs: 63\u001b[33m[OK]\u001b[0m\n"
     ]
    },
    {
     "data": {
      "text/html": [
       "<div>\n",
       "<style scoped>\n",
       "    .dataframe tbody tr th:only-of-type {\n",
       "        vertical-align: middle;\n",
       "    }\n",
       "\n",
       "    .dataframe tbody tr th {\n",
       "        vertical-align: top;\n",
       "    }\n",
       "\n",
       "    .dataframe thead th {\n",
       "        text-align: right;\n",
       "    }\n",
       "</style>\n",
       "<table border=\"1\" class=\"dataframe\">\n",
       "  <thead>\n",
       "    <tr style=\"text-align: right;\">\n",
       "      <th></th>\n",
       "      <th>Name</th>\n",
       "      <th>sharpe</th>\n",
       "      <th>sortino</th>\n",
       "      <th>cagr</th>\n",
       "      <th>dd</th>\n",
       "      <th>dd_pct</th>\n",
       "      <th>gain</th>\n",
       "      <th>number_executions</th>\n",
       "    </tr>\n",
       "  </thead>\n",
       "  <tbody>\n",
       "    <tr>\n",
       "      <th>0</th>\n",
       "      <td>Lustre Pyramiding/0</td>\n",
       "      <td>-0.233714</td>\n",
       "      <td>-0.332968</td>\n",
       "      <td>-18.164049</td>\n",
       "      <td>53348.0</td>\n",
       "      <td>73.520049</td>\n",
       "      <td>-22377.88</td>\n",
       "      <td>63</td>\n",
       "    </tr>\n",
       "  </tbody>\n",
       "</table>\n",
       "</div>"
      ],
      "text/plain": [
       "                  Name    sharpe   sortino       cagr       dd     dd_pct  \\\n",
       "0  Lustre Pyramiding/0 -0.233714 -0.332968 -18.164049  53348.0  73.520049   \n",
       "\n",
       "       gain  number_executions  \n",
       "0 -22377.88                 63  "
      ]
     },
     "execution_count": 72,
     "metadata": {},
     "output_type": "execute_result"
    },
    {
     "data": {
      "image/png": "[encoded data removed]",
      "text/plain": [
       "<Figure size 640x400 with 1 Axes>"
      ]
     },
     "metadata": {},
     "output_type": "display_data"
    }
   ],
   "source": [
    "Z0.report(50000)"
   ]
  },
  {
   "cell_type": "markdown",
   "metadata": {},
   "source": [
    "As we can see overall performance is bad. We can try to play a bit with pyramiding parameters. \n",
    "\n",
    "For example we can try to change increasing scheme and use 0.75 factor instead of halving every entry. So on initial 100 constract first pyramiding will add 75 contracts, then 56, then 42, 31, 23 .... so more smooth increasing.\n",
    "\n",
    "Also from analysis of entries I found that using +3 x ATR as next level and -3 x ATR for stop is not optimal setup, \n",
    "and it'd be better to use bit tighter pyramifing level at let's say 1 x ATR and loose stop at -4 x ATR. \n",
    "\n",
    "Another moment here - it's more optimal to close at profit when increasing progression reached maximal number of entries, instead of waiting to be flat by trailing stop. \n",
    "\n",
    "Here we will use 1:6 as maximal leverage and initial deposit \\\\$50K\n",
    "\n",
    "At least all these observations were maid for available data."
   ]
  },
  {
   "cell_type": "code",
   "execution_count": 83,
   "metadata": {},
   "outputs": [
    {
     "data": {
      "application/vnd.jupyter.widget-view+json": {
       "model_id": "28b9e6237a994f56af3f54ff24050b2f",
       "version_major": 2,
       "version_minor": 0
      },
      "text/plain": [
       "HBox(children=(HTML(value='backtest'), FloatProgress(value=0.0), HTML(value='')))"
      ]
     },
     "metadata": {},
     "output_type": "display_data"
    },
    {
     "name": "stdout",
     "output_type": "stream",
     "text": [
      "\n"
     ]
    }
   ],
   "source": [
    "tZ = q.simulation([\n",
    "        [G, {\n",
    "            'SPXM':   Pyramiding(10,  4, 1, 0.75, 15, flat_on_max_step=True),\n",
    "            'AUS200': Pyramiding(10,  4, 1, 0.75, 15, flat_on_max_step=True),\n",
    "            'XTIUSD': Pyramiding(100, 4, 1, 0.75, 15, flat_on_max_step=True)\n",
    "        }],\n",
    "    ],  md.ohlc('1h'), 'stock', 'Lustre Pyramiding', spreads=spreads)"
   ]
  },
  {
   "cell_type": "code",
   "execution_count": 87,
   "metadata": {},
   "outputs": [
    {
     "name": "stdout",
     "output_type": "stream",
     "text": [
      "\u001b[33m 0\u001b[0m: \u001b[34mLustre Pyramiding/0 \u001b[0m : Sharpe: \u001b[32m1.41\u001b[0m | Sortino: \u001b[32m2.24\u001b[0m | CAGR: \u001b[32m51.25\u001b[0m | DD: $\u001b[32m23944.10\u001b[0m (\u001b[32m22.18\u001b[0m%) | Gain: $\u001b[32m120194.08\u001b[0m | Execs: 167\u001b[33m[OK]\u001b[0m\n"
     ]
    },
    {
     "data": {
      "text/html": [
       "<div>\n",
       "<style scoped>\n",
       "    .dataframe tbody tr th:only-of-type {\n",
       "        vertical-align: middle;\n",
       "    }\n",
       "\n",
       "    .dataframe tbody tr th {\n",
       "        vertical-align: top;\n",
       "    }\n",
       "\n",
       "    .dataframe thead th {\n",
       "        text-align: right;\n",
       "    }\n",
       "</style>\n",
       "<table border=\"1\" class=\"dataframe\">\n",
       "  <thead>\n",
       "    <tr style=\"text-align: right;\">\n",
       "      <th></th>\n",
       "      <th>Name</th>\n",
       "      <th>sharpe</th>\n",
       "      <th>sortino</th>\n",
       "      <th>cagr</th>\n",
       "      <th>dd</th>\n",
       "      <th>dd_pct</th>\n",
       "      <th>gain</th>\n",
       "      <th>number_executions</th>\n",
       "    </tr>\n",
       "  </thead>\n",
       "  <tbody>\n",
       "    <tr>\n",
       "      <th>0</th>\n",
       "      <td>Lustre Pyramiding/0</td>\n",
       "      <td>1.409136</td>\n",
       "      <td>2.23675</td>\n",
       "      <td>51.252243</td>\n",
       "      <td>23944.1</td>\n",
       "      <td>22.179209</td>\n",
       "      <td>120194.08</td>\n",
       "      <td>167</td>\n",
       "    </tr>\n",
       "  </tbody>\n",
       "</table>\n",
       "</div>"
      ],
      "text/plain": [
       "                  Name    sharpe  sortino       cagr       dd     dd_pct  \\\n",
       "0  Lustre Pyramiding/0  1.409136  2.23675  51.252243  23944.1  22.179209   \n",
       "\n",
       "        gain  number_executions  \n",
       "0  120194.08                167  "
      ]
     },
     "execution_count": 87,
     "metadata": {},
     "output_type": "execute_result"
    },
    {
     "data": {
      "image/png": "[encoded data removed]",
      "text/plain": [
       "<Figure size 1728x576 with 1 Axes>"
      ]
     },
     "metadata": {},
     "output_type": "display_data"
    }
   ],
   "source": [
    "fig(18, 6)\n",
    "tZ.report(50000)"
   ]
  },
  {
   "cell_type": "code",
   "execution_count": 88,
   "metadata": {},
   "outputs": [
    {
     "data": {
      "text/html": [
       "\n",
       "\n",
       "\n",
       "\n",
       "\n",
       "<style>\n",
       ".report_table td, .report_table th {\n",
       "    text-align:left !important;\n",
       "}\n",
       "\n",
       ".wrap_table th {\n",
       "    text-align:center !important;\n",
       "}\n",
       "\n",
       ".wrap_table td, .wrap_table tr {\n",
       "    background: none !important;\n",
       "    text-align:left !important;\n",
       "}\n",
       "\n",
       ".flex-container {\n",
       "   display: flex;\n",
       "  align-items: flex-start;\n",
       "}\n",
       "\n",
       ".table_block {\n",
       "  width:30%;\n",
       "}\n",
       "\n",
       "</style>\n",
       "\n",
       "\n",
       "<table class=\"wrap_table\" width=100%>\n",
       "<th><font size=3 color=\"green\" text-align=\"center\">$strategy_name</font></th>\n",
       "<tr><td><font color=\"#3030ff\" size=-2></font></td></tr>\n",
       "</table>\n",
       "\n",
       "<div class=\"flex-container\"><div class=\"\">\n",
       "<img src='data:image/png;base64,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'>\n",
       "</div>\n",
       "<div class=\"table_block\">\n",
       "<table class=\"report_table\" width=100%>\n",
       "<tr>\n",
       "<th>\n",
       "Statistic\n",
       "</th>\n",
       "<th>\n",
       "Model\n",
       "</th>\n",
       "</tr>\n",
       "<tr><td>Gain (USD):</td><td>120194.08</td></tr>\n",
       "<tr><td>CAGR (%):</td><td>51.252</td></tr>\n",
       "<tr><td>Sharpe:</td><td>1.409</td></tr>\n",
       "<tr><td>Sortino:</td><td>2.237</td></tr>\n",
       "<tr><td>Calmar: </td><td>2.189</td></tr>\n",
       "<tr><td>MaxDD (%):</td><td>22.179</td></tr>\n",
       "<tr><td>MaxDD On Init BP (%):</td><td>47.888</td></tr>\n",
       "<tr><td>MaxDD (USD):</td><td>23944.100</td></tr>\n",
       "<tr><td>MaxDD days:</td><td>2 days</td></tr>\n",
       "<tr><td>MaxDD start:</td><td>2020-03-09</td></tr>\n",
       "<tr><td>MaxDD peak:</td><td>2020-03-10</td></tr>\n",
       "<tr><td>MaxDD recover:</td><td>2020-03-12</td></tr>\n",
       "<tr><td>Tail Ratio:</td><td>1.198</td></tr>\n",
       "<tr><td>Stability: </td><td>0.875</td></tr>\n",
       "<tr><td>Alpha:</td><td></td></tr>\n",
       "<tr><td>Beta:</td><td></td></tr>\n",
       "<tr><td>Ann.Volatility (%):</td><td>33.28</td></tr>\n",
       "<tr><td>VAR_95 (USD):</td><td>1629.79</td></tr>\n",
       "<tr><td>Mean return (%)</td><td>0.186</td></tr>\n",
       "<tr><td>Signals</td><td>???</td></tr>\n",
       "<tr><td>Broker's Commissions:</td><td></td></tr>\n",
       "</table>\n",
       "</div>\n",
       "</div></div>\n"
      ],
      "text/plain": [
       "<IPython.core.display.HTML object>"
      ]
     },
     "metadata": {},
     "output_type": "display_data"
    },
    {
     "data": {
      "text/plain": [
       "<Figure size 720x640 with 0 Axes>"
      ]
     },
     "metadata": {},
     "output_type": "display_data"
    }
   ],
   "source": [
    "tearsheet(tZ.results[0].get_portfolio(), 50000)"
   ]
  },
  {
   "cell_type": "markdown",
   "metadata": {},
   "source": [
    "# Test another signal generator (crossing movings)"
   ]
  },
  {
   "cell_type": "markdown",
   "metadata": {},
   "source": [
    "As additional step we will test another generator, easiest one is crossing moving averages: \n",
    " - when fast moving average (short period of averaging) crosses slow moving (long period of averaging window) up it generates buy signal\n",
    " - when fast moving average crosses slow one down we got sell signal\n",
    "\n",
    "We will use period 3 as fast period and 34 as slow one trying to catch momentum in price series and run simulations with same pyramiding parameters found on previuos step."
   ]
  },
  {
   "cell_type": "markdown",
   "metadata": {},
   "source": [
    "Example of signals of two crossing MA\n",
    "<hr/>"
   ]
  },
  {
   "cell_type": "code",
   "execution_count": 233,
   "metadata": {},
   "outputs": [
    {
     "data": {
      "image/png": "[encoded data removed]",
      "text/plain": [
       "<Figure size 1536x576 with 1 Axes>"
      ]
     },
     "metadata": {},
     "output_type": "display_data"
    }
   ],
   "source": [
    "b = md['AUS200'].ohlc('12h')\n",
    "fas_ma = apply_to_frame(sma, b.close, 3)\n",
    "slo_ma = apply_to_frame(sma, b.close, 24)\n",
    "\n",
    "_z = slice('2020-01', '2020-04')\n",
    "fig(16, 6)\n",
    "ohlc_plot(b[_z])\n",
    "plt.plot(fas_ma[_z], '--')\n",
    "plt.plot(slo_ma[_z], lw=2)\n",
    "\n",
    "sigs = q.SingleInstrumentComposer(CrossingMovings(3, 24)).fit(md.ticks()).predict(md['AUS200'].ohlcs('12h'))[_z]\n",
    "[plt.axvline(t, c='c', ls='--') for t,_ in sigs[sigs > 0].dropna().iterrows()];\n",
    "[plt.axvline(t, c='r', ls='--') for t,_ in sigs[sigs < 0].dropna().iterrows()];"
   ]
  },
  {
   "cell_type": "markdown",
   "metadata": {},
   "source": [
    "Crossing signals generator"
   ]
  },
  {
   "cell_type": "code",
   "execution_count": 204,
   "metadata": {},
   "outputs": [],
   "source": [
    "M = q.SingleInstrumentComposer(CrossingMovings(3, 24)).fit(md.ticks())"
   ]
  },
  {
   "cell_type": "code",
   "execution_count": 205,
   "metadata": {},
   "outputs": [
    {
     "data": {
      "application/vnd.jupyter.widget-view+json": {
       "model_id": "6f91899149cc44f59598cebe50cf74db",
       "version_major": 2,
       "version_minor": 0
      },
      "text/plain": [
       "HBox(children=(HTML(value='backtest'), FloatProgress(value=0.0), HTML(value='')))"
      ]
     },
     "metadata": {},
     "output_type": "display_data"
    },
    {
     "name": "stdout",
     "output_type": "stream",
     "text": [
      "\n"
     ]
    }
   ],
   "source": [
    "Zx = q.simulation([\n",
    "        [M, {\n",
    "            'SPXM':   Pyramiding(10,  4, 1, 0.75, 15, flat_on_max_step=True),\n",
    "            'AUS200': Pyramiding(10,  4, 1, 0.75, 15, flat_on_max_step=True),\n",
    "            'XTIUSD': Pyramiding(100, 4, 1, 0.75, 15, flat_on_max_step=True)\n",
    "        }],\n",
    "    ], md.ohlc('12h'), 'stock', 'Lustre Pyramiding', spreads=spreads)"
   ]
  },
  {
   "cell_type": "code",
   "execution_count": 235,
   "metadata": {},
   "outputs": [
    {
     "name": "stdout",
     "output_type": "stream",
     "text": [
      "\u001b[33m 0\u001b[0m: \u001b[34mLustre Pyramiding/0 \u001b[0m : Sharpe: \u001b[32m1.20\u001b[0m | Sortino: \u001b[32m2.05\u001b[0m | CAGR: \u001b[32m48.02\u001b[0m | DD: $\u001b[32m17944.20\u001b[0m (\u001b[32m33.80\u001b[0m%) | Gain: $\u001b[32m105733.31\u001b[0m | Execs: 107\u001b[33m[OK]\u001b[0m\n"
     ]
    },
    {
     "data": {
      "text/html": [
       "<div>\n",
       "<style scoped>\n",
       "    .dataframe tbody tr th:only-of-type {\n",
       "        vertical-align: middle;\n",
       "    }\n",
       "\n",
       "    .dataframe tbody tr th {\n",
       "        vertical-align: top;\n",
       "    }\n",
       "\n",
       "    .dataframe thead th {\n",
       "        text-align: right;\n",
       "    }\n",
       "</style>\n",
       "<table border=\"1\" class=\"dataframe\">\n",
       "  <thead>\n",
       "    <tr style=\"text-align: right;\">\n",
       "      <th></th>\n",
       "      <th>Name</th>\n",
       "      <th>sharpe</th>\n",
       "      <th>sortino</th>\n",
       "      <th>cagr</th>\n",
       "      <th>dd</th>\n",
       "      <th>dd_pct</th>\n",
       "      <th>gain</th>\n",
       "      <th>number_executions</th>\n",
       "    </tr>\n",
       "  </thead>\n",
       "  <tbody>\n",
       "    <tr>\n",
       "      <th>0</th>\n",
       "      <td>Lustre Pyramiding/0</td>\n",
       "      <td>1.202274</td>\n",
       "      <td>2.045756</td>\n",
       "      <td>48.022712</td>\n",
       "      <td>17944.2</td>\n",
       "      <td>33.797956</td>\n",
       "      <td>105733.31</td>\n",
       "      <td>107</td>\n",
       "    </tr>\n",
       "  </tbody>\n",
       "</table>\n",
       "</div>"
      ],
      "text/plain": [
       "                  Name    sharpe   sortino       cagr       dd     dd_pct  \\\n",
       "0  Lustre Pyramiding/0  1.202274  2.045756  48.022712  17944.2  33.797956   \n",
       "\n",
       "        gain  number_executions  \n",
       "0  105733.31                107  "
      ]
     },
     "execution_count": 235,
     "metadata": {},
     "output_type": "execute_result"
    },
    {
     "data": {
      "image/png": "[encoded data removed]",
      "text/plain": [
       "<Figure size 1728x576 with 1 Axes>"
      ]
     },
     "metadata": {},
     "output_type": "display_data"
    }
   ],
   "source": [
    "fig(18, 6)\n",
    "Zx.report(50000)"
   ]
  },
  {
   "cell_type": "code",
   "execution_count": 239,
   "metadata": {},
   "outputs": [
    {
     "data": {
      "image/png": "[encoded data removed]",
      "text/plain": [
       "<Figure size 1728x576 with 1 Axes>"
      ]
     },
     "metadata": {},
     "output_type": "display_data"
    }
   ],
   "source": [
    "fig(18, 6)\n",
    "plt.plot(tZ.results[0].equity(), label='Breakout generator')\n",
    "plt.plot(Zx.results[0].equity(), label='Crossing MA generator')\n",
    "plt.legend(); plt.title('Comparison different generators on Pyramding');"
   ]
  },
  {
   "cell_type": "markdown",
   "metadata": {},
   "source": [
    "# Conclusions\n",
    "\n",
    "<hr/>"
   ]
  },
  {
   "cell_type": "markdown",
   "metadata": {},
   "source": [
    "As we can see we got significant improve in model by applying optimal pyramiding position sizing. \n",
    "\n",
    " Strategy caught the trend during Mar'2020 and performed more or less well during 'usual' market regime. It processed only 167 trading signals during 2019-now so brokerage fees shouldn't impact performance significantly.\n",
    "\n",
    " "
   ]
  },
  {
   "cell_type": "markdown",
   "metadata": {},
   "source": [
    " "
   ]
  },
  {
   "cell_type": "markdown",
   "metadata": {},
   "source": [
    " "
   ]
  },
  {
   "cell_type": "markdown",
   "metadata": {},
   "source": [
    " "
   ]
  }
 ],
 "metadata": {
  "kernelspec": {
   "display_name": "Python 3",
   "language": "python",
   "name": "python3"
  },
  "language_info": {
   "codemirror_mode": {
    "name": "ipython",
    "version": 3
   },
   "file_extension": ".py",
   "mimetype": "text/x-python",
   "name": "python",
   "nbconvert_exporter": "python",
   "pygments_lexer": "ipython3",
   "version": "3.6.9"
  },
  "widgets": {
   "application/vnd.jupyter.widget-state+json": {
    "state": {
     "003b186a93b0435691ec5074b37d5958": {
      "model_module": "@jupyter-widgets/controls",
      "model_module_version": "1.5.0",
      "model_name": "HTMLModel",
      "state": {
       "layout": "IPY_MODEL_bf98d3f0798a43d994d9764af7115fa3",
       "style": "IPY_MODEL_df7cedca1d434ddb98c1cf4ffea36a7a",
       "value": "Backtest Lustre Pyramiding: 100%"
      }
     },
     "0055cffe2f7f44aa9e4ba4081db24152": {
      "model_module": "@jupyter-widgets/controls",
      "model_module_version": "1.5.0",
      "model_name": "HTMLModel",
      "state": {
       "layout": "IPY_MODEL_83bcc6165c88451595a3b6aae9a02f9d",
       "style": "IPY_MODEL_cd7ff13ffedb4f43876cecd9f19ae1e3",
       "value": " 100/100 [13:29&lt;00:00, 8.09s/ signals]"
      }
     },
     "006bb03c542c4c119edae3cdfbc91e99": {
      "model_module": "@jupyter-widgets/controls",
      "model_module_version": "1.5.0",
      "model_name": "ProgressStyleModel",
      "state": {
       "description_width": ""
      }
     },
     "00844dc983d24c68884cd98afa23a819": {
      "model_module": "@jupyter-widgets/controls",
      "model_module_version": "1.5.0",
      "model_name": "ProgressStyleModel",
      "state": {
       "description_width": ""
      }
     },
     "00eb5220b57443879497d6c4627d9c30": {
      "model_module": "@jupyter-widgets/controls",
      "model_module_version": "1.5.0",
      "model_name": "ProgressStyleModel",
      "state": {
       "description_width": ""
      }
     },
     "00f974e5ef3a4523aba9414d8ec83a2d": {
      "model_module": "@jupyter-widgets/controls",
      "model_module_version": "1.5.0",
      "model_name": "HTMLModel",
      "state": {
       "layout": "IPY_MODEL_380d3552e86a48abac9193843366df2c",
       "style": "IPY_MODEL_2bdc1a0cab424df2b46b2c2ffb28a8ba",
       "value": "Backtest Lustre Pyramiding: 100%"
      }
     },
     "0186a29731c1444d8afef64ec0da9bab": {
      "model_module": "@jupyter-widgets/base",
      "model_module_version": "1.2.0",
      "model_name": "LayoutModel",
      "state": {}
     },
     "02a3ef2b1ce04783997eadb547c51158": {
      "model_module": "@jupyter-widgets/controls",
      "model_module_version": "1.5.0",
      "model_name": "ProgressStyleModel",
      "state": {
       "description_width": ""
      }
     },
     "02dd2c2d195a49f5a1ff1387c9878285": {
      "model_module": "@jupyter-widgets/base",
      "model_module_version": "1.2.0",
      "model_name": "LayoutModel",
      "state": {}
     },
     "034337d4b61d445dbba4a0d3da56c0af": {
      "model_module": "@jupyter-widgets/base",
      "model_module_version": "1.2.0",
      "model_name": "LayoutModel",
      "state": {}
     },
     "046837d351a341e782fee4a35511a4f3": {
      "model_module": "@jupyter-widgets/controls",
      "model_module_version": "1.5.0",
      "model_name": "FloatProgressModel",
      "state": {
       "bar_style": "success",
       "layout": "IPY_MODEL_cf99a8225b13478d820f39db2b1d206b",
       "style": "IPY_MODEL_006bb03c542c4c119edae3cdfbc91e99",
       "value": 100
      }
     },
     "04adb2e1ccab4de88a5b1f2c20ab4f6c": {
      "model_module": "@jupyter-widgets/controls",
      "model_module_version": "1.5.0",
      "model_name": "HTMLModel",
      "state": {
       "layout": "IPY_MODEL_45c9335a51be4ee2beb9a04670752ed6",
       "style": "IPY_MODEL_44f865fd677c426c9fcefad112db4bb4",
       "value": "Backtest Lustre Pyramiding: 100%"
      }
     },
     "04c51aa6e7b741a5be2f46ab58428084": {
      "model_module": "@jupyter-widgets/controls",
      "model_module_version": "1.5.0",
      "model_name": "FloatProgressModel",
      "state": {
       "bar_style": "success",
       "layout": "IPY_MODEL_c6661c2bafa14cb8bf7d6b2b6c774794",
       "style": "IPY_MODEL_2e79a97367e54ace80651692bd5afdc9",
       "value": 100
      }
     },
     "04cf19a4e3744105837a6e1ef2e70ab8": {
      "model_module": "@jupyter-widgets/base",
      "model_module_version": "1.2.0",
      "model_name": "LayoutModel",
      "state": {}
     },
     "056f373fe84f4b34b2ab5f0fd74edc45": {
      "model_module": "@jupyter-widgets/controls",
      "model_module_version": "1.5.0",
      "model_name": "ProgressStyleModel",
      "state": {
       "description_width": ""
      }
     },
     "0572078d2de94e7ca572ea33d88ea3a4": {
      "model_module": "@jupyter-widgets/controls",
      "model_module_version": "1.5.0",
      "model_name": "HTMLModel",
      "state": {
       "layout": "IPY_MODEL_eaa6e08e755042618a1eba70d21c5bc4",
       "style": "IPY_MODEL_0fdf4d93017644d497c515fd4b63e64c",
       "value": "Backtest Lustre Pyramiding: 100%"
      }
     },
     "059e3628ae394b358528951b71d35a51": {
      "model_module": "@jupyter-widgets/base",
      "model_module_version": "1.2.0",
      "model_name": "LayoutModel",
      "state": {}
     },
     "05df90540c9c434c9e61edfe85d65978": {
      "model_module": "@jupyter-widgets/base",
      "model_module_version": "1.2.0",
      "model_name": "LayoutModel",
      "state": {}
     },
     "05f5054f6ea9497d99d126a045a77639": {
      "model_module": "@jupyter-widgets/base",
      "model_module_version": "1.2.0",
      "model_name": "LayoutModel",
      "state": {}
     },
     "062171f11d034db2bece1c5b01dfe659": {
      "model_module": "@jupyter-widgets/base",
      "model_module_version": "1.2.0",
      "model_name": "LayoutModel",
      "state": {}
     },
     "0657e8be0cf441148f5e5444add601f4": {
      "model_module": "@jupyter-widgets/controls",
      "model_module_version": "1.5.0",
      "model_name": "HTMLModel",
      "state": {
       "layout": "IPY_MODEL_e7b1682565f14aa1ae30840beab8f5ff",
       "style": "IPY_MODEL_df96df90e3bc433b81250592ec691b39",
       "value": " 100/100 [00:54&lt;00:00, 1.82 signals/s]"
      }
     },
     "069a8f4a76de47b9915f78281074c798": {
      "model_module": "@jupyter-widgets/controls",
      "model_module_version": "1.5.0",
      "model_name": "DescriptionStyleModel",
      "state": {
       "description_width": ""
      }
     },
     "06a1d31ae77d4eb59546001d70a0a56c": {
      "model_module": "@jupyter-widgets/base",
      "model_module_version": "1.2.0",
      "model_name": "LayoutModel",
      "state": {}
     },
     "071430c4a5ca44088fc20eb93439662a": {
      "model_module": "@jupyter-widgets/base",
      "model_module_version": "1.2.0",
      "model_name": "LayoutModel",
      "state": {}
     },
     "07f9ce3d73c24a4fb13b4b4737682345": {
      "model_module": "@jupyter-widgets/controls",
      "model_module_version": "1.5.0",
      "model_name": "DescriptionStyleModel",
      "state": {
       "description_width": ""
      }
     },
     "089fb3ef7b51471bb8a7518f9158edb8": {
      "model_module": "@jupyter-widgets/controls",
      "model_module_version": "1.5.0",
      "model_name": "ProgressStyleModel",
      "state": {
       "description_width": ""
      }
     },
     "08a566d095074387a7b9c8d160de4435": {
      "model_module": "@jupyter-widgets/controls",
      "model_module_version": "1.5.0",
      "model_name": "HBoxModel",
      "state": {
       "children": [
        "IPY_MODEL_1c6316435ec641608852bccbb76b92c1",
        "IPY_MODEL_1253af1da2e14edba3d0b60c15d12553",
        "IPY_MODEL_c63ef388d07a4d5185b5b3861739bb29"
       ],
       "layout": "IPY_MODEL_c9c1b3c29f6b4b469b0fdaaa3ea7cc31"
      }
     },
     "091c0fc88b3b44ea9d684203092c889d": {
      "model_module": "@jupyter-widgets/base",
      "model_module_version": "1.2.0",
      "model_name": "LayoutModel",
      "state": {}
     },
     "093ce541a5ce476abaf68df20fe531fc": {
      "model_module": "@jupyter-widgets/base",
      "model_module_version": "1.2.0",
      "model_name": "LayoutModel",
      "state": {}
     },
     "09697f0cb66d4ba8a527c40bc372ab7d": {
      "model_module": "@jupyter-widgets/base",
      "model_module_version": "1.2.0",
      "model_name": "LayoutModel",
      "state": {}
     },
     "0bbbda734271400fb2960d34b255bae2": {
      "model_module": "@jupyter-widgets/controls",
      "model_module_version": "1.5.0",
      "model_name": "HTMLModel",
      "state": {
       "layout": "IPY_MODEL_fee4590aa8b043c0a140e4ca8762d935",
       "style": "IPY_MODEL_b258a5e4e53c4e0488a60bc69403e45c",
       "value": " 100/100 [00:53&lt;00:00, 1.88 signals/s]"
      }
     },
     "0bd67b65d01f47dca075fc93ea750747": {
      "model_module": "@jupyter-widgets/controls",
      "model_module_version": "1.5.0",
      "model_name": "ProgressStyleModel",
      "state": {
       "description_width": ""
      }
     },
     "0bed8f4cd2c14295a6981b4c90c85a65": {
      "model_module": "@jupyter-widgets/controls",
      "model_module_version": "1.5.0",
      "model_name": "FloatProgressModel",
      "state": {
       "bar_style": "success",
       "layout": "IPY_MODEL_fc45d8b3968743bc8d7fa4a024c0996a",
       "style": "IPY_MODEL_a403d53e66594d6b8ee900686df23f4f",
       "value": 100
      }
     },
     "0d2b2d540b2544d3a8f4089bad7cd484": {
      "model_module": "@jupyter-widgets/controls",
      "model_module_version": "1.5.0",
      "model_name": "FloatProgressModel",
      "state": {
       "bar_style": "success",
       "layout": "IPY_MODEL_33a0d0a72c304540bcd7f2ff1dea1332",
       "style": "IPY_MODEL_35dcd012db9144f3bddb91c100fe213a",
       "value": 100
      }
     },
     "0dd938d3e31a423c9d4420b822efac50": {
      "model_module": "@jupyter-widgets/base",
      "model_module_version": "1.2.0",
      "model_name": "LayoutModel",
      "state": {}
     },
     "0e84db2a7ec049bbad647a3a72008043": {
      "model_module": "@jupyter-widgets/base",
      "model_module_version": "1.2.0",
      "model_name": "LayoutModel",
      "state": {}
     },
     "0ecf1232c1224d8ba0c5c9b63c69005a": {
      "model_module": "@jupyter-widgets/controls",
      "model_module_version": "1.5.0",
      "model_name": "DescriptionStyleModel",
      "state": {
       "description_width": ""
      }
     },
     "0fa65e639de74ec8840698facc21917b": {
      "model_module": "@jupyter-widgets/base",
      "model_module_version": "1.2.0",
      "model_name": "LayoutModel",
      "state": {}
     },
     "0fdf4d93017644d497c515fd4b63e64c": {
      "model_module": "@jupyter-widgets/controls",
      "model_module_version": "1.5.0",
      "model_name": "DescriptionStyleModel",
      "state": {
       "description_width": ""
      }
     },
     "1002b6a73e3e40c4bf76b6265640a70c": {
      "model_module": "@jupyter-widgets/controls",
      "model_module_version": "1.5.0",
      "model_name": "FloatProgressModel",
      "state": {
       "bar_style": "success",
       "layout": "IPY_MODEL_37f16536bd244a0b94f88487ea3adde0",
       "style": "IPY_MODEL_c05bdeb72fca4316bfd703e618db3ef5",
       "value": 100
      }
     },
     "11e56bd8ce654611a6425e76ff86651c": {
      "model_module": "@jupyter-widgets/controls",
      "model_module_version": "1.5.0",
      "model_name": "ProgressStyleModel",
      "state": {
       "description_width": ""
      }
     },
     "1220328f649846f8a20ac2cebe4973ce": {
      "model_module": "@jupyter-widgets/base",
      "model_module_version": "1.2.0",
      "model_name": "LayoutModel",
      "state": {}
     },
     "123f46d2c2d2419face8ec90f8f55d8e": {
      "model_module": "@jupyter-widgets/base",
      "model_module_version": "1.2.0",
      "model_name": "LayoutModel",
      "state": {}
     },
     "1253af1da2e14edba3d0b60c15d12553": {
      "model_module": "@jupyter-widgets/controls",
      "model_module_version": "1.5.0",
      "model_name": "FloatProgressModel",
      "state": {
       "bar_style": "success",
       "layout": "IPY_MODEL_d19863f51cac46aeb1a1fc0562facae7",
       "style": "IPY_MODEL_c864a6117aad4e74bb81d211751b9d49",
       "value": 100
      }
     },
     "125d4e394a4d432a8068347eb288d34d": {
      "model_module": "@jupyter-widgets/controls",
      "model_module_version": "1.5.0",
      "model_name": "DescriptionStyleModel",
      "state": {
       "description_width": ""
      }
     },
     "12d2b8f4216543b59a88c0e539e49c50": {
      "model_module": "@jupyter-widgets/controls",
      "model_module_version": "1.5.0",
      "model_name": "HTMLModel",
      "state": {
       "layout": "IPY_MODEL_6d9da8d9d89147eaba144cde5d448cd4",
       "style": "IPY_MODEL_43c6e8b2af604c84932f2e4741c3a27d",
       "value": "Backtest Lustre Pyramiding: 100%"
      }
     },
     "1308889353b94573951835df56370dfe": {
      "model_module": "@jupyter-widgets/controls",
      "model_module_version": "1.5.0",
      "model_name": "HBoxModel",
      "state": {
       "children": [
        "IPY_MODEL_c7cf806c1b2a438a9cadb6b18d0f29fe",
        "IPY_MODEL_bd2b3dd2c94b41c7bc9f8634380cb59e",
        "IPY_MODEL_9ce05356706f41dabe1c61d34db5e89a"
       ],
       "layout": "IPY_MODEL_f24eb52e96434a50920bb3fe899152aa"
      }
     },
     "131438b268ff4b47a4906dafb3306086": {
      "model_module": "@jupyter-widgets/controls",
      "model_module_version": "1.5.0",
      "model_name": "DescriptionStyleModel",
      "state": {
       "description_width": ""
      }
     },
     "13c530bca2614e729fe8aa74abc0e493": {
      "model_module": "@jupyter-widgets/base",
      "model_module_version": "1.2.0",
      "model_name": "LayoutModel",
      "state": {}
     },
     "13d3dffc4e154a96a082c7e3598e28ab": {
      "model_module": "@jupyter-widgets/base",
      "model_module_version": "1.2.0",
      "model_name": "LayoutModel",
      "state": {}
     },
     "162fe3ad688b4b32923e4177c1030258": {
      "model_module": "@jupyter-widgets/base",
      "model_module_version": "1.2.0",
      "model_name": "LayoutModel",
      "state": {}
     },
     "165b6caecacb49b4a85179f13f4a1a35": {
      "model_module": "@jupyter-widgets/controls",
      "model_module_version": "1.5.0",
      "model_name": "DescriptionStyleModel",
      "state": {
       "description_width": ""
      }
     },
     "16c989de13f64e1484a61fddc4277b57": {
      "model_module": "@jupyter-widgets/controls",
      "model_module_version": "1.5.0",
      "model_name": "HTMLModel",
      "state": {
       "layout": "IPY_MODEL_17d30eee4e124e09a07fdfca6a08e7a4",
       "style": "IPY_MODEL_59b9551469af4cfd82a7f43b3142afae",
       "value": " 100/100 [01:06&lt;00:00, 1.51 signals/s]"
      }
     },
     "171e1f8d1fb843c1a9027e3a4aac46c0": {
      "model_module": "@jupyter-widgets/controls",
      "model_module_version": "1.5.0",
      "model_name": "DescriptionStyleModel",
      "state": {
       "description_width": ""
      }
     },
     "1751ef622d46445e8b6f2cff488f4806": {
      "model_module": "@jupyter-widgets/base",
      "model_module_version": "1.2.0",
      "model_name": "LayoutModel",
      "state": {}
     },
     "17d30eee4e124e09a07fdfca6a08e7a4": {
      "model_module": "@jupyter-widgets/base",
      "model_module_version": "1.2.0",
      "model_name": "LayoutModel",
      "state": {}
     },
     "17d6a7b9e35f41ee93cb2f7ff29650c6": {
      "model_module": "@jupyter-widgets/controls",
      "model_module_version": "1.5.0",
      "model_name": "DescriptionStyleModel",
      "state": {
       "description_width": ""
      }
     },
     "186cd998c6164ea2bf561817f541ad97": {
      "model_module": "@jupyter-widgets/controls",
      "model_module_version": "1.5.0",
      "model_name": "DescriptionStyleModel",
      "state": {
       "description_width": ""
      }
     },
     "1895b48d0ce94f5d9d7837ad574db1cb": {
      "model_module": "@jupyter-widgets/controls",
      "model_module_version": "1.5.0",
      "model_name": "FloatProgressModel",
      "state": {
       "bar_style": "success",
       "layout": "IPY_MODEL_b6d00d344c174372a3b6b4c9a76d0f20",
       "style": "IPY_MODEL_00eb5220b57443879497d6c4627d9c30",
       "value": 100
      }
     },
     "197c38c6997c40d6a7bb05d87e042261": {
      "model_module": "@jupyter-widgets/controls",
      "model_module_version": "1.5.0",
      "model_name": "ProgressStyleModel",
      "state": {
       "description_width": ""
      }
     },
     "19d1970535e246ec96110305369c374e": {
      "model_module": "@jupyter-widgets/controls",
      "model_module_version": "1.5.0",
      "model_name": "FloatProgressModel",
      "state": {
       "bar_style": "success",
       "layout": "IPY_MODEL_63e86faab70547e0a1bf8e05ac77655f",
       "style": "IPY_MODEL_91fac1ce7fa04180bd55f6cb6b9bff51",
       "value": 100
      }
     },
     "19e97b7560474d4b91b9867edfd48569": {
      "model_module": "@jupyter-widgets/controls",
      "model_module_version": "1.5.0",
      "model_name": "FloatProgressModel",
      "state": {
       "bar_style": "success",
       "layout": "IPY_MODEL_8257310a8cf84fb98c0d7c55a973478a",
       "style": "IPY_MODEL_71657acc34674f909eec7fa2a75d8b15",
       "value": 100
      }
     },
     "1a7feabb39c24fa382c7ce2314c4a01a": {
      "model_module": "@jupyter-widgets/base",
      "model_module_version": "1.2.0",
      "model_name": "LayoutModel",
      "state": {}
     },
     "1b2377c10764417383d8f304bb824e72": {
      "model_module": "@jupyter-widgets/controls",
      "model_module_version": "1.5.0",
      "model_name": "FloatProgressModel",
      "state": {
       "bar_style": "success",
       "layout": "IPY_MODEL_3c8a2c82e5bd45728c59ae0e1083cd6d",
       "style": "IPY_MODEL_bf00aff9cc38430b97f61707acdbd6b4",
       "value": 100
      }
     },
     "1c07b0cf9aa64e44a8cd34e5215d05b0": {
      "model_module": "@jupyter-widgets/base",
      "model_module_version": "1.2.0",
      "model_name": "LayoutModel",
      "state": {}
     },
     "1c2c0a3b485443f99544fa9a4e8238ab": {
      "model_module": "@jupyter-widgets/controls",
      "model_module_version": "1.5.0",
      "model_name": "FloatProgressModel",
      "state": {
       "bar_style": "success",
       "layout": "IPY_MODEL_225d6e24f7b64e64a822ad1253b64abb",
       "style": "IPY_MODEL_00844dc983d24c68884cd98afa23a819",
       "value": 100
      }
     },
     "1c3be36d40a04175b98a59485a22d748": {
      "model_module": "@jupyter-widgets/base",
      "model_module_version": "1.2.0",
      "model_name": "LayoutModel",
      "state": {}
     },
     "1c6316435ec641608852bccbb76b92c1": {
      "model_module": "@jupyter-widgets/controls",
      "model_module_version": "1.5.0",
      "model_name": "HTMLModel",
      "state": {
       "layout": "IPY_MODEL_e982226939f44c709cc7b1870ff9b541",
       "style": "IPY_MODEL_125d4e394a4d432a8068347eb288d34d",
       "value": "Backtest Lustre Pyramiding: 100%"
      }
     },
     "1cba6579d1994906af8128fb453aaab8": {
      "model_module": "@jupyter-widgets/base",
      "model_module_version": "1.2.0",
      "model_name": "LayoutModel",
      "state": {}
     },
     "1ce2999b040249c2a7047d5cffa23cf8": {
      "model_module": "@jupyter-widgets/base",
      "model_module_version": "1.2.0",
      "model_name": "LayoutModel",
      "state": {}
     },
     "1cfcd3bf14a142a8bab2fa09826c0f91": {
      "model_module": "@jupyter-widgets/controls",
      "model_module_version": "1.5.0",
      "model_name": "HBoxModel",
      "state": {
       "children": [
        "IPY_MODEL_de3790b68c9949b7b6f2b06846827561",
        "IPY_MODEL_4c38f663674a4c438684dd2869d47f9d",
        "IPY_MODEL_a7182fcd6cb5469f961082560ee6d28b"
       ],
       "layout": "IPY_MODEL_743740765485447c8c32aefd3fe0b71d"
      }
     },
     "1d1c13dfb8b84e6ab00423dec7972210": {
      "model_module": "@jupyter-widgets/controls",
      "model_module_version": "1.5.0",
      "model_name": "HTMLModel",
      "state": {
       "layout": "IPY_MODEL_83874eab7e494c37bc980bbf5ff41444",
       "style": "IPY_MODEL_4774904ebd4c48ea986bbfcafd86921a",
       "value": " 100/100 [01:16&lt;00:00, 1.31 signals/s]"
      }
     },
     "1d2091fe851246f78ca9f5ceb5c32124": {
      "model_module": "@jupyter-widgets/controls",
      "model_module_version": "1.5.0",
      "model_name": "HTMLModel",
      "state": {
       "layout": "IPY_MODEL_162fe3ad688b4b32923e4177c1030258",
       "style": "IPY_MODEL_22a1f849a3e84c71b125159ce078b3c5",
       "value": " 53.4/100 [19:04:31&lt;16:36:50, 1.28ks/ signals]"
      }
     },
     "1d53f434f2154efc9668ceb576af7e15": {
      "model_module": "@jupyter-widgets/base",
      "model_module_version": "1.2.0",
      "model_name": "LayoutModel",
      "state": {}
     },
     "1e4ac3b2b43141f69408fed8f3964aef": {
      "model_module": "@jupyter-widgets/base",
      "model_module_version": "1.2.0",
      "model_name": "LayoutModel",
      "state": {}
     },
     "1e4dcb8df2474401bbf9d1ca9eb92ae1": {
      "model_module": "@jupyter-widgets/controls",
      "model_module_version": "1.5.0",
      "model_name": "HTMLModel",
      "state": {
       "layout": "IPY_MODEL_45842c966db04ddbba8260ba486b57fd",
       "style": "IPY_MODEL_53ec82260a8148a1aca2ca96042a4fc7",
       "value": " 100/100 [01:16&lt;00:00, 1.31 signals/s]"
      }
     },
     "1e6ba067247a4ac2b9b001827b6d39e3": {
      "model_module": "@jupyter-widgets/controls",
      "model_module_version": "1.5.0",
      "model_name": "FloatProgressModel",
      "state": {
       "bar_style": "success",
       "layout": "IPY_MODEL_a349f75e0bc0466c90cd8d1f0e616ec9",
       "style": "IPY_MODEL_056f373fe84f4b34b2ab5f0fd74edc45",
       "value": 100
      }
     },
     "1f1eccf6339a4d3faa7822c0c48576e2": {
      "model_module": "@jupyter-widgets/controls",
      "model_module_version": "1.5.0",
      "model_name": "HBoxModel",
      "state": {
       "children": [
        "IPY_MODEL_f53c1077433d4ee7813c8046876e18d8",
        "IPY_MODEL_242b29fb12b04b45b4f96949e6f84c8e",
        "IPY_MODEL_96770c32319e4ea797fb016bae563c5e"
       ],
       "layout": "IPY_MODEL_8c564ab5ce15413db18ce37f8001abbb"
      }
     },
     "1f616e501d1a4f30ae506d83b0fd9a8b": {
      "model_module": "@jupyter-widgets/controls",
      "model_module_version": "1.5.0",
      "model_name": "FloatProgressModel",
      "state": {
       "bar_style": "success",
       "layout": "IPY_MODEL_9dc71802122040b5a6892793d11b5516",
       "style": "IPY_MODEL_4bb605259a0341eab61961c23fb5bea0",
       "value": 100
      }
     },
     "1fabda2231ac48d4b0d0b568d8244e5a": {
      "model_module": "@jupyter-widgets/controls",
      "model_module_version": "1.5.0",
      "model_name": "DescriptionStyleModel",
      "state": {
       "description_width": ""
      }
     },
     "20ad99f1a5c04ce38c3b5616d998130a": {
      "model_module": "@jupyter-widgets/base",
      "model_module_version": "1.2.0",
      "model_name": "LayoutModel",
      "state": {}
     },
     "20f4d8f95c1d43089feb77cb6f1a7460": {
      "model_module": "@jupyter-widgets/controls",
      "model_module_version": "1.5.0",
      "model_name": "HTMLModel",
      "state": {
       "layout": "IPY_MODEL_71a03180a3334d5aa8216ffd17f147d2",
       "style": "IPY_MODEL_693fa58078c74ee89aae73ae76605105",
       "value": "Backtest Lustre Pyramiding: 100%"
      }
     },
     "20f6727918a543b79199bd5d09ab843a": {
      "model_module": "@jupyter-widgets/controls",
      "model_module_version": "1.5.0",
      "model_name": "HTMLModel",
      "state": {
       "layout": "IPY_MODEL_33dbf5141ac143de913db59547d6e82e",
       "style": "IPY_MODEL_186cd998c6164ea2bf561817f541ad97",
       "value": " 100/100 [00:54&lt;00:00, 1.83 signals/s]"
      }
     },
     "21964c63a3be4d1f891e13c951f2ae94": {
      "model_module": "@jupyter-widgets/base",
      "model_module_version": "1.2.0",
      "model_name": "LayoutModel",
      "state": {}
     },
     "21a61cc61440471fbdcd5ed1d42e7d6d": {
      "model_module": "@jupyter-widgets/controls",
      "model_module_version": "1.5.0",
      "model_name": "HTMLModel",
      "state": {
       "layout": "IPY_MODEL_685a9553fd3a422aa51647599b40297f",
       "style": "IPY_MODEL_069a8f4a76de47b9915f78281074c798",
       "value": " 100/100 [00:43&lt;00:00, 2.30 signals/s]"
      }
     },
     "21b3d7f5b40742dab9ef88973e8f3e8f": {
      "model_module": "@jupyter-widgets/controls",
      "model_module_version": "1.5.0",
      "model_name": "HTMLModel",
      "state": {
       "layout": "IPY_MODEL_98b4255733374181922f95c9ee5b5200",
       "style": "IPY_MODEL_dd9f4ae7f017463792f5c4f212807a6a",
       "value": "Backtest Lustre Pyramiding: 100%"
      }
     },
     "21b8f149cb234805b1139aa8ee354952": {
      "model_module": "@jupyter-widgets/base",
      "model_module_version": "1.2.0",
      "model_name": "LayoutModel",
      "state": {}
     },
     "21cb747478794a788cca25b1b88e94e7": {
      "model_module": "@jupyter-widgets/controls",
      "model_module_version": "1.5.0",
      "model_name": "FloatProgressModel",
      "state": {
       "bar_style": "success",
       "layout": "IPY_MODEL_c73c7a0ae2b34792800ea46ada1b3474",
       "style": "IPY_MODEL_4588c72c52fc434c8db1f10e56b5e9b0",
       "value": 100
      }
     },
     "21d6a18bb05a4089a83f7dac98c04f24": {
      "model_module": "@jupyter-widgets/controls",
      "model_module_version": "1.5.0",
      "model_name": "ProgressStyleModel",
      "state": {
       "description_width": ""
      }
     },
     "21ec38c247d8483393a31971864bdee1": {
      "model_module": "@jupyter-widgets/base",
      "model_module_version": "1.2.0",
      "model_name": "LayoutModel",
      "state": {}
     },
     "225d6e24f7b64e64a822ad1253b64abb": {
      "model_module": "@jupyter-widgets/base",
      "model_module_version": "1.2.0",
      "model_name": "LayoutModel",
      "state": {}
     },
     "22a1f849a3e84c71b125159ce078b3c5": {
      "model_module": "@jupyter-widgets/controls",
      "model_module_version": "1.5.0",
      "model_name": "DescriptionStyleModel",
      "state": {
       "description_width": ""
      }
     },
     "22fd6cad020448d5980d3ea1e586a215": {
      "model_module": "@jupyter-widgets/controls",
      "model_module_version": "1.5.0",
      "model_name": "DescriptionStyleModel",
      "state": {
       "description_width": ""
      }
     },
     "230334ca039e4164842de755b3b74d87": {
      "model_module": "@jupyter-widgets/base",
      "model_module_version": "1.2.0",
      "model_name": "LayoutModel",
      "state": {}
     },
     "23eb0f07f4744460a165266e28e00aa3": {
      "model_module": "@jupyter-widgets/controls",
      "model_module_version": "1.5.0",
      "model_name": "HTMLModel",
      "state": {
       "layout": "IPY_MODEL_1cba6579d1994906af8128fb453aaab8",
       "style": "IPY_MODEL_f9b34ce86cee4fd1baf75321f59b7692",
       "value": " 100/100 [00:24&lt;00:00, 4.03 signals/s]"
      }
     },
     "242b29fb12b04b45b4f96949e6f84c8e": {
      "model_module": "@jupyter-widgets/controls",
      "model_module_version": "1.5.0",
      "model_name": "FloatProgressModel",
      "state": {
       "bar_style": "success",
       "layout": "IPY_MODEL_21964c63a3be4d1f891e13c951f2ae94",
       "style": "IPY_MODEL_197c38c6997c40d6a7bb05d87e042261",
       "value": 100
      }
     },
     "25351500255d4b449fd9c34ebb5af7c1": {
      "model_module": "@jupyter-widgets/base",
      "model_module_version": "1.2.0",
      "model_name": "LayoutModel",
      "state": {}
     },
     "2541ff91af9842a2b0050f88c9b3cbd7": {
      "model_module": "@jupyter-widgets/controls",
      "model_module_version": "1.5.0",
      "model_name": "FloatProgressModel",
      "state": {
       "bar_style": "success",
       "layout": "IPY_MODEL_64a8851686c345bd9a7b6ac40a23b1ee",
       "style": "IPY_MODEL_751f3d3f5b0e4d118e9a35c1f52d153a",
       "value": 100
      }
     },
     "259cada0fce64676ba10283a0dc2a21c": {
      "model_module": "@jupyter-widgets/controls",
      "model_module_version": "1.5.0",
      "model_name": "HBoxModel",
      "state": {
       "children": [
        "IPY_MODEL_a15f39f94bdf4c57a478168f0491aecb",
        "IPY_MODEL_2541ff91af9842a2b0050f88c9b3cbd7",
        "IPY_MODEL_cfb67857dc9947039c7ab60d8adef4e4"
       ],
       "layout": "IPY_MODEL_1c3be36d40a04175b98a59485a22d748"
      }
     },
     "25b884c884f64f8d8c2ffa0363738682": {
      "model_module": "@jupyter-widgets/base",
      "model_module_version": "1.2.0",
      "model_name": "LayoutModel",
      "state": {}
     },
     "25d753169bd64e58a1c5bc7bb645fb46": {
      "model_module": "@jupyter-widgets/controls",
      "model_module_version": "1.5.0",
      "model_name": "HTMLModel",
      "state": {
       "layout": "IPY_MODEL_9eb7ba84e29d46f8b6b1391772124529",
       "style": "IPY_MODEL_ab3b68a2be094ecc8f494cfffe9e18b2",
       "value": "Backtest Lustre Pyramiding: 100%"
      }
     },
     "265304a2d33f46e397a8ee79eb13f4d9": {
      "model_module": "@jupyter-widgets/base",
      "model_module_version": "1.2.0",
      "model_name": "LayoutModel",
      "state": {}
     },
     "26664e6d84d443d4ad68fbc1320bc0b2": {
      "model_module": "@jupyter-widgets/controls",
      "model_module_version": "1.5.0",
      "model_name": "HTMLModel",
      "state": {
       "layout": "IPY_MODEL_559b108b37bd404ba5b1411f1cf25f60",
       "style": "IPY_MODEL_cbeb0acb0bbd48689f2cdd95288faa6f",
       "value": "Backtest Lustre Pyramiding: 100%"
      }
     },
     "268988fc295c468e9a8eccd686218ce1": {
      "model_module": "@jupyter-widgets/controls",
      "model_module_version": "1.5.0",
      "model_name": "ProgressStyleModel",
      "state": {
       "description_width": ""
      }
     },
     "26b52cc8ebb446f1bd2737bc74a03218": {
      "model_module": "@jupyter-widgets/controls",
      "model_module_version": "1.5.0",
      "model_name": "ProgressStyleModel",
      "state": {
       "description_width": ""
      }
     },
     "26ebd9d278c940b19824d216f3ba18fd": {
      "model_module": "@jupyter-widgets/controls",
      "model_module_version": "1.5.0",
      "model_name": "HBoxModel",
      "state": {
       "children": [
        "IPY_MODEL_6687baa96a424578bc0ec0860562051f",
        "IPY_MODEL_0d2b2d540b2544d3a8f4089bad7cd484",
        "IPY_MODEL_beab6cb74e544a068c8fdea5f72c4e43"
       ],
       "layout": "IPY_MODEL_aefcc7d782454404a7ac4924f0438ada"
      }
     },
     "27649a83577444aea1aeaa7f165d8149": {
      "model_module": "@jupyter-widgets/controls",
      "model_module_version": "1.5.0",
      "model_name": "HTMLModel",
      "state": {
       "layout": "IPY_MODEL_05df90540c9c434c9e61edfe85d65978",
       "style": "IPY_MODEL_52a3d4129e4c433380242e7ed712c98b",
       "value": " 100/100 [07:10&lt;00:00, 4.31s/ signals]"
      }
     },
     "279ba0faec0d4621aa36f8e0fe52b42f": {
      "model_module": "@jupyter-widgets/controls",
      "model_module_version": "1.5.0",
      "model_name": "DescriptionStyleModel",
      "state": {
       "description_width": ""
      }
     },
     "280092a7e5d549849546cc3e7aa0606f": {
      "model_module": "@jupyter-widgets/controls",
      "model_module_version": "1.5.0",
      "model_name": "HTMLModel",
      "state": {
       "layout": "IPY_MODEL_63d5170beffa472cbb27ea748d7566a6",
       "style": "IPY_MODEL_f1b7ef853e5f4f8ea3fa87fdb46729ba",
       "value": " 100/100 [02:53&lt;00:00, 1.73s/ signals]"
      }
     },
     "28a642a4cf63494d912b7d2d8e2f527e": {
      "model_module": "@jupyter-widgets/base",
      "model_module_version": "1.2.0",
      "model_name": "LayoutModel",
      "state": {}
     },
     "28b9e6237a994f56af3f54ff24050b2f": {
      "model_module": "@jupyter-widgets/controls",
      "model_module_version": "1.5.0",
      "model_name": "HBoxModel",
      "state": {
       "children": [
        "IPY_MODEL_70603cc85f3e46a49feacd84a301a7ba",
        "IPY_MODEL_36db4406cbd9427f8c50d60ad0c01c7c",
        "IPY_MODEL_c87690d4f1aa463c9c4a132404fd8ada"
       ],
       "layout": "IPY_MODEL_707397de2161478bab8d530c9aa8f8b8"
      }
     },
     "28c828a03ec3422799be3c60cd026c3c": {
      "model_module": "@jupyter-widgets/controls",
      "model_module_version": "1.5.0",
      "model_name": "DescriptionStyleModel",
      "state": {
       "description_width": ""
      }
     },
     "29d77b0a70784270b52bf771567160a5": {
      "model_module": "@jupyter-widgets/controls",
      "model_module_version": "1.5.0",
      "model_name": "HTMLModel",
      "state": {
       "layout": "IPY_MODEL_dc36335af4b24016a50e330b523516ea",
       "style": "IPY_MODEL_2eae918e079341f4bf67c0caa08878b9",
       "value": "Backtest Lustre Pyramiding: 100%"
      }
     },
     "2a12e628459d4270a2ef87d9bd29a670": {
      "model_module": "@jupyter-widgets/controls",
      "model_module_version": "1.5.0",
      "model_name": "FloatProgressModel",
      "state": {
       "bar_style": "success",
       "layout": "IPY_MODEL_4cb69eb64b0b4e8fb44eaf5dc50d56dd",
       "style": "IPY_MODEL_a5b2b423d5e44ddfa6301ed974dd5d46",
       "value": 100
      }
     },
     "2a41347da7b64c8d92ddcd73a015d9f8": {
      "model_module": "@jupyter-widgets/controls",
      "model_module_version": "1.5.0",
      "model_name": "HTMLModel",
      "state": {
       "layout": "IPY_MODEL_ba6f8f42a81d493ebed46ecfa849ae3d",
       "style": "IPY_MODEL_326899ca9e8d43cf8552e5eda9565e7f",
       "value": "Backtest Lustre Pyramiding: 100%"
      }
     },
     "2a45f51f3fee498580f32325067e841c": {
      "model_module": "@jupyter-widgets/controls",
      "model_module_version": "1.5.0",
      "model_name": "DescriptionStyleModel",
      "state": {
       "description_width": ""
      }
     },
     "2abbd7c03c184b669c7a4cb4cc122137": {
      "model_module": "@jupyter-widgets/controls",
      "model_module_version": "1.5.0",
      "model_name": "HTMLModel",
      "state": {
       "layout": "IPY_MODEL_d7279243e8a4404795cfdd19df4efbf5",
       "style": "IPY_MODEL_69da024381db42519195729ebce3e12e",
       "value": "Backtest Lustre Pyramiding: 100%"
      }
     },
     "2bdc1a0cab424df2b46b2c2ffb28a8ba": {
      "model_module": "@jupyter-widgets/controls",
      "model_module_version": "1.5.0",
      "model_name": "DescriptionStyleModel",
      "state": {
       "description_width": ""
      }
     },
     "2bde348f7ed94c50aaf6cd0a9abf4298": {
      "model_module": "@jupyter-widgets/controls",
      "model_module_version": "1.5.0",
      "model_name": "HTMLModel",
      "state": {
       "layout": "IPY_MODEL_f0c648f5bdb2410fbeecc2ba19892bd7",
       "style": "IPY_MODEL_4126a9c25fba4fa78e9c9edecdabc955",
       "value": "Backtest Lustre Pyramiding: 100%"
      }
     },
     "2d18950383e440c894446285cba23bde": {
      "model_module": "@jupyter-widgets/controls",
      "model_module_version": "1.5.0",
      "model_name": "DescriptionStyleModel",
      "state": {
       "description_width": ""
      }
     },
     "2d37db6e05d744999cb401955de2f292": {
      "model_module": "@jupyter-widgets/base",
      "model_module_version": "1.2.0",
      "model_name": "LayoutModel",
      "state": {}
     },
     "2d46e7b5def94590af2002064a66c822": {
      "model_module": "@jupyter-widgets/controls",
      "model_module_version": "1.5.0",
      "model_name": "HTMLModel",
      "state": {
       "layout": "IPY_MODEL_0dd938d3e31a423c9d4420b822efac50",
       "style": "IPY_MODEL_e0170f10af0a40fba67e84c15ce5c3f6",
       "value": " 100/100 [09:11&lt;00:00, 5.52s/ signals]"
      }
     },
     "2d49bcf131e34c668d6187f38ef76bd8": {
      "model_module": "@jupyter-widgets/controls",
      "model_module_version": "1.5.0",
      "model_name": "HBoxModel",
      "state": {
       "children": [
        "IPY_MODEL_21b3d7f5b40742dab9ef88973e8f3e8f",
        "IPY_MODEL_ab3bb18147954ce7ae98283a223d138b",
        "IPY_MODEL_d05af5c26c9442769cb4847f6632e016"
       ],
       "layout": "IPY_MODEL_5e2374ccc20a4f76bacb4a35ea7d9b18"
      }
     },
     "2de47a80a12c458881a2f8849f4acf92": {
      "model_module": "@jupyter-widgets/controls",
      "model_module_version": "1.5.0",
      "model_name": "HTMLModel",
      "state": {
       "layout": "IPY_MODEL_d793befb45e74e5ea6fee43430d78ed2",
       "style": "IPY_MODEL_6798dcd870a1401981dfc4c0ab4854bb",
       "value": "Backtest Lustre Pyramiding: 100%"
      }
     },
     "2e79a97367e54ace80651692bd5afdc9": {
      "model_module": "@jupyter-widgets/controls",
      "model_module_version": "1.5.0",
      "model_name": "ProgressStyleModel",
      "state": {
       "description_width": ""
      }
     },
     "2e8409a9616546329dd8c45c7fbbfa77": {
      "model_module": "@jupyter-widgets/controls",
      "model_module_version": "1.5.0",
      "model_name": "HTMLModel",
      "state": {
       "layout": "IPY_MODEL_d64a3f9690b7472b81a2e0b30d1fb082",
       "style": "IPY_MODEL_2a45f51f3fee498580f32325067e841c",
       "value": " 100/100 [01:42&lt;00:00, 1.02s/ signals]"
      }
     },
     "2eae918e079341f4bf67c0caa08878b9": {
      "model_module": "@jupyter-widgets/controls",
      "model_module_version": "1.5.0",
      "model_name": "DescriptionStyleModel",
      "state": {
       "description_width": ""
      }
     },
     "2f3814e30a124a6e88a3e053d4edaf0a": {
      "model_module": "@jupyter-widgets/controls",
      "model_module_version": "1.5.0",
      "model_name": "FloatProgressModel",
      "state": {
       "bar_style": "success",
       "layout": "IPY_MODEL_4ce9102727d449b38b760d52a34b39ed",
       "style": "IPY_MODEL_72c05863a176474faed38f19f574f3f2",
       "value": 100
      }
     },
     "2f4971d920064ed1976670d3c62e41f5": {
      "model_module": "@jupyter-widgets/controls",
      "model_module_version": "1.5.0",
      "model_name": "HTMLModel",
      "state": {
       "layout": "IPY_MODEL_04cf19a4e3744105837a6e1ef2e70ab8",
       "style": "IPY_MODEL_0ecf1232c1224d8ba0c5c9b63c69005a",
       "value": "Backtest Lustre Pyramiding: 100%"
      }
     },
     "2fdea86581b14329a881005ef766b55e": {
      "model_module": "@jupyter-widgets/controls",
      "model_module_version": "1.5.0",
      "model_name": "HBoxModel",
      "state": {
       "children": [
        "IPY_MODEL_25d753169bd64e58a1c5bc7bb645fb46",
        "IPY_MODEL_3f418f3e42bc4261b2d439794e0b24a4",
        "IPY_MODEL_d4fa474b9f1646a0b80dee38a4e1dab0"
       ],
       "layout": "IPY_MODEL_6569a0b070ca4d829e3e08b5605ceed2"
      }
     },
     "3032cee3bac548f885f71a6af45eaad6": {
      "model_module": "@jupyter-widgets/base",
      "model_module_version": "1.2.0",
      "model_name": "LayoutModel",
      "state": {}
     },
     "309c972121084b3aa6f22974020fa775": {
      "model_module": "@jupyter-widgets/base",
      "model_module_version": "1.2.0",
      "model_name": "LayoutModel",
      "state": {}
     },
     "30c262fd61624b40984ba6a8b668c8c0": {
      "model_module": "@jupyter-widgets/base",
      "model_module_version": "1.2.0",
      "model_name": "LayoutModel",
      "state": {}
     },
     "318b71a6de2649dbad3088885ad532e5": {
      "model_module": "@jupyter-widgets/controls",
      "model_module_version": "1.5.0",
      "model_name": "HTMLModel",
      "state": {
       "layout": "IPY_MODEL_3a30eedd330d46d39517c34bedffad1d",
       "style": "IPY_MODEL_793d11ac021e4cfab6333037b3f664d0",
       "value": "Backtest Lustre Pyramiding: 100%"
      }
     },
     "31db4f1a33e74df58442cf81c551c20f": {
      "model_module": "@jupyter-widgets/controls",
      "model_module_version": "1.5.0",
      "model_name": "ProgressStyleModel",
      "state": {
       "description_width": ""
      }
     },
     "326899ca9e8d43cf8552e5eda9565e7f": {
      "model_module": "@jupyter-widgets/controls",
      "model_module_version": "1.5.0",
      "model_name": "DescriptionStyleModel",
      "state": {
       "description_width": ""
      }
     },
     "3365ad2d19a148f8a0812e13c6184140": {
      "model_module": "@jupyter-widgets/controls",
      "model_module_version": "1.5.0",
      "model_name": "HBoxModel",
      "state": {
       "children": [
        "IPY_MODEL_12d2b8f4216543b59a88c0e539e49c50",
        "IPY_MODEL_437230cf371741b382f40559d6ddbf63",
        "IPY_MODEL_48bf86be059343f18d0df02ec936057f"
       ],
       "layout": "IPY_MODEL_9d51862612c24204a8a59b5ce8988123"
      }
     },
     "33950cba28f349f9aaac20b438bc87e8": {
      "model_module": "@jupyter-widgets/base",
      "model_module_version": "1.2.0",
      "model_name": "LayoutModel",
      "state": {}
     },
     "33a0d0a72c304540bcd7f2ff1dea1332": {
      "model_module": "@jupyter-widgets/base",
      "model_module_version": "1.2.0",
      "model_name": "LayoutModel",
      "state": {}
     },
     "33cffcf85d5c4edf847cd71f4c1d926a": {
      "model_module": "@jupyter-widgets/controls",
      "model_module_version": "1.5.0",
      "model_name": "HBoxModel",
      "state": {
       "children": [
        "IPY_MODEL_c7301c5589fb4790be60235de4ab3268",
        "IPY_MODEL_0bed8f4cd2c14295a6981b4c90c85a65",
        "IPY_MODEL_40b7097b35ef4b848236810962be9ce5"
       ],
       "layout": "IPY_MODEL_c96dae8e929e436a8e78cb8b2ca90e96"
      }
     },
     "33dbf5141ac143de913db59547d6e82e": {
      "model_module": "@jupyter-widgets/base",
      "model_module_version": "1.2.0",
      "model_name": "LayoutModel",
      "state": {}
     },
     "34518f4a6330469e8e8146af679a5644": {
      "model_module": "@jupyter-widgets/base",
      "model_module_version": "1.2.0",
      "model_name": "LayoutModel",
      "state": {}
     },
     "34b2d3af7fbd41fcaf23c69bcbe1cc89": {
      "model_module": "@jupyter-widgets/controls",
      "model_module_version": "1.5.0",
      "model_name": "ProgressStyleModel",
      "state": {
       "description_width": ""
      }
     },
     "35dcd012db9144f3bddb91c100fe213a": {
      "model_module": "@jupyter-widgets/controls",
      "model_module_version": "1.5.0",
      "model_name": "ProgressStyleModel",
      "state": {
       "description_width": ""
      }
     },
     "35e9bff31c91453982bba56f003baa0a": {
      "model_module": "@jupyter-widgets/base",
      "model_module_version": "1.2.0",
      "model_name": "LayoutModel",
      "state": {}
     },
     "3662297841504134832184b28d34903c": {
      "model_module": "@jupyter-widgets/base",
      "model_module_version": "1.2.0",
      "model_name": "LayoutModel",
      "state": {}
     },
     "36db4406cbd9427f8c50d60ad0c01c7c": {
      "model_module": "@jupyter-widgets/controls",
      "model_module_version": "1.5.0",
      "model_name": "FloatProgressModel",
      "state": {
       "bar_style": "success",
       "layout": "IPY_MODEL_f8fcf19b500641d69a55e26630cd7c6e",
       "style": "IPY_MODEL_11e56bd8ce654611a6425e76ff86651c",
       "value": 100
      }
     },
     "37f16536bd244a0b94f88487ea3adde0": {
      "model_module": "@jupyter-widgets/base",
      "model_module_version": "1.2.0",
      "model_name": "LayoutModel",
      "state": {}
     },
     "380d3552e86a48abac9193843366df2c": {
      "model_module": "@jupyter-widgets/base",
      "model_module_version": "1.2.0",
      "model_name": "LayoutModel",
      "state": {}
     },
     "38e057e4a4e644b0adfcffe16b0ac7fe": {
      "model_module": "@jupyter-widgets/controls",
      "model_module_version": "1.5.0",
      "model_name": "HTMLModel",
      "state": {
       "layout": "IPY_MODEL_609afc759c554c58b6eef67123bcb1e0",
       "style": "IPY_MODEL_bf196e041f224b3181947a254809cf5d",
       "value": " 0.00/100 [16:51&lt;?, ? signals/s]"
      }
     },
     "390becd0fe1e43a9bc21bf0c83047b0c": {
      "model_module": "@jupyter-widgets/controls",
      "model_module_version": "1.5.0",
      "model_name": "HBoxModel",
      "state": {
       "children": [
        "IPY_MODEL_2de47a80a12c458881a2f8849f4acf92",
        "IPY_MODEL_3f93983bb20b43b2affa4707756c36e2",
        "IPY_MODEL_a5a4db766bac4db480c73b31a972c73f"
       ],
       "layout": "IPY_MODEL_b2c701fb95cf4bdb8a4bc9ca13d54e2b"
      }
     },
     "3941dee03519401eb1b6b0875807dd43": {
      "model_module": "@jupyter-widgets/base",
      "model_module_version": "1.2.0",
      "model_name": "LayoutModel",
      "state": {}
     },
     "395d47f2137d42bebc4bbfbd0e2fba02": {
      "model_module": "@jupyter-widgets/controls",
      "model_module_version": "1.5.0",
      "model_name": "HTMLModel",
      "state": {
       "layout": "IPY_MODEL_3662297841504134832184b28d34903c",
       "style": "IPY_MODEL_73024abdbe12411f838e0200096fad35",
       "value": " 0.00/100 [01:49&lt;?, ? signals/s]"
      }
     },
     "3963b522369e4e51ae39405926b13045": {
      "model_module": "@jupyter-widgets/base",
      "model_module_version": "1.2.0",
      "model_name": "LayoutModel",
      "state": {}
     },
     "3a03127ef8b1464ba30e574d0bbdc7df": {
      "model_module": "@jupyter-widgets/controls",
      "model_module_version": "1.5.0",
      "model_name": "HTMLModel",
      "state": {
       "layout": "IPY_MODEL_756e26678bae445c8b82947394859e61",
       "style": "IPY_MODEL_743b7e62aaf24d7da5f328488ea43d26",
       "value": " 100/100 [00:40&lt;00:00, 2.46 signals/s]"
      }
     },
     "3a26354689be4d39aa8530d2ef457c1b": {
      "model_module": "@jupyter-widgets/controls",
      "model_module_version": "1.5.0",
      "model_name": "DescriptionStyleModel",
      "state": {
       "description_width": ""
      }
     },
     "3a30eedd330d46d39517c34bedffad1d": {
      "model_module": "@jupyter-widgets/base",
      "model_module_version": "1.2.0",
      "model_name": "LayoutModel",
      "state": {}
     },
     "3b75d0fb0f7a443b91268459aaeb7e85": {
      "model_module": "@jupyter-widgets/base",
      "model_module_version": "1.2.0",
      "model_name": "LayoutModel",
      "state": {}
     },
     "3bcb661e3960466683b9f5faa4846431": {
      "model_module": "@jupyter-widgets/base",
      "model_module_version": "1.2.0",
      "model_name": "LayoutModel",
      "state": {}
     },
     "3c4160b551bb4e7ab4c5a973b9c65a57": {
      "model_module": "@jupyter-widgets/base",
      "model_module_version": "1.2.0",
      "model_name": "LayoutModel",
      "state": {}
     },
     "3c8a2c82e5bd45728c59ae0e1083cd6d": {
      "model_module": "@jupyter-widgets/base",
      "model_module_version": "1.2.0",
      "model_name": "LayoutModel",
      "state": {}
     },
     "3ca3aa9c50b748e8b81e5ad1c9979c72": {
      "model_module": "@jupyter-widgets/controls",
      "model_module_version": "1.5.0",
      "model_name": "HTMLModel",
      "state": {
       "layout": "IPY_MODEL_9f480b31173145c48f3d23b04d621c35",
       "style": "IPY_MODEL_b809f70fd1fd4fd9941d36233eb4bb11",
       "value": "Backtest Lustre Pyramiding: 100%"
      }
     },
     "3de8212e07b64d7eaafdabe957b5e03b": {
      "model_module": "@jupyter-widgets/controls",
      "model_module_version": "1.5.0",
      "model_name": "HBoxModel",
      "state": {
       "children": [
        "IPY_MODEL_b113c43975dc4e14a88e636640e7d9a4",
        "IPY_MODEL_6ed195ecf9584b4785c784ac7b9c56af",
        "IPY_MODEL_9f10ad1337f14d8b81b3cffdf26b5ffb"
       ],
       "layout": "IPY_MODEL_b2819f39f460431c9df604887823326c"
      }
     },
     "3e89fc3b674f4098ad8e055c2c668501": {
      "model_module": "@jupyter-widgets/controls",
      "model_module_version": "1.5.0",
      "model_name": "HTMLModel",
      "state": {
       "layout": "IPY_MODEL_425204d059014326b4917729d31882ea",
       "style": "IPY_MODEL_ae5fe86f77064210b792362c1bd6d82b",
       "value": " 100/100 [03:49&lt;00:00, 2.29s/ signals]"
      }
     },
     "3f418f3e42bc4261b2d439794e0b24a4": {
      "model_module": "@jupyter-widgets/controls",
      "model_module_version": "1.5.0",
      "model_name": "FloatProgressModel",
      "state": {
       "bar_style": "success",
       "layout": "IPY_MODEL_8d069883cc4d4eb592e84c2ed66bfe34",
       "style": "IPY_MODEL_02a3ef2b1ce04783997eadb547c51158",
       "value": 100
      }
     },
     "3f93983bb20b43b2affa4707756c36e2": {
      "model_module": "@jupyter-widgets/controls",
      "model_module_version": "1.5.0",
      "model_name": "FloatProgressModel",
      "state": {
       "bar_style": "success",
       "layout": "IPY_MODEL_f20700f754124a4e82f263a4463b2121",
       "style": "IPY_MODEL_8a8cb70cc32f4dca8e797b10e292ea45",
       "value": 100
      }
     },
     "3fc81f13d675478d8329d571ac04aaa6": {
      "model_module": "@jupyter-widgets/base",
      "model_module_version": "1.2.0",
      "model_name": "LayoutModel",
      "state": {}
     },
     "4003c18b56bd454bba0a3848aa950769": {
      "model_module": "@jupyter-widgets/base",
      "model_module_version": "1.2.0",
      "model_name": "LayoutModel",
      "state": {}
     },
     "40b7097b35ef4b848236810962be9ce5": {
      "model_module": "@jupyter-widgets/controls",
      "model_module_version": "1.5.0",
      "model_name": "HTMLModel",
      "state": {
       "layout": "IPY_MODEL_d5ec49e289e044239d435c64f83c51e7",
       "style": "IPY_MODEL_8af3dee174a248e48f703d9464ea8e1b",
       "value": " 100/100 [02:41&lt;00:00, 1.61s/ signals]"
      }
     },
     "4126a9c25fba4fa78e9c9edecdabc955": {
      "model_module": "@jupyter-widgets/controls",
      "model_module_version": "1.5.0",
      "model_name": "DescriptionStyleModel",
      "state": {
       "description_width": ""
      }
     },
     "421f92b1e041477fa59b25767dd05076": {
      "model_module": "@jupyter-widgets/controls",
      "model_module_version": "1.5.0",
      "model_name": "HTMLModel",
      "state": {
       "layout": "IPY_MODEL_dc66f802c1044fa5be8f331a2d87e4d5",
       "style": "IPY_MODEL_ceb82edb712a4d99aedb7628a4a8fb4e",
       "value": " 100/100 [00:37&lt;00:00, 2.69 signals/s]"
      }
     },
     "423b72d8cec94998849e03c30b591a26": {
      "model_module": "@jupyter-widgets/base",
      "model_module_version": "1.2.0",
      "model_name": "LayoutModel",
      "state": {}
     },
     "425204d059014326b4917729d31882ea": {
      "model_module": "@jupyter-widgets/base",
      "model_module_version": "1.2.0",
      "model_name": "LayoutModel",
      "state": {}
     },
     "42b5bdd70aec4cffa59be880b930323e": {
      "model_module": "@jupyter-widgets/controls",
      "model_module_version": "1.5.0",
      "model_name": "HBoxModel",
      "state": {
       "children": [
        "IPY_MODEL_d2ec43483670401fa74c3d7ea3bc486c",
        "IPY_MODEL_f807afd12af44fd7b0c132f270f0bc8e",
        "IPY_MODEL_5e9ea12f61b04464ace56b9bfdcf297f"
       ],
       "layout": "IPY_MODEL_bd8836ce77964727a6377bd59779358f"
      }
     },
     "437230cf371741b382f40559d6ddbf63": {
      "model_module": "@jupyter-widgets/controls",
      "model_module_version": "1.5.0",
      "model_name": "FloatProgressModel",
      "state": {
       "bar_style": "success",
       "layout": "IPY_MODEL_4639bcf9eadd4e30a90736600a573bec",
       "style": "IPY_MODEL_6208b39fe7f34fcf9cc2f899a0243135",
       "value": 100
      }
     },
     "43c6e8b2af604c84932f2e4741c3a27d": {
      "model_module": "@jupyter-widgets/controls",
      "model_module_version": "1.5.0",
      "model_name": "DescriptionStyleModel",
      "state": {
       "description_width": ""
      }
     },
     "44f865fd677c426c9fcefad112db4bb4": {
      "model_module": "@jupyter-widgets/controls",
      "model_module_version": "1.5.0",
      "model_name": "DescriptionStyleModel",
      "state": {
       "description_width": ""
      }
     },
     "4556ea90208a400b84c9eb898dd7faad": {
      "model_module": "@jupyter-widgets/controls",
      "model_module_version": "1.5.0",
      "model_name": "FloatProgressModel",
      "state": {
       "bar_style": "success",
       "layout": "IPY_MODEL_4f95b64259204bae9984aad8dd256d84",
       "style": "IPY_MODEL_31db4f1a33e74df58442cf81c551c20f",
       "value": 100
      }
     },
     "45842c966db04ddbba8260ba486b57fd": {
      "model_module": "@jupyter-widgets/base",
      "model_module_version": "1.2.0",
      "model_name": "LayoutModel",
      "state": {}
     },
     "4588c72c52fc434c8db1f10e56b5e9b0": {
      "model_module": "@jupyter-widgets/controls",
      "model_module_version": "1.5.0",
      "model_name": "ProgressStyleModel",
      "state": {
       "description_width": ""
      }
     },
     "45c9335a51be4ee2beb9a04670752ed6": {
      "model_module": "@jupyter-widgets/base",
      "model_module_version": "1.2.0",
      "model_name": "LayoutModel",
      "state": {}
     },
     "45fd3fc8fa8347e2ab4b1cba28a0653e": {
      "model_module": "@jupyter-widgets/base",
      "model_module_version": "1.2.0",
      "model_name": "LayoutModel",
      "state": {}
     },
     "4639bcf9eadd4e30a90736600a573bec": {
      "model_module": "@jupyter-widgets/base",
      "model_module_version": "1.2.0",
      "model_name": "LayoutModel",
      "state": {}
     },
     "4774904ebd4c48ea986bbfcafd86921a": {
      "model_module": "@jupyter-widgets/controls",
      "model_module_version": "1.5.0",
      "model_name": "DescriptionStyleModel",
      "state": {
       "description_width": ""
      }
     },
     "47ae4258926f4ef1ababda343beb837e": {
      "model_module": "@jupyter-widgets/base",
      "model_module_version": "1.2.0",
      "model_name": "LayoutModel",
      "state": {}
     },
     "48427b44e21d41baacb9bd1e1b24be4b": {
      "model_module": "@jupyter-widgets/controls",
      "model_module_version": "1.5.0",
      "model_name": "HBoxModel",
      "state": {
       "children": [
        "IPY_MODEL_f1a9b415c785489b856a3f1691d28a2d",
        "IPY_MODEL_490b4ee21d694ada86a203bb472daae7",
        "IPY_MODEL_0bbbda734271400fb2960d34b255bae2"
       ],
       "layout": "IPY_MODEL_a9c4f77c803e4d86bc28238f538dedc4"
      }
     },
     "48a4c345f383430a8bad645711d13cfb": {
      "model_module": "@jupyter-widgets/controls",
      "model_module_version": "1.5.0",
      "model_name": "HBoxModel",
      "state": {
       "children": [
        "IPY_MODEL_c7d0762f548642d292c622fb791db538",
        "IPY_MODEL_897eb61c916a4c77b852dd6542e2e9b5",
        "IPY_MODEL_395d47f2137d42bebc4bbfbd0e2fba02"
       ],
       "layout": "IPY_MODEL_f281a63128224a779b737c128163162f"
      }
     },
     "48bf86be059343f18d0df02ec936057f": {
      "model_module": "@jupyter-widgets/controls",
      "model_module_version": "1.5.0",
      "model_name": "HTMLModel",
      "state": {
       "layout": "IPY_MODEL_dadc04a99dfc4930955c32b27fc5ba40",
       "style": "IPY_MODEL_ffb24f2182674fc5a0bdd3f71367fa1e",
       "value": " 100/100 [13:18&lt;00:00, 7.99s/ signals]"
      }
     },
     "490b4ee21d694ada86a203bb472daae7": {
      "model_module": "@jupyter-widgets/controls",
      "model_module_version": "1.5.0",
      "model_name": "FloatProgressModel",
      "state": {
       "bar_style": "success",
       "layout": "IPY_MODEL_fe80ceef7d3e4076beadb35a005d2cc3",
       "style": "IPY_MODEL_5bebf029f2a5432ea2429a430ff88580",
       "value": 100
      }
     },
     "49204e466b5443239fb0bea843be22bf": {
      "model_module": "@jupyter-widgets/controls",
      "model_module_version": "1.5.0",
      "model_name": "DescriptionStyleModel",
      "state": {
       "description_width": ""
      }
     },
     "4983d9d54a6545159d14b890cd292e2c": {
      "model_module": "@jupyter-widgets/base",
      "model_module_version": "1.2.0",
      "model_name": "LayoutModel",
      "state": {}
     },
     "4999757cff784d5eb6e3bb33e4017d02": {
      "model_module": "@jupyter-widgets/controls",
      "model_module_version": "1.5.0",
      "model_name": "FloatProgressModel",
      "state": {
       "bar_style": "success",
       "layout": "IPY_MODEL_0fa65e639de74ec8840698facc21917b",
       "style": "IPY_MODEL_f63e2b9bfd384d478ab9e0121e5fe443",
       "value": 100
      }
     },
     "4b7ff6b834cb4396bb4fa74cddcf5827": {
      "model_module": "@jupyter-widgets/controls",
      "model_module_version": "1.5.0",
      "model_name": "FloatProgressModel",
      "state": {
       "bar_style": "success",
       "layout": "IPY_MODEL_57d8d41c4d2e47d78599bb514e4fc475",
       "style": "IPY_MODEL_650287e2d99b490098ce5ca37bad4142",
       "value": 100
      }
     },
     "4bb605259a0341eab61961c23fb5bea0": {
      "model_module": "@jupyter-widgets/controls",
      "model_module_version": "1.5.0",
      "model_name": "ProgressStyleModel",
      "state": {
       "description_width": ""
      }
     },
     "4be8230fc4e2469ebb469ac3f3339d5f": {
      "model_module": "@jupyter-widgets/controls",
      "model_module_version": "1.5.0",
      "model_name": "ProgressStyleModel",
      "state": {
       "description_width": ""
      }
     },
     "4c38f663674a4c438684dd2869d47f9d": {
      "model_module": "@jupyter-widgets/controls",
      "model_module_version": "1.5.0",
      "model_name": "FloatProgressModel",
      "state": {
       "bar_style": "success",
       "layout": "IPY_MODEL_3963b522369e4e51ae39405926b13045",
       "style": "IPY_MODEL_8cc1163f2baa464ebd738ba08733c18d",
       "value": 100
      }
     },
     "4cb69eb64b0b4e8fb44eaf5dc50d56dd": {
      "model_module": "@jupyter-widgets/base",
      "model_module_version": "1.2.0",
      "model_name": "LayoutModel",
      "state": {}
     },
     "4cd8c28c5daa44d3af84d9eb1e2ec10a": {
      "model_module": "@jupyter-widgets/base",
      "model_module_version": "1.2.0",
      "model_name": "LayoutModel",
      "state": {}
     },
     "4ce9102727d449b38b760d52a34b39ed": {
      "model_module": "@jupyter-widgets/base",
      "model_module_version": "1.2.0",
      "model_name": "LayoutModel",
      "state": {}
     },
     "4d7ddb2d61fc4b5482a034e17632e4cc": {
      "model_module": "@jupyter-widgets/controls",
      "model_module_version": "1.5.0",
      "model_name": "DescriptionStyleModel",
      "state": {
       "description_width": ""
      }
     },
     "4e6f469608c44dd1802fa1d96ab29997": {
      "model_module": "@jupyter-widgets/controls",
      "model_module_version": "1.5.0",
      "model_name": "HBoxModel",
      "state": {
       "children": [
        "IPY_MODEL_a802ca98eccc45f5b0071a873bc43b23",
        "IPY_MODEL_a6ddd03245da428e8871166347eb4782",
        "IPY_MODEL_38e057e4a4e644b0adfcffe16b0ac7fe"
       ],
       "layout": "IPY_MODEL_25351500255d4b449fd9c34ebb5af7c1"
      }
     },
     "4e828bacc61d4298ad32b15505390f0d": {
      "model_module": "@jupyter-widgets/controls",
      "model_module_version": "1.5.0",
      "model_name": "FloatProgressModel",
      "state": {
       "bar_style": "success",
       "layout": "IPY_MODEL_13c530bca2614e729fe8aa74abc0e493",
       "style": "IPY_MODEL_9ccdc14c5c18454ba5f7d4e50cebfd7c",
       "value": 100
      }
     },
     "4e851c53d92643d9b93ac1d3e50df1ef": {
      "model_module": "@jupyter-widgets/controls",
      "model_module_version": "1.5.0",
      "model_name": "FloatProgressModel",
      "state": {
       "bar_style": "success",
       "layout": "IPY_MODEL_3bcb661e3960466683b9f5faa4846431",
       "style": "IPY_MODEL_d7846e05d06b46778e61c73c04897a25",
       "value": 100
      }
     },
     "4f3fc3da1efd4518b13b6db77f4b66f7": {
      "model_module": "@jupyter-widgets/controls",
      "model_module_version": "1.5.0",
      "model_name": "HTMLModel",
      "state": {
       "layout": "IPY_MODEL_30c262fd61624b40984ba6a8b668c8c0",
       "style": "IPY_MODEL_28c828a03ec3422799be3c60cd026c3c",
       "value": "Backtest Lustre Pyramiding: 100%"
      }
     },
     "4f6b02ceffc940dbb4616f8ed07da1b5": {
      "model_module": "@jupyter-widgets/controls",
      "model_module_version": "1.5.0",
      "model_name": "HTMLModel",
      "state": {
       "layout": "IPY_MODEL_9353999db626417eb7d338c142657151",
       "style": "IPY_MODEL_f018d53b5fb54ab282ba1c6f9e74f4df",
       "value": "Backtest Lustre Pyramiding: 100%"
      }
     },
     "4f908a46a55b471d9c1556d4bda63e29": {
      "model_module": "@jupyter-widgets/base",
      "model_module_version": "1.2.0",
      "model_name": "LayoutModel",
      "state": {}
     },
     "4f95b64259204bae9984aad8dd256d84": {
      "model_module": "@jupyter-widgets/base",
      "model_module_version": "1.2.0",
      "model_name": "LayoutModel",
      "state": {}
     },
     "4f99cf56877644b78f5f92312d123bb0": {
      "model_module": "@jupyter-widgets/base",
      "model_module_version": "1.2.0",
      "model_name": "LayoutModel",
      "state": {}
     },
     "4fabb0d5dcb94b6f8247c0311ce6fe5b": {
      "model_module": "@jupyter-widgets/controls",
      "model_module_version": "1.5.0",
      "model_name": "HBoxModel",
      "state": {
       "children": [
        "IPY_MODEL_2abbd7c03c184b669c7a4cb4cc122137",
        "IPY_MODEL_6eab062561104ee0b2956cf33603382c",
        "IPY_MODEL_6b32530f0ca342f99dca8fd0459b7349"
       ],
       "layout": "IPY_MODEL_6cdff7d408a84d77beee6eceb8d6484c"
      }
     },
     "4fdc764bef9544dcafd2e07876c0d87b": {
      "model_module": "@jupyter-widgets/controls",
      "model_module_version": "1.5.0",
      "model_name": "HBoxModel",
      "state": {
       "children": [
        "IPY_MODEL_6a73306ef31e432d84c6780e48ab111b",
        "IPY_MODEL_7827be6cc4634fecad9a8cf78ea990fc",
        "IPY_MODEL_9a247fa4316f46818047a00118aae018"
       ],
       "layout": "IPY_MODEL_8f4328a638c542f9b5c3a7165520a8c7"
      }
     },
     "51172f339dbe4214bf663d8dea286725": {
      "model_module": "@jupyter-widgets/controls",
      "model_module_version": "1.5.0",
      "model_name": "DescriptionStyleModel",
      "state": {
       "description_width": ""
      }
     },
     "512c217cca6949dd9df481bfb0fc9d83": {
      "model_module": "@jupyter-widgets/controls",
      "model_module_version": "1.5.0",
      "model_name": "HTMLModel",
      "state": {
       "layout": "IPY_MODEL_e0c82adff77f403b83d89620f4e10c16",
       "style": "IPY_MODEL_8b394a9843c248b99169b046dfe9eca7",
       "value": "Lustre Pyramiding/0:  53%"
      }
     },
     "5280d70259084c7ca102ca453a7b9ef4": {
      "model_module": "@jupyter-widgets/controls",
      "model_module_version": "1.5.0",
      "model_name": "DescriptionStyleModel",
      "state": {
       "description_width": ""
      }
     },
     "52a3d4129e4c433380242e7ed712c98b": {
      "model_module": "@jupyter-widgets/controls",
      "model_module_version": "1.5.0",
      "model_name": "DescriptionStyleModel",
      "state": {
       "description_width": ""
      }
     },
     "52b8ebebdc2440809140398580f19b33": {
      "model_module": "@jupyter-widgets/controls",
      "model_module_version": "1.5.0",
      "model_name": "DescriptionStyleModel",
      "state": {
       "description_width": ""
      }
     },
     "52dbb0345a5c4a86a60a340e7bcaf8fe": {
      "model_module": "@jupyter-widgets/controls",
      "model_module_version": "1.5.0",
      "model_name": "HBoxModel",
      "state": {
       "children": [
        "IPY_MODEL_c36aca062eea4c8caac55560d2ce63b7",
        "IPY_MODEL_f6f07e24936941a4add3b5e942ae75ec",
        "IPY_MODEL_dbf8d7d1646b4ffdaebeba63a6499306"
       ],
       "layout": "IPY_MODEL_4983d9d54a6545159d14b890cd292e2c"
      }
     },
     "53576482ed184f89a9e79457e986de8d": {
      "model_module": "@jupyter-widgets/base",
      "model_module_version": "1.2.0",
      "model_name": "LayoutModel",
      "state": {}
     },
     "53723073224d4540bf75caf7b772db32": {
      "model_module": "@jupyter-widgets/controls",
      "model_module_version": "1.5.0",
      "model_name": "DescriptionStyleModel",
      "state": {
       "description_width": ""
      }
     },
     "53ec82260a8148a1aca2ca96042a4fc7": {
      "model_module": "@jupyter-widgets/controls",
      "model_module_version": "1.5.0",
      "model_name": "DescriptionStyleModel",
      "state": {
       "description_width": ""
      }
     },
     "54df78dcdb914148b83de8e66dce7a95": {
      "model_module": "@jupyter-widgets/base",
      "model_module_version": "1.2.0",
      "model_name": "LayoutModel",
      "state": {}
     },
     "5527a0b171624973ae685b0e6f973ef7": {
      "model_module": "@jupyter-widgets/controls",
      "model_module_version": "1.5.0",
      "model_name": "HBoxModel",
      "state": {
       "children": [
        "IPY_MODEL_4f6b02ceffc940dbb4616f8ed07da1b5",
        "IPY_MODEL_4999757cff784d5eb6e3bb33e4017d02",
        "IPY_MODEL_58a224462f9c491e935c18a71a2d37ef"
       ],
       "layout": "IPY_MODEL_093ce541a5ce476abaf68df20fe531fc"
      }
     },
     "553a052d2e0a4ef99810523fcc485a39": {
      "model_module": "@jupyter-widgets/controls",
      "model_module_version": "1.5.0",
      "model_name": "HBoxModel",
      "state": {
       "children": [
        "IPY_MODEL_c7095314927c4213aa5b2fd0e96de285",
        "IPY_MODEL_f4c9bcbc36ff40528632411d2ca6093f",
        "IPY_MODEL_ee873924310844b787c02ee6c417c451"
       ],
       "layout": "IPY_MODEL_a3cc3d96d72b4d5b9329e4042e8f0e6c"
      }
     },
     "554c4f7c68d14b1ba371355bc6931cd8": {
      "model_module": "@jupyter-widgets/base",
      "model_module_version": "1.2.0",
      "model_name": "LayoutModel",
      "state": {}
     },
     "559b108b37bd404ba5b1411f1cf25f60": {
      "model_module": "@jupyter-widgets/base",
      "model_module_version": "1.2.0",
      "model_name": "LayoutModel",
      "state": {}
     },
     "55a5190908cc46a69b5f2d03a18cc4e6": {
      "model_module": "@jupyter-widgets/controls",
      "model_module_version": "1.5.0",
      "model_name": "DescriptionStyleModel",
      "state": {
       "description_width": ""
      }
     },
     "55c1516a18d748eea5144ae6b4147842": {
      "model_module": "@jupyter-widgets/controls",
      "model_module_version": "1.5.0",
      "model_name": "HBoxModel",
      "state": {
       "children": [
        "IPY_MODEL_c69eab3f5a4841ddaf0218738c627104",
        "IPY_MODEL_64ca3888ebe24c3da984b0313da2d63c",
        "IPY_MODEL_e10883ba117e46a49c3e28afce4832ee"
       ],
       "layout": "IPY_MODEL_6b747fcf769f40b3ab475569229293a6"
      }
     },
     "56c088f174fb4a16bf53e5b1a08c9a1e": {
      "model_module": "@jupyter-widgets/base",
      "model_module_version": "1.2.0",
      "model_name": "LayoutModel",
      "state": {}
     },
     "573e2259213246cb8653069f360e8f9c": {
      "model_module": "@jupyter-widgets/base",
      "model_module_version": "1.2.0",
      "model_name": "LayoutModel",
      "state": {}
     },
     "578f98138d0e4e7bb387b531f9dbff2b": {
      "model_module": "@jupyter-widgets/base",
      "model_module_version": "1.2.0",
      "model_name": "LayoutModel",
      "state": {}
     },
     "57a70b077d0d473587ee25f94ca31e44": {
      "model_module": "@jupyter-widgets/base",
      "model_module_version": "1.2.0",
      "model_name": "LayoutModel",
      "state": {}
     },
     "57d8d41c4d2e47d78599bb514e4fc475": {
      "model_module": "@jupyter-widgets/base",
      "model_module_version": "1.2.0",
      "model_name": "LayoutModel",
      "state": {}
     },
     "580cf8326f72412582c29a6824a11cdf": {
      "model_module": "@jupyter-widgets/controls",
      "model_module_version": "1.5.0",
      "model_name": "DescriptionStyleModel",
      "state": {
       "description_width": ""
      }
     },
     "58a224462f9c491e935c18a71a2d37ef": {
      "model_module": "@jupyter-widgets/controls",
      "model_module_version": "1.5.0",
      "model_name": "HTMLModel",
      "state": {
       "layout": "IPY_MODEL_6062752a123d47f383a13e514a2a1464",
       "style": "IPY_MODEL_3a26354689be4d39aa8530d2ef457c1b",
       "value": " 100/100 [01:18&lt;00:00, 1.27 signals/s]"
      }
     },
     "59b9551469af4cfd82a7f43b3142afae": {
      "model_module": "@jupyter-widgets/controls",
      "model_module_version": "1.5.0",
      "model_name": "DescriptionStyleModel",
      "state": {
       "description_width": ""
      }
     },
     "5bebf029f2a5432ea2429a430ff88580": {
      "model_module": "@jupyter-widgets/controls",
      "model_module_version": "1.5.0",
      "model_name": "ProgressStyleModel",
      "state": {
       "description_width": ""
      }
     },
     "5c5c80e8ff214d6f98af0678aced5dbb": {
      "model_module": "@jupyter-widgets/controls",
      "model_module_version": "1.5.0",
      "model_name": "ProgressStyleModel",
      "state": {
       "description_width": ""
      }
     },
     "5cd31d44573b431cbd657cf6a284bb8f": {
      "model_module": "@jupyter-widgets/controls",
      "model_module_version": "1.5.0",
      "model_name": "HBoxModel",
      "state": {
       "children": [
        "IPY_MODEL_aeaeac212bf94270bf66f85a1a994a82",
        "IPY_MODEL_04c51aa6e7b741a5be2f46ab58428084",
        "IPY_MODEL_b1f0db7e0e7b40dfb1185c0c83703d04"
       ],
       "layout": "IPY_MODEL_876dfb141da4456caca27502dfabf1dd"
      }
     },
     "5cd9638938944344bb19d48f1ff0b085": {
      "model_module": "@jupyter-widgets/controls",
      "model_module_version": "1.5.0",
      "model_name": "DescriptionStyleModel",
      "state": {
       "description_width": ""
      }
     },
     "5e2374ccc20a4f76bacb4a35ea7d9b18": {
      "model_module": "@jupyter-widgets/base",
      "model_module_version": "1.2.0",
      "model_name": "LayoutModel",
      "state": {}
     },
     "5e9ea12f61b04464ace56b9bfdcf297f": {
      "model_module": "@jupyter-widgets/controls",
      "model_module_version": "1.5.0",
      "model_name": "HTMLModel",
      "state": {
       "layout": "IPY_MODEL_9bfbe2664c2f475d94c36039cda6b926",
       "style": "IPY_MODEL_b8afc3bc5a4f4223a23eef9e2722859d",
       "value": " 100/100 [00:17&lt;00:00, 5.70 signals/s]"
      }
     },
     "5ee8e146f5e3499380973226b1447337": {
      "model_module": "@jupyter-widgets/controls",
      "model_module_version": "1.5.0",
      "model_name": "FloatProgressModel",
      "state": {
       "bar_style": "success",
       "layout": "IPY_MODEL_70dd040513c049ff99e43314d54cd593",
       "style": "IPY_MODEL_76c6727c87c049b88cc637253a61bab9",
       "value": 100
      }
     },
     "5fad04ce7f4c47228e747e7ca2e961cc": {
      "model_module": "@jupyter-widgets/base",
      "model_module_version": "1.2.0",
      "model_name": "LayoutModel",
      "state": {}
     },
     "5ff50e7a41b64c01baaa55854a446705": {
      "model_module": "@jupyter-widgets/controls",
      "model_module_version": "1.5.0",
      "model_name": "HBoxModel",
      "state": {
       "children": [
        "IPY_MODEL_2bde348f7ed94c50aaf6cd0a9abf4298",
        "IPY_MODEL_19d1970535e246ec96110305369c374e",
        "IPY_MODEL_280092a7e5d549849546cc3e7aa0606f"
       ],
       "layout": "IPY_MODEL_8177c1e9e04249eebb544aab328d46a9"
      }
     },
     "6057bbf2dc654ba3ba8640a3d59ff8ba": {
      "model_module": "@jupyter-widgets/controls",
      "model_module_version": "1.5.0",
      "model_name": "DescriptionStyleModel",
      "state": {
       "description_width": ""
      }
     },
     "6062752a123d47f383a13e514a2a1464": {
      "model_module": "@jupyter-widgets/base",
      "model_module_version": "1.2.0",
      "model_name": "LayoutModel",
      "state": {}
     },
     "60672d4247ab41458d27f2c4aa4ebe88": {
      "model_module": "@jupyter-widgets/base",
      "model_module_version": "1.2.0",
      "model_name": "LayoutModel",
      "state": {}
     },
     "609afc759c554c58b6eef67123bcb1e0": {
      "model_module": "@jupyter-widgets/base",
      "model_module_version": "1.2.0",
      "model_name": "LayoutModel",
      "state": {}
     },
     "61a9f489b40c4d1d84b2aa7168865a90": {
      "model_module": "@jupyter-widgets/base",
      "model_module_version": "1.2.0",
      "model_name": "LayoutModel",
      "state": {}
     },
     "6208b39fe7f34fcf9cc2f899a0243135": {
      "model_module": "@jupyter-widgets/controls",
      "model_module_version": "1.5.0",
      "model_name": "ProgressStyleModel",
      "state": {
       "description_width": ""
      }
     },
     "6209e3d7b6fe4e4eb0c76e6740bc9387": {
      "model_module": "@jupyter-widgets/controls",
      "model_module_version": "1.5.0",
      "model_name": "HTMLModel",
      "state": {
       "layout": "IPY_MODEL_47ae4258926f4ef1ababda343beb837e",
       "style": "IPY_MODEL_7cea9457f1db44c4a681a5bc2fb9700c",
       "value": "Backtest Lustre Pyramiding: 100%"
      }
     },
     "62e4bb6f089a4f1e90d2c6bf4d3eb81a": {
      "model_module": "@jupyter-widgets/controls",
      "model_module_version": "1.5.0",
      "model_name": "DescriptionStyleModel",
      "state": {
       "description_width": ""
      }
     },
     "63a61ab82ebd4226a6deb18241437f1f": {
      "model_module": "@jupyter-widgets/base",
      "model_module_version": "1.2.0",
      "model_name": "LayoutModel",
      "state": {}
     },
     "63d5170beffa472cbb27ea748d7566a6": {
      "model_module": "@jupyter-widgets/base",
      "model_module_version": "1.2.0",
      "model_name": "LayoutModel",
      "state": {}
     },
     "63db2d97e32b466db8699068e6621565": {
      "model_module": "@jupyter-widgets/controls",
      "model_module_version": "1.5.0",
      "model_name": "DescriptionStyleModel",
      "state": {
       "description_width": ""
      }
     },
     "63db3432e61e4b21a8ce0a101709b0e3": {
      "model_module": "@jupyter-widgets/base",
      "model_module_version": "1.2.0",
      "model_name": "LayoutModel",
      "state": {}
     },
     "63e86faab70547e0a1bf8e05ac77655f": {
      "model_module": "@jupyter-widgets/base",
      "model_module_version": "1.2.0",
      "model_name": "LayoutModel",
      "state": {}
     },
     "64a8851686c345bd9a7b6ac40a23b1ee": {
      "model_module": "@jupyter-widgets/base",
      "model_module_version": "1.2.0",
      "model_name": "LayoutModel",
      "state": {}
     },
     "64ca3888ebe24c3da984b0313da2d63c": {
      "model_module": "@jupyter-widgets/controls",
      "model_module_version": "1.5.0",
      "model_name": "FloatProgressModel",
      "state": {
       "bar_style": "success",
       "layout": "IPY_MODEL_0186a29731c1444d8afef64ec0da9bab",
       "style": "IPY_MODEL_0bd67b65d01f47dca075fc93ea750747",
       "value": 100
      }
     },
     "650287e2d99b490098ce5ca37bad4142": {
      "model_module": "@jupyter-widgets/controls",
      "model_module_version": "1.5.0",
      "model_name": "ProgressStyleModel",
      "state": {
       "description_width": ""
      }
     },
     "6569a0b070ca4d829e3e08b5605ceed2": {
      "model_module": "@jupyter-widgets/base",
      "model_module_version": "1.2.0",
      "model_name": "LayoutModel",
      "state": {}
     },
     "6687baa96a424578bc0ec0860562051f": {
      "model_module": "@jupyter-widgets/controls",
      "model_module_version": "1.5.0",
      "model_name": "HTMLModel",
      "state": {
       "layout": "IPY_MODEL_265304a2d33f46e397a8ee79eb13f4d9",
       "style": "IPY_MODEL_f17ea4a647524d82b7df933106368a9c",
       "value": "Backtest Lustre Pyramiding: 100%"
      }
     },
     "668fb6e492204d5c9adeb52288b33763": {
      "model_module": "@jupyter-widgets/base",
      "model_module_version": "1.2.0",
      "model_name": "LayoutModel",
      "state": {}
     },
     "66d3c543575149e9b46837f58a331d55": {
      "model_module": "@jupyter-widgets/base",
      "model_module_version": "1.2.0",
      "model_name": "LayoutModel",
      "state": {}
     },
     "66e3983cfedb44a190da73445822dd3e": {
      "model_module": "@jupyter-widgets/base",
      "model_module_version": "1.2.0",
      "model_name": "LayoutModel",
      "state": {}
     },
     "6798dcd870a1401981dfc4c0ab4854bb": {
      "model_module": "@jupyter-widgets/controls",
      "model_module_version": "1.5.0",
      "model_name": "DescriptionStyleModel",
      "state": {
       "description_width": ""
      }
     },
     "685a9553fd3a422aa51647599b40297f": {
      "model_module": "@jupyter-widgets/base",
      "model_module_version": "1.2.0",
      "model_name": "LayoutModel",
      "state": {}
     },
     "68d7c98f61c84147905d6fdd4e4409a3": {
      "model_module": "@jupyter-widgets/controls",
      "model_module_version": "1.5.0",
      "model_name": "HTMLModel",
      "state": {
       "layout": "IPY_MODEL_ab94ddacafe746e89d92714d15ef8334",
       "style": "IPY_MODEL_49204e466b5443239fb0bea843be22bf",
       "value": "Backtest Lustre Pyramiding: 100%"
      }
     },
     "68f7f035a86e4099bd3f798fe8599275": {
      "model_module": "@jupyter-widgets/controls",
      "model_module_version": "1.5.0",
      "model_name": "DescriptionStyleModel",
      "state": {
       "description_width": ""
      }
     },
     "693fa58078c74ee89aae73ae76605105": {
      "model_module": "@jupyter-widgets/controls",
      "model_module_version": "1.5.0",
      "model_name": "DescriptionStyleModel",
      "state": {
       "description_width": ""
      }
     },
     "698a2c15c9cc46869d3d0c45856e0bb3": {
      "model_module": "@jupyter-widgets/base",
      "model_module_version": "1.2.0",
      "model_name": "LayoutModel",
      "state": {}
     },
     "699822698b204c96a007c9078f1890ff": {
      "model_module": "@jupyter-widgets/controls",
      "model_module_version": "1.5.0",
      "model_name": "FloatProgressModel",
      "state": {
       "bar_style": "success",
       "layout": "IPY_MODEL_53576482ed184f89a9e79457e986de8d",
       "style": "IPY_MODEL_c60415d0487a4c07b4d54208c88b055f",
       "value": 100
      }
     },
     "69da024381db42519195729ebce3e12e": {
      "model_module": "@jupyter-widgets/controls",
      "model_module_version": "1.5.0",
      "model_name": "DescriptionStyleModel",
      "state": {
       "description_width": ""
      }
     },
     "6a73306ef31e432d84c6780e48ab111b": {
      "model_module": "@jupyter-widgets/controls",
      "model_module_version": "1.5.0",
      "model_name": "HTMLModel",
      "state": {
       "layout": "IPY_MODEL_5fad04ce7f4c47228e747e7ca2e961cc",
       "style": "IPY_MODEL_8e2f37219d684cc6a7faf25803c4e468",
       "value": "Backtest Lustre Pyramiding: 100%"
      }
     },
     "6b32530f0ca342f99dca8fd0459b7349": {
      "model_module": "@jupyter-widgets/controls",
      "model_module_version": "1.5.0",
      "model_name": "HTMLModel",
      "state": {
       "layout": "IPY_MODEL_7cc464ce247a47f28fc641878b3e6f3e",
       "style": "IPY_MODEL_51172f339dbe4214bf663d8dea286725",
       "value": " 100/100 [01:31&lt;00:00, 1.10 signals/s]"
      }
     },
     "6b747fcf769f40b3ab475569229293a6": {
      "model_module": "@jupyter-widgets/base",
      "model_module_version": "1.2.0",
      "model_name": "LayoutModel",
      "state": {}
     },
     "6c193256bd99493aa72ef5ffe36c3efc": {
      "model_module": "@jupyter-widgets/controls",
      "model_module_version": "1.5.0",
      "model_name": "HTMLModel",
      "state": {
       "layout": "IPY_MODEL_9a29ef69e179474580e54f1c2ec2b496",
       "style": "IPY_MODEL_84f446b093a24a2cb86cb59c5111bc28",
       "value": " 100/100 [03:10&lt;00:00, 1.91s/ signals]"
      }
     },
     "6cdff7d408a84d77beee6eceb8d6484c": {
      "model_module": "@jupyter-widgets/base",
      "model_module_version": "1.2.0",
      "model_name": "LayoutModel",
      "state": {}
     },
     "6d9da8d9d89147eaba144cde5d448cd4": {
      "model_module": "@jupyter-widgets/base",
      "model_module_version": "1.2.0",
      "model_name": "LayoutModel",
      "state": {}
     },
     "6dce051aba3c40afbaa23ebd0fafe5b2": {
      "model_module": "@jupyter-widgets/controls",
      "model_module_version": "1.5.0",
      "model_name": "DescriptionStyleModel",
      "state": {
       "description_width": ""
      }
     },
     "6eab062561104ee0b2956cf33603382c": {
      "model_module": "@jupyter-widgets/controls",
      "model_module_version": "1.5.0",
      "model_name": "FloatProgressModel",
      "state": {
       "bar_style": "success",
       "layout": "IPY_MODEL_8db40eb48ca54d7e994523961f10c6fa",
       "style": "IPY_MODEL_8b7fc67439544c7288147db49485b299",
       "value": 100
      }
     },
     "6ed195ecf9584b4785c784ac7b9c56af": {
      "model_module": "@jupyter-widgets/controls",
      "model_module_version": "1.5.0",
      "model_name": "FloatProgressModel",
      "state": {
       "bar_style": "success",
       "layout": "IPY_MODEL_062171f11d034db2bece1c5b01dfe659",
       "style": "IPY_MODEL_aa283d23911a458daca0f75b886d927f",
       "value": 100
      }
     },
     "6edea265d0034feaa4767edb07a4417d": {
      "model_module": "@jupyter-widgets/base",
      "model_module_version": "1.2.0",
      "model_name": "LayoutModel",
      "state": {}
     },
     "6ee34812c541466a902e434637722869": {
      "model_module": "@jupyter-widgets/base",
      "model_module_version": "1.2.0",
      "model_name": "LayoutModel",
      "state": {}
     },
     "6f2a85c571044a33a0d73066386ad08b": {
      "model_module": "@jupyter-widgets/controls",
      "model_module_version": "1.5.0",
      "model_name": "HTMLModel",
      "state": {
       "layout": "IPY_MODEL_c55c841a4df94da3881b01d4c516239c",
       "style": "IPY_MODEL_f6ae142a38df45259b5ea8e225f5055d",
       "value": "Backtest Lustre Pyramiding: 100%"
      }
     },
     "6f91899149cc44f59598cebe50cf74db": {
      "model_module": "@jupyter-widgets/controls",
      "model_module_version": "1.5.0",
      "model_name": "HBoxModel",
      "state": {
       "children": [
        "IPY_MODEL_eb8c2c5d2a744a04a9fac0d87f2cbdef",
        "IPY_MODEL_fd22b8ecc1734306870254093c21b4a1",
        "IPY_MODEL_20f6727918a543b79199bd5d09ab843a"
       ],
       "layout": "IPY_MODEL_fbdcf32010264adfa0f47a2e2a74d93e"
      }
     },
     "6f9aaa0e1f9d40db93119be7c161bfa8": {
      "model_module": "@jupyter-widgets/base",
      "model_module_version": "1.2.0",
      "model_name": "LayoutModel",
      "state": {}
     },
     "6f9cafd911c74c058414401426f58759": {
      "model_module": "@jupyter-widgets/controls",
      "model_module_version": "1.5.0",
      "model_name": "DescriptionStyleModel",
      "state": {
       "description_width": ""
      }
     },
     "6fbc560708d34798975960b533ba5d29": {
      "model_module": "@jupyter-widgets/controls",
      "model_module_version": "1.5.0",
      "model_name": "DescriptionStyleModel",
      "state": {
       "description_width": ""
      }
     },
     "70603cc85f3e46a49feacd84a301a7ba": {
      "model_module": "@jupyter-widgets/controls",
      "model_module_version": "1.5.0",
      "model_name": "HTMLModel",
      "state": {
       "layout": "IPY_MODEL_b333c478883b4e2c95d93bf7acf774ce",
       "style": "IPY_MODEL_07f9ce3d73c24a4fb13b4b4737682345",
       "value": "Backtest Lustre Pyramiding: 100%"
      }
     },
     "707397de2161478bab8d530c9aa8f8b8": {
      "model_module": "@jupyter-widgets/base",
      "model_module_version": "1.2.0",
      "model_name": "LayoutModel",
      "state": {}
     },
     "70dd040513c049ff99e43314d54cd593": {
      "model_module": "@jupyter-widgets/base",
      "model_module_version": "1.2.0",
      "model_name": "LayoutModel",
      "state": {}
     },
     "71657acc34674f909eec7fa2a75d8b15": {
      "model_module": "@jupyter-widgets/controls",
      "model_module_version": "1.5.0",
      "model_name": "ProgressStyleModel",
      "state": {
       "description_width": ""
      }
     },
     "71a03180a3334d5aa8216ffd17f147d2": {
      "model_module": "@jupyter-widgets/base",
      "model_module_version": "1.2.0",
      "model_name": "LayoutModel",
      "state": {}
     },
     "7259ee055bc440b186ef86f037a7f781": {
      "model_module": "@jupyter-widgets/controls",
      "model_module_version": "1.5.0",
      "model_name": "DescriptionStyleModel",
      "state": {
       "description_width": ""
      }
     },
     "72c05863a176474faed38f19f574f3f2": {
      "model_module": "@jupyter-widgets/controls",
      "model_module_version": "1.5.0",
      "model_name": "ProgressStyleModel",
      "state": {
       "description_width": ""
      }
     },
     "73024abdbe12411f838e0200096fad35": {
      "model_module": "@jupyter-widgets/controls",
      "model_module_version": "1.5.0",
      "model_name": "DescriptionStyleModel",
      "state": {
       "description_width": ""
      }
     },
     "741823e8e1ef4e2088c33034241365f5": {
      "model_module": "@jupyter-widgets/controls",
      "model_module_version": "1.5.0",
      "model_name": "HTMLModel",
      "state": {
       "layout": "IPY_MODEL_f5a75c66b0284e69a52bae9fec31830a",
       "style": "IPY_MODEL_854ce936a6174b4190241f3f1fb49f5c",
       "value": "Backtest Lustre Pyramiding: 100%"
      }
     },
     "743740765485447c8c32aefd3fe0b71d": {
      "model_module": "@jupyter-widgets/base",
      "model_module_version": "1.2.0",
      "model_name": "LayoutModel",
      "state": {}
     },
     "743b7e62aaf24d7da5f328488ea43d26": {
      "model_module": "@jupyter-widgets/controls",
      "model_module_version": "1.5.0",
      "model_name": "DescriptionStyleModel",
      "state": {
       "description_width": ""
      }
     },
     "744d3cfd76d44696a3fbead7a6d64cf3": {
      "model_module": "@jupyter-widgets/base",
      "model_module_version": "1.2.0",
      "model_name": "LayoutModel",
      "state": {}
     },
     "747b62831c1e4da5ba2e93a578e04be1": {
      "model_module": "@jupyter-widgets/base",
      "model_module_version": "1.2.0",
      "model_name": "LayoutModel",
      "state": {}
     },
     "751f3d3f5b0e4d118e9a35c1f52d153a": {
      "model_module": "@jupyter-widgets/controls",
      "model_module_version": "1.5.0",
      "model_name": "ProgressStyleModel",
      "state": {
       "description_width": ""
      }
     },
     "7563c9a430a7458ca57ebf5216160547": {
      "model_module": "@jupyter-widgets/base",
      "model_module_version": "1.2.0",
      "model_name": "LayoutModel",
      "state": {}
     },
     "756e26678bae445c8b82947394859e61": {
      "model_module": "@jupyter-widgets/base",
      "model_module_version": "1.2.0",
      "model_name": "LayoutModel",
      "state": {}
     },
     "766c11780f1a4f7e81f0bf0c5a804a21": {
      "model_module": "@jupyter-widgets/controls",
      "model_module_version": "1.5.0",
      "model_name": "DescriptionStyleModel",
      "state": {
       "description_width": ""
      }
     },
     "76c6727c87c049b88cc637253a61bab9": {
      "model_module": "@jupyter-widgets/controls",
      "model_module_version": "1.5.0",
      "model_name": "ProgressStyleModel",
      "state": {
       "description_width": ""
      }
     },
     "76c736274b8c42dca7032601c4873e83": {
      "model_module": "@jupyter-widgets/base",
      "model_module_version": "1.2.0",
      "model_name": "LayoutModel",
      "state": {}
     },
     "7827be6cc4634fecad9a8cf78ea990fc": {
      "model_module": "@jupyter-widgets/controls",
      "model_module_version": "1.5.0",
      "model_name": "FloatProgressModel",
      "state": {
       "bar_style": "success",
       "layout": "IPY_MODEL_e6fbeaee02854a8bb3a5903bbbcf6fa9",
       "style": "IPY_MODEL_fcdcc03891cf43ec9cd4f6169ce889ef",
       "value": 100
      }
     },
     "78e89eb591b24368b711b10cb5f41163": {
      "model_module": "@jupyter-widgets/base",
      "model_module_version": "1.2.0",
      "model_name": "LayoutModel",
      "state": {}
     },
     "78f9a6979a864bf48b2ac2eac0bf9098": {
      "model_module": "@jupyter-widgets/controls",
      "model_module_version": "1.5.0",
      "model_name": "HTMLModel",
      "state": {
       "layout": "IPY_MODEL_034337d4b61d445dbba4a0d3da56c0af",
       "style": "IPY_MODEL_d3e503a76ddb4a2180dd54c01f3372a3",
       "value": " 100/100 [00:43&lt;00:00, 2.28 signals/s]"
      }
     },
     "793d11ac021e4cfab6333037b3f664d0": {
      "model_module": "@jupyter-widgets/controls",
      "model_module_version": "1.5.0",
      "model_name": "DescriptionStyleModel",
      "state": {
       "description_width": ""
      }
     },
     "7b3e55b5aa794c6eab0921b7c4440833": {
      "model_module": "@jupyter-widgets/controls",
      "model_module_version": "1.5.0",
      "model_name": "ProgressStyleModel",
      "state": {
       "description_width": ""
      }
     },
     "7bafa4957110430e925e41a31aba428c": {
      "model_module": "@jupyter-widgets/controls",
      "model_module_version": "1.5.0",
      "model_name": "HTMLModel",
      "state": {
       "layout": "IPY_MODEL_071430c4a5ca44088fc20eb93439662a",
       "style": "IPY_MODEL_cf998ac00c8544a682254b90bdfcab17",
       "value": "Backtest Lustre Pyramiding: 100%"
      }
     },
     "7bb638be566f4a0e9f03ebd2357a8373": {
      "model_module": "@jupyter-widgets/controls",
      "model_module_version": "1.5.0",
      "model_name": "DescriptionStyleModel",
      "state": {
       "description_width": ""
      }
     },
     "7c9146e5f05d4669ab9ad170f3430c57": {
      "model_module": "@jupyter-widgets/controls",
      "model_module_version": "1.5.0",
      "model_name": "DescriptionStyleModel",
      "state": {
       "description_width": ""
      }
     },
     "7cab33653b384a1d81b6580d7d0e36d6": {
      "model_module": "@jupyter-widgets/controls",
      "model_module_version": "1.5.0",
      "model_name": "HBoxModel",
      "state": {
       "children": [
        "IPY_MODEL_29d77b0a70784270b52bf771567160a5",
        "IPY_MODEL_21cb747478794a788cca25b1b88e94e7",
        "IPY_MODEL_eaaac32ccf7a4ffab70f3dcf39f2ac89"
       ],
       "layout": "IPY_MODEL_578f98138d0e4e7bb387b531f9dbff2b"
      }
     },
     "7cb4ff6b676c442197c9c20ad540a3e1": {
      "model_module": "@jupyter-widgets/controls",
      "model_module_version": "1.5.0",
      "model_name": "HBoxModel",
      "state": {
       "children": [
        "IPY_MODEL_c955ec79141c4cb4a3863e0206deefe8",
        "IPY_MODEL_2f3814e30a124a6e88a3e053d4edaf0a",
        "IPY_MODEL_2e8409a9616546329dd8c45c7fbbfa77"
       ],
       "layout": "IPY_MODEL_1220328f649846f8a20ac2cebe4973ce"
      }
     },
     "7cc464ce247a47f28fc641878b3e6f3e": {
      "model_module": "@jupyter-widgets/base",
      "model_module_version": "1.2.0",
      "model_name": "LayoutModel",
      "state": {}
     },
     "7cdb5bcf4cf543c68a2f69bb914f747b": {
      "model_module": "@jupyter-widgets/base",
      "model_module_version": "1.2.0",
      "model_name": "LayoutModel",
      "state": {}
     },
     "7cea9457f1db44c4a681a5bc2fb9700c": {
      "model_module": "@jupyter-widgets/controls",
      "model_module_version": "1.5.0",
      "model_name": "DescriptionStyleModel",
      "state": {
       "description_width": ""
      }
     },
     "7f1c8aaa87de46dbb0cdbf3d82fd3904": {
      "model_module": "@jupyter-widgets/base",
      "model_module_version": "1.2.0",
      "model_name": "LayoutModel",
      "state": {}
     },
     "80f67a582bc64bdd8b6cdc8f9aae5d20": {
      "model_module": "@jupyter-widgets/controls",
      "model_module_version": "1.5.0",
      "model_name": "HBoxModel",
      "state": {
       "children": [
        "IPY_MODEL_b95462c7883a4feabf8000e58bbf5d61",
        "IPY_MODEL_c7645d12bfe74ef29091b03548010582",
        "IPY_MODEL_df74e9592b044bab89f8cedd3d951286"
       ],
       "layout": "IPY_MODEL_123f46d2c2d2419face8ec90f8f55d8e"
      }
     },
     "810355fd1216499f84a7d2203b2b55cc": {
      "model_module": "@jupyter-widgets/base",
      "model_module_version": "1.2.0",
      "model_name": "LayoutModel",
      "state": {}
     },
     "8177c1e9e04249eebb544aab328d46a9": {
      "model_module": "@jupyter-widgets/base",
      "model_module_version": "1.2.0",
      "model_name": "LayoutModel",
      "state": {}
     },
     "81cf90bae05d4a1687b4377ffaa070be": {
      "model_module": "@jupyter-widgets/controls",
      "model_module_version": "1.5.0",
      "model_name": "HTMLModel",
      "state": {
       "layout": "IPY_MODEL_a879a7b7aa844133be04945f35fc7b4b",
       "style": "IPY_MODEL_5280d70259084c7ca102ca453a7b9ef4",
       "value": " 100/100 [01:03&lt;00:00, 1.57 signals/s]"
      }
     },
     "820e7cbc8ec64591b43c0011defab8b8": {
      "model_module": "@jupyter-widgets/controls",
      "model_module_version": "1.5.0",
      "model_name": "ProgressStyleModel",
      "state": {
       "description_width": ""
      }
     },
     "8257310a8cf84fb98c0d7c55a973478a": {
      "model_module": "@jupyter-widgets/base",
      "model_module_version": "1.2.0",
      "model_name": "LayoutModel",
      "state": {}
     },
     "82b9687b78624146beaa7d3a0d4adc39": {
      "model_module": "@jupyter-widgets/controls",
      "model_module_version": "1.5.0",
      "model_name": "DescriptionStyleModel",
      "state": {
       "description_width": ""
      }
     },
     "82dbf57fb7264d55aecd4ab6e72d658b": {
      "model_module": "@jupyter-widgets/controls",
      "model_module_version": "1.5.0",
      "model_name": "DescriptionStyleModel",
      "state": {
       "description_width": ""
      }
     },
     "83874eab7e494c37bc980bbf5ff41444": {
      "model_module": "@jupyter-widgets/base",
      "model_module_version": "1.2.0",
      "model_name": "LayoutModel",
      "state": {}
     },
     "83b6fa9177354c11ab6ec94cb7ab07af": {
      "model_module": "@jupyter-widgets/controls",
      "model_module_version": "1.5.0",
      "model_name": "HBoxModel",
      "state": {
       "children": [
        "IPY_MODEL_d6af3348f8264555864a878d5f3af10c",
        "IPY_MODEL_9da50b2094974bb2b1d03d6c25472f53",
        "IPY_MODEL_be24e362dbae4cc78a8ab82e0d98cece"
       ],
       "layout": "IPY_MODEL_747b62831c1e4da5ba2e93a578e04be1"
      }
     },
     "83bcc6165c88451595a3b6aae9a02f9d": {
      "model_module": "@jupyter-widgets/base",
      "model_module_version": "1.2.0",
      "model_name": "LayoutModel",
      "state": {}
     },
     "83c2746f574a4841a7fa32f391db7da8": {
      "model_module": "@jupyter-widgets/controls",
      "model_module_version": "1.5.0",
      "model_name": "DescriptionStyleModel",
      "state": {
       "description_width": ""
      }
     },
     "84f446b093a24a2cb86cb59c5111bc28": {
      "model_module": "@jupyter-widgets/controls",
      "model_module_version": "1.5.0",
      "model_name": "DescriptionStyleModel",
      "state": {
       "description_width": ""
      }
     },
     "854ce936a6174b4190241f3f1fb49f5c": {
      "model_module": "@jupyter-widgets/controls",
      "model_module_version": "1.5.0",
      "model_name": "DescriptionStyleModel",
      "state": {
       "description_width": ""
      }
     },
     "85b106be60a84ec38d8bd208450f07ea": {
      "model_module": "@jupyter-widgets/base",
      "model_module_version": "1.2.0",
      "model_name": "LayoutModel",
      "state": {}
     },
     "8632f338c453403996ec1e43bfc0fe44": {
      "model_module": "@jupyter-widgets/controls",
      "model_module_version": "1.5.0",
      "model_name": "ProgressStyleModel",
      "state": {
       "description_width": ""
      }
     },
     "86619bcecb844cd883ccdad14d8eec3f": {
      "model_module": "@jupyter-widgets/controls",
      "model_module_version": "1.5.0",
      "model_name": "ProgressStyleModel",
      "state": {
       "description_width": ""
      }
     },
     "876dfb141da4456caca27502dfabf1dd": {
      "model_module": "@jupyter-widgets/base",
      "model_module_version": "1.2.0",
      "model_name": "LayoutModel",
      "state": {}
     },
     "8873622047bb4667bb90166522d787d8": {
      "model_module": "@jupyter-widgets/controls",
      "model_module_version": "1.5.0",
      "model_name": "HBoxModel",
      "state": {
       "children": [
        "IPY_MODEL_68d7c98f61c84147905d6fdd4e4409a3",
        "IPY_MODEL_1e6ba067247a4ac2b9b001827b6d39e3",
        "IPY_MODEL_9b65728e5a3648328540a4d8bd94b51f"
       ],
       "layout": "IPY_MODEL_21ec38c247d8483393a31971864bdee1"
      }
     },
     "88a850d2f6584dcb831a8a468eef43c8": {
      "model_module": "@jupyter-widgets/controls",
      "model_module_version": "1.5.0",
      "model_name": "ProgressStyleModel",
      "state": {
       "description_width": ""
      }
     },
     "890b5bf2bc524b70bb39ad1e6a449c80": {
      "model_module": "@jupyter-widgets/base",
      "model_module_version": "1.2.0",
      "model_name": "LayoutModel",
      "state": {}
     },
     "897eb61c916a4c77b852dd6542e2e9b5": {
      "model_module": "@jupyter-widgets/controls",
      "model_module_version": "1.5.0",
      "model_name": "FloatProgressModel",
      "state": {
       "bar_style": "danger",
       "layout": "IPY_MODEL_c5991b0235fc430b8deb4c09463406a3",
       "style": "IPY_MODEL_a514034236224f50aa514f5fd2523c89"
      }
     },
     "89f7c5acdad847349ce1da828257e286": {
      "model_module": "@jupyter-widgets/controls",
      "model_module_version": "1.5.0",
      "model_name": "HBoxModel",
      "state": {
       "children": [
        "IPY_MODEL_4f3fc3da1efd4518b13b6db77f4b66f7",
        "IPY_MODEL_1f616e501d1a4f30ae506d83b0fd9a8b",
        "IPY_MODEL_f642048b02e94ebbb99366695a21f1d7"
       ],
       "layout": "IPY_MODEL_13d3dffc4e154a96a082c7e3598e28ab"
      }
     },
     "8a8cb70cc32f4dca8e797b10e292ea45": {
      "model_module": "@jupyter-widgets/controls",
      "model_module_version": "1.5.0",
      "model_name": "ProgressStyleModel",
      "state": {
       "description_width": ""
      }
     },
     "8af3dee174a248e48f703d9464ea8e1b": {
      "model_module": "@jupyter-widgets/controls",
      "model_module_version": "1.5.0",
      "model_name": "DescriptionStyleModel",
      "state": {
       "description_width": ""
      }
     },
     "8b1038d1da43418b94195c1b893e90e4": {
      "model_module": "@jupyter-widgets/controls",
      "model_module_version": "1.5.0",
      "model_name": "HBoxModel",
      "state": {
       "children": [
        "IPY_MODEL_3ca3aa9c50b748e8b81e5ad1c9979c72",
        "IPY_MODEL_ddf93b22c4524b3e9e33e8ffc10a37c2",
        "IPY_MODEL_16c989de13f64e1484a61fddc4277b57"
       ],
       "layout": "IPY_MODEL_e4a5d48231324cfcaa77afd94ce9ead2"
      }
     },
     "8b11cb9ca0524c059e8efa3a55d4a970": {
      "model_module": "@jupyter-widgets/base",
      "model_module_version": "1.2.0",
      "model_name": "LayoutModel",
      "state": {}
     },
     "8b394a9843c248b99169b046dfe9eca7": {
      "model_module": "@jupyter-widgets/controls",
      "model_module_version": "1.5.0",
      "model_name": "DescriptionStyleModel",
      "state": {
       "description_width": ""
      }
     },
     "8b7fc67439544c7288147db49485b299": {
      "model_module": "@jupyter-widgets/controls",
      "model_module_version": "1.5.0",
      "model_name": "ProgressStyleModel",
      "state": {
       "description_width": ""
      }
     },
     "8c564ab5ce15413db18ce37f8001abbb": {
      "model_module": "@jupyter-widgets/base",
      "model_module_version": "1.2.0",
      "model_name": "LayoutModel",
      "state": {}
     },
     "8cc1163f2baa464ebd738ba08733c18d": {
      "model_module": "@jupyter-widgets/controls",
      "model_module_version": "1.5.0",
      "model_name": "ProgressStyleModel",
      "state": {
       "description_width": ""
      }
     },
     "8d069883cc4d4eb592e84c2ed66bfe34": {
      "model_module": "@jupyter-widgets/base",
      "model_module_version": "1.2.0",
      "model_name": "LayoutModel",
      "state": {}
     },
     "8db40eb48ca54d7e994523961f10c6fa": {
      "model_module": "@jupyter-widgets/base",
      "model_module_version": "1.2.0",
      "model_name": "LayoutModel",
      "state": {}
     },
     "8dbabf23a91444f6a13112a5f18c685a": {
      "model_module": "@jupyter-widgets/controls",
      "model_module_version": "1.5.0",
      "model_name": "DescriptionStyleModel",
      "state": {
       "description_width": ""
      }
     },
     "8df734133c904e6494927022271993fa": {
      "model_module": "@jupyter-widgets/controls",
      "model_module_version": "1.5.0",
      "model_name": "DescriptionStyleModel",
      "state": {
       "description_width": ""
      }
     },
     "8e2f37219d684cc6a7faf25803c4e468": {
      "model_module": "@jupyter-widgets/controls",
      "model_module_version": "1.5.0",
      "model_name": "DescriptionStyleModel",
      "state": {
       "description_width": ""
      }
     },
     "8e300262ae3844969eea253d8955c811": {
      "model_module": "@jupyter-widgets/controls",
      "model_module_version": "1.5.0",
      "model_name": "DescriptionStyleModel",
      "state": {
       "description_width": ""
      }
     },
     "8f4328a638c542f9b5c3a7165520a8c7": {
      "model_module": "@jupyter-widgets/base",
      "model_module_version": "1.2.0",
      "model_name": "LayoutModel",
      "state": {}
     },
     "90a6ca5b247e4672abe2a1a81c4a4b0c": {
      "model_module": "@jupyter-widgets/controls",
      "model_module_version": "1.5.0",
      "model_name": "DescriptionStyleModel",
      "state": {
       "description_width": ""
      }
     },
     "91a6b536bd8b44d2acdf7dded9fbbb88": {
      "model_module": "@jupyter-widgets/controls",
      "model_module_version": "1.5.0",
      "model_name": "FloatProgressModel",
      "state": {
       "bar_style": "success",
       "layout": "IPY_MODEL_3c4160b551bb4e7ab4c5a973b9c65a57",
       "style": "IPY_MODEL_4be8230fc4e2469ebb469ac3f3339d5f",
       "value": 100
      }
     },
     "91c28bdf1f4d4e46a9cc26f4fc14f568": {
      "model_module": "@jupyter-widgets/controls",
      "model_module_version": "1.5.0",
      "model_name": "FloatProgressModel",
      "state": {
       "bar_style": "success",
       "layout": "IPY_MODEL_ccc02978c98a436bbf29a422bf09ba2c",
       "style": "IPY_MODEL_9be53e5e9a614309b853506473ed707c",
       "value": 100
      }
     },
     "91dcdf2acb4b45eb931e1ce4897596e9": {
      "model_module": "@jupyter-widgets/controls",
      "model_module_version": "1.5.0",
      "model_name": "HBoxModel",
      "state": {
       "children": [
        "IPY_MODEL_6f2a85c571044a33a0d73066386ad08b",
        "IPY_MODEL_4556ea90208a400b84c9eb898dd7faad",
        "IPY_MODEL_1d1c13dfb8b84e6ab00423dec7972210"
       ],
       "layout": "IPY_MODEL_4f99cf56877644b78f5f92312d123bb0"
      }
     },
     "91fac1ce7fa04180bd55f6cb6b9bff51": {
      "model_module": "@jupyter-widgets/controls",
      "model_module_version": "1.5.0",
      "model_name": "ProgressStyleModel",
      "state": {
       "description_width": ""
      }
     },
     "9353999db626417eb7d338c142657151": {
      "model_module": "@jupyter-widgets/base",
      "model_module_version": "1.2.0",
      "model_name": "LayoutModel",
      "state": {}
     },
     "93683ad87c794b4391f538b8c31e2276": {
      "model_module": "@jupyter-widgets/controls",
      "model_module_version": "1.5.0",
      "model_name": "HBoxModel",
      "state": {
       "children": [
        "IPY_MODEL_003b186a93b0435691ec5074b37d5958",
        "IPY_MODEL_1002b6a73e3e40c4bf76b6265640a70c",
        "IPY_MODEL_3a03127ef8b1464ba30e574d0bbdc7df"
       ],
       "layout": "IPY_MODEL_a9aa042bc7724e619baf0cebc62342e3"
      }
     },
     "9486b7c123964be6a742a6f5caadec2e": {
      "model_module": "@jupyter-widgets/controls",
      "model_module_version": "1.5.0",
      "model_name": "HTMLModel",
      "state": {
       "layout": "IPY_MODEL_c3026293f65c4437bae40b04a50dce04",
       "style": "IPY_MODEL_171e1f8d1fb843c1a9027e3a4aac46c0",
       "value": " 100/100 [03:31&lt;00:00, 2.12s/ signals]"
      }
     },
     "95ce512e8e5245cf96d96fe5fb384f91": {
      "model_module": "@jupyter-widgets/controls",
      "model_module_version": "1.5.0",
      "model_name": "HTMLModel",
      "state": {
       "layout": "IPY_MODEL_33950cba28f349f9aaac20b438bc87e8",
       "style": "IPY_MODEL_82b9687b78624146beaa7d3a0d4adc39",
       "value": "Backtest Lustre Pyramiding: 100%"
      }
     },
     "96770c32319e4ea797fb016bae563c5e": {
      "model_module": "@jupyter-widgets/controls",
      "model_module_version": "1.5.0",
      "model_name": "HTMLModel",
      "state": {
       "layout": "IPY_MODEL_b8f349cefc6042bcae88bfb242dfaf62",
       "style": "IPY_MODEL_9d4c75d189b14fb4975809b9a3109aab",
       "value": " 100/100 [18:43:10&lt;00:00, 674s/ signals]"
      }
     },
     "98b4255733374181922f95c9ee5b5200": {
      "model_module": "@jupyter-widgets/base",
      "model_module_version": "1.2.0",
      "model_name": "LayoutModel",
      "state": {}
     },
     "991930ba3f7d480fb47b5c72714b9c2b": {
      "model_module": "@jupyter-widgets/base",
      "model_module_version": "1.2.0",
      "model_name": "LayoutModel",
      "state": {}
     },
     "9a247fa4316f46818047a00118aae018": {
      "model_module": "@jupyter-widgets/controls",
      "model_module_version": "1.5.0",
      "model_name": "HTMLModel",
      "state": {
       "layout": "IPY_MODEL_60672d4247ab41458d27f2c4aa4ebe88",
       "style": "IPY_MODEL_7259ee055bc440b186ef86f037a7f781",
       "value": " 100/100 [02:49&lt;00:00, 1.69s/ signals]"
      }
     },
     "9a29ef69e179474580e54f1c2ec2b496": {
      "model_module": "@jupyter-widgets/base",
      "model_module_version": "1.2.0",
      "model_name": "LayoutModel",
      "state": {}
     },
     "9ac59306462d407faf8f878a65e2cf95": {
      "model_module": "@jupyter-widgets/controls",
      "model_module_version": "1.5.0",
      "model_name": "ProgressStyleModel",
      "state": {
       "description_width": ""
      }
     },
     "9b65728e5a3648328540a4d8bd94b51f": {
      "model_module": "@jupyter-widgets/controls",
      "model_module_version": "1.5.0",
      "model_name": "HTMLModel",
      "state": {
       "layout": "IPY_MODEL_0e84db2a7ec049bbad647a3a72008043",
       "style": "IPY_MODEL_131438b268ff4b47a4906dafb3306086",
       "value": " 100/100 [03:30&lt;00:00, 2.11s/ signals]"
      }
     },
     "9be53e5e9a614309b853506473ed707c": {
      "model_module": "@jupyter-widgets/controls",
      "model_module_version": "1.5.0",
      "model_name": "ProgressStyleModel",
      "state": {
       "description_width": ""
      }
     },
     "9bfbe2664c2f475d94c36039cda6b926": {
      "model_module": "@jupyter-widgets/base",
      "model_module_version": "1.2.0",
      "model_name": "LayoutModel",
      "state": {}
     },
     "9ccdc14c5c18454ba5f7d4e50cebfd7c": {
      "model_module": "@jupyter-widgets/controls",
      "model_module_version": "1.5.0",
      "model_name": "ProgressStyleModel",
      "state": {
       "description_width": ""
      }
     },
     "9ce05356706f41dabe1c61d34db5e89a": {
      "model_module": "@jupyter-widgets/controls",
      "model_module_version": "1.5.0",
      "model_name": "HTMLModel",
      "state": {
       "layout": "IPY_MODEL_61a9f489b40c4d1d84b2aa7168865a90",
       "style": "IPY_MODEL_53723073224d4540bf75caf7b772db32",
       "value": " 100/100 [01:05&lt;00:00, 1.53 signals/s]"
      }
     },
     "9d4c75d189b14fb4975809b9a3109aab": {
      "model_module": "@jupyter-widgets/controls",
      "model_module_version": "1.5.0",
      "model_name": "DescriptionStyleModel",
      "state": {
       "description_width": ""
      }
     },
     "9d51862612c24204a8a59b5ce8988123": {
      "model_module": "@jupyter-widgets/base",
      "model_module_version": "1.2.0",
      "model_name": "LayoutModel",
      "state": {}
     },
     "9da50b2094974bb2b1d03d6c25472f53": {
      "model_module": "@jupyter-widgets/controls",
      "model_module_version": "1.5.0",
      "model_name": "FloatProgressModel",
      "state": {
       "bar_style": "success",
       "layout": "IPY_MODEL_7563c9a430a7458ca57ebf5216160547",
       "style": "IPY_MODEL_089fb3ef7b51471bb8a7518f9158edb8",
       "value": 100
      }
     },
     "9dc71802122040b5a6892793d11b5516": {
      "model_module": "@jupyter-widgets/base",
      "model_module_version": "1.2.0",
      "model_name": "LayoutModel",
      "state": {}
     },
     "9eb7ba84e29d46f8b6b1391772124529": {
      "model_module": "@jupyter-widgets/base",
      "model_module_version": "1.2.0",
      "model_name": "LayoutModel",
      "state": {}
     },
     "9f10ad1337f14d8b81b3cffdf26b5ffb": {
      "model_module": "@jupyter-widgets/controls",
      "model_module_version": "1.5.0",
      "model_name": "HTMLModel",
      "state": {
       "layout": "IPY_MODEL_25b884c884f64f8d8c2ffa0363738682",
       "style": "IPY_MODEL_c57745a4c3df4f89a79891dfcf591cb4",
       "value": " 100/100 [01:00&lt;00:00, 1.64 signals/s]"
      }
     },
     "9f480b31173145c48f3d23b04d621c35": {
      "model_module": "@jupyter-widgets/base",
      "model_module_version": "1.2.0",
      "model_name": "LayoutModel",
      "state": {}
     },
     "9faa4fd3607945ecb3f89e65a2a10a0b": {
      "model_module": "@jupyter-widgets/controls",
      "model_module_version": "1.5.0",
      "model_name": "HBoxModel",
      "state": {
       "children": [
        "IPY_MODEL_f6eda3625bbb4d7688848c0bf56b772c",
        "IPY_MODEL_c24a1f0a6e2740b2a66e297e652d225c",
        "IPY_MODEL_be0e33a820e9459e8e42e7a78e4bb116"
       ],
       "layout": "IPY_MODEL_be5bd011b71e430d8fbc085aa63b451e"
      }
     },
     "a07c642c6a5544dd9ff4520bbae9bef2": {
      "model_module": "@jupyter-widgets/base",
      "model_module_version": "1.2.0",
      "model_name": "LayoutModel",
      "state": {}
     },
     "a15f39f94bdf4c57a478168f0491aecb": {
      "model_module": "@jupyter-widgets/controls",
      "model_module_version": "1.5.0",
      "model_name": "HTMLModel",
      "state": {
       "layout": "IPY_MODEL_f831a8e35f504f16af9cadc2a5567fae",
       "style": "IPY_MODEL_a6e6c7fc787246e29c77905bf257d3e2",
       "value": "Backtest Lustre Pyramiding: 100%"
      }
     },
     "a1638d9d6fb14e6e8348b3f3857f0988": {
      "model_module": "@jupyter-widgets/controls",
      "model_module_version": "1.5.0",
      "model_name": "HBoxModel",
      "state": {
       "children": [
        "IPY_MODEL_b390815c19384293a8f59fd1f3d0aee3",
        "IPY_MODEL_4e851c53d92643d9b93ac1d3e50df1ef",
        "IPY_MODEL_e98e9de39ca94a2a97f416040bc85a73"
       ],
       "layout": "IPY_MODEL_7cdb5bcf4cf543c68a2f69bb914f747b"
      }
     },
     "a1c2b98720e34ecab3d8c26d763fe3cc": {
      "model_module": "@jupyter-widgets/base",
      "model_module_version": "1.2.0",
      "model_name": "LayoutModel",
      "state": {}
     },
     "a2e5ffdf697a4c7a8d9bca2fe700c1fc": {
      "model_module": "@jupyter-widgets/base",
      "model_module_version": "1.2.0",
      "model_name": "LayoutModel",
      "state": {}
     },
     "a349f75e0bc0466c90cd8d1f0e616ec9": {
      "model_module": "@jupyter-widgets/base",
      "model_module_version": "1.2.0",
      "model_name": "LayoutModel",
      "state": {}
     },
     "a34f62b0ecdb4e6a9e67277da2f9cc4b": {
      "model_module": "@jupyter-widgets/controls",
      "model_module_version": "1.5.0",
      "model_name": "HBoxModel",
      "state": {
       "children": [
        "IPY_MODEL_318b71a6de2649dbad3088885ad532e5",
        "IPY_MODEL_699822698b204c96a007c9078f1890ff",
        "IPY_MODEL_27649a83577444aea1aeaa7f165d8149"
       ],
       "layout": "IPY_MODEL_059e3628ae394b358528951b71d35a51"
      }
     },
     "a3553d9838d44dc8804453dc76387ddf": {
      "model_module": "@jupyter-widgets/controls",
      "model_module_version": "1.5.0",
      "model_name": "HBoxModel",
      "state": {
       "children": [
        "IPY_MODEL_20f4d8f95c1d43089feb77cb6f1a7460",
        "IPY_MODEL_1b2377c10764417383d8f304bb824e72",
        "IPY_MODEL_b95b76a3bac649dd8c739833985a98bf"
       ],
       "layout": "IPY_MODEL_f92c948c3b1d419682346c6f5b7cdc9b"
      }
     },
     "a3980a808acd4b119fc869ce0f5720ee": {
      "model_module": "@jupyter-widgets/controls",
      "model_module_version": "1.5.0",
      "model_name": "HTMLModel",
      "state": {
       "layout": "IPY_MODEL_02dd2c2d195a49f5a1ff1387c9878285",
       "style": "IPY_MODEL_a6451cf375e441a180cbfbd2846f9cb7",
       "value": " 100/100 [01:40&lt;00:00, 1.01s/ signals]"
      }
     },
     "a3cc3d96d72b4d5b9329e4042e8f0e6c": {
      "model_module": "@jupyter-widgets/base",
      "model_module_version": "1.2.0",
      "model_name": "LayoutModel",
      "state": {}
     },
     "a403d53e66594d6b8ee900686df23f4f": {
      "model_module": "@jupyter-widgets/controls",
      "model_module_version": "1.5.0",
      "model_name": "ProgressStyleModel",
      "state": {
       "description_width": ""
      }
     },
     "a42ec9c057a543baaaa59243b010c06d": {
      "model_module": "@jupyter-widgets/controls",
      "model_module_version": "1.5.0",
      "model_name": "HBoxModel",
      "state": {
       "children": [
        "IPY_MODEL_741823e8e1ef4e2088c33034241365f5",
        "IPY_MODEL_c23b10432aa94670b6eb75848d32d9d9",
        "IPY_MODEL_421f92b1e041477fa59b25767dd05076"
       ],
       "layout": "IPY_MODEL_b49adeca38b84c348d13c745819b251c"
      }
     },
     "a4fb4a169cf2490b937b45edbe1935b0": {
      "model_module": "@jupyter-widgets/controls",
      "model_module_version": "1.5.0",
      "model_name": "DescriptionStyleModel",
      "state": {
       "description_width": ""
      }
     },
     "a514034236224f50aa514f5fd2523c89": {
      "model_module": "@jupyter-widgets/controls",
      "model_module_version": "1.5.0",
      "model_name": "ProgressStyleModel",
      "state": {
       "description_width": ""
      }
     },
     "a5a4db766bac4db480c73b31a972c73f": {
      "model_module": "@jupyter-widgets/controls",
      "model_module_version": "1.5.0",
      "model_name": "HTMLModel",
      "state": {
       "layout": "IPY_MODEL_20ad99f1a5c04ce38c3b5616d998130a",
       "style": "IPY_MODEL_62e4bb6f089a4f1e90d2c6bf4d3eb81a",
       "value": " 100/100 [00:47&lt;00:00, 2.10 signals/s]"
      }
     },
     "a5b2b423d5e44ddfa6301ed974dd5d46": {
      "model_module": "@jupyter-widgets/controls",
      "model_module_version": "1.5.0",
      "model_name": "ProgressStyleModel",
      "state": {
       "description_width": ""
      }
     },
     "a6451cf375e441a180cbfbd2846f9cb7": {
      "model_module": "@jupyter-widgets/controls",
      "model_module_version": "1.5.0",
      "model_name": "DescriptionStyleModel",
      "state": {
       "description_width": ""
      }
     },
     "a6ddd03245da428e8871166347eb4782": {
      "model_module": "@jupyter-widgets/controls",
      "model_module_version": "1.5.0",
      "model_name": "FloatProgressModel",
      "state": {
       "bar_style": "danger",
       "layout": "IPY_MODEL_1e4ac3b2b43141f69408fed8f3964aef",
       "style": "IPY_MODEL_26b52cc8ebb446f1bd2737bc74a03218"
      }
     },
     "a6e6c7fc787246e29c77905bf257d3e2": {
      "model_module": "@jupyter-widgets/controls",
      "model_module_version": "1.5.0",
      "model_name": "DescriptionStyleModel",
      "state": {
       "description_width": ""
      }
     },
     "a7182fcd6cb5469f961082560ee6d28b": {
      "model_module": "@jupyter-widgets/controls",
      "model_module_version": "1.5.0",
      "model_name": "HTMLModel",
      "state": {
       "layout": "IPY_MODEL_573e2259213246cb8653069f360e8f9c",
       "style": "IPY_MODEL_b50e186372a7409d9ac36e23456dc732",
       "value": " 100/100 [00:04&lt;00:00, 24.8 signals/s]"
      }
     },
     "a7c54b7f4fd64652870fa138379eb6b5": {
      "model_module": "@jupyter-widgets/base",
      "model_module_version": "1.2.0",
      "model_name": "LayoutModel",
      "state": {}
     },
     "a802ca98eccc45f5b0071a873bc43b23": {
      "model_module": "@jupyter-widgets/controls",
      "model_module_version": "1.5.0",
      "model_name": "HTMLModel",
      "state": {
       "layout": "IPY_MODEL_c9d32466eb0149518d8900724ff32307",
       "style": "IPY_MODEL_83c2746f574a4841a7fa32f391db7da8",
       "value": "Lustre Pyramiding/0:   0%"
      }
     },
     "a879a7b7aa844133be04945f35fc7b4b": {
      "model_module": "@jupyter-widgets/base",
      "model_module_version": "1.2.0",
      "model_name": "LayoutModel",
      "state": {}
     },
     "a88aa6f0647d40f5b2b961d27ef15a2c": {
      "model_module": "@jupyter-widgets/controls",
      "model_module_version": "1.5.0",
      "model_name": "FloatProgressModel",
      "state": {
       "bar_style": "success",
       "layout": "IPY_MODEL_a1c2b98720e34ecab3d8c26d763fe3cc",
       "style": "IPY_MODEL_86619bcecb844cd883ccdad14d8eec3f",
       "value": 100
      }
     },
     "a921f6de56b54486837e07d060912bda": {
      "model_module": "@jupyter-widgets/controls",
      "model_module_version": "1.5.0",
      "model_name": "HBoxModel",
      "state": {
       "children": [
        "IPY_MODEL_dcbf1884706f4bdd8877eafd453a644c",
        "IPY_MODEL_d81ffe551d9c45f1b91f6fc3b79d1a3f",
        "IPY_MODEL_9486b7c123964be6a742a6f5caadec2e"
       ],
       "layout": "IPY_MODEL_78e89eb591b24368b711b10cb5f41163"
      }
     },
     "a92948accb544363bbab54a067a9460e": {
      "model_module": "@jupyter-widgets/controls",
      "model_module_version": "1.5.0",
      "model_name": "HBoxModel",
      "state": {
       "children": [
        "IPY_MODEL_b3a3ffed89e34dfd840b77bf5f8c409d",
        "IPY_MODEL_91a6b536bd8b44d2acdf7dded9fbbb88",
        "IPY_MODEL_2d46e7b5def94590af2002064a66c822"
       ],
       "layout": "IPY_MODEL_c6903e411693463282934ffca03562d2"
      }
     },
     "a97ea635d7264d589264c9f974e1079a": {
      "model_module": "@jupyter-widgets/controls",
      "model_module_version": "1.5.0",
      "model_name": "FloatProgressModel",
      "state": {
       "bar_style": "danger",
       "layout": "IPY_MODEL_1c07b0cf9aa64e44a8cd34e5215d05b0",
       "style": "IPY_MODEL_8632f338c453403996ec1e43bfc0fe44",
       "value": 53.44827586206897
      }
     },
     "a9aa042bc7724e619baf0cebc62342e3": {
      "model_module": "@jupyter-widgets/base",
      "model_module_version": "1.2.0",
      "model_name": "LayoutModel",
      "state": {}
     },
     "a9c4f77c803e4d86bc28238f538dedc4": {
      "model_module": "@jupyter-widgets/base",
      "model_module_version": "1.2.0",
      "model_name": "LayoutModel",
      "state": {}
     },
     "aa283d23911a458daca0f75b886d927f": {
      "model_module": "@jupyter-widgets/controls",
      "model_module_version": "1.5.0",
      "model_name": "ProgressStyleModel",
      "state": {
       "description_width": ""
      }
     },
     "ab1f453b228f4c2caf8ad694574b733a": {
      "model_module": "@jupyter-widgets/controls",
      "model_module_version": "1.5.0",
      "model_name": "ProgressStyleModel",
      "state": {
       "description_width": ""
      }
     },
     "ab3b68a2be094ecc8f494cfffe9e18b2": {
      "model_module": "@jupyter-widgets/controls",
      "model_module_version": "1.5.0",
      "model_name": "DescriptionStyleModel",
      "state": {
       "description_width": ""
      }
     },
     "ab3bb18147954ce7ae98283a223d138b": {
      "model_module": "@jupyter-widgets/controls",
      "model_module_version": "1.5.0",
      "model_name": "FloatProgressModel",
      "state": {
       "bar_style": "success",
       "layout": "IPY_MODEL_4f908a46a55b471d9c1556d4bda63e29",
       "style": "IPY_MODEL_88a850d2f6584dcb831a8a468eef43c8",
       "value": 100
      }
     },
     "ab94ddacafe746e89d92714d15ef8334": {
      "model_module": "@jupyter-widgets/base",
      "model_module_version": "1.2.0",
      "model_name": "LayoutModel",
      "state": {}
     },
     "abe8a850e84547fe9712d063e8d2f049": {
      "model_module": "@jupyter-widgets/base",
      "model_module_version": "1.2.0",
      "model_name": "LayoutModel",
      "state": {}
     },
     "aca065b7b3094ce69bb93e84714e97aa": {
      "model_module": "@jupyter-widgets/controls",
      "model_module_version": "1.5.0",
      "model_name": "HBoxModel",
      "state": {
       "children": [
        "IPY_MODEL_512c217cca6949dd9df481bfb0fc9d83",
        "IPY_MODEL_a97ea635d7264d589264c9f974e1079a",
        "IPY_MODEL_1d2091fe851246f78ca9f5ceb5c32124"
       ],
       "layout": "IPY_MODEL_810355fd1216499f84a7d2203b2b55cc"
      }
     },
     "ad74ef58a84946dba8e2d79e90b6c9b8": {
      "model_module": "@jupyter-widgets/controls",
      "model_module_version": "1.5.0",
      "model_name": "HBoxModel",
      "state": {
       "children": [
        "IPY_MODEL_95ce512e8e5245cf96d96fe5fb384f91",
        "IPY_MODEL_4b7ff6b834cb4396bb4fa74cddcf5827",
        "IPY_MODEL_3e89fc3b674f4098ad8e055c2c668501"
       ],
       "layout": "IPY_MODEL_06a1d31ae77d4eb59546001d70a0a56c"
      }
     },
     "ae16e9f47248432ab505228e94f47886": {
      "model_module": "@jupyter-widgets/controls",
      "model_module_version": "1.5.0",
      "model_name": "DescriptionStyleModel",
      "state": {
       "description_width": ""
      }
     },
     "ae5fe86f77064210b792362c1bd6d82b": {
      "model_module": "@jupyter-widgets/controls",
      "model_module_version": "1.5.0",
      "model_name": "DescriptionStyleModel",
      "state": {
       "description_width": ""
      }
     },
     "aeaeac212bf94270bf66f85a1a994a82": {
      "model_module": "@jupyter-widgets/controls",
      "model_module_version": "1.5.0",
      "model_name": "HTMLModel",
      "state": {
       "layout": "IPY_MODEL_b0e3adc20a234b33a3a73dc5b51b59a2",
       "style": "IPY_MODEL_5cd9638938944344bb19d48f1ff0b085",
       "value": "Backtest Lustre Pyramiding: 100%"
      }
     },
     "aefcc7d782454404a7ac4924f0438ada": {
      "model_module": "@jupyter-widgets/base",
      "model_module_version": "1.2.0",
      "model_name": "LayoutModel",
      "state": {}
     },
     "afbb553fa8be4a5ebf87bba70f14d22a": {
      "model_module": "@jupyter-widgets/controls",
      "model_module_version": "1.5.0",
      "model_name": "DescriptionStyleModel",
      "state": {
       "description_width": ""
      }
     },
     "b0e3adc20a234b33a3a73dc5b51b59a2": {
      "model_module": "@jupyter-widgets/base",
      "model_module_version": "1.2.0",
      "model_name": "LayoutModel",
      "state": {}
     },
     "b113c43975dc4e14a88e636640e7d9a4": {
      "model_module": "@jupyter-widgets/controls",
      "model_module_version": "1.5.0",
      "model_name": "HTMLModel",
      "state": {
       "layout": "IPY_MODEL_091c0fc88b3b44ea9d684203092c889d",
       "style": "IPY_MODEL_90a6ca5b247e4672abe2a1a81c4a4b0c",
       "value": "Backtest Lustre Pyramiding: 100%"
      }
     },
     "b1f0db7e0e7b40dfb1185c0c83703d04": {
      "model_module": "@jupyter-widgets/controls",
      "model_module_version": "1.5.0",
      "model_name": "HTMLModel",
      "state": {
       "layout": "IPY_MODEL_09697f0cb66d4ba8a527c40bc372ab7d",
       "style": "IPY_MODEL_52b8ebebdc2440809140398580f19b33",
       "value": " 100/100 [01:19&lt;00:00, 1.25 signals/s]"
      }
     },
     "b258a5e4e53c4e0488a60bc69403e45c": {
      "model_module": "@jupyter-widgets/controls",
      "model_module_version": "1.5.0",
      "model_name": "DescriptionStyleModel",
      "state": {
       "description_width": ""
      }
     },
     "b2819f39f460431c9df604887823326c": {
      "model_module": "@jupyter-widgets/base",
      "model_module_version": "1.2.0",
      "model_name": "LayoutModel",
      "state": {}
     },
     "b2c701fb95cf4bdb8a4bc9ca13d54e2b": {
      "model_module": "@jupyter-widgets/base",
      "model_module_version": "1.2.0",
      "model_name": "LayoutModel",
      "state": {}
     },
     "b333c478883b4e2c95d93bf7acf774ce": {
      "model_module": "@jupyter-widgets/base",
      "model_module_version": "1.2.0",
      "model_name": "LayoutModel",
      "state": {}
     },
     "b390815c19384293a8f59fd1f3d0aee3": {
      "model_module": "@jupyter-widgets/controls",
      "model_module_version": "1.5.0",
      "model_name": "HTMLModel",
      "state": {
       "layout": "IPY_MODEL_63db3432e61e4b21a8ce0a101709b0e3",
       "style": "IPY_MODEL_22fd6cad020448d5980d3ea1e586a215",
       "value": "Backtest Lustre Pyramiding: 100%"
      }
     },
     "b3a3ffed89e34dfd840b77bf5f8c409d": {
      "model_module": "@jupyter-widgets/controls",
      "model_module_version": "1.5.0",
      "model_name": "HTMLModel",
      "state": {
       "layout": "IPY_MODEL_b61288ec09cf4159b35f0ba037629267",
       "style": "IPY_MODEL_279ba0faec0d4621aa36f8e0fe52b42f",
       "value": "Backtest Lustre Pyramiding: 100%"
      }
     },
     "b3ce28b5304c47508372fffc31f880a1": {
      "model_module": "@jupyter-widgets/base",
      "model_module_version": "1.2.0",
      "model_name": "LayoutModel",
      "state": {}
     },
     "b47fd57ec2184f07a113270cdb2c71d4": {
      "model_module": "@jupyter-widgets/controls",
      "model_module_version": "1.5.0",
      "model_name": "HBoxModel",
      "state": {
       "children": [
        "IPY_MODEL_c17da1fe39a443b8acc305331da655fc",
        "IPY_MODEL_fcb645aa06da4240a22ed75035ca2809",
        "IPY_MODEL_23eb0f07f4744460a165266e28e00aa3"
       ],
       "layout": "IPY_MODEL_b56731d49a6a405792735ef234adb2e5"
      }
     },
     "b49adeca38b84c348d13c745819b251c": {
      "model_module": "@jupyter-widgets/base",
      "model_module_version": "1.2.0",
      "model_name": "LayoutModel",
      "state": {}
     },
     "b50e186372a7409d9ac36e23456dc732": {
      "model_module": "@jupyter-widgets/controls",
      "model_module_version": "1.5.0",
      "model_name": "DescriptionStyleModel",
      "state": {
       "description_width": ""
      }
     },
     "b56731d49a6a405792735ef234adb2e5": {
      "model_module": "@jupyter-widgets/base",
      "model_module_version": "1.2.0",
      "model_name": "LayoutModel",
      "state": {}
     },
     "b5f659ba241b4088aec3ddad3bea2c3b": {
      "model_module": "@jupyter-widgets/controls",
      "model_module_version": "1.5.0",
      "model_name": "HTMLModel",
      "state": {
       "layout": "IPY_MODEL_3b75d0fb0f7a443b91268459aaeb7e85",
       "style": "IPY_MODEL_6057bbf2dc654ba3ba8640a3d59ff8ba",
       "value": "Backtest Lustre Pyramiding: 100%"
      }
     },
     "b61288ec09cf4159b35f0ba037629267": {
      "model_module": "@jupyter-widgets/base",
      "model_module_version": "1.2.0",
      "model_name": "LayoutModel",
      "state": {}
     },
     "b6b59e8e85624d1ba9bf7befdd2bb2a1": {
      "model_module": "@jupyter-widgets/controls",
      "model_module_version": "1.5.0",
      "model_name": "FloatProgressModel",
      "state": {
       "bar_style": "success",
       "layout": "IPY_MODEL_45fd3fc8fa8347e2ab4b1cba28a0653e",
       "style": "IPY_MODEL_21d6a18bb05a4089a83f7dac98c04f24",
       "value": 100
      }
     },
     "b6d00d344c174372a3b6b4c9a76d0f20": {
      "model_module": "@jupyter-widgets/base",
      "model_module_version": "1.2.0",
      "model_name": "LayoutModel",
      "state": {}
     },
     "b7117aed419549f59b2bd9e23c6f517d": {
      "model_module": "@jupyter-widgets/controls",
      "model_module_version": "1.5.0",
      "model_name": "DescriptionStyleModel",
      "state": {
       "description_width": ""
      }
     },
     "b809f70fd1fd4fd9941d36233eb4bb11": {
      "model_module": "@jupyter-widgets/controls",
      "model_module_version": "1.5.0",
      "model_name": "DescriptionStyleModel",
      "state": {
       "description_width": ""
      }
     },
     "b815d279f2c4458681c17aefae0c3230": {
      "model_module": "@jupyter-widgets/controls",
      "model_module_version": "1.5.0",
      "model_name": "DescriptionStyleModel",
      "state": {
       "description_width": ""
      }
     },
     "b8afc3bc5a4f4223a23eef9e2722859d": {
      "model_module": "@jupyter-widgets/controls",
      "model_module_version": "1.5.0",
      "model_name": "DescriptionStyleModel",
      "state": {
       "description_width": ""
      }
     },
     "b8c89ba8ce024d8380c9c2d1b19568c0": {
      "model_module": "@jupyter-widgets/controls",
      "model_module_version": "1.5.0",
      "model_name": "HBoxModel",
      "state": {
       "children": [
        "IPY_MODEL_0572078d2de94e7ca572ea33d88ea3a4",
        "IPY_MODEL_1c2c0a3b485443f99544fa9a4e8238ab",
        "IPY_MODEL_78f9a6979a864bf48b2ac2eac0bf9098"
       ],
       "layout": "IPY_MODEL_eaf5bd87fe634069952c5839900a6fee"
      }
     },
     "b8f349cefc6042bcae88bfb242dfaf62": {
      "model_module": "@jupyter-widgets/base",
      "model_module_version": "1.2.0",
      "model_name": "LayoutModel",
      "state": {}
     },
     "b95462c7883a4feabf8000e58bbf5d61": {
      "model_module": "@jupyter-widgets/controls",
      "model_module_version": "1.5.0",
      "model_name": "HTMLModel",
      "state": {
       "layout": "IPY_MODEL_3941dee03519401eb1b6b0875807dd43",
       "style": "IPY_MODEL_580cf8326f72412582c29a6824a11cdf",
       "value": "Backtest Lustre Pyramiding: 100%"
      }
     },
     "b95b76a3bac649dd8c739833985a98bf": {
      "model_module": "@jupyter-widgets/controls",
      "model_module_version": "1.5.0",
      "model_name": "HTMLModel",
      "state": {
       "layout": "IPY_MODEL_6f9aaa0e1f9d40db93119be7c161bfa8",
       "style": "IPY_MODEL_2d18950383e440c894446285cba23bde",
       "value": " 100/100 [01:21&lt;00:00, 1.22 signals/s]"
      }
     },
     "ba69ac1e871e4caf8e6d25c600a4d55d": {
      "model_module": "@jupyter-widgets/controls",
      "model_module_version": "1.5.0",
      "model_name": "HTMLModel",
      "state": {
       "layout": "IPY_MODEL_28a642a4cf63494d912b7d2d8e2f527e",
       "style": "IPY_MODEL_b7117aed419549f59b2bd9e23c6f517d",
       "value": " 100/100 [03:49&lt;00:00, 2.29s/ signals]"
      }
     },
     "ba6f8f42a81d493ebed46ecfa849ae3d": {
      "model_module": "@jupyter-widgets/base",
      "model_module_version": "1.2.0",
      "model_name": "LayoutModel",
      "state": {}
     },
     "bc145e55816e4312a6284c0362e9a882": {
      "model_module": "@jupyter-widgets/base",
      "model_module_version": "1.2.0",
      "model_name": "LayoutModel",
      "state": {}
     },
     "bd2b3dd2c94b41c7bc9f8634380cb59e": {
      "model_module": "@jupyter-widgets/controls",
      "model_module_version": "1.5.0",
      "model_name": "FloatProgressModel",
      "state": {
       "bar_style": "success",
       "layout": "IPY_MODEL_c95ad560ce9248b8b4de9d5aa5a8f91e",
       "style": "IPY_MODEL_7b3e55b5aa794c6eab0921b7c4440833",
       "value": 100
      }
     },
     "bd8836ce77964727a6377bd59779358f": {
      "model_module": "@jupyter-widgets/base",
      "model_module_version": "1.2.0",
      "model_name": "LayoutModel",
      "state": {}
     },
     "bde567e649114bb8a7a9cbe43ee4f5ff": {
      "model_module": "@jupyter-widgets/controls",
      "model_module_version": "1.5.0",
      "model_name": "HBoxModel",
      "state": {
       "children": [
        "IPY_MODEL_00f974e5ef3a4523aba9414d8ec83a2d",
        "IPY_MODEL_19e97b7560474d4b91b9867edfd48569",
        "IPY_MODEL_1e4dcb8df2474401bbf9d1ca9eb92ae1"
       ],
       "layout": "IPY_MODEL_890b5bf2bc524b70bb39ad1e6a449c80"
      }
     },
     "be0e1cebf64b437ea3db00fe137e8305": {
      "model_module": "@jupyter-widgets/controls",
      "model_module_version": "1.5.0",
      "model_name": "HBoxModel",
      "state": {
       "children": [
        "IPY_MODEL_e5a414db351d4babb6708b3be4e06bc9",
        "IPY_MODEL_b6b59e8e85624d1ba9bf7befdd2bb2a1",
        "IPY_MODEL_81cf90bae05d4a1687b4377ffaa070be"
       ],
       "layout": "IPY_MODEL_744d3cfd76d44696a3fbead7a6d64cf3"
      }
     },
     "be0e33a820e9459e8e42e7a78e4bb116": {
      "model_module": "@jupyter-widgets/controls",
      "model_module_version": "1.5.0",
      "model_name": "HTMLModel",
      "state": {
       "layout": "IPY_MODEL_e5f0c94a06d04445afdf720817bead15",
       "style": "IPY_MODEL_eaefca21d02047e78842fa5017571679",
       "value": " 100/100 [02:56&lt;00:00, 1.77s/ signals]"
      }
     },
     "be24e362dbae4cc78a8ab82e0d98cece": {
      "model_module": "@jupyter-widgets/controls",
      "model_module_version": "1.5.0",
      "model_name": "HTMLModel",
      "state": {
       "layout": "IPY_MODEL_1751ef622d46445e8b6f2cff488f4806",
       "style": "IPY_MODEL_7c9146e5f05d4669ab9ad170f3430c57",
       "value": " 100/100 [00:14&lt;00:00, 6.78 signals/s]"
      }
     },
     "be5bd011b71e430d8fbc085aa63b451e": {
      "model_module": "@jupyter-widgets/base",
      "model_module_version": "1.2.0",
      "model_name": "LayoutModel",
      "state": {}
     },
     "bea181de9e6546e3bb94f0cc947a7a24": {
      "model_module": "@jupyter-widgets/base",
      "model_module_version": "1.2.0",
      "model_name": "LayoutModel",
      "state": {}
     },
     "beab6cb74e544a068c8fdea5f72c4e43": {
      "model_module": "@jupyter-widgets/controls",
      "model_module_version": "1.5.0",
      "model_name": "HTMLModel",
      "state": {
       "layout": "IPY_MODEL_b3ce28b5304c47508372fffc31f880a1",
       "style": "IPY_MODEL_c441defa30f642dd85a598cfb7ee1a67",
       "value": " 100/100 [01:46&lt;00:00, 1.07s/ signals]"
      }
     },
     "bf00aff9cc38430b97f61707acdbd6b4": {
      "model_module": "@jupyter-widgets/controls",
      "model_module_version": "1.5.0",
      "model_name": "ProgressStyleModel",
      "state": {
       "description_width": ""
      }
     },
     "bf196e041f224b3181947a254809cf5d": {
      "model_module": "@jupyter-widgets/controls",
      "model_module_version": "1.5.0",
      "model_name": "DescriptionStyleModel",
      "state": {
       "description_width": ""
      }
     },
     "bf98d3f0798a43d994d9764af7115fa3": {
      "model_module": "@jupyter-widgets/base",
      "model_module_version": "1.2.0",
      "model_name": "LayoutModel",
      "state": {}
     },
     "bfa40a2f2b854dc8a79a6cb96281f5df": {
      "model_module": "@jupyter-widgets/base",
      "model_module_version": "1.2.0",
      "model_name": "LayoutModel",
      "state": {}
     },
     "c05bdeb72fca4316bfd703e618db3ef5": {
      "model_module": "@jupyter-widgets/controls",
      "model_module_version": "1.5.0",
      "model_name": "ProgressStyleModel",
      "state": {
       "description_width": ""
      }
     },
     "c17da1fe39a443b8acc305331da655fc": {
      "model_module": "@jupyter-widgets/controls",
      "model_module_version": "1.5.0",
      "model_name": "HTMLModel",
      "state": {
       "layout": "IPY_MODEL_230334ca039e4164842de755b3b74d87",
       "style": "IPY_MODEL_8df734133c904e6494927022271993fa",
       "value": "Backtest Lustre Pyramiding: 100%"
      }
     },
     "c23b10432aa94670b6eb75848d32d9d9": {
      "model_module": "@jupyter-widgets/controls",
      "model_module_version": "1.5.0",
      "model_name": "FloatProgressModel",
      "state": {
       "bar_style": "success",
       "layout": "IPY_MODEL_e2e31cc2d9854ab8b8755a3740d24d52",
       "style": "IPY_MODEL_d2a66161152f4c16a8f03f41f197dc12",
       "value": 100
      }
     },
     "c24a1f0a6e2740b2a66e297e652d225c": {
      "model_module": "@jupyter-widgets/controls",
      "model_module_version": "1.5.0",
      "model_name": "FloatProgressModel",
      "state": {
       "bar_style": "success",
       "layout": "IPY_MODEL_bea181de9e6546e3bb94f0cc947a7a24",
       "style": "IPY_MODEL_5c5c80e8ff214d6f98af0678aced5dbb",
       "value": 100
      }
     },
     "c264eb1962f64ac2ad5faa68544d98cb": {
      "model_module": "@jupyter-widgets/base",
      "model_module_version": "1.2.0",
      "model_name": "LayoutModel",
      "state": {}
     },
     "c3026293f65c4437bae40b04a50dce04": {
      "model_module": "@jupyter-widgets/base",
      "model_module_version": "1.2.0",
      "model_name": "LayoutModel",
      "state": {}
     },
     "c33667471ac54ef68ff3b93b5a1ae3e2": {
      "model_module": "@jupyter-widgets/controls",
      "model_module_version": "1.5.0",
      "model_name": "DescriptionStyleModel",
      "state": {
       "description_width": ""
      }
     },
     "c36aca062eea4c8caac55560d2ce63b7": {
      "model_module": "@jupyter-widgets/controls",
      "model_module_version": "1.5.0",
      "model_name": "HTMLModel",
      "state": {
       "layout": "IPY_MODEL_991930ba3f7d480fb47b5c72714b9c2b",
       "style": "IPY_MODEL_55a5190908cc46a69b5f2d03a18cc4e6",
       "value": "Backtest Lustre Pyramiding: 100%"
      }
     },
     "c441defa30f642dd85a598cfb7ee1a67": {
      "model_module": "@jupyter-widgets/controls",
      "model_module_version": "1.5.0",
      "model_name": "DescriptionStyleModel",
      "state": {
       "description_width": ""
      }
     },
     "c4525e7287b14d5fab6203cb6aae1883": {
      "model_module": "@jupyter-widgets/controls",
      "model_module_version": "1.5.0",
      "model_name": "HBoxModel",
      "state": {
       "children": [
        "IPY_MODEL_7bafa4957110430e925e41a31aba428c",
        "IPY_MODEL_e897ab0177834a499db108648cb5df8d",
        "IPY_MODEL_a3980a808acd4b119fc869ce0f5720ee"
       ],
       "layout": "IPY_MODEL_554c4f7c68d14b1ba371355bc6931cd8"
      }
     },
     "c55c841a4df94da3881b01d4c516239c": {
      "model_module": "@jupyter-widgets/base",
      "model_module_version": "1.2.0",
      "model_name": "LayoutModel",
      "state": {}
     },
     "c57745a4c3df4f89a79891dfcf591cb4": {
      "model_module": "@jupyter-widgets/controls",
      "model_module_version": "1.5.0",
      "model_name": "DescriptionStyleModel",
      "state": {
       "description_width": ""
      }
     },
     "c5991b0235fc430b8deb4c09463406a3": {
      "model_module": "@jupyter-widgets/base",
      "model_module_version": "1.2.0",
      "model_name": "LayoutModel",
      "state": {}
     },
     "c5b99fbde2f042d7ae3a61017f565104": {
      "model_module": "@jupyter-widgets/base",
      "model_module_version": "1.2.0",
      "model_name": "LayoutModel",
      "state": {}
     },
     "c60415d0487a4c07b4d54208c88b055f": {
      "model_module": "@jupyter-widgets/controls",
      "model_module_version": "1.5.0",
      "model_name": "ProgressStyleModel",
      "state": {
       "description_width": ""
      }
     },
     "c63ef388d07a4d5185b5b3861739bb29": {
      "model_module": "@jupyter-widgets/controls",
      "model_module_version": "1.5.0",
      "model_name": "HTMLModel",
      "state": {
       "layout": "IPY_MODEL_66e3983cfedb44a190da73445822dd3e",
       "style": "IPY_MODEL_ae16e9f47248432ab505228e94f47886",
       "value": " 100/100 [01:09&lt;00:00, 1.45 signals/s]"
      }
     },
     "c6661c2bafa14cb8bf7d6b2b6c774794": {
      "model_module": "@jupyter-widgets/base",
      "model_module_version": "1.2.0",
      "model_name": "LayoutModel",
      "state": {}
     },
     "c6903e411693463282934ffca03562d2": {
      "model_module": "@jupyter-widgets/base",
      "model_module_version": "1.2.0",
      "model_name": "LayoutModel",
      "state": {}
     },
     "c69eab3f5a4841ddaf0218738c627104": {
      "model_module": "@jupyter-widgets/controls",
      "model_module_version": "1.5.0",
      "model_name": "HTMLModel",
      "state": {
       "layout": "IPY_MODEL_c7852d51c3bc48c191a281b3f28ae554",
       "style": "IPY_MODEL_63db2d97e32b466db8699068e6621565",
       "value": "Backtest Lustre Pyramiding: 100%"
      }
     },
     "c7095314927c4213aa5b2fd0e96de285": {
      "model_module": "@jupyter-widgets/controls",
      "model_module_version": "1.5.0",
      "model_name": "HTMLModel",
      "state": {
       "layout": "IPY_MODEL_34518f4a6330469e8e8146af679a5644",
       "style": "IPY_MODEL_8e300262ae3844969eea253d8955c811",
       "value": "Backtest Lustre Pyramiding: 100%"
      }
     },
     "c7301c5589fb4790be60235de4ab3268": {
      "model_module": "@jupyter-widgets/controls",
      "model_module_version": "1.5.0",
      "model_name": "HTMLModel",
      "state": {
       "layout": "IPY_MODEL_56c088f174fb4a16bf53e5b1a08c9a1e",
       "style": "IPY_MODEL_4d7ddb2d61fc4b5482a034e17632e4cc",
       "value": "Backtest Lustre Pyramiding: 100%"
      }
     },
     "c73c7a0ae2b34792800ea46ada1b3474": {
      "model_module": "@jupyter-widgets/base",
      "model_module_version": "1.2.0",
      "model_name": "LayoutModel",
      "state": {}
     },
     "c7645d12bfe74ef29091b03548010582": {
      "model_module": "@jupyter-widgets/controls",
      "model_module_version": "1.5.0",
      "model_name": "FloatProgressModel",
      "state": {
       "bar_style": "success",
       "layout": "IPY_MODEL_57a70b077d0d473587ee25f94ca31e44",
       "style": "IPY_MODEL_fb8a2c401e7143ef99335b12c64db914",
       "value": 100
      }
     },
     "c7852d51c3bc48c191a281b3f28ae554": {
      "model_module": "@jupyter-widgets/base",
      "model_module_version": "1.2.0",
      "model_name": "LayoutModel",
      "state": {}
     },
     "c7cf806c1b2a438a9cadb6b18d0f29fe": {
      "model_module": "@jupyter-widgets/controls",
      "model_module_version": "1.5.0",
      "model_name": "HTMLModel",
      "state": {
       "layout": "IPY_MODEL_fddd2051239345e18a476eaf3a396783",
       "style": "IPY_MODEL_b815d279f2c4458681c17aefae0c3230",
       "value": "Backtest Lustre Pyramiding: 100%"
      }
     },
     "c7d0762f548642d292c622fb791db538": {
      "model_module": "@jupyter-widgets/controls",
      "model_module_version": "1.5.0",
      "model_name": "HTMLModel",
      "state": {
       "layout": "IPY_MODEL_d7c5ebca6ac147329b81a5ff6602c3f8",
       "style": "IPY_MODEL_17d6a7b9e35f41ee93cb2f7ff29650c6",
       "value": "Lustre Pyramiding/0:   0%"
      }
     },
     "c7d3bfc8bbce44e3824f41b07bd1cabf": {
      "model_module": "@jupyter-widgets/controls",
      "model_module_version": "1.5.0",
      "model_name": "DescriptionStyleModel",
      "state": {
       "description_width": ""
      }
     },
     "c826c6da68214632a17783b03fcf906d": {
      "model_module": "@jupyter-widgets/controls",
      "model_module_version": "1.5.0",
      "model_name": "HTMLModel",
      "state": {
       "layout": "IPY_MODEL_d7d11dcd66ce45b1a1963b378c558e28",
       "style": "IPY_MODEL_6f9cafd911c74c058414401426f58759",
       "value": " 100/100 [02:16&lt;00:00, 1.36s/ signals]"
      }
     },
     "c82aa7b02a57454881318902b0a07d65": {
      "model_module": "@jupyter-widgets/controls",
      "model_module_version": "1.5.0",
      "model_name": "DescriptionStyleModel",
      "state": {
       "description_width": ""
      }
     },
     "c864a6117aad4e74bb81d211751b9d49": {
      "model_module": "@jupyter-widgets/controls",
      "model_module_version": "1.5.0",
      "model_name": "ProgressStyleModel",
      "state": {
       "description_width": ""
      }
     },
     "c87690d4f1aa463c9c4a132404fd8ada": {
      "model_module": "@jupyter-widgets/controls",
      "model_module_version": "1.5.0",
      "model_name": "HTMLModel",
      "state": {
       "layout": "IPY_MODEL_35e9bff31c91453982bba56f003baa0a",
       "style": "IPY_MODEL_dc054112ed1e434ab4021a61fb6e9adb",
       "value": " 100/100 [13:14&lt;00:00, 7.95s/ signals]"
      }
     },
     "c955ec79141c4cb4a3863e0206deefe8": {
      "model_module": "@jupyter-widgets/controls",
      "model_module_version": "1.5.0",
      "model_name": "HTMLModel",
      "state": {
       "layout": "IPY_MODEL_423b72d8cec94998849e03c30b591a26",
       "style": "IPY_MODEL_c33667471ac54ef68ff3b93b5a1ae3e2",
       "value": "Backtest Lustre Pyramiding: 100%"
      }
     },
     "c95ad560ce9248b8b4de9d5aa5a8f91e": {
      "model_module": "@jupyter-widgets/base",
      "model_module_version": "1.2.0",
      "model_name": "LayoutModel",
      "state": {}
     },
     "c96dae8e929e436a8e78cb8b2ca90e96": {
      "model_module": "@jupyter-widgets/base",
      "model_module_version": "1.2.0",
      "model_name": "LayoutModel",
      "state": {}
     },
     "c9c1b3c29f6b4b469b0fdaaa3ea7cc31": {
      "model_module": "@jupyter-widgets/base",
      "model_module_version": "1.2.0",
      "model_name": "LayoutModel",
      "state": {}
     },
     "c9d32466eb0149518d8900724ff32307": {
      "model_module": "@jupyter-widgets/base",
      "model_module_version": "1.2.0",
      "model_name": "LayoutModel",
      "state": {}
     },
     "cbeb0acb0bbd48689f2cdd95288faa6f": {
      "model_module": "@jupyter-widgets/controls",
      "model_module_version": "1.5.0",
      "model_name": "DescriptionStyleModel",
      "state": {
       "description_width": ""
      }
     },
     "ccc02978c98a436bbf29a422bf09ba2c": {
      "model_module": "@jupyter-widgets/base",
      "model_module_version": "1.2.0",
      "model_name": "LayoutModel",
      "state": {}
     },
     "cd7ff13ffedb4f43876cecd9f19ae1e3": {
      "model_module": "@jupyter-widgets/controls",
      "model_module_version": "1.5.0",
      "model_name": "DescriptionStyleModel",
      "state": {
       "description_width": ""
      }
     },
     "ceb82edb712a4d99aedb7628a4a8fb4e": {
      "model_module": "@jupyter-widgets/controls",
      "model_module_version": "1.5.0",
      "model_name": "DescriptionStyleModel",
      "state": {
       "description_width": ""
      }
     },
     "cf998ac00c8544a682254b90bdfcab17": {
      "model_module": "@jupyter-widgets/controls",
      "model_module_version": "1.5.0",
      "model_name": "DescriptionStyleModel",
      "state": {
       "description_width": ""
      }
     },
     "cf99a8225b13478d820f39db2b1d206b": {
      "model_module": "@jupyter-widgets/base",
      "model_module_version": "1.2.0",
      "model_name": "LayoutModel",
      "state": {}
     },
     "cfb67857dc9947039c7ab60d8adef4e4": {
      "model_module": "@jupyter-widgets/controls",
      "model_module_version": "1.5.0",
      "model_name": "HTMLModel",
      "state": {
       "layout": "IPY_MODEL_4003c18b56bd454bba0a3848aa950769",
       "style": "IPY_MODEL_6dce051aba3c40afbaa23ebd0fafe5b2",
       "value": " 100/100 [02:47&lt;00:00, 1.68s/ signals]"
      }
     },
     "cfbf4ab6162f46dd9741f10749c00450": {
      "model_module": "@jupyter-widgets/controls",
      "model_module_version": "1.5.0",
      "model_name": "HBoxModel",
      "state": {
       "children": [
        "IPY_MODEL_b5f659ba241b4088aec3ddad3bea2c3b",
        "IPY_MODEL_4e828bacc61d4298ad32b15505390f0d",
        "IPY_MODEL_21a61cc61440471fbdcd5ed1d42e7d6d"
       ],
       "layout": "IPY_MODEL_3032cee3bac548f885f71a6af45eaad6"
      }
     },
     "d02eada97be749ec86692624153bbc7f": {
      "model_module": "@jupyter-widgets/controls",
      "model_module_version": "1.5.0",
      "model_name": "DescriptionStyleModel",
      "state": {
       "description_width": ""
      }
     },
     "d05af5c26c9442769cb4847f6632e016": {
      "model_module": "@jupyter-widgets/controls",
      "model_module_version": "1.5.0",
      "model_name": "HTMLModel",
      "state": {
       "layout": "IPY_MODEL_54df78dcdb914148b83de8e66dce7a95",
       "style": "IPY_MODEL_ee082fb401c84d3292c20e3d81002704",
       "value": " 100/100 [00:16&lt;00:00, 6.06 signals/s]"
      }
     },
     "d19863f51cac46aeb1a1fc0562facae7": {
      "model_module": "@jupyter-widgets/base",
      "model_module_version": "1.2.0",
      "model_name": "LayoutModel",
      "state": {}
     },
     "d2a66161152f4c16a8f03f41f197dc12": {
      "model_module": "@jupyter-widgets/controls",
      "model_module_version": "1.5.0",
      "model_name": "ProgressStyleModel",
      "state": {
       "description_width": ""
      }
     },
     "d2ec43483670401fa74c3d7ea3bc486c": {
      "model_module": "@jupyter-widgets/controls",
      "model_module_version": "1.5.0",
      "model_name": "HTMLModel",
      "state": {
       "layout": "IPY_MODEL_bfa40a2f2b854dc8a79a6cb96281f5df",
       "style": "IPY_MODEL_ffc76867ac30488095ffe4c028ba2471",
       "value": "Backtest Lustre Pyramiding: 100%"
      }
     },
     "d3e503a76ddb4a2180dd54c01f3372a3": {
      "model_module": "@jupyter-widgets/controls",
      "model_module_version": "1.5.0",
      "model_name": "DescriptionStyleModel",
      "state": {
       "description_width": ""
      }
     },
     "d4fa474b9f1646a0b80dee38a4e1dab0": {
      "model_module": "@jupyter-widgets/controls",
      "model_module_version": "1.5.0",
      "model_name": "HTMLModel",
      "state": {
       "layout": "IPY_MODEL_76c736274b8c42dca7032601c4873e83",
       "style": "IPY_MODEL_ffd3446a98aa42d4bc930dd0c69378e4",
       "value": " 100/100 [03:13&lt;00:00, 1.94s/ signals]"
      }
     },
     "d5ec49e289e044239d435c64f83c51e7": {
      "model_module": "@jupyter-widgets/base",
      "model_module_version": "1.2.0",
      "model_name": "LayoutModel",
      "state": {}
     },
     "d6180e0886a94bb6bb05c6c72626a904": {
      "model_module": "@jupyter-widgets/controls",
      "model_module_version": "1.5.0",
      "model_name": "HTMLModel",
      "state": {
       "layout": "IPY_MODEL_668fb6e492204d5c9adeb52288b33763",
       "style": "IPY_MODEL_f8e64940f649476ba3deaff3c7f05271",
       "value": "Backtest Lustre Pyramiding: 100%"
      }
     },
     "d64a3f9690b7472b81a2e0b30d1fb082": {
      "model_module": "@jupyter-widgets/base",
      "model_module_version": "1.2.0",
      "model_name": "LayoutModel",
      "state": {}
     },
     "d66dac7b7dbf44b080d5b0702ca884ce": {
      "model_module": "@jupyter-widgets/controls",
      "model_module_version": "1.5.0",
      "model_name": "HBoxModel",
      "state": {
       "children": [
        "IPY_MODEL_d6180e0886a94bb6bb05c6c72626a904",
        "IPY_MODEL_a88aa6f0647d40f5b2b961d27ef15a2c",
        "IPY_MODEL_f90dd0ecd48a40f8bf1442192f8ed9da"
       ],
       "layout": "IPY_MODEL_abe8a850e84547fe9712d063e8d2f049"
      }
     },
     "d6af3348f8264555864a878d5f3af10c": {
      "model_module": "@jupyter-widgets/controls",
      "model_module_version": "1.5.0",
      "model_name": "HTMLModel",
      "state": {
       "layout": "IPY_MODEL_dfd84e1aa0f948698de9ee1dc365c393",
       "style": "IPY_MODEL_8dbabf23a91444f6a13112a5f18c685a",
       "value": "Backtest Lustre Pyramiding: 100%"
      }
     },
     "d7279243e8a4404795cfdd19df4efbf5": {
      "model_module": "@jupyter-widgets/base",
      "model_module_version": "1.2.0",
      "model_name": "LayoutModel",
      "state": {}
     },
     "d7846e05d06b46778e61c73c04897a25": {
      "model_module": "@jupyter-widgets/controls",
      "model_module_version": "1.5.0",
      "model_name": "ProgressStyleModel",
      "state": {
       "description_width": ""
      }
     },
     "d793befb45e74e5ea6fee43430d78ed2": {
      "model_module": "@jupyter-widgets/base",
      "model_module_version": "1.2.0",
      "model_name": "LayoutModel",
      "state": {}
     },
     "d7c5ebca6ac147329b81a5ff6602c3f8": {
      "model_module": "@jupyter-widgets/base",
      "model_module_version": "1.2.0",
      "model_name": "LayoutModel",
      "state": {}
     },
     "d7d11dcd66ce45b1a1963b378c558e28": {
      "model_module": "@jupyter-widgets/base",
      "model_module_version": "1.2.0",
      "model_name": "LayoutModel",
      "state": {}
     },
     "d81ffe551d9c45f1b91f6fc3b79d1a3f": {
      "model_module": "@jupyter-widgets/controls",
      "model_module_version": "1.5.0",
      "model_name": "FloatProgressModel",
      "state": {
       "bar_style": "success",
       "layout": "IPY_MODEL_6ee34812c541466a902e434637722869",
       "style": "IPY_MODEL_268988fc295c468e9a8eccd686218ce1",
       "value": 100
      }
     },
     "d95fb34f243b4e24a29b39fb412e6eee": {
      "model_module": "@jupyter-widgets/controls",
      "model_module_version": "1.5.0",
      "model_name": "DescriptionStyleModel",
      "state": {
       "description_width": ""
      }
     },
     "dadc04a99dfc4930955c32b27fc5ba40": {
      "model_module": "@jupyter-widgets/base",
      "model_module_version": "1.2.0",
      "model_name": "LayoutModel",
      "state": {}
     },
     "db0c9dc510944301a043052f03258f70": {
      "model_module": "@jupyter-widgets/base",
      "model_module_version": "1.2.0",
      "model_name": "LayoutModel",
      "state": {}
     },
     "dbf8d7d1646b4ffdaebeba63a6499306": {
      "model_module": "@jupyter-widgets/controls",
      "model_module_version": "1.5.0",
      "model_name": "HTMLModel",
      "state": {
       "layout": "IPY_MODEL_c5b99fbde2f042d7ae3a61017f565104",
       "style": "IPY_MODEL_e20cf3ed1ef64a569b30d04d4a1e7c4f",
       "value": " 100/100 [00:39&lt;00:00, 2.55 signals/s]"
      }
     },
     "dc054112ed1e434ab4021a61fb6e9adb": {
      "model_module": "@jupyter-widgets/controls",
      "model_module_version": "1.5.0",
      "model_name": "DescriptionStyleModel",
      "state": {
       "description_width": ""
      }
     },
     "dc36335af4b24016a50e330b523516ea": {
      "model_module": "@jupyter-widgets/base",
      "model_module_version": "1.2.0",
      "model_name": "LayoutModel",
      "state": {}
     },
     "dc66f802c1044fa5be8f331a2d87e4d5": {
      "model_module": "@jupyter-widgets/base",
      "model_module_version": "1.2.0",
      "model_name": "LayoutModel",
      "state": {}
     },
     "dcbf1884706f4bdd8877eafd453a644c": {
      "model_module": "@jupyter-widgets/controls",
      "model_module_version": "1.5.0",
      "model_name": "HTMLModel",
      "state": {
       "layout": "IPY_MODEL_698a2c15c9cc46869d3d0c45856e0bb3",
       "style": "IPY_MODEL_c7d3bfc8bbce44e3824f41b07bd1cabf",
       "value": "Backtest Lustre Pyramiding: 100%"
      }
     },
     "dce0d19f2dc345c19383809bca03645e": {
      "model_module": "@jupyter-widgets/controls",
      "model_module_version": "1.5.0",
      "model_name": "HBoxModel",
      "state": {
       "children": [
        "IPY_MODEL_6209e3d7b6fe4e4eb0c76e6740bc9387",
        "IPY_MODEL_1895b48d0ce94f5d9d7837ad574db1cb",
        "IPY_MODEL_6c193256bd99493aa72ef5ffe36c3efc"
       ],
       "layout": "IPY_MODEL_7f1c8aaa87de46dbb0cdbf3d82fd3904"
      }
     },
     "dd9f4ae7f017463792f5c4f212807a6a": {
      "model_module": "@jupyter-widgets/controls",
      "model_module_version": "1.5.0",
      "model_name": "DescriptionStyleModel",
      "state": {
       "description_width": ""
      }
     },
     "ddf93b22c4524b3e9e33e8ffc10a37c2": {
      "model_module": "@jupyter-widgets/controls",
      "model_module_version": "1.5.0",
      "model_name": "FloatProgressModel",
      "state": {
       "bar_style": "success",
       "layout": "IPY_MODEL_6edea265d0034feaa4767edb07a4417d",
       "style": "IPY_MODEL_34b2d3af7fbd41fcaf23c69bcbe1cc89",
       "value": 100
      }
     },
     "de3790b68c9949b7b6f2b06846827561": {
      "model_module": "@jupyter-widgets/controls",
      "model_module_version": "1.5.0",
      "model_name": "HTMLModel",
      "state": {
       "layout": "IPY_MODEL_21b8f149cb234805b1139aa8ee354952",
       "style": "IPY_MODEL_82dbf57fb7264d55aecd4ab6e72d658b",
       "value": "Backtest Lustre Pyramiding: 100%"
      }
     },
     "df74e9592b044bab89f8cedd3d951286": {
      "model_module": "@jupyter-widgets/controls",
      "model_module_version": "1.5.0",
      "model_name": "HTMLModel",
      "state": {
       "layout": "IPY_MODEL_bc145e55816e4312a6284c0362e9a882",
       "style": "IPY_MODEL_1fabda2231ac48d4b0d0b568d8244e5a",
       "value": " 100/100 [18:43:29&lt;00:00, 674s/ signals]"
      }
     },
     "df7cedca1d434ddb98c1cf4ffea36a7a": {
      "model_module": "@jupyter-widgets/controls",
      "model_module_version": "1.5.0",
      "model_name": "DescriptionStyleModel",
      "state": {
       "description_width": ""
      }
     },
     "df96df90e3bc433b81250592ec691b39": {
      "model_module": "@jupyter-widgets/controls",
      "model_module_version": "1.5.0",
      "model_name": "DescriptionStyleModel",
      "state": {
       "description_width": ""
      }
     },
     "dfd84e1aa0f948698de9ee1dc365c393": {
      "model_module": "@jupyter-widgets/base",
      "model_module_version": "1.2.0",
      "model_name": "LayoutModel",
      "state": {}
     },
     "e0170f10af0a40fba67e84c15ce5c3f6": {
      "model_module": "@jupyter-widgets/controls",
      "model_module_version": "1.5.0",
      "model_name": "DescriptionStyleModel",
      "state": {
       "description_width": ""
      }
     },
     "e0c82adff77f403b83d89620f4e10c16": {
      "model_module": "@jupyter-widgets/base",
      "model_module_version": "1.2.0",
      "model_name": "LayoutModel",
      "state": {}
     },
     "e10883ba117e46a49c3e28afce4832ee": {
      "model_module": "@jupyter-widgets/controls",
      "model_module_version": "1.5.0",
      "model_name": "HTMLModel",
      "state": {
       "layout": "IPY_MODEL_1d53f434f2154efc9668ceb576af7e15",
       "style": "IPY_MODEL_c82aa7b02a57454881318902b0a07d65",
       "value": " 100/100 [01:19&lt;00:00, 1.26 signals/s]"
      }
     },
     "e20cf3ed1ef64a569b30d04d4a1e7c4f": {
      "model_module": "@jupyter-widgets/controls",
      "model_module_version": "1.5.0",
      "model_name": "DescriptionStyleModel",
      "state": {
       "description_width": ""
      }
     },
     "e2e31cc2d9854ab8b8755a3740d24d52": {
      "model_module": "@jupyter-widgets/base",
      "model_module_version": "1.2.0",
      "model_name": "LayoutModel",
      "state": {}
     },
     "e469f7f19413470288056c64072a1d9b": {
      "model_module": "@jupyter-widgets/base",
      "model_module_version": "1.2.0",
      "model_name": "LayoutModel",
      "state": {}
     },
     "e4a5d48231324cfcaa77afd94ce9ead2": {
      "model_module": "@jupyter-widgets/base",
      "model_module_version": "1.2.0",
      "model_name": "LayoutModel",
      "state": {}
     },
     "e4afe07eab9940fb81feb6c4dc3393bf": {
      "model_module": "@jupyter-widgets/controls",
      "model_module_version": "1.5.0",
      "model_name": "ProgressStyleModel",
      "state": {
       "description_width": ""
      }
     },
     "e57c3e48bdc44c3fb97c575b2fc990ec": {
      "model_module": "@jupyter-widgets/base",
      "model_module_version": "1.2.0",
      "model_name": "LayoutModel",
      "state": {}
     },
     "e5a414db351d4babb6708b3be4e06bc9": {
      "model_module": "@jupyter-widgets/controls",
      "model_module_version": "1.5.0",
      "model_name": "HTMLModel",
      "state": {
       "layout": "IPY_MODEL_66d3c543575149e9b46837f58a331d55",
       "style": "IPY_MODEL_165b6caecacb49b4a85179f13f4a1a35",
       "value": "Backtest Lustre Pyramiding: 100%"
      }
     },
     "e5f0c94a06d04445afdf720817bead15": {
      "model_module": "@jupyter-widgets/base",
      "model_module_version": "1.2.0",
      "model_name": "LayoutModel",
      "state": {}
     },
     "e6fbeaee02854a8bb3a5903bbbcf6fa9": {
      "model_module": "@jupyter-widgets/base",
      "model_module_version": "1.2.0",
      "model_name": "LayoutModel",
      "state": {}
     },
     "e7b1682565f14aa1ae30840beab8f5ff": {
      "model_module": "@jupyter-widgets/base",
      "model_module_version": "1.2.0",
      "model_name": "LayoutModel",
      "state": {}
     },
     "e897ab0177834a499db108648cb5df8d": {
      "model_module": "@jupyter-widgets/controls",
      "model_module_version": "1.5.0",
      "model_name": "FloatProgressModel",
      "state": {
       "bar_style": "success",
       "layout": "IPY_MODEL_e469f7f19413470288056c64072a1d9b",
       "style": "IPY_MODEL_820e7cbc8ec64591b43c0011defab8b8",
       "value": 100
      }
     },
     "e93b97a5bfc440189d0ad85b33a00fa8": {
      "model_module": "@jupyter-widgets/controls",
      "model_module_version": "1.5.0",
      "model_name": "HBoxModel",
      "state": {
       "children": [
        "IPY_MODEL_2f4971d920064ed1976670d3c62e41f5",
        "IPY_MODEL_91c28bdf1f4d4e46a9cc26f4fc14f568",
        "IPY_MODEL_c826c6da68214632a17783b03fcf906d"
       ],
       "layout": "IPY_MODEL_85b106be60a84ec38d8bd208450f07ea"
      }
     },
     "e982226939f44c709cc7b1870ff9b541": {
      "model_module": "@jupyter-widgets/base",
      "model_module_version": "1.2.0",
      "model_name": "LayoutModel",
      "state": {}
     },
     "e98e9de39ca94a2a97f416040bc85a73": {
      "model_module": "@jupyter-widgets/controls",
      "model_module_version": "1.5.0",
      "model_name": "HTMLModel",
      "state": {
       "layout": "IPY_MODEL_c264eb1962f64ac2ad5faa68544d98cb",
       "style": "IPY_MODEL_d02eada97be749ec86692624153bbc7f",
       "value": " 100/100 [02:14&lt;00:00, 1.34s/ signals]"
      }
     },
     "eaa6e08e755042618a1eba70d21c5bc4": {
      "model_module": "@jupyter-widgets/base",
      "model_module_version": "1.2.0",
      "model_name": "LayoutModel",
      "state": {}
     },
     "eaaac32ccf7a4ffab70f3dcf39f2ac89": {
      "model_module": "@jupyter-widgets/controls",
      "model_module_version": "1.5.0",
      "model_name": "HTMLModel",
      "state": {
       "layout": "IPY_MODEL_3fc81f13d675478d8329d571ac04aaa6",
       "style": "IPY_MODEL_d95fb34f243b4e24a29b39fb412e6eee",
       "value": " 100/100 [00:10&lt;00:00, 9.37 signals/s]"
      }
     },
     "eaefca21d02047e78842fa5017571679": {
      "model_module": "@jupyter-widgets/controls",
      "model_module_version": "1.5.0",
      "model_name": "DescriptionStyleModel",
      "state": {
       "description_width": ""
      }
     },
     "eaf5bd87fe634069952c5839900a6fee": {
      "model_module": "@jupyter-widgets/base",
      "model_module_version": "1.2.0",
      "model_name": "LayoutModel",
      "state": {}
     },
     "eb8c2c5d2a744a04a9fac0d87f2cbdef": {
      "model_module": "@jupyter-widgets/controls",
      "model_module_version": "1.5.0",
      "model_name": "HTMLModel",
      "state": {
       "layout": "IPY_MODEL_63a61ab82ebd4226a6deb18241437f1f",
       "style": "IPY_MODEL_68f7f035a86e4099bd3f798fe8599275",
       "value": "Backtest Lustre Pyramiding: 100%"
      }
     },
     "ee082fb401c84d3292c20e3d81002704": {
      "model_module": "@jupyter-widgets/controls",
      "model_module_version": "1.5.0",
      "model_name": "DescriptionStyleModel",
      "state": {
       "description_width": ""
      }
     },
     "ee873924310844b787c02ee6c417c451": {
      "model_module": "@jupyter-widgets/controls",
      "model_module_version": "1.5.0",
      "model_name": "HTMLModel",
      "state": {
       "layout": "IPY_MODEL_2d37db6e05d744999cb401955de2f292",
       "style": "IPY_MODEL_a4fb4a169cf2490b937b45edbe1935b0",
       "value": " 100/100 [01:33&lt;00:00, 1.07 signals/s]"
      }
     },
     "ee9c9955e8e441a48a5380989c2f4421": {
      "model_module": "@jupyter-widgets/controls",
      "model_module_version": "1.5.0",
      "model_name": "HBoxModel",
      "state": {
       "children": [
        "IPY_MODEL_2a41347da7b64c8d92ddcd73a015d9f8",
        "IPY_MODEL_5ee8e146f5e3499380973226b1447337",
        "IPY_MODEL_ba69ac1e871e4caf8e6d25c600a4d55d"
       ],
       "layout": "IPY_MODEL_db0c9dc510944301a043052f03258f70"
      }
     },
     "f018d53b5fb54ab282ba1c6f9e74f4df": {
      "model_module": "@jupyter-widgets/controls",
      "model_module_version": "1.5.0",
      "model_name": "DescriptionStyleModel",
      "state": {
       "description_width": ""
      }
     },
     "f0c648f5bdb2410fbeecc2ba19892bd7": {
      "model_module": "@jupyter-widgets/base",
      "model_module_version": "1.2.0",
      "model_name": "LayoutModel",
      "state": {}
     },
     "f17ea4a647524d82b7df933106368a9c": {
      "model_module": "@jupyter-widgets/controls",
      "model_module_version": "1.5.0",
      "model_name": "DescriptionStyleModel",
      "state": {
       "description_width": ""
      }
     },
     "f1960e6774424cc0a399ce16be276485": {
      "model_module": "@jupyter-widgets/controls",
      "model_module_version": "1.5.0",
      "model_name": "ProgressStyleModel",
      "state": {
       "description_width": ""
      }
     },
     "f19b7bcfcbaa4953bbba11b8adc3fab3": {
      "model_module": "@jupyter-widgets/base",
      "model_module_version": "1.2.0",
      "model_name": "LayoutModel",
      "state": {}
     },
     "f1a9b415c785489b856a3f1691d28a2d": {
      "model_module": "@jupyter-widgets/controls",
      "model_module_version": "1.5.0",
      "model_name": "HTMLModel",
      "state": {
       "layout": "IPY_MODEL_309c972121084b3aa6f22974020fa775",
       "style": "IPY_MODEL_f6eac20695264d4d9d3c554b8519c5db",
       "value": "Backtest Lustre Pyramiding: 100%"
      }
     },
     "f1ae7ebdb2ba4c80b252dee7e7449a93": {
      "model_module": "@jupyter-widgets/controls",
      "model_module_version": "1.5.0",
      "model_name": "HBoxModel",
      "state": {
       "children": [
        "IPY_MODEL_26664e6d84d443d4ad68fbc1320bc0b2",
        "IPY_MODEL_046837d351a341e782fee4a35511a4f3",
        "IPY_MODEL_0055cffe2f7f44aa9e4ba4081db24152"
       ],
       "layout": "IPY_MODEL_1a7feabb39c24fa382c7ce2314c4a01a"
      }
     },
     "f1b7ef853e5f4f8ea3fa87fdb46729ba": {
      "model_module": "@jupyter-widgets/controls",
      "model_module_version": "1.5.0",
      "model_name": "DescriptionStyleModel",
      "state": {
       "description_width": ""
      }
     },
     "f20700f754124a4e82f263a4463b2121": {
      "model_module": "@jupyter-widgets/base",
      "model_module_version": "1.2.0",
      "model_name": "LayoutModel",
      "state": {}
     },
     "f24eb52e96434a50920bb3fe899152aa": {
      "model_module": "@jupyter-widgets/base",
      "model_module_version": "1.2.0",
      "model_name": "LayoutModel",
      "state": {}
     },
     "f281a63128224a779b737c128163162f": {
      "model_module": "@jupyter-widgets/base",
      "model_module_version": "1.2.0",
      "model_name": "LayoutModel",
      "state": {}
     },
     "f4c9bcbc36ff40528632411d2ca6093f": {
      "model_module": "@jupyter-widgets/controls",
      "model_module_version": "1.5.0",
      "model_name": "FloatProgressModel",
      "state": {
       "bar_style": "success",
       "layout": "IPY_MODEL_1ce2999b040249c2a7047d5cffa23cf8",
       "style": "IPY_MODEL_9ac59306462d407faf8f878a65e2cf95",
       "value": 100
      }
     },
     "f53c1077433d4ee7813c8046876e18d8": {
      "model_module": "@jupyter-widgets/controls",
      "model_module_version": "1.5.0",
      "model_name": "HTMLModel",
      "state": {
       "layout": "IPY_MODEL_8b11cb9ca0524c059e8efa3a55d4a970",
       "style": "IPY_MODEL_7bb638be566f4a0e9f03ebd2357a8373",
       "value": "Backtest Lustre Pyramiding: 100%"
      }
     },
     "f5a75c66b0284e69a52bae9fec31830a": {
      "model_module": "@jupyter-widgets/base",
      "model_module_version": "1.2.0",
      "model_name": "LayoutModel",
      "state": {}
     },
     "f6039af530ce45aa819a97de3e87e3e4": {
      "model_module": "@jupyter-widgets/base",
      "model_module_version": "1.2.0",
      "model_name": "LayoutModel",
      "state": {}
     },
     "f63e2b9bfd384d478ab9e0121e5fe443": {
      "model_module": "@jupyter-widgets/controls",
      "model_module_version": "1.5.0",
      "model_name": "ProgressStyleModel",
      "state": {
       "description_width": ""
      }
     },
     "f642048b02e94ebbb99366695a21f1d7": {
      "model_module": "@jupyter-widgets/controls",
      "model_module_version": "1.5.0",
      "model_name": "HTMLModel",
      "state": {
       "layout": "IPY_MODEL_a7c54b7f4fd64652870fa138379eb6b5",
       "style": "IPY_MODEL_afbb553fa8be4a5ebf87bba70f14d22a",
       "value": " 100/100 [00:30&lt;00:00, 3.26 signals/s]"
      }
     },
     "f6ae142a38df45259b5ea8e225f5055d": {
      "model_module": "@jupyter-widgets/controls",
      "model_module_version": "1.5.0",
      "model_name": "DescriptionStyleModel",
      "state": {
       "description_width": ""
      }
     },
     "f6eac20695264d4d9d3c554b8519c5db": {
      "model_module": "@jupyter-widgets/controls",
      "model_module_version": "1.5.0",
      "model_name": "DescriptionStyleModel",
      "state": {
       "description_width": ""
      }
     },
     "f6eda3625bbb4d7688848c0bf56b772c": {
      "model_module": "@jupyter-widgets/controls",
      "model_module_version": "1.5.0",
      "model_name": "HTMLModel",
      "state": {
       "layout": "IPY_MODEL_4cd8c28c5daa44d3af84d9eb1e2ec10a",
       "style": "IPY_MODEL_6fbc560708d34798975960b533ba5d29",
       "value": "Backtest Lustre Pyramiding: 100%"
      }
     },
     "f6f07e24936941a4add3b5e942ae75ec": {
      "model_module": "@jupyter-widgets/controls",
      "model_module_version": "1.5.0",
      "model_name": "FloatProgressModel",
      "state": {
       "bar_style": "success",
       "layout": "IPY_MODEL_f19b7bcfcbaa4953bbba11b8adc3fab3",
       "style": "IPY_MODEL_f1960e6774424cc0a399ce16be276485",
       "value": 100
      }
     },
     "f71ef062dcdd4a04a7c6a0fe00793b6f": {
      "model_module": "@jupyter-widgets/controls",
      "model_module_version": "1.5.0",
      "model_name": "HBoxModel",
      "state": {
       "children": [
        "IPY_MODEL_04adb2e1ccab4de88a5b1f2c20ab4f6c",
        "IPY_MODEL_2a12e628459d4270a2ef87d9bd29a670",
        "IPY_MODEL_0657e8be0cf441148f5e5444add601f4"
       ],
       "layout": "IPY_MODEL_a2e5ffdf697a4c7a8d9bca2fe700c1fc"
      }
     },
     "f807afd12af44fd7b0c132f270f0bc8e": {
      "model_module": "@jupyter-widgets/controls",
      "model_module_version": "1.5.0",
      "model_name": "FloatProgressModel",
      "state": {
       "bar_style": "success",
       "layout": "IPY_MODEL_e57c3e48bdc44c3fb97c575b2fc990ec",
       "style": "IPY_MODEL_e4afe07eab9940fb81feb6c4dc3393bf",
       "value": 100
      }
     },
     "f831a8e35f504f16af9cadc2a5567fae": {
      "model_module": "@jupyter-widgets/base",
      "model_module_version": "1.2.0",
      "model_name": "LayoutModel",
      "state": {}
     },
     "f8e64940f649476ba3deaff3c7f05271": {
      "model_module": "@jupyter-widgets/controls",
      "model_module_version": "1.5.0",
      "model_name": "DescriptionStyleModel",
      "state": {
       "description_width": ""
      }
     },
     "f8fcf19b500641d69a55e26630cd7c6e": {
      "model_module": "@jupyter-widgets/base",
      "model_module_version": "1.2.0",
      "model_name": "LayoutModel",
      "state": {}
     },
     "f90dd0ecd48a40f8bf1442192f8ed9da": {
      "model_module": "@jupyter-widgets/controls",
      "model_module_version": "1.5.0",
      "model_name": "HTMLModel",
      "state": {
       "layout": "IPY_MODEL_f6039af530ce45aa819a97de3e87e3e4",
       "style": "IPY_MODEL_766c11780f1a4f7e81f0bf0c5a804a21",
       "value": " 100/100 [02:01&lt;00:00, 1.22s/ signals]"
      }
     },
     "f92c948c3b1d419682346c6f5b7cdc9b": {
      "model_module": "@jupyter-widgets/base",
      "model_module_version": "1.2.0",
      "model_name": "LayoutModel",
      "state": {}
     },
     "f9b34ce86cee4fd1baf75321f59b7692": {
      "model_module": "@jupyter-widgets/controls",
      "model_module_version": "1.5.0",
      "model_name": "DescriptionStyleModel",
      "state": {
       "description_width": ""
      }
     },
     "fa8189554d294f85995d53ba4d15cbc7": {
      "model_module": "@jupyter-widgets/controls",
      "model_module_version": "1.5.0",
      "model_name": "ProgressStyleModel",
      "state": {
       "description_width": ""
      }
     },
     "fb8a2c401e7143ef99335b12c64db914": {
      "model_module": "@jupyter-widgets/controls",
      "model_module_version": "1.5.0",
      "model_name": "ProgressStyleModel",
      "state": {
       "description_width": ""
      }
     },
     "fbdcf32010264adfa0f47a2e2a74d93e": {
      "model_module": "@jupyter-widgets/base",
      "model_module_version": "1.2.0",
      "model_name": "LayoutModel",
      "state": {}
     },
     "fc45d8b3968743bc8d7fa4a024c0996a": {
      "model_module": "@jupyter-widgets/base",
      "model_module_version": "1.2.0",
      "model_name": "LayoutModel",
      "state": {}
     },
     "fcb645aa06da4240a22ed75035ca2809": {
      "model_module": "@jupyter-widgets/controls",
      "model_module_version": "1.5.0",
      "model_name": "FloatProgressModel",
      "state": {
       "bar_style": "success",
       "layout": "IPY_MODEL_05f5054f6ea9497d99d126a045a77639",
       "style": "IPY_MODEL_ab1f453b228f4c2caf8ad694574b733a",
       "value": 100
      }
     },
     "fcdcc03891cf43ec9cd4f6169ce889ef": {
      "model_module": "@jupyter-widgets/controls",
      "model_module_version": "1.5.0",
      "model_name": "ProgressStyleModel",
      "state": {
       "description_width": ""
      }
     },
     "fd22b8ecc1734306870254093c21b4a1": {
      "model_module": "@jupyter-widgets/controls",
      "model_module_version": "1.5.0",
      "model_name": "FloatProgressModel",
      "state": {
       "bar_style": "success",
       "layout": "IPY_MODEL_a07c642c6a5544dd9ff4520bbae9bef2",
       "style": "IPY_MODEL_fa8189554d294f85995d53ba4d15cbc7",
       "value": 100
      }
     },
     "fddd2051239345e18a476eaf3a396783": {
      "model_module": "@jupyter-widgets/base",
      "model_module_version": "1.2.0",
      "model_name": "LayoutModel",
      "state": {}
     },
     "fe80ceef7d3e4076beadb35a005d2cc3": {
      "model_module": "@jupyter-widgets/base",
      "model_module_version": "1.2.0",
      "model_name": "LayoutModel",
      "state": {}
     },
     "fee4590aa8b043c0a140e4ca8762d935": {
      "model_module": "@jupyter-widgets/base",
      "model_module_version": "1.2.0",
      "model_name": "LayoutModel",
      "state": {}
     },
     "ffb24f2182674fc5a0bdd3f71367fa1e": {
      "model_module": "@jupyter-widgets/controls",
      "model_module_version": "1.5.0",
      "model_name": "DescriptionStyleModel",
      "state": {
       "description_width": ""
      }
     },
     "ffc76867ac30488095ffe4c028ba2471": {
      "model_module": "@jupyter-widgets/controls",
      "model_module_version": "1.5.0",
      "model_name": "DescriptionStyleModel",
      "state": {
       "description_width": ""
      }
     },
     "ffd3446a98aa42d4bc930dd0c69378e4": {
      "model_module": "@jupyter-widgets/controls",
      "model_module_version": "1.5.0",
      "model_name": "DescriptionStyleModel",
      "state": {
       "description_width": ""
      }
     }
    },
    "version_major": 2,
    "version_minor": 0
   }
  }
 },
 "nbformat": 4,
 "nbformat_minor": 4
}
